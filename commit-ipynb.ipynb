{
 "cells": [
  {
   "cell_type": "code",
   "execution_count": 0,
   "metadata": {
    "application/vnd.databricks.v1+cell": {
     "cellMetadata": {
      "byteLimit": 2048000,
      "rowLimit": 10000
     },
     "inputWidgets": {},
     "nuid": "c6931857-e299-4f12-8948-a1781f0ac239",
     "showTitle": false,
     "title": ""
    }
   },
   "outputs": [
    {
     "output_type": "stream",
     "name": "stdout",
     "output_type": "stream",
     "text": [
      "test\n"
     ]
    }
   ],
   "source": [
    "print(\"test\")"
   ]
  },
  {
   "cell_type": "code",
   "execution_count": 0,
   "metadata": {
    "application/vnd.databricks.v1+cell": {
     "cellMetadata": {
      "byteLimit": 2048000,
      "implicitDf": true,
      "rowLimit": 10000
     },
     "inputWidgets": {},
     "nuid": "30923eb9-be45-44f5-bfeb-dff55efc95be",
     "showTitle": false,
     "title": ""
    }
   },
   "outputs": [
    {
     "output_type": "display_data",
     "data": {
      "text/html": [
       "<style scoped>\n",
       "  .table-result-container {\n",
       "    max-height: 300px;\n",
       "    overflow: auto;\n",
       "  }\n",
       "  table, th, td {\n",
       "    border: 1px solid black;\n",
       "    border-collapse: collapse;\n",
       "  }\n",
       "  th, td {\n",
       "    padding: 5px;\n",
       "  }\n",
       "  th {\n",
       "    text-align: left;\n",
       "  }\n",
       "</style><div class='table-result-container'><table class='table-result'><thead style='background-color: white'><tr><th>key</th><th>value</th><th>topic</th><th>partition</th><th>offset</th><th>timestamp</th><th>timestampType</th></tr></thead><tbody><tr><td>null</td><td>{\"user_id\": \"a9d649d1-694d-4652-b94a-5389edb038ec\", \"platform\": \"ios\", \"event_id\": \"a7764148-1c9b-4e4e-84c5-c0451e7ef0f0\", \"event_date\": 1701321360, \"action\": \"click\", \"uri\": \"https://databricks.com/tags/tag/listmain.htm\"}</td><td>dbdemos-sessions</td><td>8</td><td>16368597</td><td>2023-11-30T05:16:03.731Z</td><td>0</td></tr><tr><td>null</td><td>{\"user_id\": \"65c8a970-e4e2-4fc7-9706-825f852acd65\", \"platform\": \"ios\", \"event_id\": \"befeefd2-99cd-41a8-b315-3e07a25ecb21\", \"event_date\": 1701321368, \"action\": \"view\", \"uri\": \"https://databricks.com/blog/tagregister.html\"}</td><td>dbdemos-sessions</td><td>8</td><td>16368598</td><td>2023-11-30T05:16:05.801Z</td><td>0</td></tr><tr><td>null</td><td>{\"user_id\": \"d73a3593-150d-4d93-b32e-fa94fa4ed628\", \"platform\": \"ios\", \"event_id\": \"014d46cd-63d0-4376-b0f9-2cb3dc02a44f\", \"event_date\": 1701321362, \"action\": \"view\", \"uri\": \"https://databricks.com/blog/tags/searchpost.jsp\"}</td><td>dbdemos-sessions</td><td>8</td><td>16368599</td><td>2023-11-30T05:16:06.824Z</td><td>0</td></tr><tr><td>null</td><td>{\"user_id\": \"6e102f64-abf8-441b-942d-19df3cde3714\", \"platform\": \"other\", \"event_id\": \"77713498-21c0-41e1-995c-cebbcc06e529\", \"event_date\": 1701321368, \"action\": \"view\", \"uri\": \"https://databricks.com/categorieshome.php\"}</td><td>dbdemos-sessions</td><td>8</td><td>16368600</td><td>2023-11-30T05:16:07.826Z</td><td>0</td></tr><tr><td>null</td><td>{\"user_id\": \"301ed5d3-8d3d-4e1e-96da-0043610a5c98\", \"platform\": \"ios\", \"event_id\": \"2477d395-0c71-4d0a-9f74-66736bae4876\", \"event_date\": 1701321366, \"action\": \"log\", \"uri\": \"https://databricks.com/search/blogindex.html\"}</td><td>dbdemos-sessions</td><td>8</td><td>16368601</td><td>2023-11-30T05:16:07.833Z</td><td>0</td></tr><tr><td>null</td><td>{\"user_id\": \"455ca8a1-18bd-409f-b257-5a298fb5a5a9\", \"platform\": \"ios\", \"event_id\": \"7911d4aa-ea76-412f-8357-749894b2c0ce\", \"event_date\": 1701321371, \"action\": \"view\", \"uri\": \"https://databricks.com/appterms.asp\"}</td><td>dbdemos-sessions</td><td>8</td><td>16368602</td><td>2023-11-30T05:16:07.836Z</td><td>0</td></tr><tr><td>null</td><td>{\"user_id\": \"94ba5e9c-d1c8-4837-8c7f-e3e20d6a180e\", \"platform\": \"ios\", \"event_id\": \"cdd757d7-83a6-4163-a730-790b314c34d5\", \"event_date\": 1701321369, \"action\": \"log\", \"uri\": \"https://databricks.com/mainhomepage.asp\"}</td><td>dbdemos-sessions</td><td>8</td><td>16368603</td><td>2023-11-30T05:16:08.839Z</td><td>0</td></tr><tr><td>null</td><td>{\"user_id\": \"7354e19a-6b74-4581-9278-7d2a1fa506d2\", \"platform\": \"ios\", \"event_id\": \"b8769837-a90d-4adb-b720-a4999d97b44f\", \"event_date\": 1701321367, \"action\": \"view\", \"uri\": \"https://databricks.com/categoriesabout.htm\"}</td><td>dbdemos-sessions</td><td>8</td><td>16368604</td><td>2023-11-30T05:16:09.85Z</td><td>0</td></tr><tr><td>null</td><td>{\"user_id\": \"8c78e34e-0201-4757-a82a-fa0d9f70beda\", \"platform\": \"other\", \"event_id\": \"fb9a443c-ed7e-4fb1-a177-7228d83958d3\", \"event_date\": 1701321369, \"action\": \"view\", \"uri\": \"https://databricks.com/explore/mainmain.html\"}</td><td>dbdemos-sessions</td><td>8</td><td>16368605</td><td>2023-11-30T05:16:09.853Z</td><td>0</td></tr><tr><td>null</td><td>{\"user_id\": \"f5bb0598-15cc-4ded-8192-0bd8262a8941\", \"platform\": \"ios\", \"event_id\": \"23b03251-10e2-46b7-bbe9-3ec674d27ced\", \"event_date\": 1701321370, \"action\": \"click\", \"uri\": \"https://databricks.com/wp-content/exploreindex.htm\"}</td><td>dbdemos-sessions</td><td>8</td><td>16368606</td><td>2023-11-30T05:16:10.866Z</td><td>0</td></tr><tr><td>null</td><td>{\"user_id\": \"604ae75c-5537-43da-bd92-5a235a891266\", \"platform\": null, \"event_id\": \"bd169203-301d-4451-b7f0-f21979e18493\", \"event_date\": 1701321366, \"action\": \"log\", \"uri\": \"https://databricks.com/categoryindex.html\"}</td><td>dbdemos-sessions</td><td>8</td><td>16368607</td><td>2023-11-30T05:16:10.868Z</td><td>0</td></tr><tr><td>null</td><td>{\"user_id\": \"18713496-a98e-49a4-ab88-9f029f18b4c5\", \"platform\": \"ios\", \"event_id\": \"5203b7fe-e0da-416e-bf1a-8d082c6ef595\", \"event_date\": 1701321371, \"action\": \"view\", \"uri\": \"https://databricks.com/categorieshomepage.php\"}</td><td>dbdemos-sessions</td><td>8</td><td>16368608</td><td>2023-11-30T05:16:12.888Z</td><td>0</td></tr><tr><td>null</td><td>{\"user_id\": \"45a7825b-826f-402b-a6c1-ffaf0c44da1d\", \"platform\": \"ios\", \"event_id\": \"7e9158cb-a0ef-40a0-b2d2-2ce9d7d8b0ad\", \"event_date\": 1701321374, \"action\": \"view\", \"uri\": \"https://databricks.com/search/tags/categoriesauthor.html\"}</td><td>dbdemos-sessions</td><td>8</td><td>16368609</td><td>2023-11-30T05:16:12.896Z</td><td>0</td></tr><tr><td>null</td><td>{\"user_id\": \"ca395091-d1d8-4621-8a10-ee8ff2db1409\", \"platform\": \"ios\", \"event_id\": \"9581675e-ef72-49f3-8dd6-9f6830f1772c\", \"event_date\": 1701321374, \"action\": null, \"uri\": \"https://databricks.com/wp-content/search/searchhome.html\"}</td><td>dbdemos-sessions</td><td>8</td><td>16368610</td><td>2023-11-30T05:16:14.918Z</td><td>0</td></tr><tr><td>null</td><td>{\"user_id\": \"dbf55039-2fd8-42f8-bc6b-cda6329562d7\", \"platform\": \"other\", \"event_id\": \"d17d2acd-5dff-47d7-b924-39915e9b01d8\", \"event_date\": 1701321375, \"action\": \"click\", \"uri\": \"https://databricks.com/wp-contentindex.html\"}</td><td>dbdemos-sessions</td><td>8</td><td>16368611</td><td>2023-11-30T05:16:14.92Z</td><td>0</td></tr><tr><td>null</td><td>{\"user_id\": \"5c32df45-eda2-494d-abe8-f00782dd60c5\", \"platform\": \"ios\", \"event_id\": \"89032cc7-d007-432c-a6b5-d93e78bb3eb7\", \"event_date\": 1701321378, \"action\": \"view\", \"uri\": \"https://databricks.com/wp-content/search/postsregister.asp\"}</td><td>dbdemos-sessions</td><td>8</td><td>16368612</td><td>2023-11-30T05:16:15.936Z</td><td>0</td></tr><tr><td>null</td><td>{\"user_id\": \"95554353-d49e-4465-a165-59b15116e5dd\", \"platform\": \"other\", \"event_id\": \"7a08ff02-3eb2-46c2-986c-17491d6c1c17\", \"event_date\": 1701321375, \"action\": \"view\", \"uri\": \"https://databricks.com/postssearch.htm\"}</td><td>dbdemos-sessions</td><td>8</td><td>16368613</td><td>2023-11-30T05:16:16.952Z</td><td>0</td></tr><tr><td>null</td><td>{\"user_id\": \"015951ed-1620-4f38-95be-7b9f4620cbca\", \"platform\": \"ios\", \"event_id\": \"ce9bfa6d-62b9-4d24-882b-66fb185b411a\", \"event_date\": 1701321374, \"action\": \"log\", \"uri\": \"https://databricks.com/list/blogprivacy.html\"}</td><td>dbdemos-sessions</td><td>8</td><td>16368614</td><td>2023-11-30T05:16:16.953Z</td><td>0</td></tr><tr><td>null</td><td>{\"user_id\": \"174669fd-183b-461e-9633-ceacc9d3e277\", \"platform\": \"ios\", \"event_id\": \"acf6af74-f442-41f9-a9ec-2e8950c2a608\", \"event_date\": 1701321374, \"action\": \"view\", \"uri\": \"https://databricks.com/blog/tagsregister.jsp\"}</td><td>dbdemos-sessions</td><td>8</td><td>16368615</td><td>2023-11-30T05:16:17.959Z</td><td>0</td></tr><tr><td>null</td><td>{\"user_id\": \"93ef5cae-b681-4e40-8e10-cae4283b2b04\", \"platform\": \"other\", \"event_id\": \"bf672cc8-9c74-4cd3-85f8-42881916712d\", \"event_date\": 1701321377, \"action\": \"view\", \"uri\": \"https://databricks.com/explore/list/postsfaq.html\"}</td><td>dbdemos-sessions</td><td>8</td><td>16368616</td><td>2023-11-30T05:16:18.968Z</td><td>0</td></tr><tr><td>null</td><td>{\"user_id\": \"d78e2c84-3acd-4c26-a603-415b76c598ea\", \"platform\": \"android\", \"event_id\": \"3b128b23-a9a1-45de-bc57-e119785b870d\", \"event_date\": 1701321378, \"action\": \"view\", \"uri\": \"https://databricks.com/list/list/explorecategory.html\"}</td><td>dbdemos-sessions</td><td>8</td><td>16368617</td><td>2023-11-30T05:16:18.969Z</td><td>0</td></tr><tr><td>null</td><td>{\"user_id\": \"e4e079a9-103e-464b-8b2f-b7d906066bad\", \"platform\": \"other\", \"event_id\": \"9d1441a0-7d7c-4c51-a7c2-4b239c8571ff\", \"event_date\": 1701321375, \"action\": \"click\", \"uri\": \"https://databricks.com/search/categorylogin.php\"}</td><td>dbdemos-sessions</td><td>8</td><td>16368618</td><td>2023-11-30T05:16:18.972Z</td><td>0</td></tr><tr><td>null</td><td>{\"user_id\": \"65c8a970-e4e2-4fc7-9706-825f852acd65\", \"platform\": \"android\", \"event_id\": \"04de322c-d6f3-44ef-ad08-a5e8067fda55\", \"event_date\": 1701321373, \"action\": \"click\", \"uri\": \"https://databricks.com/categoriesfaq.php\"}</td><td>dbdemos-sessions</td><td>8</td><td>16368619</td><td>2023-11-30T05:16:18.976Z</td><td>0</td></tr><tr><td>null</td><td>{\"user_id\": \"2a284ec7-9875-4c46-a431-bc41aef3bb00\", \"platform\": \"ios\", \"event_id\": \"cd61cf2c-d3d1-40b3-a6f0-1c484a12bfa1\", \"event_date\": 1701321378, \"action\": \"view\", \"uri\": \"https://databricks.com/mainfaq.html\"}</td><td>dbdemos-sessions</td><td>8</td><td>16368620</td><td>2023-11-30T05:16:19.988Z</td><td>0</td></tr><tr><td>null</td><td>{\"user_id\": \"d4535df9-a37d-4a3c-8309-c60389024de9\", \"platform\": \"ios\", \"event_id\": \"59f68de9-e72b-469b-8916-e32eba771ad1\", \"event_date\": 1701321378, \"action\": \"view\", \"uri\": \"https://databricks.com/tag/categories/appindex.php\"}</td><td>dbdemos-sessions</td><td>8</td><td>16368621</td><td>2023-11-30T05:16:19.993Z</td><td>0</td></tr><tr><td>null</td><td>{\"user_id\": \"cdf5504b-598d-4c9e-aa2c-01d320d7a397\", \"platform\": \"ios\", \"event_id\": \"3f180c26-7d6d-4932-b97f-262acae5b479\", \"event_date\": 1701321364, \"action\": \"view\", \"uri\": \"https://databricks.com/search/tag/listindex.asp\"}</td><td>dbdemos-sessions</td><td>2</td><td>16371863</td><td>2023-11-30T05:16:02.713Z</td><td>0</td></tr><tr><td>null</td><td>{\"user_id\": \"604ae75c-5537-43da-bd92-5a235a891266\", \"platform\": \"ios\", \"event_id\": \"9ae6b385-0000-4d4d-bab0-b60841b217ee\", \"event_date\": 1701321357, \"action\": \"view\", \"uri\": \"https://databricks.com/tag/category/categoryauthor.html\"}</td><td>dbdemos-sessions</td><td>2</td><td>16371864</td><td>2023-11-30T05:16:02.714Z</td><td>0</td></tr><tr><td>null</td><td>{\"user_id\": \"a1410f93-0184-4aca-9c43-c686a605a5f6\", \"platform\": \"ios\", \"event_id\": \"08400704-40b1-4ed2-a42a-5e1be3fbf08a\", \"event_date\": 1701321362, \"action\": \"view\", \"uri\": \"https://databricks.com/search/search/mainhomepage.html\"}</td><td>dbdemos-sessions</td><td>2</td><td>16371865</td><td>2023-11-30T05:16:03.724Z</td><td>0</td></tr><tr><td>null</td><td>{\"user_id\": \"54371530-b4ba-4a28-9f12-2bc87205aded\", \"platform\": \"ios\", \"event_id\": \"7ae7299b-ef0f-48fd-af9e-a3cee6290d12\", \"event_date\": 1701321359, \"action\": \"click\", \"uri\": \"https://databricks.com/search/app/postsregister.php\"}</td><td>dbdemos-sessions</td><td>2</td><td>16371866</td><td>2023-11-30T05:16:04.739Z</td><td>0</td></tr><tr><td>null</td><td>{\"user_id\": \"5374937a-2fa0-47af-a197-a01ef24a80ad\", \"platform\": \"ios\", \"event_id\": \"9c2195eb-f6a7-4510-bef4-930f71ae0cde\", \"event_date\": 1701321369, \"action\": \"view\", \"uri\": \"https://databricks.com/tag/wp-contentlogin.php\"}</td><td>dbdemos-sessions</td><td>2</td><td>16371867</td><td>2023-11-30T05:16:05.782Z</td><td>0</td></tr><tr><td>null</td><td>{\"user_id\": \"a1410f93-0184-4aca-9c43-c686a605a5f6\", \"platform\": \"other\", \"event_id\": \"a2f7c0a2-62d0-4a18-be4e-8a2e55f7b91a\", \"event_date\": 1701321365, \"action\": \"view\", \"uri\": \"https://databricks.com/main/listhomepage.php\"}</td><td>dbdemos-sessions</td><td>2</td><td>16371868</td><td>2023-11-30T05:16:05.785Z</td><td>0</td></tr><tr><td>null</td><td>{\"user_id\": \"66fe7dd1-8f19-470c-b4b8-be75c4793e76\", \"platform\": \"ios\", \"event_id\": \"b81819c7-fed2-41fb-82b0-ca1ff7972d43\", \"event_date\": 1701321364, \"action\": \"view\", \"uri\": \"https://databricks.com/categorylogin.html\"}</td><td>dbdemos-sessions</td><td>2</td><td>16371869</td><td>2023-11-30T05:16:06.81Z</td><td>0</td></tr><tr><td>null</td><td>{\"user_id\": \"d6b698c1-d982-4afd-913f-a4ba28177397\", \"platform\": \"android\", \"event_id\": \"3cca38b5-5043-408f-9831-3e0291bd5fbc\", \"event_date\": 1701321365, \"action\": \"view\", \"uri\": \"https://databricks.com/postsprivacy.html\"}</td><td>dbdemos-sessions</td><td>2</td><td>16371870</td><td>2023-11-30T05:16:06.818Z</td><td>0</td></tr><tr><td>null</td><td>{\"user_id\": \"7cd07a2d-d835-470d-a0c8-b3400c915ac7\", \"platform\": \"ios\", \"event_id\": \"a8d8ccad-7cca-41f5-aeed-955593385aca\", \"event_date\": 1701321367, \"action\": \"view\", \"uri\": \"https://databricks.com/categories/app/categoriesfaq.htm\"}</td><td>dbdemos-sessions</td><td>2</td><td>16371871</td><td>2023-11-30T05:16:07.826Z</td><td>0</td></tr><tr><td>null</td><td>{\"user_id\": \"a1410f93-0184-4aca-9c43-c686a605a5f6\", \"platform\": \"other\", \"event_id\": \"abceef57-e81a-4cc0-909d-a9d0ad2190bc\", \"event_date\": 1701321371, \"action\": \"view\", \"uri\": \"https://databricks.com/exploresearch.htm\"}</td><td>dbdemos-sessions</td><td>2</td><td>16371872</td><td>2023-11-30T05:16:07.828Z</td><td>0</td></tr><tr><td>null</td><td>{\"user_id\": \"d6b698c1-d982-4afd-913f-a4ba28177397\", \"platform\": null, \"event_id\": \"39169b64-9f1c-4b5e-9c3a-514e1364b6ff\", \"event_date\": 1701321367, \"action\": \"click\", \"uri\": \"https://databricks.com/mainpost.html\"}</td><td>dbdemos-sessions</td><td>2</td><td>16371873</td><td>2023-11-30T05:16:09.855Z</td><td>0</td></tr><tr><td>null</td><td>{\"user_id\": \"2a284ec7-9875-4c46-a431-bc41aef3bb00\", \"platform\": \"other\", \"event_id\": \"e4528e62-3300-4b35-b6eb-8e282d3b754f\", \"event_date\": 1701321364, \"action\": \"view\", \"uri\": \"https://databricks.com/categoryterms.jsp\"}</td><td>dbdemos-sessions</td><td>2</td><td>16371874</td><td>2023-11-30T05:16:09.857Z</td><td>0</td></tr><tr><td>null</td><td>{\"user_id\": \"174669fd-183b-461e-9633-ceacc9d3e277\", \"platform\": \"ios\", \"event_id\": \"92290cd9-56fb-4c49-8701-8fbba2c0f00b\", \"event_date\": 1701321366, \"action\": \"click\", \"uri\": \"https://databricks.com/explore/listlogin.html\"}</td><td>dbdemos-sessions</td><td>2</td><td>16371875</td><td>2023-11-30T05:16:09.859Z</td><td>0</td></tr><tr><td>null</td><td>{\"user_id\": \"ca395091-d1d8-4621-8a10-ee8ff2db1409\", \"platform\": \"ios\", \"event_id\": \"171078e0-cbe7-4a2d-8e8a-d0b625ff2082\", \"event_date\": 1701321368, \"action\": \"view\", \"uri\": \"https://databricks.com/posts/wp-content/blogregister.jsp\"}</td><td>dbdemos-sessions</td><td>2</td><td>16371876</td><td>2023-11-30T05:16:10.869Z</td><td>0</td></tr><tr><td>null</td><td>{\"user_id\": \"174669fd-183b-461e-9633-ceacc9d3e277\", \"platform\": \"other\", \"event_id\": \"fa64e00c-88bf-4eb2-be59-54d50879405c\", \"event_date\": 1701321366, \"action\": \"click\", \"uri\": \"https://databricks.com/listlogin.php\"}</td><td>dbdemos-sessions</td><td>2</td><td>16371877</td><td>2023-11-30T05:16:10.871Z</td><td>0</td></tr><tr><td>null</td><td>{\"user_id\": \"554db164-c09e-40fd-ab95-e90a9a739753\", \"platform\": \"ios\", \"event_id\": \"60f8cddc-b50d-4c24-8eb5-9f44cbd2f97a\", \"event_date\": 1701321370, \"action\": \"view\", \"uri\": \"https://databricks.com/category/app/postscategory.html\"}</td><td>dbdemos-sessions</td><td>2</td><td>16371878</td><td>2023-11-30T05:16:10.872Z</td><td>0</td></tr><tr><td>null</td><td>{\"user_id\": \"2a284ec7-9875-4c46-a431-bc41aef3bb00\", \"platform\": \"ios\", \"event_id\": null, \"event_date\": 1701321376, \"action\": \"click\", \"uri\": \"https://databricks.com/tag/tagabout.htm\"}</td><td>dbdemos-sessions</td><td>2</td><td>16371879</td><td>2023-11-30T05:16:12.89Z</td><td>0</td></tr><tr><td>null</td><td>{\"user_id\": \"d7f839c5-24fb-4c78-a643-9dfea1fcabad\", \"platform\": \"ios\", \"event_id\": null, \"event_date\": 1701321373, \"action\": \"view\", \"uri\": \"https://databricks.com/app/taghome.html\"}</td><td>dbdemos-sessions</td><td>2</td><td>16371880</td><td>2023-11-30T05:16:12.895Z</td><td>0</td></tr><tr><td>null</td><td>{\"user_id\": \"d4535df9-a37d-4a3c-8309-c60389024de9\", \"platform\": \"other\", \"event_id\": \"8c1c8449-f9df-4246-ab2d-ee8551ed8778\", \"event_date\": 1701321375, \"action\": \"view\", \"uri\": \"https://databricks.com/categorycategory.jsp\"}</td><td>dbdemos-sessions</td><td>2</td><td>16371881</td><td>2023-11-30T05:16:13.907Z</td><td>0</td></tr><tr><td>null</td><td>{\"user_id\": \"d5c1965f-4903-4b86-895d-f9cce7d9c963\", \"platform\": \"other\", \"event_id\": \"be0539e3-e624-4bf4-b5e9-2df8b988cbfd\", \"event_date\": 1701321369, \"action\": \"click\", \"uri\": \"https://databricks.com/app/taghomepage.html\"}</td><td>dbdemos-sessions</td><td>2</td><td>16371882</td><td>2023-11-30T05:16:14.914Z</td><td>0</td></tr><tr><td>null</td><td>{\"user_id\": \"ca395091-d1d8-4621-8a10-ee8ff2db1409\", \"platform\": \"ios\", \"event_id\": \"9581675e-ef72-49f3-8dd6-9f6830f1772c\", \"event_date\": 1701321374, \"action\": null, \"uri\": \"https://databricks.com/wp-content/search/searchhome.html\"}</td><td>dbdemos-sessions</td><td>2</td><td>16371883</td><td>2023-11-30T05:16:14.918Z</td><td>0</td></tr><tr><td>null</td><td>{\"user_id\": \"604ae75c-5537-43da-bd92-5a235a891266\", \"platform\": \"ios\", \"event_id\": \"1c2ed63d-61c0-42d2-8176-319b94893f34\", \"event_date\": 1701321371, \"action\": \"click\", \"uri\": \"https://databricks.com/list/tagauthor.htm\"}</td><td>dbdemos-sessions</td><td>2</td><td>16371884</td><td>2023-11-30T05:16:15.93Z</td><td>0</td></tr><tr><td>null</td><td>{\"user_id\": \"d1c224cb-6273-49ed-b7d4-557da425f733\", \"platform\": \"ios\", \"event_id\": \"a32b545d-24b5-4f85-a590-84e881258a38\", \"event_date\": 1701321379, \"action\": \"log\", \"uri\": \"https://databricks.com/categories/tagabout.asp\"}</td><td>dbdemos-sessions</td><td>2</td><td>16371885</td><td>2023-11-30T05:16:15.938Z</td><td>0</td></tr><tr><td>null</td><td>{\"user_id\": \"2a284ec7-9875-4c46-a431-bc41aef3bb00\", \"platform\": \"other\", \"event_id\": \"2567284a-7792-4b60-a9a1-23d2f798f700\", \"event_date\": 1701321379, \"action\": \"view\", \"uri\": \"https://databricks.com/categoriesauthor.htm\"}</td><td>dbdemos-sessions</td><td>2</td><td>16371886</td><td>2023-11-30T05:16:16.946Z</td><td>0</td></tr><tr><td>null</td><td>{\"user_id\": \"5b573c0b-32f7-4f2a-b49c-1e8989ddc2b1\", \"platform\": \"ios\", \"event_id\": \"46ec77f8-c8ea-4e1d-8ad4-debd1764b362\", \"event_date\": 1701321377, \"action\": \"view\", \"uri\": \"https://databricks.com/explore/listhomepage.htm\"}</td><td>dbdemos-sessions</td><td>2</td><td>16371887</td><td>2023-11-30T05:16:16.948Z</td><td>0</td></tr><tr><td>null</td><td>{\"user_id\": \"554db164-c09e-40fd-ab95-e90a9a739753\", \"platform\": \"ios\", \"event_id\": \"d30e5bbb-76e3-4129-9e2f-dc49fb24899f\", \"event_date\": 1701321372, \"action\": \"click\", \"uri\": \"https://databricks.com/app/posts/mainsearch.html\"}</td><td>dbdemos-sessions</td><td>2</td><td>16371888</td><td>2023-11-30T05:16:16.95Z</td><td>0</td></tr><tr><td>null</td><td>{\"user_id\": \"d6b698c1-d982-4afd-913f-a4ba28177397\", \"platform\": \"android\", \"event_id\": \"77ef2ddd-5249-48cd-bffb-f06b8645358e\", \"event_date\": 1701321375, \"action\": \"click\", \"uri\": \"https://databricks.com/blog/explorehomepage.html\"}</td><td>dbdemos-sessions</td><td>2</td><td>16371889</td><td>2023-11-30T05:16:17.956Z</td><td>0</td></tr><tr><td>null</td><td>{\"user_id\": \"fe5cd354-51ff-49cb-98c2-ba91e24b9117\", \"platform\": \"ios\", \"event_id\": \"0b973a4f-5ac3-417c-ad9b-c206d5a3ed97\", \"event_date\": 1701321377, \"action\": \"click\", \"uri\": \"https://databricks.com/tags/categorysearch.html\"}</td><td>dbdemos-sessions</td><td>2</td><td>16371890</td><td>2023-11-30T05:16:18.969Z</td><td>0</td></tr><tr><td>null</td><td>{\"user_id\": \"a1410f93-0184-4aca-9c43-c686a605a5f6\", \"platform\": \"ios\", \"event_id\": \"054a4ec0-9016-457c-87ea-7d38c043f899\", \"event_date\": 1701321378, \"action\": \"view\", \"uri\": \"https://databricks.com/main/tags/categoryfaq.html\"}</td><td>dbdemos-sessions</td><td>2</td><td>16371891</td><td>2023-11-30T05:16:18.973Z</td><td>0</td></tr><tr><td>null</td><td>{\"user_id\": \"18713496-a98e-49a4-ab88-9f029f18b4c5\", \"platform\": \"ios\", \"event_id\": \"3089e480-5e34-4ba0-a489-71655494f32f\", \"event_date\": 1701321378, \"action\": \"view\", \"uri\": \"https://databricks.com/category/listindex.htm\"}</td><td>dbdemos-sessions</td><td>2</td><td>16371892</td><td>2023-11-30T05:16:19.983Z</td><td>0</td></tr><tr><td>null</td><td>{\"user_id\": \"49facf48-ff7c-4d4f-a4cc-42432b261b71\", \"platform\": \"ios\", \"event_id\": \"bb01412e-137a-409e-90e4-1a67c692940d\", \"event_date\": 1701321382, \"action\": \"click\", \"uri\": \"https://databricks.com/search/explorehome.htm\"}</td><td>dbdemos-sessions</td><td>2</td><td>16371893</td><td>2023-11-30T05:16:19.995Z</td><td>0</td></tr><tr><td>null</td><td>{\"user_id\": \"37ae47e8-eefc-4e9e-8664-f272435abfca\", \"platform\": \"ios\", \"event_id\": \"26533e2a-31a6-40ce-9ff0-050234bf6772\", \"event_date\": 1701321377, \"action\": \"log\", \"uri\": \"https://databricks.com/tag/tagslogin.htm\"}</td><td>dbdemos-sessions</td><td>2</td><td>16371894</td><td>2023-11-30T05:16:19.997Z</td><td>0</td></tr><tr><td>null</td><td>{\"user_id\": \"9acce7bf-7baa-45f0-b598-93b24e8843fd\", \"platform\": \"ios\", \"event_id\": \"bdfb956f-83ed-46e0-8a15-5895a9ad022a\", \"event_date\": 1701321362, \"action\": \"view\", \"uri\": \"https://databricks.com/main/searchindex.html\"}</td><td>dbdemos-sessions</td><td>5</td><td>16377851</td><td>2023-11-30T05:16:02.713Z</td><td>0</td></tr><tr><td>null</td><td>{\"user_id\": \"02467029-f802-4ee5-ab0f-6f80a46c4320\", \"platform\": \"ios\", \"event_id\": \"1f03ac1f-7060-4629-891b-f4f297018342\", \"event_date\": 1701321360, \"action\": \"click\", \"uri\": \"https://databricks.com/blog/wp-content/mainlogin.php\"}</td><td>dbdemos-sessions</td><td>5</td><td>16377852</td><td>2023-11-30T05:16:02.714Z</td><td>0</td></tr><tr><td>null</td><td>{\"user_id\": \"f51f94e1-27a4-48be-b539-b0aac42704e3\", \"platform\": \"other\", \"event_id\": \"dd558ab6-1d47-44c0-9a9e-bcac6eb59670\", \"event_date\": 1701321360, \"action\": \"view\", \"uri\": \"https://databricks.com/main/main/bloglogin.htm\"}</td><td>dbdemos-sessions</td><td>5</td><td>16377853</td><td>2023-11-30T05:16:04.754Z</td><td>0</td></tr><tr><td>null</td><td>{\"user_id\": \"65c8a970-e4e2-4fc7-9706-825f852acd65\", \"platform\": \"other\", \"event_id\": \"93f6c5c0-a61a-411a-8460-c870b27f94e9\", \"event_date\": 1701321360, \"action\": \"view\", \"uri\": \"https://databricks.com/posts/mainfaq.php\"}</td><td>dbdemos-sessions</td><td>5</td><td>16377854</td><td>2023-11-30T05:16:04.76Z</td><td>0</td></tr><tr><td>null</td><td>{\"user_id\": \"82096dbb-07cd-45da-b6cc-57bc4ea01540\", \"platform\": \"other\", \"event_id\": \"268c6f5a-f793-4e80-a521-1ee0bf7a3b05\", \"event_date\": 1701321365, \"action\": \"click\", \"uri\": \"https://databricks.com/wp-content/category/wp-contenthomepage.htm\"}</td><td>dbdemos-sessions</td><td>5</td><td>16377855</td><td>2023-11-30T05:16:05.784Z</td><td>0</td></tr><tr><td>null</td><td>{\"user_id\": \"02467029-f802-4ee5-ab0f-6f80a46c4320\", \"platform\": \"ios\", \"event_id\": \"b33e3d62-7a8a-4a61-80c9-9f69c0b33f9d\", \"event_date\": 1701321361, \"action\": \"view\", \"uri\": \"https://databricks.com/categories/categories/postshome.asp\"}</td><td>dbdemos-sessions</td><td>5</td><td>16377856</td><td>2023-11-30T05:16:05.786Z</td><td>0</td></tr><tr><td>null</td><td>{\"user_id\": \"554db164-c09e-40fd-ab95-e90a9a739753\", \"platform\": \"ios\", \"event_id\": \"a09adcc2-c200-4c69-975c-53a89ebb7faf\", \"event_date\": 1701321365, \"action\": \"view\", \"uri\": \"https://databricks.com/searchcategory.htm\"}</td><td>dbdemos-sessions</td><td>5</td><td>16377857</td><td>2023-11-30T05:16:05.801Z</td><td>0</td></tr><tr><td>null</td><td>{\"user_id\": \"ca395091-d1d8-4621-8a10-ee8ff2db1409\", \"platform\": \"ios\", \"event_id\": \"36336b2f-eef7-424d-9a08-0544ae671721\", \"event_date\": 1701321362, \"action\": \"view\", \"uri\": \"https://databricks.com/list/bloghomepage.htm\"}</td><td>dbdemos-sessions</td><td>5</td><td>16377858</td><td>2023-11-30T05:16:06.819Z</td><td>0</td></tr><tr><td>null</td><td>{\"user_id\": \"5d81aa0b-2986-4b18-abbd-b085380a1bb6\", \"platform\": \"ios\", \"event_id\": \"df52007e-55b8-418c-9b18-76d2bb923aca\", \"event_date\": 1701321368, \"action\": \"view\", \"uri\": \"https://databricks.com/posts/wp-content/mainindex.htm\"}</td><td>dbdemos-sessions</td><td>5</td><td>16377859</td><td>2023-11-30T05:16:07.83Z</td><td>0</td></tr><tr><td>null</td><td>{\"user_id\": \"83371c85-106e-4e79-9b16-f62a8904aee7\", \"platform\": \"ios\", \"event_id\": \"13b624bc-4118-430e-985d-a1e7ee21d0b3\", \"event_date\": 1701321364, \"action\": \"view\", \"uri\": \"https://databricks.com/wp-content/tagauthor.htm\"}</td><td>dbdemos-sessions</td><td>5</td><td>16377860</td><td>2023-11-30T05:16:07.836Z</td><td>0</td></tr><tr><td>null</td><td>{\"user_id\": \"8c37dfb5-4ce9-40ee-aabd-6d2e41387b89\", \"platform\": \"android\", \"event_id\": \"1bde6427-d645-4c53-b072-1e42615a09be\", \"event_date\": 1701321369, \"action\": \"click\", \"uri\": \"https://databricks.com/search/app/appauthor.html\"}</td><td>dbdemos-sessions</td><td>5</td><td>16377861</td><td>2023-11-30T05:16:08.838Z</td><td>0</td></tr><tr><td>null</td><td>{\"user_id\": \"426ccd91-2409-4b5d-83e9-d582f552985e\", \"platform\": \"android\", \"event_id\": \"c4fab495-ae00-4980-9be0-dbd7684474ae\", \"event_date\": 1701321371, \"action\": \"log\", \"uri\": \"https://databricks.com/app/search/mainabout.html\"}</td><td>dbdemos-sessions</td><td>5</td><td>16377862</td><td>2023-11-30T05:16:09.851Z</td><td>0</td></tr><tr><td>null</td><td>{\"user_id\": \"65c8a970-e4e2-4fc7-9706-825f852acd65\", \"platform\": \"ios\", \"event_id\": null, \"event_date\": 1701321365, \"action\": \"log\", \"uri\": \"https://databricks.com/explore/explore/blogprivacy.php\"}</td><td>dbdemos-sessions</td><td>5</td><td>16377863</td><td>2023-11-30T05:16:09.86Z</td><td>0</td></tr><tr><td>null</td><td>{\"user_id\": \"93ef5cae-b681-4e40-8e10-cae4283b2b04\", \"platform\": \"other\", \"event_id\": \"3ced2f72-a49d-420f-8176-1aeca96ead57\", \"event_date\": 1701321374, \"action\": \"click\", \"uri\": \"https://databricks.com/categoryterms.jsp\"}</td><td>dbdemos-sessions</td><td>5</td><td>16377864</td><td>2023-11-30T05:16:10.864Z</td><td>0</td></tr><tr><td>null</td><td>{\"user_id\": \"54371530-b4ba-4a28-9f12-2bc87205aded\", \"platform\": \"ios\", \"event_id\": \"d6badeee-44a1-41da-be06-864e5d21eb5f\", \"event_date\": 1701321370, \"action\": \"view\", \"uri\": \"https://databricks.com/tag/tags/appregister.htm\"}</td><td>dbdemos-sessions</td><td>5</td><td>16377865</td><td>2023-11-30T05:16:10.864Z</td><td>0</td></tr><tr><td>null</td><td>{\"user_id\": \"cdf5504b-598d-4c9e-aa2c-01d320d7a397\", \"platform\": \"ios\", \"event_id\": \"dafed321-cb59-4cec-a64b-413b6d1f57df\", \"event_date\": 1701321366, \"action\": \"log\", \"uri\": \"https://databricks.com/category/wp-content/searchhome.html\"}</td><td>dbdemos-sessions</td><td>5</td><td>16377866</td><td>2023-11-30T05:16:10.865Z</td><td>0</td></tr><tr><td>null</td><td>{\"user_id\": \"5f65957e-6cad-4b66-9409-8b1d877f227f\", \"platform\": \"ios\", \"event_id\": \"90e70d8d-c8f6-4a94-88f8-4bbbb574d3de\", \"event_date\": 1701321374, \"action\": \"click\", \"uri\": \"https://databricks.com/explore/categories/searchindex.html\"}</td><td>dbdemos-sessions</td><td>5</td><td>16377867</td><td>2023-11-30T05:16:10.873Z</td><td>0</td></tr><tr><td>null</td><td>{\"user_id\": \"d7f839c5-24fb-4c78-a643-9dfea1fcabad\", \"platform\": \"other\", \"event_id\": \"79c85884-55c3-444e-a61b-81a70a150446\", \"event_date\": 1701321371, \"action\": \"log\", \"uri\": \"https://databricks.com/tagsfaq.jsp\"}</td><td>dbdemos-sessions</td><td>5</td><td>16377868</td><td>2023-11-30T05:16:11.882Z</td><td>0</td></tr><tr><td>null</td><td>{\"user_id\": \"4fd4b3e9-61c6-4786-bc04-d90a9eb2458c\", \"platform\": \"ios\", \"event_id\": \"24f39fff-f1d4-4f7f-bc72-1fed2163aaf5\", \"event_date\": 1701321368, \"action\": \"view\", \"uri\": \"https://databricks.com/categories/tags/listmain.jsp\"}</td><td>dbdemos-sessions</td><td>5</td><td>16377869</td><td>2023-11-30T05:16:11.883Z</td><td>0</td></tr><tr><td>null</td><td>{\"user_id\": \"6a4e890d-982b-46e1-b446-3688a723cdff\", \"platform\": \"ios\", \"event_id\": \"1420a255-54c0-4e73-8fa6-a2bc8a987b71\", \"event_date\": 1701321369, \"action\": \"click\", \"uri\": \"https://databricks.com/tag/wp-content/blogfaq.jsp\"}</td><td>dbdemos-sessions</td><td>5</td><td>16377870</td><td>2023-11-30T05:16:13.899Z</td><td>0</td></tr><tr><td>null</td><td>{\"user_id\": \"5b573c0b-32f7-4f2a-b49c-1e8989ddc2b1\", \"platform\": \"android\", \"event_id\": \"18b4cb2f-aa8a-4021-9e0e-1f32a55f9d22\", \"event_date\": 1701321368, \"action\": \"log\", \"uri\": \"https://databricks.com/wp-content/search/taghomepage.html\"}</td><td>dbdemos-sessions</td><td>5</td><td>16377871</td><td>2023-11-30T05:16:13.904Z</td><td>0</td></tr><tr><td>null</td><td>{\"user_id\": \"d1c224cb-6273-49ed-b7d4-557da425f733\", \"platform\": \"other\", \"event_id\": \"00aea655-99aa-4a8c-89ff-83466f5d278a\", \"event_date\": 1701321376, \"action\": \"click\", \"uri\": \"https://databricks.com/postsregister.jsp\"}</td><td>dbdemos-sessions</td><td>5</td><td>16377872</td><td>2023-11-30T05:16:13.911Z</td><td>0</td></tr><tr><td>null</td><td>{\"user_id\": \"26e9a62b-affa-4c87-a5a9-df7bea55004e\", \"platform\": \"other\", \"event_id\": \"2f6a44c5-15c1-40a1-b614-9f4fff03815c\", \"event_date\": 1701321368, \"action\": \"view\", \"uri\": \"https://databricks.com/categoryfaq.htm\"}</td><td>dbdemos-sessions</td><td>5</td><td>16377873</td><td>2023-11-30T05:16:13.912Z</td><td>0</td></tr><tr><td>null</td><td>{\"user_id\": \"bb041937-335f-4592-9b28-75cbd928cd41\", \"platform\": \"other\", \"event_id\": \"9de78265-865d-45eb-a897-ca4be2aa29c0\", \"event_date\": 1701321370, \"action\": \"view\", \"uri\": \"https://databricks.com/wp-content/categories/postslogin.php\"}</td><td>dbdemos-sessions</td><td>5</td><td>16377874</td><td>2023-11-30T05:16:14.913Z</td><td>0</td></tr><tr><td>null</td><td>{\"user_id\": \"e4e079a9-103e-464b-8b2f-b7d906066bad\", \"platform\": \"other\", \"event_id\": \"eb7ec444-01ef-45c4-9ec6-15cc876e1635\", \"event_date\": 1701321370, \"action\": \"view\", \"uri\": \"https://databricks.com/tag/categories/tagpost.html\"}</td><td>dbdemos-sessions</td><td>5</td><td>16377875</td><td>2023-11-30T05:16:14.916Z</td><td>0</td></tr><tr><td>null</td><td>{\"user_id\": \"a2203049-6083-4c38-b3e8-0832f315801a\", \"platform\": \"android\", \"event_id\": \"67d325ee-70e0-4d6b-af44-32c4ffba9877\", \"event_date\": 1701321373, \"action\": \"view\", \"uri\": \"https://databricks.com/apphome.htm\"}</td><td>dbdemos-sessions</td><td>5</td><td>16377876</td><td>2023-11-30T05:16:14.921Z</td><td>0</td></tr><tr><td>null</td><td>{\"user_id\": \"301ed5d3-8d3d-4e1e-96da-0043610a5c98\", \"platform\": \"ios\", \"event_id\": \"c973fc93-8149-4196-bae7-53425750c6ed\", \"event_date\": 1701321378, \"action\": \"log\", \"uri\": \"https://databricks.com/explore/tagabout.jsp\"}</td><td>dbdemos-sessions</td><td>5</td><td>16377877</td><td>2023-11-30T05:16:15.931Z</td><td>0</td></tr><tr><td>null</td><td>{\"user_id\": \"287d6985-e3c1-44f7-a700-2df164a43235\", \"platform\": \"ios\", \"event_id\": \"11f5ce9b-7ef7-42a2-8a90-9ddeeacb7a1f\", \"event_date\": 1701321375, \"action\": \"view\", \"uri\": \"https://databricks.com/list/categorieshome.asp\"}</td><td>dbdemos-sessions</td><td>5</td><td>16377878</td><td>2023-11-30T05:16:16.942Z</td><td>0</td></tr><tr><td>null</td><td>{\"user_id\": \"c5d9d13b-3de4-4750-a7ff-c642e55c606e\", \"platform\": \"ios\", \"event_id\": \"7d53eec7-b7e0-4508-bdba-48d2198a849f\", \"event_date\": 1701321373, \"action\": \"view\", \"uri\": \"https://databricks.com/explore/categorycategory.php\"}</td><td>dbdemos-sessions</td><td>5</td><td>16377879</td><td>2023-11-30T05:16:16.948Z</td><td>0</td></tr><tr><td>null</td><td>{\"user_id\": \"c1923944-ddfe-4ee3-a9da-be94482fa973\", \"platform\": \"android\", \"event_id\": \"2aa6b38f-01b2-4288-b239-53718c854ff7\", \"event_date\": 1701321376, \"action\": \"view\", \"uri\": \"https://databricks.com/wp-content/list/postsfaq.jsp\"}</td><td>dbdemos-sessions</td><td>5</td><td>16377880</td><td>2023-11-30T05:16:17.956Z</td><td>0</td></tr><tr><td>null</td><td>{\"user_id\": \"d73a3593-150d-4d93-b32e-fa94fa4ed628\", \"platform\": \"ios\", \"event_id\": \"d45f586d-e0eb-4f8c-ae92-aff7c682fab3\", \"event_date\": 1701321372, \"action\": \"view\", \"uri\": \"https://databricks.com/explore/posts/exploreprivacy.asp\"}</td><td>dbdemos-sessions</td><td>5</td><td>16377881</td><td>2023-11-30T05:16:17.963Z</td><td>0</td></tr><tr><td>null</td><td>{\"user_id\": \"2a284ec7-9875-4c46-a431-bc41aef3bb00\", \"platform\": \"other\", \"event_id\": \"41badf80-a2f5-4fa1-b3cf-73b3d6e3fd47\", \"event_date\": 1701321376, \"action\": \"view\", \"uri\": \"https://databricks.com/categoriesabout.jsp\"}</td><td>dbdemos-sessions</td><td>5</td><td>16377882</td><td>2023-11-30T05:16:18.975Z</td><td>0</td></tr><tr><td>null</td><td>{\"user_id\": \"954c2940-2415-4618-89e3-8f4147680ac1\", \"platform\": \"ios\", \"event_id\": \"e5af162c-fc86-4600-88ea-26cb02793cf7\", \"event_date\": 1701321382, \"action\": \"log\", \"uri\": \"https://databricks.com/categoriesregister.php\"}</td><td>dbdemos-sessions</td><td>5</td><td>16377883</td><td>2023-11-30T05:16:19.986Z</td><td>0</td></tr><tr><td>null</td><td>{\"user_id\": \"429cd2ea-bb89-43bf-a2b7-190cd57c513d\", \"platform\": \"ios\", \"event_id\": \"aafe3dd1-41b6-4a6c-b278-f75512e414e1\", \"event_date\": 1701321362, \"action\": \"view\", \"uri\": \"https://databricks.com/blog/tagscategory.htm\"}</td><td>dbdemos-sessions</td><td>9</td><td>16376638</td><td>2023-11-30T05:16:02.709Z</td><td>0</td></tr><tr><td>null</td><td>{\"user_id\": \"8ebe91ce-5ce9-4215-b90d-afa7ffc2031b\", \"platform\": \"other\", \"event_id\": \"306936be-6532-4627-8d5c-1e0e1e53e655\", \"event_date\": 1701321357, \"action\": \"click\", \"uri\": \"https://databricks.com/category/explore/tagsprivacy.html\"}</td><td>dbdemos-sessions</td><td>9</td><td>16376639</td><td>2023-11-30T05:16:02.715Z</td><td>0</td></tr><tr><td>null</td><td>{\"user_id\": \"d278a0e6-7c83-43e8-a0b4-db949eca8412\", \"platform\": \"other\", \"event_id\": \"d185f289-8124-4c3f-8a7e-15ec0d5ce6a0\", \"event_date\": 1701321358, \"action\": \"view\", \"uri\": \"https://databricks.com/category/categoriesterms.asp\"}</td><td>dbdemos-sessions</td><td>9</td><td>16376640</td><td>2023-11-30T05:16:02.718Z</td><td>0</td></tr><tr><td>null</td><td>{\"user_id\": \"f51f94e1-27a4-48be-b539-b0aac42704e3\", \"platform\": \"other\", \"event_id\": \"e355f996-5524-4db1-a759-cd9b8447c551\", \"event_date\": 1701321358, \"action\": \"view\", \"uri\": \"https://databricks.com/tagsearch.htm\"}</td><td>dbdemos-sessions</td><td>9</td><td>16376641</td><td>2023-11-30T05:16:03.727Z</td><td>0</td></tr><tr><td>null</td><td>{\"user_id\": \"0258e062-93d5-47ae-bf8f-5e946b856f1a\", \"platform\": \"ios\", \"event_id\": \"6d1181f6-839d-4580-b4b2-c6b21058b681\", \"event_date\": 1701321366, \"action\": \"view\", \"uri\": \"https://databricks.com/mainpost.asp\"}</td><td>dbdemos-sessions</td><td>9</td><td>16376642</td><td>2023-11-30T05:16:04.75Z</td><td>0</td></tr><tr><td>null</td><td>{\"user_id\": \"83f81766-8347-477d-ac90-f0cb72a8d242\", \"platform\": \"other\", \"event_id\": \"d70d4f59-d33b-4106-b68d-353d6bd8e38e\", \"event_date\": 1701321359, \"action\": \"click\", \"uri\": \"https://databricks.com/taghomepage.htm\"}</td><td>dbdemos-sessions</td><td>9</td><td>16376643</td><td>2023-11-30T05:16:04.758Z</td><td>0</td></tr><tr><td>null</td><td>{\"user_id\": \"429cd2ea-bb89-43bf-a2b7-190cd57c513d\", \"platform\": \"ios\", \"event_id\": \"6eac3228-0af7-4223-b609-7509e3de266f\", \"event_date\": 1701321367, \"action\": \"click\", \"uri\": \"https://databricks.com/posts/explore/taghome.asp\"}</td><td>dbdemos-sessions</td><td>9</td><td>16376644</td><td>2023-11-30T05:16:05.781Z</td><td>0</td></tr><tr><td>null</td><td>{\"user_id\": \"34265667-87e0-4a72-b118-befa1e41b2b7\", \"platform\": \"ios\", \"event_id\": \"34f0e3c8-a262-499a-8d46-7553fc3c97d4\", \"event_date\": 1701321361, \"action\": \"click\", \"uri\": \"https://databricks.com/categories/tag/searchhome.php\"}</td><td>dbdemos-sessions</td><td>9</td><td>16376645</td><td>2023-11-30T05:16:06.811Z</td><td>0</td></tr><tr><td>null</td><td>{\"user_id\": \"40e8d981-8436-4139-9da7-4e0a71be1874\", \"platform\": \"other\", \"event_id\": \"66936fa6-d462-4c5a-80ec-ed7eaea75597\", \"event_date\": 1701321370, \"action\": \"view\", \"uri\": \"https://databricks.com/categorycategory.jsp\"}</td><td>dbdemos-sessions</td><td>9</td><td>16376646</td><td>2023-11-30T05:16:06.812Z</td><td>0</td></tr><tr><td>null</td><td>{\"user_id\": \"8a937358-261b-4364-9009-a726351f44fe\", \"platform\": \"other\", \"event_id\": \"105eaf2b-4fa2-492f-add3-b5e86aac8b52\", \"event_date\": 1701321362, \"action\": \"click\", \"uri\": \"https://databricks.com/posts/search/categoryfaq.php\"}</td><td>dbdemos-sessions</td><td>9</td><td>16376647</td><td>2023-11-30T05:16:06.821Z</td><td>0</td></tr><tr><td>null</td><td>{\"user_id\": \"83371c85-106e-4e79-9b16-f62a8904aee7\", \"platform\": \"ios\", \"event_id\": \"13b624bc-4118-430e-985d-a1e7ee21d0b3\", \"event_date\": 1701321364, \"action\": \"view\", \"uri\": \"https://databricks.com/wp-content/tagauthor.htm\"}</td><td>dbdemos-sessions</td><td>9</td><td>16376648</td><td>2023-11-30T05:16:07.836Z</td><td>0</td></tr><tr><td>null</td><td>{\"user_id\": \"e4e079a9-103e-464b-8b2f-b7d906066bad\", \"platform\": \"ios\", \"event_id\": \"b970f0eb-8884-4ab5-92b1-3422bef676da\", \"event_date\": 1701321364, \"action\": \"click\", \"uri\": \"https://databricks.com/wp-content/app/listauthor.php\"}</td><td>dbdemos-sessions</td><td>9</td><td>16376649</td><td>2023-11-30T05:16:08.841Z</td><td>0</td></tr><tr><td>null</td><td>{\"user_id\": \"ea676090-0000-4946-a288-4e1ab4c91ea2\", \"platform\": \"ios\", \"event_id\": \"e8ef522e-ce0e-4bfe-b2ab-502e03ff6741\", \"event_date\": 1701321368, \"action\": \"click\", \"uri\": \"https://databricks.com/app/postspost.html\"}</td><td>dbdemos-sessions</td><td>9</td><td>16376650</td><td>2023-11-30T05:16:08.845Z</td><td>0</td></tr><tr><td>null</td><td>{\"user_id\": \"426ccd91-2409-4b5d-83e9-d582f552985e\", \"platform\": \"android\", \"event_id\": \"c4fab495-ae00-4980-9be0-dbd7684474ae\", \"event_date\": 1701321371, \"action\": \"log\", \"uri\": \"https://databricks.com/app/search/mainabout.html\"}</td><td>dbdemos-sessions</td><td>9</td><td>16376651</td><td>2023-11-30T05:16:09.851Z</td><td>0</td></tr><tr><td>null</td><td>{\"user_id\": \"7354e19a-6b74-4581-9278-7d2a1fa506d2\", \"platform\": \"android\", \"event_id\": \"89d8a31c-6547-4eae-a2d1-7aa8db37ae4b\", \"event_date\": 1701321371, \"action\": \"click\", \"uri\": \"https://databricks.com/tagsfaq.html\"}</td><td>dbdemos-sessions</td><td>9</td><td>16376652</td><td>2023-11-30T05:16:10.865Z</td><td>0</td></tr><tr><td>null</td><td>{\"user_id\": \"4861923d-8618-4684-9212-0e380364e29e\", \"platform\": \"ios\", \"event_id\": \"d72b1915-3926-45c2-9593-d34f114e832d\", \"event_date\": 1701321366, \"action\": \"view\", \"uri\": \"https://databricks.com/listindex.html\"}</td><td>dbdemos-sessions</td><td>9</td><td>16376653</td><td>2023-11-30T05:16:10.87Z</td><td>0</td></tr><tr><td>null</td><td>{\"user_id\": \"19907dcb-5680-4656-897c-8da9e753a547\", \"platform\": \"ios\", \"event_id\": \"a19a24ec-0e47-4249-930c-6273d2caa5b4\", \"event_date\": 1701321368, \"action\": \"view\", \"uri\": \"https://databricks.com/blogsearch.jsp\"}</td><td>dbdemos-sessions</td><td>9</td><td>16376654</td><td>2023-11-30T05:16:10.871Z</td><td>0</td></tr><tr><td>null</td><td>{\"user_id\": \"3605ab4e-d224-4328-8ab1-621800f13d58\", \"platform\": \"other\", \"event_id\": \"68ced0c0-0f21-49e5-9004-221ddc3284f9\", \"event_date\": 1701321370, \"action\": \"click\", \"uri\": \"https://databricks.com/categorysearch.jsp\"}</td><td>dbdemos-sessions</td><td>9</td><td>16376655</td><td>2023-11-30T05:16:10.874Z</td><td>0</td></tr><tr><td>null</td><td>{\"user_id\": \"554db164-c09e-40fd-ab95-e90a9a739753\", \"platform\": \"ios\", \"event_id\": \"92f8a12f-eb93-4baa-9db4-2a31b79eb7cc\", \"event_date\": 1701321375, \"action\": \"view\", \"uri\": \"https://databricks.com/listhome.php\"}</td><td>dbdemos-sessions</td><td>9</td><td>16376656</td><td>2023-11-30T05:16:11.881Z</td><td>0</td></tr><tr><td>null</td><td>{\"user_id\": \"94ba5e9c-d1c8-4837-8c7f-e3e20d6a180e\", \"platform\": \"ios\", \"event_id\": \"ba8f333d-896a-4058-a723-68438091e94f\", \"event_date\": 1701321369, \"action\": \"log\", \"uri\": \"https://databricks.com/tag/postsindex.htm\"}</td><td>dbdemos-sessions</td><td>9</td><td>16376657</td><td>2023-11-30T05:16:12.885Z</td><td>0</td></tr><tr><td>null</td><td>{\"user_id\": \"82096dbb-07cd-45da-b6cc-57bc4ea01540\", \"platform\": \"ios\", \"event_id\": \"31073f51-403e-482b-9b45-732958713783\", \"event_date\": 1701321372, \"action\": \"view\", \"uri\": \"https://databricks.com/app/blog/tagsabout.html\"}</td><td>dbdemos-sessions</td><td>9</td><td>16376658</td><td>2023-11-30T05:16:12.886Z</td><td>0</td></tr><tr><td>null</td><td>{\"user_id\": \"af86d48a-b571-4050-acbc-145b24579671\", \"platform\": \"ios\", \"event_id\": \"d52f6581-149d-4a37-9984-4610d977d205\", \"event_date\": 1701321374, \"action\": \"view\", \"uri\": \"https://databricks.com/search/tag/exploremain.html\"}</td><td>dbdemos-sessions</td><td>9</td><td>16376659</td><td>2023-11-30T05:16:12.89Z</td><td>0</td></tr><tr><td>null</td><td>{\"user_id\": \"d6b698c1-d982-4afd-913f-a4ba28177397\", \"platform\": \"ios\", \"event_id\": \"4e7dcc43-1875-40ca-a1a4-a170d9d30a23\", \"event_date\": 1701321370, \"action\": \"view\", \"uri\": \"https://databricks.com/blog/categorypost.html\"}</td><td>dbdemos-sessions</td><td>9</td><td>16376660</td><td>2023-11-30T05:16:12.89Z</td><td>0</td></tr><tr><td>null</td><td>{\"user_id\": \"61a38add-9c06-48fa-ab29-c4b6fd9f5a53\", \"platform\": \"ios\", \"event_id\": \"36ed87ad-0670-47fa-bab3-0c64b8eeb1c7\", \"event_date\": 1701321368, \"action\": \"view\", \"uri\": \"https://databricks.com/list/postspost.html\"}</td><td>dbdemos-sessions</td><td>9</td><td>16376661</td><td>2023-11-30T05:16:12.893Z</td><td>0</td></tr><tr><td>null</td><td>{\"user_id\": \"b5f792ab-766c-4aa2-86d8-02a7e7abcfc0\", \"platform\": \"ios\", \"event_id\": \"67a6fb6b-e721-4e04-a00b-1e0dc34232e4\", \"event_date\": 1701321376, \"action\": \"view\", \"uri\": \"https://databricks.com/app/blog/appterms.html\"}</td><td>dbdemos-sessions</td><td>9</td><td>16376662</td><td>2023-11-30T05:16:12.893Z</td><td>0</td></tr><tr><td>null</td><td>{\"user_id\": \"5d81aa0b-2986-4b18-abbd-b085380a1bb6\", \"platform\": \"ios\", \"event_id\": \"a63741cd-ead0-48a9-96d9-dacb410e0df0\", \"event_date\": 1701321376, \"action\": \"log\", \"uri\": \"https://databricks.com/category/bloghomepage.jsp\"}</td><td>dbdemos-sessions</td><td>9</td><td>16376663</td><td>2023-11-30T05:16:14.917Z</td><td>0</td></tr><tr><td>null</td><td>{\"user_id\": \"4f9a4975-58ad-4063-be2c-d7fafb9f9072\", \"platform\": \"ios\", \"event_id\": \"350a6929-c507-4d0d-9aec-a574d69929fb\", \"event_date\": 1701321374, \"action\": \"click\", \"uri\": \"https://databricks.com/tags/explorehome.php\"}</td><td>dbdemos-sessions</td><td>9</td><td>16376664</td><td>2023-11-30T05:16:15.925Z</td><td>0</td></tr><tr><td>null</td><td>{\"user_id\": \"8953da1a-a780-42b1-a6dc-ef3a8d881435\", \"platform\": \"other\", \"event_id\": \"0f798a68-1a9a-4243-90b9-421cb976b0d5\", \"event_date\": 1701321378, \"action\": \"click\", \"uri\": \"https://databricks.com/app/appfaq.jsp\"}</td><td>dbdemos-sessions</td><td>9</td><td>16376665</td><td>2023-11-30T05:16:15.926Z</td><td>0</td></tr><tr><td>null</td><td>{\"user_id\": \"5b573c0b-32f7-4f2a-b49c-1e8989ddc2b1\", \"platform\": \"other\", \"event_id\": \"4bb11533-c2d6-46eb-a4d4-f6c9d65cf745\", \"event_date\": 1701321371, \"action\": \"view\", \"uri\": \"https://databricks.com/blog/tag/explorepost.html\"}</td><td>dbdemos-sessions</td><td>9</td><td>16376666</td><td>2023-11-30T05:16:15.934Z</td><td>0</td></tr><tr><td>null</td><td>{\"user_id\": \"83371c85-106e-4e79-9b16-f62a8904aee7\", \"platform\": \"other\", \"event_id\": \"1351914a-fc53-455b-9b40-d50e56c9a028\", \"event_date\": 1701321372, \"action\": \"log\", \"uri\": \"https://databricks.com/app/tagprivacy.html\"}</td><td>dbdemos-sessions</td><td>9</td><td>16376667</td><td>2023-11-30T05:16:15.935Z</td><td>0</td></tr><tr><td>null</td><td>{\"user_id\": \"e28b5e01-ff82-4179-ac64-5507cfedf9b6\", \"platform\": \"ios\", \"event_id\": \"13fda750-d498-4143-abcf-ae535550daf2\", \"event_date\": 1701321376, \"action\": \"view\", \"uri\": \"https://databricks.com/explore/categories/categorieshome.asp\"}</td><td>dbdemos-sessions</td><td>9</td><td>16376668</td><td>2023-11-30T05:16:15.939Z</td><td>0</td></tr><tr><td>null</td><td>{\"user_id\": \"d78e2c84-3acd-4c26-a603-415b76c598ea\", \"platform\": \"ios\", \"event_id\": \"a7d7eeab-0f57-4a1a-913e-0bbe02bf2ea3\", \"event_date\": 1701321372, \"action\": \"click\", \"uri\": \"https://databricks.com/blogprivacy.html\"}</td><td>dbdemos-sessions</td><td>9</td><td>16376669</td><td>2023-11-30T05:16:16.941Z</td><td>0</td></tr><tr><td>null</td><td>{\"user_id\": \"34265667-87e0-4a72-b118-befa1e41b2b7\", \"platform\": \"android\", \"event_id\": \"543a2027-8c3c-452d-8af8-878969aaf445\", \"event_date\": 1701321375, \"action\": \"click\", \"uri\": \"https://databricks.com/search/category/postsauthor.html\"}</td><td>dbdemos-sessions</td><td>9</td><td>16376670</td><td>2023-11-30T05:16:16.943Z</td><td>0</td></tr><tr><td>null</td><td>{\"user_id\": \"1aa3a739-ede2-426f-873d-9f6a4ebcc7f5\", \"platform\": \"ios\", \"event_id\": \"b35c22c3-a10d-4f91-8fdf-fadea7fa1b32\", \"event_date\": 1701321378, \"action\": \"click\", \"uri\": \"https://databricks.com/posts/wp-contentmain.asp\"}</td><td>dbdemos-sessions</td><td>9</td><td>16376671</td><td>2023-11-30T05:16:16.95Z</td><td>0</td></tr><tr><td>null</td><td>{\"user_id\": \"d70636d7-e2ab-4f4a-8c4e-fe400a25f757\", \"platform\": \"ios\", \"event_id\": \"e6b4995f-5927-44fe-b9c0-2910a984e702\", \"event_date\": 1701321374, \"action\": \"view\", \"uri\": \"https://databricks.com/explore/categoryfaq.html\"}</td><td>dbdemos-sessions</td><td>9</td><td>16376672</td><td>2023-11-30T05:16:16.951Z</td><td>0</td></tr><tr><td>null</td><td>{\"user_id\": \"d7212efa-f6a5-4325-adf4-27a99756af10\", \"platform\": \"ios\", \"event_id\": \"c78e19ec-0820-4cb0-bffb-317055de36c3\", \"event_date\": 1701321378, \"action\": \"view\", \"uri\": \"https://databricks.com/blog/explorefaq.html\"}</td><td>dbdemos-sessions</td><td>9</td><td>16376673</td><td>2023-11-30T05:16:16.953Z</td><td>0</td></tr><tr><td>null</td><td>{\"user_id\": \"468292d1-34a8-4b3e-94e1-f9442dac5d5e\", \"platform\": \"ios\", \"event_id\": \"ee19f9c7-888f-4430-aa46-23e2c3fe507c\", \"event_date\": 1701321381, \"action\": \"log\", \"uri\": \"https://databricks.com/app/explore/searchauthor.php\"}</td><td>dbdemos-sessions</td><td>9</td><td>16376674</td><td>2023-11-30T05:16:17.963Z</td><td>0</td></tr><tr><td>null</td><td>{\"user_id\": \"287d6985-e3c1-44f7-a700-2df164a43235\", \"platform\": \"other\", \"event_id\": \"d38fce64-5333-494a-a780-31c5201b11ae\", \"event_date\": 1701321374, \"action\": \"view\", \"uri\": \"https://databricks.com/tagsabout.jsp\"}</td><td>dbdemos-sessions</td><td>9</td><td>16376675</td><td>2023-11-30T05:16:18.97Z</td><td>0</td></tr><tr><td>null</td><td>{\"user_id\": \"66fe7dd1-8f19-470c-b4b8-be75c4793e76\", \"platform\": \"other\", \"event_id\": \"4456a348-ba42-4f57-b640-4d106f7c5af0\", \"event_date\": 1701321378, \"action\": \"click\", \"uri\": \"https://databricks.com/search/categoriesprivacy.php\"}</td><td>dbdemos-sessions</td><td>9</td><td>16376676</td><td>2023-11-30T05:16:19.985Z</td><td>0</td></tr><tr><td>null</td><td>{\"user_id\": \"3ad07dbf-363a-4662-829f-7cb889ad0da0\", \"platform\": \"ios\", \"event_id\": \"56f3e1b0-b5a7-4aff-b6af-84d2d8e31c6b\", \"event_date\": 1701321383, \"action\": \"view\", \"uri\": \"https://databricks.com/tags/tagspost.html\"}</td><td>dbdemos-sessions</td><td>9</td><td>16376677</td><td>2023-11-30T05:16:19.996Z</td><td>0</td></tr><tr><td>null</td><td>{\"user_id\": \"94ba5e9c-d1c8-4837-8c7f-e3e20d6a180e\", \"platform\": \"ios\", \"event_id\": \"ca1ffe2a-c8e6-4603-803e-fd092929c871\", \"event_date\": 1701321358, \"action\": \"click\", \"uri\": \"https://databricks.com/wp-content/searchfaq.php\"}</td><td>dbdemos-sessions</td><td>3</td><td>16374457</td><td>2023-11-30T05:16:02.71Z</td><td>0</td></tr><tr><td>null</td><td>{\"user_id\": \"1983f70f-77a9-4412-a898-1c7e3312d2af\", \"platform\": \"other\", \"event_id\": \"c0ded847-f32e-4529-a377-d24d7151f91d\", \"event_date\": 1701321361, \"action\": \"view\", \"uri\": \"https://databricks.com/tagpost.html\"}</td><td>dbdemos-sessions</td><td>3</td><td>16374458</td><td>2023-11-30T05:16:02.712Z</td><td>0</td></tr><tr><td>null</td><td>{\"user_id\": \"5c32df45-eda2-494d-abe8-f00782dd60c5\", \"platform\": \"ios\", \"event_id\": \"f7afb1d1-24a7-4cb9-a182-8cb081ed03bb\", \"event_date\": 1701321363, \"action\": \"click\", \"uri\": \"https://databricks.com/main/tags/wp-contentmain.php\"}</td><td>dbdemos-sessions</td><td>3</td><td>16374459</td><td>2023-11-30T05:16:02.719Z</td><td>0</td></tr><tr><td>null</td><td>{\"user_id\": \"18713496-a98e-49a4-ab88-9f029f18b4c5\", \"platform\": \"other\", \"event_id\": \"4e47a419-b2cd-462c-9fca-e8577452f35f\", \"event_date\": 1701321364, \"action\": \"click\", \"uri\": \"https://databricks.com/search/postsindex.asp\"}</td><td>dbdemos-sessions</td><td>3</td><td>16374460</td><td>2023-11-30T05:16:03.723Z</td><td>0</td></tr><tr><td>null</td><td>{\"user_id\": \"2a284ec7-9875-4c46-a431-bc41aef3bb00\", \"platform\": \"ios\", \"event_id\": \"de52532d-6fe5-40d8-8b48-4ca1deb65d92\", \"event_date\": 1701321361, \"action\": \"click\", \"uri\": \"https://databricks.com/wp-content/blog/tagshomepage.html\"}</td><td>dbdemos-sessions</td><td>3</td><td>16374461</td><td>2023-11-30T05:16:04.751Z</td><td>0</td></tr><tr><td>null</td><td>{\"user_id\": \"dbf55039-2fd8-42f8-bc6b-cda6329562d7\", \"platform\": \"other\", \"event_id\": \"ea74d14e-15d6-44bd-86e7-a92cc4aa98a5\", \"event_date\": 1701321366, \"action\": \"click\", \"uri\": \"https://databricks.com/search/posts/explorelogin.php\"}</td><td>dbdemos-sessions</td><td>3</td><td>16374462</td><td>2023-11-30T05:16:04.759Z</td><td>0</td></tr><tr><td>null</td><td>{\"user_id\": \"8953da1a-a780-42b1-a6dc-ef3a8d881435\", \"platform\": \"android\", \"event_id\": \"f9309824-4f67-4df0-a187-32380983da46\", \"event_date\": 1701321362, \"action\": \"view\", \"uri\": \"https://databricks.com/wp-content/blogpost.php\"}</td><td>dbdemos-sessions</td><td>3</td><td>16374463</td><td>2023-11-30T05:16:06.808Z</td><td>0</td></tr><tr><td>null</td><td>{\"user_id\": \"604ae75c-5537-43da-bd92-5a235a891266\", \"platform\": \"other\", \"event_id\": \"8e963f1b-7d9b-46a4-aae5-bda78a82ac62\", \"event_date\": 1701321370, \"action\": \"view\", \"uri\": \"https://databricks.com/tags/tags/postshome.html\"}</td><td>dbdemos-sessions</td><td>3</td><td>16374464</td><td>2023-11-30T05:16:07.832Z</td><td>0</td></tr><tr><td>null</td><td>{\"user_id\": \"7cd07a2d-d835-470d-a0c8-b3400c915ac7\", \"platform\": \"ios\", \"event_id\": \"b9123865-0a21-453d-a0a8-d4a1f99a2d09\", \"event_date\": 1701321364, \"action\": \"view\", \"uri\": \"https://databricks.com/tag/tagprivacy.htm\"}</td><td>dbdemos-sessions</td><td>3</td><td>16374465</td><td>2023-11-30T05:16:08.838Z</td><td>0</td></tr><tr><td>null</td><td>{\"user_id\": \"1983f70f-77a9-4412-a898-1c7e3312d2af\", \"platform\": \"ios\", \"event_id\": \"51298677-3a9f-4e37-9a10-386097cff687\", \"event_date\": 1701321372, \"action\": \"view\", \"uri\": \"https://databricks.com/blogregister.htm\"}</td><td>dbdemos-sessions</td><td>3</td><td>16374466</td><td>2023-11-30T05:16:08.841Z</td><td>0</td></tr><tr><td>null</td><td>{\"user_id\": \"4fd4b3e9-61c6-4786-bc04-d90a9eb2458c\", \"platform\": \"ios\", \"event_id\": \"c8350210-c52a-4b5a-970e-cb013f0b862c\", \"event_date\": 1701321366, \"action\": \"view\", \"uri\": \"https://databricks.com/tags/tag/searchpost.asp\"}</td><td>dbdemos-sessions</td><td>3</td><td>16374467</td><td>2023-11-30T05:16:08.846Z</td><td>0</td></tr><tr><td>null</td><td>{\"user_id\": \"bb041937-335f-4592-9b28-75cbd928cd41\", \"platform\": \"ios\", \"event_id\": \"36a702ad-cdb9-41f6-b136-332f04e335f7\", \"event_date\": 1701321371, \"action\": \"click\", \"uri\": \"https://databricks.com/tags/wp-content/categoriesfaq.asp\"}</td><td>dbdemos-sessions</td><td>3</td><td>16374468</td><td>2023-11-30T05:16:09.849Z</td><td>0</td></tr><tr><td>null</td><td>{\"user_id\": \"70856272-64cd-4308-9e41-4631a7dd8024\", \"platform\": \"other\", \"event_id\": \"58f25592-d241-47cd-a3fb-95a6bfb63000\", \"event_date\": 1701321367, \"action\": \"view\", \"uri\": \"https://databricks.com/search/explore/exploreprivacy.php\"}</td><td>dbdemos-sessions</td><td>3</td><td>16374469</td><td>2023-11-30T05:16:09.858Z</td><td>0</td></tr><tr><td>null</td><td>{\"user_id\": \"d4535df9-a37d-4a3c-8309-c60389024de9\", \"platform\": \"other\", \"event_id\": \"32640ef5-c8bb-4db4-ae9e-d514022969fd\", \"event_date\": 1701321373, \"action\": \"view\", \"uri\": \"https://databricks.com/tagindex.html\"}</td><td>dbdemos-sessions</td><td>3</td><td>16374470</td><td>2023-11-30T05:16:09.861Z</td><td>0</td></tr><tr><td>null</td><td>{\"user_id\": \"40e8d981-8436-4139-9da7-4e0a71be1874\", \"platform\": \"ios\", \"event_id\": \"e82e6988-c933-43b6-8642-bf1020a8d4db\", \"event_date\": 1701321370, \"action\": \"view\", \"uri\": \"https://databricks.com/explorehomepage.asp\"}</td><td>dbdemos-sessions</td><td>3</td><td>16374471</td><td>2023-11-30T05:16:10.868Z</td><td>0</td></tr><tr><td>null</td><td>{\"user_id\": \"d5c1965f-4903-4b86-895d-f9cce7d9c963\", \"platform\": \"other\", \"event_id\": \"75671e7b-4598-4d53-a120-1b8846f42689\", \"event_date\": 1701321367, \"action\": \"view\", \"uri\": \"https://databricks.com/mainauthor.html\"}</td><td>dbdemos-sessions</td><td>3</td><td>16374472</td><td>2023-11-30T05:16:11.877Z</td><td>0</td></tr><tr><td>null</td><td>{\"user_id\": \"b5f792ab-766c-4aa2-86d8-02a7e7abcfc0\", \"platform\": \"android\", \"event_id\": null, \"event_date\": 1701321375, \"action\": \"view\", \"uri\": \"https://databricks.com/explore/category/tagslogin.htm\"}</td><td>dbdemos-sessions</td><td>3</td><td>16374473</td><td>2023-11-30T05:16:11.881Z</td><td>0</td></tr><tr><td>null</td><td>{\"user_id\": \"d5c1965f-4903-4b86-895d-f9cce7d9c963\", \"platform\": \"other\", \"event_id\": \"b489959f-d5ee-48e3-9199-86cddc531ced\", \"event_date\": 1701321368, \"action\": \"log\", \"uri\": \"https://databricks.com/mainregister.php\"}</td><td>dbdemos-sessions</td><td>3</td><td>16374474</td><td>2023-11-30T05:16:12.886Z</td><td>0</td></tr><tr><td>null</td><td>{\"user_id\": \"02252ba9-e8f2-43b7-903a-5ada8fa4177d\", \"platform\": \"other\", \"event_id\": \"cb0ec3a9-e0fd-47af-bed3-075612ef928e\", \"event_date\": 1701321374, \"action\": \"click\", \"uri\": \"https://databricks.com/main/posts/appregister.jsp\"}</td><td>dbdemos-sessions</td><td>3</td><td>16374475</td><td>2023-11-30T05:16:12.888Z</td><td>0</td></tr><tr><td>null</td><td>{\"user_id\": \"a1410f93-0184-4aca-9c43-c686a605a5f6\", \"platform\": \"other\", \"event_id\": \"e165a1e4-731b-41fc-ab51-a05648a714e0\", \"event_date\": 1701321375, \"action\": \"click\", \"uri\": \"https://databricks.com/tags/blog/categoriespost.html\"}</td><td>dbdemos-sessions</td><td>3</td><td>16374476</td><td>2023-11-30T05:16:12.889Z</td><td>0</td></tr><tr><td>null</td><td>{\"user_id\": \"5d81aa0b-2986-4b18-abbd-b085380a1bb6\", \"platform\": \"ios\", \"event_id\": \"d083700c-76cb-4ef9-b6c7-cf6d84acc823\", \"event_date\": 1701321373, \"action\": \"view\", \"uri\": \"https://databricks.com/main/appcategory.htm\"}</td><td>dbdemos-sessions</td><td>3</td><td>16374477</td><td>2023-11-30T05:16:12.889Z</td><td>0</td></tr><tr><td>null</td><td>{\"user_id\": \"1983f70f-77a9-4412-a898-1c7e3312d2af\", \"platform\": \"other\", \"event_id\": \"e4291d9c-222e-4c28-8180-4916bcbc22de\", \"event_date\": 1701321377, \"action\": \"log\", \"uri\": \"https://databricks.com/explore/main/mainhomepage.html\"}</td><td>dbdemos-sessions</td><td>3</td><td>16374478</td><td>2023-11-30T05:16:13.901Z</td><td>0</td></tr><tr><td>null</td><td>{\"user_id\": \"34265667-87e0-4a72-b118-befa1e41b2b7\", \"platform\": \"ios\", \"event_id\": \"ce668c50-034b-465f-a5dc-60742adf7e39\", \"event_date\": 1701321375, \"action\": \"view\", \"uri\": \"https://databricks.com/categoryprivacy.htm\"}</td><td>dbdemos-sessions</td><td>3</td><td>16374479</td><td>2023-11-30T05:16:13.902Z</td><td>0</td></tr><tr><td>null</td><td>{\"user_id\": \"0258e062-93d5-47ae-bf8f-5e946b856f1a\", \"platform\": \"ios\", \"event_id\": \"973b9e82-372a-407a-af28-56cf5a718792\", \"event_date\": 1701321376, \"action\": \"view\", \"uri\": \"https://databricks.com/list/wp-content/appindex.htm\"}</td><td>dbdemos-sessions</td><td>3</td><td>16374480</td><td>2023-11-30T05:16:13.903Z</td><td>0</td></tr><tr><td>null</td><td>{\"user_id\": \"50e32c77-ce88-45b4-9b25-7c747615596b\", \"platform\": \"ios\", \"event_id\": \"924b1e44-6a4e-4433-96bb-8cb1917c06b8\", \"event_date\": 1701321377, \"action\": \"view\", \"uri\": \"https://databricks.com/main/mainsearch.php\"}</td><td>dbdemos-sessions</td><td>3</td><td>16374481</td><td>2023-11-30T05:16:14.917Z</td><td>0</td></tr><tr><td>null</td><td>{\"user_id\": \"96d32b6c-fb2a-48a1-aea2-2e1df5de0234\", \"platform\": \"ios\", \"event_id\": \"3bd458b6-7b92-4a98-86d9-568f4bf0917f\", \"event_date\": 1701321370, \"action\": \"click\", \"uri\": \"https://databricks.com/blogpost.jsp\"}</td><td>dbdemos-sessions</td><td>3</td><td>16374482</td><td>2023-11-30T05:16:14.918Z</td><td>0</td></tr><tr><td>null</td><td>{\"user_id\": \"83f81766-8347-477d-ac90-f0cb72a8d242\", \"platform\": \"ios\", \"event_id\": \"4bc23362-be72-4d1c-905a-24c76c751272\", \"event_date\": 1701321369, \"action\": \"click\", \"uri\": \"https://databricks.com/wp-content/wp-content/wp-contenthome.htm\"}</td><td>dbdemos-sessions</td><td>3</td><td>16374483</td><td>2023-11-30T05:16:14.919Z</td><td>0</td></tr><tr><td>null</td><td>{\"user_id\": \"8c37dfb5-4ce9-40ee-aabd-6d2e41387b89\", \"platform\": \"other\", \"event_id\": \"9529a6fe-6d90-469f-acd4-e48ed77db833\", \"event_date\": 1701321379, \"action\": \"click\", \"uri\": \"https://databricks.com/explore/mainmain.asp\"}</td><td>dbdemos-sessions</td><td>3</td><td>16374484</td><td>2023-11-30T05:16:15.924Z</td><td>0</td></tr><tr><td>null</td><td>{\"user_id\": \"ff3f9bdd-d0a3-4d28-b151-454d5e88546b\", \"platform\": \"other\", \"event_id\": \"41f9b0c6-bb8f-402f-8149-1546d013f5df\", \"event_date\": 1701321370, \"action\": \"view\", \"uri\": \"https://databricks.com/appterms.htm\"}</td><td>dbdemos-sessions</td><td>3</td><td>16374485</td><td>2023-11-30T05:16:15.929Z</td><td>0</td></tr><tr><td>null</td><td>{\"user_id\": \"8f2385f0-f59d-4ebc-ac67-d3d5427e9a95\", \"platform\": \"android\", \"event_id\": \"b2560ffa-ea8a-4e22-a8ff-d3ee77f8530f\", \"event_date\": 1701321378, \"action\": \"log\", \"uri\": \"https://databricks.com/posts/search/categoryauthor.php\"}</td><td>dbdemos-sessions</td><td>3</td><td>16374486</td><td>2023-11-30T05:16:15.93Z</td><td>0</td></tr><tr><td>null</td><td>{\"user_id\": \"24e73178-c559-4484-8349-7ea3c1f77105\", \"platform\": \"other\", \"event_id\": \"2fb74025-848e-4175-b3d8-6b70ea488c75\", \"event_date\": 1701321379, \"action\": \"view\", \"uri\": \"https://databricks.com/postssearch.htm\"}</td><td>dbdemos-sessions</td><td>3</td><td>16374487</td><td>2023-11-30T05:16:15.931Z</td><td>0</td></tr><tr><td>null</td><td>{\"user_id\": \"954c2940-2415-4618-89e3-8f4147680ac1\", \"platform\": \"ios\", \"event_id\": \"299ecb78-4ccf-4528-92cc-352493082cb6\", \"event_date\": 1701321374, \"action\": \"click\", \"uri\": \"https://databricks.com/wp-contentmain.htm\"}</td><td>dbdemos-sessions</td><td>3</td><td>16374488</td><td>2023-11-30T05:16:16.943Z</td><td>0</td></tr><tr><td>null</td><td>{\"user_id\": \"8ebe91ce-5ce9-4215-b90d-afa7ffc2031b\", \"platform\": \"ios\", \"event_id\": \"0f6f2681-f851-466c-97a2-e71743d0296d\", \"event_date\": 1701321371, \"action\": \"view\", \"uri\": \"https://databricks.com/posts/tags/categoryregister.asp\"}</td><td>dbdemos-sessions</td><td>3</td><td>16374489</td><td>2023-11-30T05:16:16.947Z</td><td>0</td></tr><tr><td>null</td><td>{\"user_id\": \"65c8a970-e4e2-4fc7-9706-825f852acd65\", \"platform\": \"ios\", \"event_id\": \"56d3c9e0-dcf2-480b-9a66-bc333bdbecd7\", \"event_date\": 1701321371, \"action\": \"click\", \"uri\": \"https://databricks.com/wp-content/blogterms.asp\"}</td><td>dbdemos-sessions</td><td>3</td><td>16374490</td><td>2023-11-30T05:16:16.949Z</td><td>0</td></tr><tr><td>null</td><td>{\"user_id\": \"d7212efa-f6a5-4325-adf4-27a99756af10\", \"platform\": null, \"event_id\": \"5d2a55a2-25ae-48ab-9b24-ca668d346a46\", \"event_date\": 1701321380, \"action\": \"view\", \"uri\": \"https://databricks.com/category/blogterms.html\"}</td><td>dbdemos-sessions</td><td>3</td><td>16374491</td><td>2023-11-30T05:16:17.966Z</td><td>0</td></tr><tr><td>null</td><td>{\"user_id\": \"287d6985-e3c1-44f7-a700-2df164a43235\", \"platform\": \"other\", \"event_id\": \"d38fce64-5333-494a-a780-31c5201b11ae\", \"event_date\": 1701321374, \"action\": \"view\", \"uri\": \"https://databricks.com/tagsabout.jsp\"}</td><td>dbdemos-sessions</td><td>3</td><td>16374492</td><td>2023-11-30T05:16:18.97Z</td><td>0</td></tr><tr><td>null</td><td>{\"user_id\": \"70856272-64cd-4308-9e41-4631a7dd8024\", \"platform\": \"other\", \"event_id\": \"20c3891d-b635-429f-9169-a25208e93bf1\", \"event_date\": 1701321381, \"action\": \"view\", \"uri\": \"https://databricks.com/app/wp-contentterms.jsp\"}</td><td>dbdemos-sessions</td><td>3</td><td>16374493</td><td>2023-11-30T05:16:18.975Z</td><td>0</td></tr><tr><td>null</td><td>{\"user_id\": \"d4535df9-a37d-4a3c-8309-c60389024de9\", \"platform\": \"other\", \"event_id\": \"be6e997f-7457-4890-8591-cd5efcb658ef\", \"event_date\": 1701321374, \"action\": \"view\", \"uri\": \"https://databricks.com/bloghomepage.php\"}</td><td>dbdemos-sessions</td><td>3</td><td>16374494</td><td>2023-11-30T05:16:18.979Z</td><td>0</td></tr><tr><td>null</td><td>{\"user_id\": \"a1dad50e-0add-40df-8b71-31fcd8e60e24\", \"platform\": \"ios\", \"event_id\": \"62762a82-3ffd-4bb7-8238-10fb5ea89105\", \"event_date\": 1701321376, \"action\": \"view\", \"uri\": \"https://databricks.com/searchindex.html\"}</td><td>dbdemos-sessions</td><td>3</td><td>16374495</td><td>2023-11-30T05:16:18.981Z</td><td>0</td></tr><tr><td>null</td><td>{\"user_id\": \"fe5cd354-51ff-49cb-98c2-ba91e24b9117\", \"platform\": \"ios\", \"event_id\": \"b6f299bc-db6d-499c-9482-397f7739a0ab\", \"event_date\": 1701321378, \"action\": \"click\", \"uri\": \"https://databricks.com/main/wp-content/searchfaq.jsp\"}</td><td>dbdemos-sessions</td><td>3</td><td>16374496</td><td>2023-11-30T05:16:19.983Z</td><td>0</td></tr><tr><td>null</td><td>{\"user_id\": \"f51f94e1-27a4-48be-b539-b0aac42704e3\", \"platform\": \"other\", \"event_id\": \"5fabd2e1-e470-43ac-8594-e58e8e75e72a\", \"event_date\": 1701321381, \"action\": \"click\", \"uri\": \"https://databricks.com/blog/wp-content/categoryfaq.php\"}</td><td>dbdemos-sessions</td><td>3</td><td>16374497</td><td>2023-11-30T05:16:19.989Z</td><td>0</td></tr><tr><td>null</td><td>{\"user_id\": \"fa31e0c0-f1fa-432f-b6ae-5bf2146cca06\", \"platform\": \"android\", \"event_id\": \"ab903315-6c76-4d4f-9b7a-31913f157254\", \"event_date\": 1701321383, \"action\": \"view\", \"uri\": \"https://databricks.com/main/wp-contentfaq.php\"}</td><td>dbdemos-sessions</td><td>3</td><td>16374498</td><td>2023-11-30T05:16:19.99Z</td><td>0</td></tr><tr><td>null</td><td>{\"user_id\": \"65c8a970-e4e2-4fc7-9706-825f852acd65\", \"platform\": \"android\", \"event_id\": \"94f55d47-ef57-4c04-894f-f6b896244c08\", \"event_date\": 1701321380, \"action\": \"view\", \"uri\": \"https://databricks.com/categoryregister.jsp\"}</td><td>dbdemos-sessions</td><td>3</td><td>16374499</td><td>2023-11-30T05:16:19.991Z</td><td>0</td></tr><tr><td>null</td><td>{\"user_id\": \"d70636d7-e2ab-4f4a-8c4e-fe400a25f757\", \"platform\": \"other\", \"event_id\": \"123a41f4-f09b-4be6-b901-d7e6bc1922a7\", \"event_date\": 1701321381, \"action\": \"view\", \"uri\": \"https://databricks.com/app/exploreterms.php\"}</td><td>dbdemos-sessions</td><td>3</td><td>16374500</td><td>2023-11-30T05:16:19.994Z</td><td>0</td></tr><tr><td>null</td><td>{\"user_id\": \"98701b68-de8c-498e-b4c7-7ec39f76b83e\", \"platform\": \"ios\", \"event_id\": \"2b5cb7c6-3840-4d63-88e2-12253dab62c8\", \"event_date\": 1701321383, \"action\": \"view\", \"uri\": \"https://databricks.com/search/categories/listpost.htm\"}</td><td>dbdemos-sessions</td><td>3</td><td>16374501</td><td>2023-11-30T05:16:19.996Z</td><td>0</td></tr><tr><td>null</td><td>{\"user_id\": \"6937cb27-2941-49c8-9431-ef4836329ae6\", \"platform\": \"ios\", \"event_id\": \"5e677321-a6f8-4872-b5d2-033981e84e1c\", \"event_date\": 1701321362, \"action\": \"view\", \"uri\": \"https://databricks.com/tag/posts/listfaq.htm\"}</td><td>dbdemos-sessions</td><td>6</td><td>16368442</td><td>2023-11-30T05:16:02.715Z</td><td>0</td></tr><tr><td>null</td><td>{\"user_id\": \"8953da1a-a780-42b1-a6dc-ef3a8d881435\", \"platform\": \"ios\", \"event_id\": \"5c1e9b01-8a0b-44cb-bcb0-2744223b2f7d\", \"event_date\": 1701321360, \"action\": \"log\", \"uri\": \"https://databricks.com/wp-contentlogin.php\"}</td><td>dbdemos-sessions</td><td>6</td><td>16368443</td><td>2023-11-30T05:16:03.722Z</td><td>0</td></tr><tr><td>null</td><td>{\"user_id\": \"604ae75c-5537-43da-bd92-5a235a891266\", \"platform\": \"ios\", \"event_id\": \"e3d3d888-df9a-4beb-a09a-a2584bdf3dfa\", \"event_date\": 1701321362, \"action\": \"view\", \"uri\": \"https://databricks.com/explore/postsauthor.php\"}</td><td>dbdemos-sessions</td><td>6</td><td>16368444</td><td>2023-11-30T05:16:03.726Z</td><td>0</td></tr><tr><td>null</td><td>{\"user_id\": \"c5d9d13b-3de4-4750-a7ff-c642e55c606e\", \"platform\": \"android\", \"event_id\": \"ba4b3fac-841f-4f22-a3f3-b3a5b5cf60aa\", \"event_date\": 1701321360, \"action\": \"view\", \"uri\": \"https://databricks.com/app/list/tagabout.php\"}</td><td>dbdemos-sessions</td><td>6</td><td>16368445</td><td>2023-11-30T05:16:03.729Z</td><td>0</td></tr><tr><td>null</td><td>{\"user_id\": \"ca395091-d1d8-4621-8a10-ee8ff2db1409\", \"platform\": \"ios\", \"event_id\": \"31d84be0-fe51-4f27-a381-069be9143708\", \"event_date\": 1701321360, \"action\": \"view\", \"uri\": \"https://databricks.com/tag/listhome.jsp\"}</td><td>dbdemos-sessions</td><td>6</td><td>16368446</td><td>2023-11-30T05:16:04.749Z</td><td>0</td></tr><tr><td>null</td><td>{\"user_id\": \"96d32b6c-fb2a-48a1-aea2-2e1df5de0234\", \"platform\": \"other\", \"event_id\": \"192dc0b0-96a1-46fc-b5ed-3f2417d5f8c8\", \"event_date\": 1701321361, \"action\": \"click\", \"uri\": \"https://databricks.com/tag/tags/blogprivacy.htm\"}</td><td>dbdemos-sessions</td><td>6</td><td>16368447</td><td>2023-11-30T05:16:04.756Z</td><td>0</td></tr><tr><td>null</td><td>{\"user_id\": \"5f65957e-6cad-4b66-9409-8b1d877f227f\", \"platform\": \"android\", \"event_id\": \"ab0c7827-23e4-4b39-9578-b883e2393c76\", \"event_date\": 1701321367, \"action\": \"click\", \"uri\": \"https://databricks.com/main/categories/apphomepage.php\"}</td><td>dbdemos-sessions</td><td>6</td><td>16368448</td><td>2023-11-30T05:16:04.76Z</td><td>0</td></tr><tr><td>null</td><td>{\"user_id\": \"94ba5e9c-d1c8-4837-8c7f-e3e20d6a180e\", \"platform\": \"ios\", \"event_id\": \"36ed40ce-6dcf-4c98-93ba-283929037d57\", \"event_date\": 1701321367, \"action\": \"view\", \"uri\": \"https://databricks.com/main/mainmain.php\"}</td><td>dbdemos-sessions</td><td>6</td><td>16368449</td><td>2023-11-30T05:16:06.804Z</td><td>0</td></tr><tr><td>null</td><td>{\"user_id\": \"d78e2c84-3acd-4c26-a603-415b76c598ea\", \"platform\": \"other\", \"event_id\": \"f6a96040-e469-42b5-9020-1036dbe9a517\", \"event_date\": 1701321364, \"action\": null, \"uri\": \"https://databricks.com/explore/explore/listpost.asp\"}</td><td>dbdemos-sessions</td><td>6</td><td>16368450</td><td>2023-11-30T05:16:06.804Z</td><td>0</td></tr><tr><td>null</td><td>{\"user_id\": \"4f9a4975-58ad-4063-be2c-d7fafb9f9072\", \"platform\": \"ios\", \"event_id\": \"a068e1ee-cbd7-4acb-b18b-688b6338df32\", \"event_date\": 1701321365, \"action\": \"view\", \"uri\": \"https://databricks.com/explorelogin.html\"}</td><td>dbdemos-sessions</td><td>6</td><td>16368451</td><td>2023-11-30T05:16:06.805Z</td><td>0</td></tr><tr><td>null</td><td>{\"user_id\": \"8953da1a-a780-42b1-a6dc-ef3a8d881435\", \"platform\": \"ios\", \"event_id\": \"27d1bde5-ccc5-4b41-b680-81f00731b2b7\", \"event_date\": 1701321369, \"action\": \"click\", \"uri\": \"https://databricks.com/categories/app/categoriesprivacy.php\"}</td><td>dbdemos-sessions</td><td>6</td><td>16368452</td><td>2023-11-30T05:16:07.828Z</td><td>0</td></tr><tr><td>null</td><td>{\"user_id\": \"5b573c0b-32f7-4f2a-b49c-1e8989ddc2b1\", \"platform\": \"other\", \"event_id\": \"883e1e64-a414-449d-ae5b-cecc9a730ac0\", \"event_date\": 1701321370, \"action\": \"view\", \"uri\": \"https://databricks.com/app/category/categoriesregister.asp\"}</td><td>dbdemos-sessions</td><td>6</td><td>16368453</td><td>2023-11-30T05:16:07.835Z</td><td>0</td></tr><tr><td>null</td><td>{\"user_id\": \"c50c86c0-459f-4db4-ae86-1e2e8a5a42ed\", \"platform\": \"ios\", \"event_id\": \"b12f62f0-9804-4b5b-ab93-ce5b13c02df3\", \"event_date\": 1701321370, \"action\": \"view\", \"uri\": \"https://databricks.com/listcategory.htm\"}</td><td>dbdemos-sessions</td><td>6</td><td>16368454</td><td>2023-11-30T05:16:07.835Z</td><td>0</td></tr><tr><td>null</td><td>{\"user_id\": \"cdf5504b-598d-4c9e-aa2c-01d320d7a397\", \"platform\": \"ios\", \"event_id\": \"26c6bf60-b294-47ef-a5ba-b7c716618cb2\", \"event_date\": 1701321369, \"action\": \"view\", \"uri\": \"https://databricks.com/wp-content/listindex.php\"}</td><td>dbdemos-sessions</td><td>6</td><td>16368455</td><td>2023-11-30T05:16:08.841Z</td><td>0</td></tr><tr><td>null</td><td>{\"user_id\": \"b994d64b-9f05-4a97-a53d-d95128f1c0c3\", \"platform\": \"ios\", \"event_id\": \"845117e2-f9bc-4c5d-a8eb-15f0ff1a77fa\", \"event_date\": 1701321368, \"action\": \"view\", \"uri\": \"https://databricks.com/tags/blogabout.php\"}</td><td>dbdemos-sessions</td><td>6</td><td>16368456</td><td>2023-11-30T05:16:08.843Z</td><td>0</td></tr><tr><td>null</td><td>{\"user_id\": \"d4df099d-1d1a-4cf8-b0fb-d0249886106f\", \"platform\": \"android\", \"event_id\": \"5cc90d40-17fe-4cf4-b23e-4274bcadb920\", \"event_date\": 1701321364, \"action\": \"click\", \"uri\": \"https://databricks.com/blogpost.htm\"}</td><td>dbdemos-sessions</td><td>6</td><td>16368457</td><td>2023-11-30T05:16:08.844Z</td><td>0</td></tr><tr><td>null</td><td>{\"user_id\": \"842f92f7-e2dd-47b4-8b39-f48d18a84070\", \"platform\": \"ios\", \"event_id\": \"0ac03c04-84a1-43a2-9c4f-b528ec221368\", \"event_date\": 1701321371, \"action\": \"view\", \"uri\": \"https://databricks.com/categories/categoriesterms.htm\"}</td><td>dbdemos-sessions</td><td>6</td><td>16368458</td><td>2023-11-30T05:16:08.847Z</td><td>0</td></tr><tr><td>null</td><td>{\"user_id\": \"40e8d981-8436-4139-9da7-4e0a71be1874\", \"platform\": \"android\", \"event_id\": \"ef7ae4ca-3f92-4db9-aaaf-6a179c36edb9\", \"event_date\": 1701321366, \"action\": \"view\", \"uri\": \"https://databricks.com/postsabout.php\"}</td><td>dbdemos-sessions</td><td>6</td><td>16368459</td><td>2023-11-30T05:16:09.854Z</td><td>0</td></tr><tr><td>null</td><td>{\"user_id\": \"70856272-64cd-4308-9e41-4631a7dd8024\", \"platform\": \"other\", \"event_id\": \"58f25592-d241-47cd-a3fb-95a6bfb63000\", \"event_date\": 1701321367, \"action\": \"view\", \"uri\": \"https://databricks.com/search/explore/exploreprivacy.php\"}</td><td>dbdemos-sessions</td><td>6</td><td>16368460</td><td>2023-11-30T05:16:09.858Z</td><td>0</td></tr><tr><td>null</td><td>{\"user_id\": \"c74ac38e-0a9b-4785-9a27-09d1d694e40c\", \"platform\": \"ios\", \"event_id\": \"a185300b-a0e5-49ba-b541-611982668cdc\", \"event_date\": 1701321368, \"action\": \"click\", \"uri\": \"https://databricks.com/categorypost.htm\"}</td><td>dbdemos-sessions</td><td>6</td><td>16368461</td><td>2023-11-30T05:16:10.866Z</td><td>0</td></tr><tr><td>null</td><td>{\"user_id\": \"4861923d-8618-4684-9212-0e380364e29e\", \"platform\": \"ios\", \"event_id\": \"d72b1915-3926-45c2-9593-d34f114e832d\", \"event_date\": 1701321366, \"action\": \"view\", \"uri\": \"https://databricks.com/listindex.html\"}</td><td>dbdemos-sessions</td><td>6</td><td>16368462</td><td>2023-11-30T05:16:10.87Z</td><td>0</td></tr><tr><td>null</td><td>{\"user_id\": \"455ca8a1-18bd-409f-b257-5a298fb5a5a9\", \"platform\": \"ios\", \"event_id\": \"fa24146b-4c9e-4056-815c-6e13e878f1f2\", \"event_date\": 1701321374, \"action\": \"view\", \"uri\": \"https://databricks.com/searchhome.htm\"}</td><td>dbdemos-sessions</td><td>6</td><td>16368463</td><td>2023-11-30T05:16:10.874Z</td><td>0</td></tr><tr><td>null</td><td>{\"user_id\": \"66fe7dd1-8f19-470c-b4b8-be75c4793e76\", \"platform\": \"ios\", \"event_id\": \"2295358e-5c07-4eda-aee9-313491aaa201\", \"event_date\": 1701321370, \"action\": \"click\", \"uri\": \"https://databricks.com/categorycategory.html\"}</td><td>dbdemos-sessions</td><td>6</td><td>16368464</td><td>2023-11-30T05:16:11.878Z</td><td>0</td></tr><tr><td>null</td><td>{\"user_id\": \"65c8a970-e4e2-4fc7-9706-825f852acd65\", \"platform\": \"ios\", \"event_id\": \"6d766c75-156e-41cc-a4af-598822b66621\", \"event_date\": 1701321374, \"action\": \"click\", \"uri\": \"https://databricks.com/blog/listsearch.htm\"}</td><td>dbdemos-sessions</td><td>6</td><td>16368465</td><td>2023-11-30T05:16:12.894Z</td><td>0</td></tr><tr><td>null</td><td>{\"user_id\": \"a2203049-6083-4c38-b3e8-0832f315801a\", \"platform\": \"ios\", \"event_id\": \"41fd9eea-48f4-4201-999d-f987beaf4ba1\", \"event_date\": 1701321369, \"action\": \"click\", \"uri\": \"https://databricks.com/wp-content/wp-contentcategory.html\"}</td><td>dbdemos-sessions</td><td>6</td><td>16368466</td><td>2023-11-30T05:16:12.895Z</td><td>0</td></tr><tr><td>null</td><td>{\"user_id\": \"95d37dd5-cd3b-465c-8395-64f60fcf46b3\", \"platform\": \"ios\", \"event_id\": \"d908c7b5-e487-40a1-a816-c91b3d350fbd\", \"event_date\": 1701321368, \"action\": \"click\", \"uri\": \"https://databricks.com/list/tagcategory.html\"}</td><td>dbdemos-sessions</td><td>6</td><td>16368467</td><td>2023-11-30T05:16:12.895Z</td><td>0</td></tr><tr><td>null</td><td>{\"user_id\": \"93ef5cae-b681-4e40-8e10-cae4283b2b04\", \"platform\": \"other\", \"event_id\": \"5df63c46-0ad9-4f95-9de4-f6872ccecbce\", \"event_date\": 1701321375, \"action\": \"click\", \"uri\": \"https://databricks.com/wp-contentindex.jsp\"}</td><td>dbdemos-sessions</td><td>6</td><td>16368468</td><td>2023-11-30T05:16:13.898Z</td><td>0</td></tr><tr><td>null</td><td>{\"user_id\": \"8a937358-261b-4364-9009-a726351f44fe\", \"platform\": \"ios\", \"event_id\": \"cfae380c-11de-4fa1-b877-7ed0c87f1f85\", \"event_date\": 1701321368, \"action\": \"view\", \"uri\": \"https://databricks.com/categoryindex.htm\"}</td><td>dbdemos-sessions</td><td>6</td><td>16368469</td><td>2023-11-30T05:16:13.904Z</td><td>0</td></tr><tr><td>null</td><td>{\"user_id\": \"a2203049-6083-4c38-b3e8-0832f315801a\", \"platform\": \"ios\", \"event_id\": \"f2f4becd-70c3-4419-9f43-3113d64ebdb7\", \"event_date\": 1701321369, \"action\": \"view\", \"uri\": \"https://databricks.com/posts/searchmain.php\"}</td><td>dbdemos-sessions</td><td>6</td><td>16368470</td><td>2023-11-30T05:16:13.907Z</td><td>0</td></tr><tr><td>null</td><td>{\"user_id\": \"18713496-a98e-49a4-ab88-9f029f18b4c5\", \"platform\": \"other\", \"event_id\": \"61e986d3-098f-4edc-9f96-b1569ac222fa\", \"event_date\": 1701321373, \"action\": \"view\", \"uri\": \"https://databricks.com/listpost.jsp\"}</td><td>dbdemos-sessions</td><td>6</td><td>16368471</td><td>2023-11-30T05:16:14.915Z</td><td>0</td></tr><tr><td>null</td><td>{\"user_id\": \"c5d9d13b-3de4-4750-a7ff-c642e55c606e\", \"platform\": \"other\", \"event_id\": \"1d3b625f-8f2f-4665-a8fc-2b58cd679624\", \"event_date\": 1701321375, \"action\": \"view\", \"uri\": \"https://databricks.com/listhomepage.html\"}</td><td>dbdemos-sessions</td><td>6</td><td>16368472</td><td>2023-11-30T05:16:14.919Z</td><td>0</td></tr><tr><td>null</td><td>{\"user_id\": \"ea676090-0000-4946-a288-4e1ab4c91ea2\", \"platform\": \"other\", \"event_id\": \"5527530a-3020-4f0a-8717-94163ca18fde\", \"event_date\": 1701321370, \"action\": \"view\", \"uri\": \"https://databricks.com/posts/explore/tagspost.html\"}</td><td>dbdemos-sessions</td><td>6</td><td>16368473</td><td>2023-11-30T05:16:14.921Z</td><td>0</td></tr><tr><td>null</td><td>{\"user_id\": \"f51f94e1-27a4-48be-b539-b0aac42704e3\", \"platform\": \"other\", \"event_id\": \"c875aa12-6c4a-4237-80e1-23f4fd4e7130\", \"event_date\": 1701321376, \"action\": \"view\", \"uri\": \"https://databricks.com/blog/explorecategory.jsp\"}</td><td>dbdemos-sessions</td><td>6</td><td>16368474</td><td>2023-11-30T05:16:15.932Z</td><td>0</td></tr><tr><td>null</td><td>{\"user_id\": \"8a937358-261b-4364-9009-a726351f44fe\", \"platform\": \"android\", \"event_id\": \"44d9a5ed-cf71-444f-a430-6ad28f28eb78\", \"event_date\": 1701321377, \"action\": \"view\", \"uri\": \"https://databricks.com/tagauthor.html\"}</td><td>dbdemos-sessions</td><td>6</td><td>16368475</td><td>2023-11-30T05:16:15.933Z</td><td>0</td></tr><tr><td>null</td><td>{\"user_id\": \"faa07d2d-e74f-4b49-9d0f-a2a3966c6c07\", \"platform\": \"android\", \"event_id\": \"91399e35-a1b2-457e-959f-a90e2ff0ecbe\", \"event_date\": 1701321378, \"action\": \"view\", \"uri\": \"https://databricks.com/tag/tagterms.htm\"}</td><td>dbdemos-sessions</td><td>6</td><td>16368476</td><td>2023-11-30T05:16:15.938Z</td><td>0</td></tr><tr><td>null</td><td>{\"user_id\": \"6e102f64-abf8-441b-942d-19df3cde3714\", \"platform\": \"ios\", \"event_id\": \"13e31033-d0cd-40df-ac45-9a44949f6585\", \"event_date\": 1701321376, \"action\": \"view\", \"uri\": \"https://databricks.com/list/tagprivacy.jsp\"}</td><td>dbdemos-sessions</td><td>6</td><td>16368477</td><td>2023-11-30T05:16:16.942Z</td><td>0</td></tr><tr><td>null</td><td>{\"user_id\": \"70856272-64cd-4308-9e41-4631a7dd8024\", \"platform\": \"ios\", \"event_id\": \"a514c807-d0b6-4690-b7a0-fb2b4664368d\", \"event_date\": 1701321376, \"action\": \"log\", \"uri\": \"https://databricks.com/listterms.htm\"}</td><td>dbdemos-sessions</td><td>6</td><td>16368478</td><td>2023-11-30T05:16:16.948Z</td><td>0</td></tr><tr><td>null</td><td>{\"user_id\": \"d4d38a3c-3c64-4f97-a97d-31a8380293ae\", \"platform\": \"ios\", \"event_id\": \"679d4a0d-54e8-4c08-845e-580945fdd064\", \"event_date\": 1701321374, \"action\": \"click\", \"uri\": \"https://databricks.com/wp-content/list/wp-contenthomepage.htm\"}</td><td>dbdemos-sessions</td><td>6</td><td>16368479</td><td>2023-11-30T05:16:16.952Z</td><td>0</td></tr><tr><td>null</td><td>{\"user_id\": \"426ccd91-2409-4b5d-83e9-d582f552985e\", \"platform\": \"ios\", \"event_id\": \"92efd0bf-43cd-4622-961f-7f20e38bfc84\", \"event_date\": 1701321372, \"action\": \"view\", \"uri\": \"https://databricks.com/app/blogprivacy.php\"}</td><td>dbdemos-sessions</td><td>6</td><td>16368480</td><td>2023-11-30T05:16:17.955Z</td><td>0</td></tr><tr><td>null</td><td>{\"user_id\": \"a2203049-6083-4c38-b3e8-0832f315801a\", \"platform\": \"ios\", \"event_id\": \"0bf12b8c-11a3-4ae1-ac21-35bb84c014f5\", \"event_date\": 1701321372, \"action\": \"click\", \"uri\": \"https://databricks.com/main/blog/categoriesfaq.htm\"}</td><td>dbdemos-sessions</td><td>6</td><td>16368481</td><td>2023-11-30T05:16:17.962Z</td><td>0</td></tr><tr><td>null</td><td>{\"user_id\": \"554db164-c09e-40fd-ab95-e90a9a739753\", \"platform\": \"other\", \"event_id\": \"e80188b8-3b94-4e02-bac0-f29f3ee4767f\", \"event_date\": 1701321381, \"action\": \"view\", \"uri\": \"https://databricks.com/tagsauthor.htm\"}</td><td>dbdemos-sessions</td><td>6</td><td>16368482</td><td>2023-11-30T05:16:18.977Z</td><td>0</td></tr><tr><td>null</td><td>{\"user_id\": \"d278a0e6-7c83-43e8-a0b4-db949eca8412\", \"platform\": \"other\", \"event_id\": \"c0c9d554-a7b9-498e-9d3e-cf488cb3633d\", \"event_date\": 1701321376, \"action\": \"view\", \"uri\": \"https://databricks.com/posts/tag/postsauthor.jsp\"}</td><td>dbdemos-sessions</td><td>6</td><td>16368483</td><td>2023-11-30T05:16:19.989Z</td><td>0</td></tr><tr><td>null</td><td>{\"user_id\": \"d4df099d-1d1a-4cf8-b0fb-d0249886106f\", \"platform\": \"ios\", \"event_id\": \"3d7373c1-3695-40ea-93b7-7ec64a8c5aca\", \"event_date\": 1701321375, \"action\": \"click\", \"uri\": \"https://databricks.com/category/categorypost.php\"}</td><td>dbdemos-sessions</td><td>6</td><td>16368484</td><td>2023-11-30T05:16:19.99Z</td><td>0</td></tr><tr><td>null</td><td>{\"user_id\": \"455ca8a1-18bd-409f-b257-5a298fb5a5a9\", \"platform\": \"ios\", \"event_id\": \"5c4260c5-e147-4569-a4bb-288b12942160\", \"event_date\": 1701321374, \"action\": \"click\", \"uri\": \"https://databricks.com/app/categoriesindex.html\"}</td><td>dbdemos-sessions</td><td>6</td><td>16368485</td><td>2023-11-30T05:16:19.993Z</td><td>0</td></tr><tr><td>null</td><td>{\"user_id\": \"7be27ac7-189a-4d0c-95ce-69cca27288dc\", \"platform\": \"other\", \"event_id\": \"5fe3292c-41d2-4ad3-8d93-634d5429354a\", \"event_date\": 1701321381, \"action\": \"view\", \"uri\": \"https://databricks.com/wp-content/tagslogin.asp\"}</td><td>dbdemos-sessions</td><td>6</td><td>16368486</td><td>2023-11-30T05:16:19.996Z</td><td>0</td></tr><tr><td>null</td><td>{\"user_id\": \"bb041937-335f-4592-9b28-75cbd928cd41\", \"platform\": \"ios\", \"event_id\": \"028ce327-e8f9-4e20-96b4-622913b1d1f1\", \"event_date\": 1701321362, \"action\": \"log\", \"uri\": \"https://databricks.com/categorymain.php\"}</td><td>dbdemos-sessions</td><td>1</td><td>16369440</td><td>2023-11-30T05:16:02.71Z</td><td>0</td></tr><tr><td>null</td><td>{\"user_id\": \"5f65957e-6cad-4b66-9409-8b1d877f227f\", \"platform\": \"ios\", \"event_id\": \"de80e673-3316-4ef7-921c-21792679d5e2\", \"event_date\": 1701321361, \"action\": \"view\", \"uri\": \"https://databricks.com/category/tags/listauthor.html\"}</td><td>dbdemos-sessions</td><td>1</td><td>16369441</td><td>2023-11-30T05:16:02.719Z</td><td>0</td></tr><tr><td>null</td><td>{\"user_id\": \"9acce7bf-7baa-45f0-b598-93b24e8843fd\", \"platform\": \"other\", \"event_id\": \"df29c7b7-2a62-465e-99ff-937d84585f45\", \"event_date\": 1701321363, \"action\": \"view\", \"uri\": \"https://databricks.com/mainlogin.php\"}</td><td>dbdemos-sessions</td><td>1</td><td>16369442</td><td>2023-11-30T05:16:03.725Z</td><td>0</td></tr><tr><td>null</td><td>{\"user_id\": \"5b573c0b-32f7-4f2a-b49c-1e8989ddc2b1\", \"platform\": \"ios\", \"event_id\": \"80c8bef2-e843-47e2-aa5d-989222909549\", \"event_date\": 1701321362, \"action\": \"click\", \"uri\": \"https://databricks.com/tags/explore/wp-contentabout.html\"}</td><td>dbdemos-sessions</td><td>1</td><td>16369443</td><td>2023-11-30T05:16:03.728Z</td><td>0</td></tr><tr><td>null</td><td>{\"user_id\": \"1aa3a739-ede2-426f-873d-9f6a4ebcc7f5\", \"platform\": \"other\", \"event_id\": \"61086d91-2fcd-4f63-bf3c-b4d30fe8a1f2\", \"event_date\": 1701321367, \"action\": \"view\", \"uri\": \"https://databricks.com/explorepost.html\"}</td><td>dbdemos-sessions</td><td>1</td><td>16369444</td><td>2023-11-30T05:16:04.765Z</td><td>0</td></tr><tr><td>null</td><td>{\"user_id\": \"66fe7dd1-8f19-470c-b4b8-be75c4793e76\", \"platform\": \"ios\", \"event_id\": \"b81819c7-fed2-41fb-82b0-ca1ff7972d43\", \"event_date\": 1701321364, \"action\": \"view\", \"uri\": \"https://databricks.com/categorylogin.html\"}</td><td>dbdemos-sessions</td><td>1</td><td>16369445</td><td>2023-11-30T05:16:06.81Z</td><td>0</td></tr><tr><td>null</td><td>{\"user_id\": \"cdf5504b-598d-4c9e-aa2c-01d320d7a397\", \"platform\": \"other\", \"event_id\": \"9f6cb850-52c6-4d4c-88f3-5f05510f89ca\", \"event_date\": 1701321366, \"action\": \"view\", \"uri\": \"https://databricks.com/bloglogin.jsp\"}</td><td>dbdemos-sessions</td><td>1</td><td>16369446</td><td>2023-11-30T05:16:06.811Z</td><td>0</td></tr><tr><td>null</td><td>{\"user_id\": \"287d6985-e3c1-44f7-a700-2df164a43235\", \"platform\": \"other\", \"event_id\": \"e583bb33-937b-4fdb-899e-769378f43213\", \"event_date\": 1701321370, \"action\": \"view\", \"uri\": \"https://databricks.com/explore/explorehome.php\"}</td><td>dbdemos-sessions</td><td>1</td><td>16369447</td><td>2023-11-30T05:16:07.827Z</td><td>0</td></tr><tr><td>null</td><td>{\"user_id\": \"82096dbb-07cd-45da-b6cc-57bc4ea01540\", \"platform\": \"ios\", \"event_id\": \"13a3b8f0-46fb-42f9-abac-c3066aa2c9d0\", \"event_date\": 1701321363, \"action\": \"view\", \"uri\": \"https://databricks.com/searchcategory.asp\"}</td><td>dbdemos-sessions</td><td>1</td><td>16369448</td><td>2023-11-30T05:16:08.84Z</td><td>0</td></tr><tr><td>null</td><td>{\"user_id\": \"50e32c77-ce88-45b4-9b25-7c747615596b\", \"platform\": \"other\", \"event_id\": \"e524f375-f092-4f46-a9ac-30fe8ef33a11\", \"event_date\": 1701321370, \"action\": \"click\", \"uri\": \"https://databricks.com/postsabout.php\"}</td><td>dbdemos-sessions</td><td>1</td><td>16369449</td><td>2023-11-30T05:16:08.842Z</td><td>0</td></tr><tr><td>null</td><td>{\"user_id\": \"d278a0e6-7c83-43e8-a0b4-db949eca8412\", \"platform\": \"other\", \"event_id\": \"f0cd099e-9a79-4478-8bee-583aa23bbf72\", \"event_date\": 1701321366, \"action\": \"log\", \"uri\": \"https://databricks.com/categories/blogauthor.htm\"}</td><td>dbdemos-sessions</td><td>1</td><td>16369450</td><td>2023-11-30T05:16:09.857Z</td><td>0</td></tr><tr><td>null</td><td>{\"user_id\": \"455ca8a1-18bd-409f-b257-5a298fb5a5a9\", \"platform\": \"ios\", \"event_id\": \"742f7dc7-7c8b-4abc-8ab0-410d055e7245\", \"event_date\": 1701321367, \"action\": \"log\", \"uri\": \"https://databricks.com/explore/app/postsauthor.html\"}</td><td>dbdemos-sessions</td><td>1</td><td>16369451</td><td>2023-11-30T05:16:09.861Z</td><td>0</td></tr><tr><td>null</td><td>{\"user_id\": \"4fd4b3e9-61c6-4786-bc04-d90a9eb2458c\", \"platform\": \"other\", \"event_id\": \"89740956-6cef-4204-b587-6ee611ff53c9\", \"event_date\": 1701321373, \"action\": \"view\", \"uri\": \"https://databricks.com/categories/wp-content/categoryprivacy.php\"}</td><td>dbdemos-sessions</td><td>1</td><td>16369452</td><td>2023-11-30T05:16:09.862Z</td><td>0</td></tr><tr><td>null</td><td>{\"user_id\": \"dbf55039-2fd8-42f8-bc6b-cda6329562d7\", \"platform\": \"other\", \"event_id\": \"22e16c30-2ef9-4f32-8084-a4b9e11709f9\", \"event_date\": 1701321371, \"action\": \"click\", \"uri\": \"https://databricks.com/search/explore/searchindex.php\"}</td><td>dbdemos-sessions</td><td>1</td><td>16369453</td><td>2023-11-30T05:16:10.872Z</td><td>0</td></tr><tr><td>null</td><td>{\"user_id\": \"1aa3a739-ede2-426f-873d-9f6a4ebcc7f5\", \"platform\": \"ios\", \"event_id\": \"87c0c365-426e-4735-907b-d25e0b193010\", \"event_date\": 1701321371, \"action\": \"view\", \"uri\": \"https://databricks.com/listpost.jsp\"}</td><td>dbdemos-sessions</td><td>1</td><td>16369454</td><td>2023-11-30T05:16:10.873Z</td><td>0</td></tr><tr><td>null</td><td>{\"user_id\": \"0258e062-93d5-47ae-bf8f-5e946b856f1a\", \"platform\": \"ios\", \"event_id\": \"1a5313c5-d283-46cc-93c6-0898b9520ffe\", \"event_date\": 1701321369, \"action\": \"view\", \"uri\": \"https://databricks.com/blogprivacy.jsp\"}</td><td>dbdemos-sessions</td><td>1</td><td>16369455</td><td>2023-11-30T05:16:11.88Z</td><td>0</td></tr><tr><td>null</td><td>{\"user_id\": \"bb041937-335f-4592-9b28-75cbd928cd41\", \"platform\": \"other\", \"event_id\": \"b3b18f2d-e239-4a40-af06-db54916ada5c\", \"event_date\": 1701321372, \"action\": \"click\", \"uri\": \"https://databricks.com/postscategory.php\"}</td><td>dbdemos-sessions</td><td>1</td><td>16369456</td><td>2023-11-30T05:16:12.885Z</td><td>0</td></tr><tr><td>null</td><td>{\"user_id\": \"c5d9d13b-3de4-4750-a7ff-c642e55c606e\", \"platform\": \"ios\", \"event_id\": \"8ac156d4-c250-472a-8d12-7732da18b016\", \"event_date\": 1701321375, \"action\": null, \"uri\": \"https://databricks.com/categories/listhomepage.htm\"}</td><td>dbdemos-sessions</td><td>1</td><td>16369457</td><td>2023-11-30T05:16:13.905Z</td><td>0</td></tr><tr><td>null</td><td>{\"user_id\": \"45a7825b-826f-402b-a6c1-ffaf0c44da1d\", \"platform\": \"other\", \"event_id\": \"57e114cc-b044-488c-90e6-f15894858fcf\", \"event_date\": 1701321377, \"action\": \"click\", \"uri\": \"https://databricks.com/tag/categories/searchauthor.html\"}</td><td>dbdemos-sessions</td><td>1</td><td>16369458</td><td>2023-11-30T05:16:13.91Z</td><td>0</td></tr><tr><td>null</td><td>{\"user_id\": \"82096dbb-07cd-45da-b6cc-57bc4ea01540\", \"platform\": \"other\", \"event_id\": \"e7cd21c8-b6d2-4f81-995a-9f0b9881761d\", \"event_date\": 1701321374, \"action\": \"log\", \"uri\": \"https://databricks.com/mainprivacy.htm\"}</td><td>dbdemos-sessions</td><td>1</td><td>16369459</td><td>2023-11-30T05:16:14.914Z</td><td>0</td></tr><tr><td>null</td><td>{\"user_id\": \"8953da1a-a780-42b1-a6dc-ef3a8d881435\", \"platform\": \"other\", \"event_id\": \"391dab61-27ed-4aa9-802a-d4762e37f8ab\", \"event_date\": 1701321373, \"action\": \"view\", \"uri\": \"https://databricks.com/blog/categories/categorieslogin.html\"}</td><td>dbdemos-sessions</td><td>1</td><td>16369460</td><td>2023-11-30T05:16:14.914Z</td><td>0</td></tr><tr><td>null</td><td>{\"user_id\": \"287d6985-e3c1-44f7-a700-2df164a43235\", \"platform\": \"other\", \"event_id\": \"6541bf96-5eac-41ce-9e32-5f2e89b9a70a\", \"event_date\": 1701321379, \"action\": \"click\", \"uri\": \"https://databricks.com/mainhome.php\"}</td><td>dbdemos-sessions</td><td>1</td><td>16369461</td><td>2023-11-30T05:16:15.925Z</td><td>0</td></tr><tr><td>null</td><td>{\"user_id\": \"b994d64b-9f05-4a97-a53d-d95128f1c0c3\", \"platform\": \"ios\", \"event_id\": null, \"event_date\": 1701321375, \"action\": \"click\", \"uri\": \"https://databricks.com/main/tagshome.php\"}</td><td>dbdemos-sessions</td><td>1</td><td>16369462</td><td>2023-11-30T05:16:15.932Z</td><td>0</td></tr><tr><td>null</td><td>{\"user_id\": \"4b652069-51b2-4caa-bcea-acb355f2b75d\", \"platform\": \"ios\", \"event_id\": \"5e7f63bd-90f7-4acc-bd42-fb0885477237\", \"event_date\": 1701321370, \"action\": \"log\", \"uri\": \"https://databricks.com/search/tag/categoriesregister.jsp\"}</td><td>dbdemos-sessions</td><td>1</td><td>16369463</td><td>2023-11-30T05:16:15.933Z</td><td>0</td></tr><tr><td>null</td><td>{\"user_id\": \"91062304-0581-40d6-9272-4189d373651e\", \"platform\": \"ios\", \"event_id\": \"867e1bca-a007-4b42-af9b-e92a6ce9d7c7\", \"event_date\": 1701321377, \"action\": \"click\", \"uri\": \"https://databricks.com/appregister.htm\"}</td><td>dbdemos-sessions</td><td>1</td><td>16369464</td><td>2023-11-30T05:16:15.935Z</td><td>0</td></tr><tr><td>null</td><td>{\"user_id\": \"dbf55039-2fd8-42f8-bc6b-cda6329562d7\", \"platform\": \"other\", \"event_id\": \"64802ca9-986c-4a4c-8c20-b6ba90e66a4f\", \"event_date\": 1701321373, \"action\": \"click\", \"uri\": \"https://databricks.com/blog/list/appterms.html\"}</td><td>dbdemos-sessions</td><td>1</td><td>16369465</td><td>2023-11-30T05:16:16.949Z</td><td>0</td></tr><tr><td>null</td><td>{\"user_id\": \"d7f839c5-24fb-4c78-a643-9dfea1fcabad\", \"platform\": null, \"event_id\": \"e04ed729-5eec-4eff-9adc-0a568e28a844\", \"event_date\": 1701321372, \"action\": \"log\", \"uri\": \"https://databricks.com/search/applogin.asp\"}</td><td>dbdemos-sessions</td><td>1</td><td>16369466</td><td>2023-11-30T05:16:16.951Z</td><td>0</td></tr><tr><td>null</td><td>{\"user_id\": \"f51f94e1-27a4-48be-b539-b0aac42704e3\", \"platform\": \"android\", \"event_id\": \"b404eb7c-434e-47a6-9fd8-024c04e70ba7\", \"event_date\": 1701321381, \"action\": \"click\", \"uri\": \"https://databricks.com/main/taglogin.html\"}</td><td>dbdemos-sessions</td><td>1</td><td>16369467</td><td>2023-11-30T05:16:17.959Z</td><td>0</td></tr><tr><td>null</td><td>{\"user_id\": \"468292d1-34a8-4b3e-94e1-f9442dac5d5e\", \"platform\": \"android\", \"event_id\": \"e2897e0c-5ba8-4e85-a3a5-4b35642f18af\", \"event_date\": 1701321374, \"action\": \"view\", \"uri\": \"https://databricks.com/tagsauthor.asp\"}</td><td>dbdemos-sessions</td><td>1</td><td>16369468</td><td>2023-11-30T05:16:18.979Z</td><td>0</td></tr><tr><td>null</td><td>{\"user_id\": \"d73a3593-150d-4d93-b32e-fa94fa4ed628\", \"platform\": \"ios\", \"event_id\": \"ed12a3c3-57c4-4144-a8d8-89ec9fb79d14\", \"event_date\": 1701321377, \"action\": \"view\", \"uri\": \"https://databricks.com/tag/appregister.html\"}</td><td>dbdemos-sessions</td><td>1</td><td>16369469</td><td>2023-11-30T05:16:19.992Z</td><td>0</td></tr><tr><td>null</td><td>{\"user_id\": \"d7f839c5-24fb-4c78-a643-9dfea1fcabad\", \"platform\": \"ios\", \"event_id\": \"16f80deb-9340-4140-998c-ac3195b77a78\", \"event_date\": 1701321377, \"action\": \"view\", \"uri\": \"https://databricks.com/postscategory.html\"}</td><td>dbdemos-sessions</td><td>1</td><td>16369470</td><td>2023-11-30T05:16:19.994Z</td><td>0</td></tr><tr><td>null</td><td>{\"user_id\": \"dbf55039-2fd8-42f8-bc6b-cda6329562d7\", \"platform\": \"ios\", \"event_id\": \"a6bfb41c-c5d6-4384-a0e1-803a0513f5e7\", \"event_date\": 1701321363, \"action\": \"view\", \"uri\": \"https://databricks.com/tags/posts/tagprivacy.html\"}</td><td>dbdemos-sessions</td><td>0</td><td>162967826</td><td>2023-11-30T05:16:02.718Z</td><td>0</td></tr><tr><td>null</td><td>{\"user_id\": \"a2203049-6083-4c38-b3e8-0832f315801a\", \"platform\": \"ios\", \"event_id\": \"472d6649-6451-4e95-85a7-ee1b5289fd99\", \"event_date\": 1701321365, \"action\": \"click\", \"uri\": \"https://databricks.com/main/search/exploreabout.asp\"}</td><td>dbdemos-sessions</td><td>0</td><td>162967827</td><td>2023-11-30T05:16:02.72Z</td><td>0</td></tr><tr><td>null</td><td>{\"user_id\": \"1983f70f-77a9-4412-a898-1c7e3312d2af\", \"platform\": \"ios\", \"event_id\": \"90159beb-5bce-4333-892a-3a9dc5aa8b9c\", \"event_date\": 1701321366, \"action\": \"click\", \"uri\": \"https://databricks.com/explore/wp-content/searchhomepage.php\"}</td><td>dbdemos-sessions</td><td>0</td><td>162967828</td><td>2023-11-30T05:16:04.739Z</td><td>0</td></tr><tr><td>null</td><td>{\"user_id\": \"34265667-87e0-4a72-b118-befa1e41b2b7\", \"platform\": \"android\", \"event_id\": \"b2c114f5-efaf-4ddb-9622-ec775e11a0b7\", \"event_date\": 1701321362, \"action\": \"click\", \"uri\": \"https://databricks.com/category/posts/tagscategory.html\"}</td><td>dbdemos-sessions</td><td>0</td><td>162967829</td><td>2023-11-30T05:16:04.74Z</td><td>0</td></tr><tr><td>null</td><td>{\"user_id\": \"6e102f64-abf8-441b-942d-19df3cde3714\", \"platform\": \"android\", \"event_id\": \"bb7bf7dc-8eef-4c0d-a196-48ec46f4134f\", \"event_date\": 1701321366, \"action\": \"log\", \"uri\": \"https://databricks.com/main/mainlogin.php\"}</td><td>dbdemos-sessions</td><td>0</td><td>162967830</td><td>2023-11-30T05:16:05.783Z</td><td>0</td></tr><tr><td>null</td><td>{\"user_id\": \"66fe7dd1-8f19-470c-b4b8-be75c4793e76\", \"platform\": \"other\", \"event_id\": \"bc3b3bea-c0bd-433b-82b4-031144221920\", \"event_date\": 1701321360, \"action\": null, \"uri\": \"https://databricks.com/category/listauthor.html\"}</td><td>dbdemos-sessions</td><td>0</td><td>162967831</td><td>2023-11-30T05:16:05.785Z</td><td>0</td></tr><tr><td>null</td><td>{\"user_id\": \"4861923d-8618-4684-9212-0e380364e29e\", \"platform\": \"ios\", \"event_id\": \"d4089c4c-5286-43fc-871c-895733abb582\", \"event_date\": 1701321366, \"action\": \"view\", \"uri\": \"https://databricks.com/wp-content/explore/wp-contentmain.jsp\"}</td><td>dbdemos-sessions</td><td>0</td><td>162967832</td><td>2023-11-30T05:16:05.787Z</td><td>0</td></tr><tr><td>null</td><td>{\"user_id\": \"8e47e6d7-ef56-45ef-9779-3eb3fbb427f4\", \"platform\": \"other\", \"event_id\": \"160ed07f-06c3-4a70-a097-31f508b4173b\", \"event_date\": 1701321366, \"action\": \"log\", \"uri\": \"https://databricks.com/listmain.asp\"}</td><td>dbdemos-sessions</td><td>0</td><td>162967833</td><td>2023-11-30T05:16:06.806Z</td><td>0</td></tr><tr><td>null</td><td>{\"user_id\": \"af86d48a-b571-4050-acbc-145b24579671\", \"platform\": \"other\", \"event_id\": \"b2927084-be83-41bc-818b-925175409aab\", \"event_date\": 1701321363, \"action\": \"log\", \"uri\": \"https://databricks.com/searchterms.php\"}</td><td>dbdemos-sessions</td><td>0</td><td>162967834</td><td>2023-11-30T05:16:07.83Z</td><td>0</td></tr><tr><td>null</td><td>{\"user_id\": \"2a284ec7-9875-4c46-a431-bc41aef3bb00\", \"platform\": \"other\", \"event_id\": \"de952e6e-3363-4c50-8c37-c40b74d4a381\", \"event_date\": 1701321363, \"action\": \"view\", \"uri\": \"https://databricks.com/tags/explorehome.asp\"}</td><td>dbdemos-sessions</td><td>0</td><td>162967835</td><td>2023-11-30T05:16:08.842Z</td><td>0</td></tr><tr><td>null</td><td>{\"user_id\": \"174669fd-183b-461e-9633-ceacc9d3e277\", \"platform\": \"ios\", \"event_id\": \"5f38fafb-fda5-4466-a424-de40859d52aa\", \"event_date\": 1701321365, \"action\": \"log\", \"uri\": \"https://databricks.com/tags/searchindex.html\"}</td><td>dbdemos-sessions</td><td>0</td><td>162967836</td><td>2023-11-30T05:16:08.843Z</td><td>0</td></tr><tr><td>null</td><td>{\"user_id\": \"83f81766-8347-477d-ac90-f0cb72a8d242\", \"platform\": \"ios\", \"event_id\": \"cbdd6ee8-d34e-4f7d-91e5-30b4c1f9457b\", \"event_date\": 1701321367, \"action\": \"click\", \"uri\": \"https://databricks.com/categoryterms.html\"}</td><td>dbdemos-sessions</td><td>0</td><td>162967837</td><td>2023-11-30T05:16:08.844Z</td><td>0</td></tr><tr><td>null</td><td>{\"user_id\": \"83f81766-8347-477d-ac90-f0cb72a8d242\", \"platform\": \"other\", \"event_id\": \"7cf65351-9d6d-4535-aae5-ddc8d7c8390b\", \"event_date\": 1701321364, \"action\": \"click\", \"uri\": \"https://databricks.com/tag/search/appfaq.html\"}</td><td>dbdemos-sessions</td><td>0</td><td>162967838</td><td>2023-11-30T05:16:09.859Z</td><td>0</td></tr><tr><td>null</td><td>{\"user_id\": \"f51f94e1-27a4-48be-b539-b0aac42704e3\", \"platform\": \"ios\", \"event_id\": \"687da3c8-1691-4273-a831-18f897f8021c\", \"event_date\": 1701321366, \"action\": \"view\", \"uri\": \"https://databricks.com/explore/searchcategory.jsp\"}</td><td>dbdemos-sessions</td><td>0</td><td>162967839</td><td>2023-11-30T05:16:10.87Z</td><td>0</td></tr><tr><td>null</td><td>{\"user_id\": \"c50c86c0-459f-4db4-ae86-1e2e8a5a42ed\", \"platform\": \"ios\", \"event_id\": \"6655f157-b149-4079-a938-efb8a9949a90\", \"event_date\": 1701321371, \"action\": \"view\", \"uri\": \"https://databricks.com/main/app/listfaq.html\"}</td><td>dbdemos-sessions</td><td>0</td><td>162967840</td><td>2023-11-30T05:16:10.87Z</td><td>0</td></tr><tr><td>null</td><td>{\"user_id\": \"287d6985-e3c1-44f7-a700-2df164a43235\", \"platform\": \"android\", \"event_id\": \"83cdb881-b061-4bc9-ae65-2ef7a62937dd\", \"event_date\": 1701321375, \"action\": \"click\", \"uri\": \"https://databricks.com/list/searchindex.html\"}</td><td>dbdemos-sessions</td><td>0</td><td>162967841</td><td>2023-11-30T05:16:11.877Z</td><td>0</td></tr><tr><td>null</td><td>{\"user_id\": \"d278a0e6-7c83-43e8-a0b4-db949eca8412\", \"platform\": \"ios\", \"event_id\": \"b73792d0-6f82-4886-9758-d85cf8a168b6\", \"event_date\": 1701321371, \"action\": \"log\", \"uri\": \"https://databricks.com/tagslogin.php\"}</td><td>dbdemos-sessions</td><td>0</td><td>162967842</td><td>2023-11-30T05:16:12.892Z</td><td>0</td></tr><tr><td>null</td><td>{\"user_id\": \"18713496-a98e-49a4-ab88-9f029f18b4c5\", \"platform\": \"ios\", \"event_id\": \"8c016b92-3945-4098-8f8b-6042af5ea8aa\", \"event_date\": 1701321374, \"action\": \"view\", \"uri\": \"https://databricks.com/maincategory.asp\"}</td><td>dbdemos-sessions</td><td>0</td><td>162967843</td><td>2023-11-30T05:16:13.901Z</td><td>0</td></tr><tr><td>null</td><td>{\"user_id\": \"468292d1-34a8-4b3e-94e1-f9442dac5d5e\", \"platform\": \"ios\", \"event_id\": \"33a51049-6ed4-4284-a61a-7bf897eadf48\", \"event_date\": 1701321374, \"action\": \"click\", \"uri\": \"https://databricks.com/tags/appfaq.php\"}</td><td>dbdemos-sessions</td><td>0</td><td>162967844</td><td>2023-11-30T05:16:14.922Z</td><td>0</td></tr><tr><td>null</td><td>{\"user_id\": \"3605ab4e-d224-4328-8ab1-621800f13d58\", \"platform\": \"ios\", \"event_id\": \"50a52571-21e6-4a97-a67c-f5f9ead93a59\", \"event_date\": 1701321371, \"action\": \"view\", \"uri\": \"https://databricks.com/tag/categories/mainhome.php\"}</td><td>dbdemos-sessions</td><td>0</td><td>162967845</td><td>2023-11-30T05:16:14.922Z</td><td>0</td></tr><tr><td>null</td><td>{\"user_id\": \"8a7551ea-f096-4c40-aad8-2a0778c32634\", \"platform\": \"ios\", \"event_id\": \"3f685c19-f06a-4189-8609-48d8e13c5867\", \"event_date\": 1701321369, \"action\": \"log\", \"uri\": \"https://databricks.com/mainpost.jsp\"}</td><td>dbdemos-sessions</td><td>0</td><td>162967846</td><td>2023-11-30T05:16:14.922Z</td><td>0</td></tr><tr><td>null</td><td>{\"user_id\": \"94ba5e9c-d1c8-4837-8c7f-e3e20d6a180e\", \"platform\": \"ios\", \"event_id\": \"1ff5335f-d84e-4950-b77a-48628faab779\", \"event_date\": 1701321373, \"action\": \"click\", \"uri\": \"https://databricks.com/wp-content/categorysearch.jsp\"}</td><td>dbdemos-sessions</td><td>0</td><td>162967847</td><td>2023-11-30T05:16:16.941Z</td><td>0</td></tr><tr><td>null</td><td>{\"user_id\": \"1aa3a739-ede2-426f-873d-9f6a4ebcc7f5\", \"platform\": \"ios\", \"event_id\": \"c4ff71b1-392a-4b8d-a9d1-54af26852c6f\", \"event_date\": 1701321374, \"action\": \"click\", \"uri\": \"https://databricks.com/category/search/categoryabout.html\"}</td><td>dbdemos-sessions</td><td>0</td><td>162967848</td><td>2023-11-30T05:16:17.961Z</td><td>0</td></tr><tr><td>null</td><td>{\"user_id\": \"5c32df45-eda2-494d-abe8-f00782dd60c5\", \"platform\": \"android\", \"event_id\": \"d993f7ac-f3f5-4593-8eb5-2d1f3034f1fc\", \"event_date\": 1701321379, \"action\": \"click\", \"uri\": \"https://databricks.com/main/wp-contentcategory.html\"}</td><td>dbdemos-sessions</td><td>0</td><td>162967849</td><td>2023-11-30T05:16:18.978Z</td><td>0</td></tr><tr><td>null</td><td>{\"user_id\": \"26e9a62b-affa-4c87-a5a9-df7bea55004e\", \"platform\": null, \"event_id\": \"5e5908cf-dc00-4f3f-948e-60aba039656e\", \"event_date\": 1701321378, \"action\": \"click\", \"uri\": \"https://databricks.com/explore/appsearch.html\"}</td><td>dbdemos-sessions</td><td>0</td><td>162967850</td><td>2023-11-30T05:16:18.98Z</td><td>0</td></tr><tr><td>null</td><td>{\"user_id\": \"edd15681-e004-4f73-ba67-d7a024a46e06\", \"platform\": \"android\", \"event_id\": \"1b06595e-da3c-4e60-956f-212ff95e3771\", \"event_date\": 1701321378, \"action\": \"view\", \"uri\": \"https://databricks.com/tagsabout.php\"}</td><td>dbdemos-sessions</td><td>0</td><td>162967851</td><td>2023-11-30T05:16:18.98Z</td><td>0</td></tr><tr><td>null</td><td>{\"user_id\": \"c029c534-fabe-4b8c-8447-675b706faaf0\", \"platform\": \"ios\", \"event_id\": \"5803e45b-81fe-4df8-b129-3e5307202ca6\", \"event_date\": 1701321382, \"action\": \"click\", \"uri\": \"https://databricks.com/category/categoriesfaq.html\"}</td><td>dbdemos-sessions</td><td>0</td><td>162967852</td><td>2023-11-30T05:16:18.981Z</td><td>0</td></tr><tr><td>null</td><td>{\"user_id\": \"e4e079a9-103e-464b-8b2f-b7d906066bad\", \"platform\": \"other\", \"event_id\": \"e9f858be-3150-4899-a5b7-af85b5aa759c\", \"event_date\": 1701321379, \"action\": \"log\", \"uri\": \"https://databricks.com/main/main/explorelogin.jsp\"}</td><td>dbdemos-sessions</td><td>0</td><td>162967853</td><td>2023-11-30T05:16:19.985Z</td><td>0</td></tr><tr><td>null</td><td>{\"user_id\": \"6a4e890d-982b-46e1-b446-3688a723cdff\", \"platform\": \"ios\", \"event_id\": \"82391fe1-230d-4447-8b1c-64934658a91c\", \"event_date\": 1701321361, \"action\": \"view\", \"uri\": \"https://databricks.com/app/tagsindex.html\"}</td><td>dbdemos-sessions</td><td>7</td><td>16373425</td><td>2023-11-30T05:16:02.711Z</td><td>0</td></tr><tr><td>null</td><td>{\"user_id\": \"1983f70f-77a9-4412-a898-1c7e3312d2af\", \"platform\": \"other\", \"event_id\": \"c0ded847-f32e-4529-a377-d24d7151f91d\", \"event_date\": 1701321361, \"action\": \"view\", \"uri\": \"https://databricks.com/tagpost.html\"}</td><td>dbdemos-sessions</td><td>7</td><td>16373426</td><td>2023-11-30T05:16:02.712Z</td><td>0</td></tr><tr><td>null</td><td>{\"user_id\": \"65c8a970-e4e2-4fc7-9706-825f852acd65\", \"platform\": \"other\", \"event_id\": \"44023fc3-08e2-473f-b31c-14a0927245fb\", \"event_date\": 1701321360, \"action\": \"view\", \"uri\": \"https://databricks.com/app/tag/exploreauthor.htm\"}</td><td>dbdemos-sessions</td><td>7</td><td>16373427</td><td>2023-11-30T05:16:03.73Z</td><td>0</td></tr><tr><td>null</td><td>{\"user_id\": \"471b9cf5-93fd-4290-927c-5f78456145dc\", \"platform\": \"other\", \"event_id\": \"9af0c1db-c5ef-424f-8328-e790aaebcca8\", \"event_date\": 1701321361, \"action\": \"log\", \"uri\": \"https://databricks.com/tagsindex.php\"}</td><td>dbdemos-sessions</td><td>7</td><td>16373428</td><td>2023-11-30T05:16:04.757Z</td><td>0</td></tr><tr><td>null</td><td>{\"user_id\": \"91062304-0581-40d6-9272-4189d373651e\", \"platform\": \"other\", \"event_id\": \"4b4a3899-413f-49a0-8fbc-9047904a7d0b\", \"event_date\": 1701321361, \"action\": \"log\", \"uri\": \"https://databricks.com/search/main/exploreregister.php\"}</td><td>dbdemos-sessions</td><td>7</td><td>16373429</td><td>2023-11-30T05:16:05.797Z</td><td>0</td></tr><tr><td>null</td><td>{\"user_id\": \"4861923d-8618-4684-9212-0e380364e29e\", \"platform\": \"other\", \"event_id\": \"74015e8f-8546-4351-8741-c3b9296b7e4a\", \"event_date\": 1701321362, \"action\": \"log\", \"uri\": \"https://databricks.com/wp-content/explore/exploreindex.html\"}</td><td>dbdemos-sessions</td><td>7</td><td>16373430</td><td>2023-11-30T05:16:06.82Z</td><td>0</td></tr><tr><td>null</td><td>{\"user_id\": \"b994d64b-9f05-4a97-a53d-d95128f1c0c3\", \"platform\": \"ios\", \"event_id\": \"3d2c822e-dbfa-4b63-9c81-227af64bd1a2\", \"event_date\": 1701321365, \"action\": \"click\", \"uri\": \"https://databricks.com/app/searchhome.htm\"}</td><td>dbdemos-sessions</td><td>7</td><td>16373431</td><td>2023-11-30T05:16:06.821Z</td><td>0</td></tr><tr><td>null</td><td>{\"user_id\": \"8e47e6d7-ef56-45ef-9779-3eb3fbb427f4\", \"platform\": \"ios\", \"event_id\": \"0deeaf79-965d-47c5-a89c-b908ec3e2c64\", \"event_date\": 1701321364, \"action\": \"log\", \"uri\": \"https://databricks.com/wp-content/wp-content/listauthor.html\"}</td><td>dbdemos-sessions</td><td>7</td><td>16373432</td><td>2023-11-30T05:16:07.827Z</td><td>0</td></tr><tr><td>null</td><td>{\"user_id\": \"0258e062-93d5-47ae-bf8f-5e946b856f1a\", \"platform\": \"ios\", \"event_id\": \"0cc1dc5f-ac40-406c-838b-3fb2504bc387\", \"event_date\": 1701321364, \"action\": \"view\", \"uri\": \"https://databricks.com/category/exploreregister.html\"}</td><td>dbdemos-sessions</td><td>7</td><td>16373433</td><td>2023-11-30T05:16:07.834Z</td><td>0</td></tr><tr><td>null</td><td>{\"user_id\": \"6937cb27-2941-49c8-9431-ef4836329ae6\", \"platform\": \"ios\", \"event_id\": \"c554ec3f-f083-4389-a646-05bfd8e10ad8\", \"event_date\": 1701321365, \"action\": \"click\", \"uri\": \"https://databricks.com/list/tagspost.html\"}</td><td>dbdemos-sessions</td><td>7</td><td>16373434</td><td>2023-11-30T05:16:07.834Z</td><td>0</td></tr><tr><td>null</td><td>{\"user_id\": \"83371c85-106e-4e79-9b16-f62a8904aee7\", \"platform\": \"other\", \"event_id\": \"ef99ef6b-fb3a-4c43-95da-c477eaaa94a9\", \"event_date\": 1701321369, \"action\": \"log\", \"uri\": \"https://databricks.com/wp-content/category/searchabout.jsp\"}</td><td>dbdemos-sessions</td><td>7</td><td>16373435</td><td>2023-11-30T05:16:08.845Z</td><td>0</td></tr><tr><td>null</td><td>{\"user_id\": \"a9d649d1-694d-4652-b94a-5389edb038ec\", \"platform\": \"ios\", \"event_id\": \"05264536-ce96-4375-b3a2-4fe5db6617ce\", \"event_date\": 1701321364, \"action\": \"click\", \"uri\": \"https://databricks.com/appmain.html\"}</td><td>dbdemos-sessions</td><td>7</td><td>16373436</td><td>2023-11-30T05:16:08.845Z</td><td>0</td></tr><tr><td>null</td><td>{\"user_id\": \"8f2385f0-f59d-4ebc-ac67-d3d5427e9a95\", \"platform\": \"other\", \"event_id\": \"40a7b6f1-0b6c-415c-bf57-180ba1e7066b\", \"event_date\": 1701321364, \"action\": \"view\", \"uri\": \"https://databricks.com/tag/tags/wp-contentauthor.html\"}</td><td>dbdemos-sessions</td><td>7</td><td>16373437</td><td>2023-11-30T05:16:09.85Z</td><td>0</td></tr><tr><td>null</td><td>{\"user_id\": \"8c78e34e-0201-4757-a82a-fa0d9f70beda\", \"platform\": \"ios\", \"event_id\": \"8a548634-3ec6-4636-b53d-ba07cae176d3\", \"event_date\": 1701321373, \"action\": \"view\", \"uri\": \"https://databricks.com/listhome.html\"}</td><td>dbdemos-sessions</td><td>7</td><td>16373438</td><td>2023-11-30T05:16:10.867Z</td><td>0</td></tr><tr><td>null</td><td>{\"user_id\": \"50e32c77-ce88-45b4-9b25-7c747615596b\", \"platform\": \"ios\", \"event_id\": \"eabbb230-070e-41ee-9329-1a3eda355a4b\", \"event_date\": 1701321366, \"action\": \"view\", \"uri\": \"https://databricks.com/main/tagregister.php\"}</td><td>dbdemos-sessions</td><td>7</td><td>16373439</td><td>2023-11-30T05:16:10.867Z</td><td>0</td></tr><tr><td>null</td><td>{\"user_id\": \"fa31e0c0-f1fa-432f-b6ae-5bf2146cca06\", \"platform\": \"other\", \"event_id\": \"42fbb1cd-78de-4390-b568-5595cb5a8820\", \"event_date\": 1701321372, \"action\": \"click\", \"uri\": \"https://databricks.com/list/tagscategory.jsp\"}</td><td>dbdemos-sessions</td><td>7</td><td>16373440</td><td>2023-11-30T05:16:11.88Z</td><td>0</td></tr><tr><td>null</td><td>{\"user_id\": \"d7f839c5-24fb-4c78-a643-9dfea1fcabad\", \"platform\": \"other\", \"event_id\": \"79c85884-55c3-444e-a61b-81a70a150446\", \"event_date\": 1701321371, \"action\": \"log\", \"uri\": \"https://databricks.com/tagsfaq.jsp\"}</td><td>dbdemos-sessions</td><td>7</td><td>16373441</td><td>2023-11-30T05:16:11.882Z</td><td>0</td></tr><tr><td>null</td><td>{\"user_id\": \"49facf48-ff7c-4d4f-a4cc-42432b261b71\", \"platform\": \"ios\", \"event_id\": \"694cfe4d-3146-4529-ad1a-52b2a35d415b\", \"event_date\": 1701321368, \"action\": \"view\", \"uri\": \"https://databricks.com/tagindex.html\"}</td><td>dbdemos-sessions</td><td>7</td><td>16373442</td><td>2023-11-30T05:16:11.883Z</td><td>0</td></tr><tr><td>null</td><td>{\"user_id\": \"fa31e0c0-f1fa-432f-b6ae-5bf2146cca06\", \"platform\": \"ios\", \"event_id\": \"0042972e-ec34-40f8-9dfe-abfd7855948f\", \"event_date\": 1701321369, \"action\": \"view\", \"uri\": \"https://databricks.com/search/appauthor.asp\"}</td><td>dbdemos-sessions</td><td>7</td><td>16373443</td><td>2023-11-30T05:16:12.892Z</td><td>0</td></tr><tr><td>null</td><td>{\"user_id\": \"65c8a970-e4e2-4fc7-9706-825f852acd65\", \"platform\": \"ios\", \"event_id\": \"6d766c75-156e-41cc-a4af-598822b66621\", \"event_date\": 1701321374, \"action\": \"click\", \"uri\": \"https://databricks.com/blog/listsearch.htm\"}</td><td>dbdemos-sessions</td><td>7</td><td>16373444</td><td>2023-11-30T05:16:12.893Z</td><td>0</td></tr><tr><td>null</td><td>{\"user_id\": \"5c32df45-eda2-494d-abe8-f00782dd60c5\", \"platform\": \"ios\", \"event_id\": \"5d8cef9f-ffa7-4705-85d1-64d1c0ed0be5\", \"event_date\": 1701321373, \"action\": \"click\", \"uri\": \"https://databricks.com/posts/app/wp-contenthomepage.asp\"}</td><td>dbdemos-sessions</td><td>7</td><td>16373445</td><td>2023-11-30T05:16:12.894Z</td><td>0</td></tr><tr><td>null</td><td>{\"user_id\": \"c74ac38e-0a9b-4785-9a27-09d1d694e40c\", \"platform\": \"ios\", \"event_id\": \"3f14c2d2-b639-4e9e-bd49-3b5ec84f0c19\", \"event_date\": 1701321376, \"action\": \"log\", \"uri\": \"https://databricks.com/category/categories/categoriesabout.php\"}</td><td>dbdemos-sessions</td><td>7</td><td>16373446</td><td>2023-11-30T05:16:13.902Z</td><td>0</td></tr><tr><td>null</td><td>{\"user_id\": \"604ae75c-5537-43da-bd92-5a235a891266\", \"platform\": \"ios\", \"event_id\": \"883d140c-908b-4990-be1b-687954e95037\", \"event_date\": 1701321374, \"action\": \"view\", \"uri\": \"https://databricks.com/main/tag/searchprivacy.asp\"}</td><td>dbdemos-sessions</td><td>7</td><td>16373447</td><td>2023-11-30T05:16:13.903Z</td><td>0</td></tr><tr><td>null</td><td>{\"user_id\": \"c5d9d13b-3de4-4750-a7ff-c642e55c606e\", \"platform\": \"ios\", \"event_id\": \"8ac156d4-c250-472a-8d12-7732da18b016\", \"event_date\": 1701321375, \"action\": null, \"uri\": \"https://databricks.com/categories/listhomepage.htm\"}</td><td>dbdemos-sessions</td><td>7</td><td>16373448</td><td>2023-11-30T05:16:13.905Z</td><td>0</td></tr><tr><td>null</td><td>{\"user_id\": \"a1410f93-0184-4aca-9c43-c686a605a5f6\", \"platform\": \"other\", \"event_id\": \"21f5a87d-cac3-4b11-b3f1-b7affc756950\", \"event_date\": 1701321371, \"action\": \"view\", \"uri\": \"https://databricks.com/tagmain.html\"}</td><td>dbdemos-sessions</td><td>7</td><td>16373449</td><td>2023-11-30T05:16:14.916Z</td><td>0</td></tr><tr><td>null</td><td>{\"user_id\": \"a1410f93-0184-4aca-9c43-c686a605a5f6\", \"platform\": \"ios\", \"event_id\": \"94d3c94d-cc10-4d3e-94c5-a4f86fb219ce\", \"event_date\": 1701321379, \"action\": \"view\", \"uri\": \"https://databricks.com/tags/blog/listregister.asp\"}</td><td>dbdemos-sessions</td><td>7</td><td>16373450</td><td>2023-11-30T05:16:15.926Z</td><td>0</td></tr><tr><td>null</td><td>{\"user_id\": \"66fe7dd1-8f19-470c-b4b8-be75c4793e76\", \"platform\": \"ios\", \"event_id\": \"bf9da94f-e568-42ab-9d98-8305de210266\", \"event_date\": 1701321375, \"action\": \"log\", \"uri\": \"https://databricks.com/exploreregister.asp\"}</td><td>dbdemos-sessions</td><td>7</td><td>16373451</td><td>2023-11-30T05:16:15.929Z</td><td>0</td></tr><tr><td>null</td><td>{\"user_id\": \"d6b698c1-d982-4afd-913f-a4ba28177397\", \"platform\": \"ios\", \"event_id\": \"16707967-f3a6-4226-bd9e-05852b040527\", \"event_date\": 1701321376, \"action\": \"view\", \"uri\": \"https://databricks.com/mainabout.jsp\"}</td><td>dbdemos-sessions</td><td>7</td><td>16373452</td><td>2023-11-30T05:16:15.931Z</td><td>0</td></tr><tr><td>null</td><td>{\"user_id\": \"a9d649d1-694d-4652-b94a-5389edb038ec\", \"platform\": \"other\", \"event_id\": \"22686408-dc57-436d-9334-8d28604d93f9\", \"event_date\": 1701321375, \"action\": \"click\", \"uri\": \"https://databricks.com/tagsabout.htm\"}</td><td>dbdemos-sessions</td><td>7</td><td>16373453</td><td>2023-11-30T05:16:15.936Z</td><td>0</td></tr><tr><td>null</td><td>{\"user_id\": \"468292d1-34a8-4b3e-94e1-f9442dac5d5e\", \"platform\": \"other\", \"event_id\": \"b24ef974-b2e8-4816-b32c-d4ba3e20c794\", \"event_date\": 1701321371, \"action\": \"click\", \"uri\": \"https://databricks.com/appmain.jsp\"}</td><td>dbdemos-sessions</td><td>7</td><td>16373454</td><td>2023-11-30T05:16:15.937Z</td><td>0</td></tr><tr><td>null</td><td>{\"user_id\": \"f5bb0598-15cc-4ded-8192-0bd8262a8941\", \"platform\": \"android\", \"event_id\": \"fcc9ce6e-41db-4fc1-9b9d-cecd48f463c1\", \"event_date\": 1701321376, \"action\": \"click\", \"uri\": \"https://databricks.com/tags/main/listterms.php\"}</td><td>dbdemos-sessions</td><td>7</td><td>16373455</td><td>2023-11-30T05:16:16.944Z</td><td>0</td></tr><tr><td>null</td><td>{\"user_id\": \"d6b698c1-d982-4afd-913f-a4ba28177397\", \"platform\": \"other\", \"event_id\": \"59bbf25c-de70-44d8-8eac-625c687f4688\", \"event_date\": 1701321376, \"action\": \"view\", \"uri\": \"https://databricks.com/list/tag/categoryabout.asp\"}</td><td>dbdemos-sessions</td><td>7</td><td>16373456</td><td>2023-11-30T05:16:16.946Z</td><td>0</td></tr><tr><td>null</td><td>{\"user_id\": \"b5f792ab-766c-4aa2-86d8-02a7e7abcfc0\", \"platform\": \"ios\", \"event_id\": \"9a59e3bd-c58f-4640-a5a2-39b9c5d1bbf3\", \"event_date\": 1701321379, \"action\": \"log\", \"uri\": \"https://databricks.com/searchregister.php\"}</td><td>dbdemos-sessions</td><td>7</td><td>16373457</td><td>2023-11-30T05:16:17.961Z</td><td>0</td></tr><tr><td>null</td><td>{\"user_id\": \"45a7825b-826f-402b-a6c1-ffaf0c44da1d\", \"platform\": \"ios\", \"event_id\": \"e6ced870-468b-4c2f-a0d7-d61009cab06c\", \"event_date\": 1701321378, \"action\": \"view\", \"uri\": \"https://databricks.com/mainfaq.html\"}</td><td>dbdemos-sessions</td><td>7</td><td>16373458</td><td>2023-11-30T05:16:17.964Z</td><td>0</td></tr><tr><td>null</td><td>{\"user_id\": \"842f92f7-e2dd-47b4-8b39-f48d18a84070\", \"platform\": \"ios\", \"event_id\": \"ad34110e-1eeb-420a-aba4-1091ebba6fa8\", \"event_date\": 1701321372, \"action\": \"view\", \"uri\": \"https://databricks.com/list/tags/wp-contentregister.html\"}</td><td>dbdemos-sessions</td><td>7</td><td>16373459</td><td>2023-11-30T05:16:17.965Z</td><td>0</td></tr><tr><td>null</td><td>{\"user_id\": \"edd15681-e004-4f73-ba67-d7a024a46e06\", \"platform\": \"ios\", \"event_id\": \"622173f0-095e-42b2-a843-7601e506d78d\", \"event_date\": 1701321374, \"action\": \"view\", \"uri\": \"https://databricks.com/tagprivacy.jsp\"}</td><td>dbdemos-sessions</td><td>7</td><td>16373460</td><td>2023-11-30T05:16:17.966Z</td><td>0</td></tr><tr><td>null</td><td>{\"user_id\": \"02467029-f802-4ee5-ab0f-6f80a46c4320\", \"platform\": \"ios\", \"event_id\": \"3f303d8a-af0a-4613-8121-65aa2ebdbeb4\", \"event_date\": 1701321381, \"action\": \"view\", \"uri\": \"https://databricks.com/list/blogsearch.htm\"}</td><td>dbdemos-sessions</td><td>7</td><td>16373461</td><td>2023-11-30T05:16:18.973Z</td><td>0</td></tr><tr><td>null</td><td>{\"user_id\": \"f044d5b8-0357-44e1-b9cf-40ba0512eeb0\", \"platform\": \"android\", \"event_id\": \"2514d2ee-356c-4e2c-8dc4-aeed99d91b29\", \"event_date\": 1701321358, \"action\": \"view\", \"uri\": \"https://databricks.com/wp-content/taghome.htm\"}</td><td>dbdemos-sessions</td><td>4</td><td>16376413</td><td>2023-11-30T05:16:03.725Z</td><td>0</td></tr><tr><td>null</td><td>{\"user_id\": \"02467029-f802-4ee5-ab0f-6f80a46c4320\", \"platform\": \"android\", \"event_id\": \"4aa25c39-64df-4d99-8ef8-2011839f347a\", \"event_date\": 1701321367, \"action\": \"view\", \"uri\": \"https://databricks.com/blog/tags/mainfaq.php\"}</td><td>dbdemos-sessions</td><td>4</td><td>16376414</td><td>2023-11-30T05:16:03.727Z</td><td>0</td></tr><tr><td>null</td><td>{\"user_id\": \"174669fd-183b-461e-9633-ceacc9d3e277\", \"platform\": \"other\", \"event_id\": \"2f4998bd-8afd-4dde-a117-d48575f1b9a2\", \"event_date\": 1701321361, \"action\": \"view\", \"uri\": \"https://databricks.com/tag/tag/tagsfaq.html\"}</td><td>dbdemos-sessions</td><td>4</td><td>16376415</td><td>2023-11-30T05:16:03.729Z</td><td>0</td></tr><tr><td>null</td><td>{\"user_id\": \"c6520f02-c12e-4be1-bb5d-e86400691485\", \"platform\": \"ios\", \"event_id\": \"697a684b-d0f5-4aaa-97c8-2c9e5816b40f\", \"event_date\": 1701321362, \"action\": \"view\", \"uri\": \"https://databricks.com/postsindex.html\"}</td><td>dbdemos-sessions</td><td>4</td><td>16376416</td><td>2023-11-30T05:16:04.738Z</td><td>0</td></tr><tr><td>null</td><td>{\"user_id\": \"5d81aa0b-2986-4b18-abbd-b085380a1bb6\", \"platform\": \"other\", \"event_id\": \"6878804e-b80b-43de-bda9-5d4c22b720c3\", \"event_date\": 1701321365, \"action\": \"view\", \"uri\": \"https://databricks.com/app/wp-contentpost.jsp\"}</td><td>dbdemos-sessions</td><td>4</td><td>16376417</td><td>2023-11-30T05:16:04.74Z</td><td>0</td></tr><tr><td>null</td><td>{\"user_id\": \"6937cb27-2941-49c8-9431-ef4836329ae6\", \"platform\": \"other\", \"event_id\": \"c8065ec5-ae9a-4efd-bc19-b8c0ddbfc215\", \"event_date\": 1701321365, \"action\": \"view\", \"uri\": \"https://databricks.com/wp-content/searchregister.asp\"}</td><td>dbdemos-sessions</td><td>4</td><td>16376418</td><td>2023-11-30T05:16:04.753Z</td><td>0</td></tr><tr><td>null</td><td>{\"user_id\": \"7cd07a2d-d835-470d-a0c8-b3400c915ac7\", \"platform\": \"android\", \"event_id\": \"91bd7308-1b02-4754-90dc-52f2fdb826b9\", \"event_date\": 1701321369, \"action\": \"view\", \"uri\": \"https://databricks.com/wp-contentregister.html\"}</td><td>dbdemos-sessions</td><td>4</td><td>16376419</td><td>2023-11-30T05:16:05.782Z</td><td>0</td></tr><tr><td>null</td><td>{\"user_id\": \"a1410f93-0184-4aca-9c43-c686a605a5f6\", \"platform\": \"other\", \"event_id\": \"a2f7c0a2-62d0-4a18-be4e-8a2e55f7b91a\", \"event_date\": 1701321365, \"action\": \"view\", \"uri\": \"https://databricks.com/main/listhomepage.php\"}</td><td>dbdemos-sessions</td><td>4</td><td>16376420</td><td>2023-11-30T05:16:05.785Z</td><td>0</td></tr><tr><td>null</td><td>{\"user_id\": \"61a38add-9c06-48fa-ab29-c4b6fd9f5a53\", \"platform\": \"ios\", \"event_id\": \"96043baf-d81b-4bc2-945d-c1d7368b2609\", \"event_date\": 1701321367, \"action\": \"log\", \"uri\": \"https://databricks.com/categoryabout.php\"}</td><td>dbdemos-sessions</td><td>4</td><td>16376421</td><td>2023-11-30T05:16:05.787Z</td><td>0</td></tr><tr><td>null</td><td>{\"user_id\": \"ff3f9bdd-d0a3-4d28-b151-454d5e88546b\", \"platform\": \"other\", \"event_id\": \"e919fdb5-2742-406b-8491-dd97190e1b84\", \"event_date\": 1701321367, \"action\": \"view\", \"uri\": \"https://databricks.com/tags/explorelogin.htm\"}</td><td>dbdemos-sessions</td><td>4</td><td>16376422</td><td>2023-11-30T05:16:06.809Z</td><td>0</td></tr><tr><td>null</td><td>{\"user_id\": \"66fe7dd1-8f19-470c-b4b8-be75c4793e76\", \"platform\": \"other\", \"event_id\": \"2d713307-ce86-41b3-950a-bfa00e4f924d\", \"event_date\": 1701321368, \"action\": \"view\", \"uri\": \"https://databricks.com/tag/categoryhome.asp\"}</td><td>dbdemos-sessions</td><td>4</td><td>16376423</td><td>2023-11-30T05:16:07.829Z</td><td>0</td></tr><tr><td>null</td><td>{\"user_id\": \"6e102f64-abf8-441b-942d-19df3cde3714\", \"platform\": null, \"event_id\": \"ea038f88-b73c-4273-ab5f-2ccaf1d74f0b\", \"event_date\": 1701321369, \"action\": \"view\", \"uri\": \"https://databricks.com/blog/posts/blogmain.html\"}</td><td>dbdemos-sessions</td><td>4</td><td>16376424</td><td>2023-11-30T05:16:08.839Z</td><td>0</td></tr><tr><td>null</td><td>{\"user_id\": \"d5c1965f-4903-4b86-895d-f9cce7d9c963\", \"platform\": \"other\", \"event_id\": \"b0591d2f-f9a5-4908-a388-0f26d53c90ee\", \"event_date\": 1701321372, \"action\": \"view\", \"uri\": \"https://databricks.com/posts/categoriesregister.html\"}</td><td>dbdemos-sessions</td><td>4</td><td>16376425</td><td>2023-11-30T05:16:08.84Z</td><td>0</td></tr><tr><td>null</td><td>{\"user_id\": \"95d37dd5-cd3b-465c-8395-64f60fcf46b3\", \"platform\": \"ios\", \"event_id\": \"ae188e1e-f052-4196-8f9a-a793b9c9759b\", \"event_date\": 1701321368, \"action\": \"view\", \"uri\": \"https://databricks.com/searchsearch.htm\"}</td><td>dbdemos-sessions</td><td>4</td><td>16376426</td><td>2023-11-30T05:16:08.846Z</td><td>0</td></tr><tr><td>null</td><td>{\"user_id\": \"8e47e6d7-ef56-45ef-9779-3eb3fbb427f4\", \"platform\": \"other\", \"event_id\": \"c5727102-c955-46fb-bdff-3036eed66758\", \"event_date\": 1701321364, \"action\": \"view\", \"uri\": \"https://databricks.com/list/explore/categorylogin.htm\"}</td><td>dbdemos-sessions</td><td>4</td><td>16376427</td><td>2023-11-30T05:16:09.849Z</td><td>0</td></tr><tr><td>null</td><td>{\"user_id\": \"604ae75c-5537-43da-bd92-5a235a891266\", \"platform\": \"ios\", \"event_id\": \"2a6f40c9-c009-4527-bc13-72ca8f2bb8ae\", \"event_date\": 1701321364, \"action\": \"log\", \"uri\": \"https://databricks.com/wp-contentterms.php\"}</td><td>dbdemos-sessions</td><td>4</td><td>16376428</td><td>2023-11-30T05:16:09.854Z</td><td>0</td></tr><tr><td>null</td><td>{\"user_id\": \"8a937358-261b-4364-9009-a726351f44fe\", \"platform\": \"ios\", \"event_id\": \"cd68ca31-dbf8-4205-85aa-2e35536dc15a\", \"event_date\": 1701321373, \"action\": \"view\", \"uri\": \"https://databricks.com/postscategory.asp\"}</td><td>dbdemos-sessions</td><td>4</td><td>16376429</td><td>2023-11-30T05:16:09.858Z</td><td>0</td></tr><tr><td>null</td><td>{\"user_id\": \"d73a3593-150d-4d93-b32e-fa94fa4ed628\", \"platform\": \"ios\", \"event_id\": \"d9b3d5f5-34c9-4386-b0f5-1a418ecb0cf9\", \"event_date\": 1701321371, \"action\": \"view\", \"uri\": \"https://databricks.com/explore/blog/mainmain.asp\"}</td><td>dbdemos-sessions</td><td>4</td><td>16376430</td><td>2023-11-30T05:16:09.86Z</td><td>0</td></tr><tr><td>null</td><td>{\"user_id\": \"2a284ec7-9875-4c46-a431-bc41aef3bb00\", \"platform\": \"ios\", \"event_id\": \"183a7247-3d9b-4d4d-8352-24703624341c\", \"event_date\": 1701321365, \"action\": \"view\", \"uri\": \"https://databricks.com/list/listprivacy.htm\"}</td><td>dbdemos-sessions</td><td>4</td><td>16376431</td><td>2023-11-30T05:16:10.869Z</td><td>0</td></tr><tr><td>null</td><td>{\"user_id\": \"82096dbb-07cd-45da-b6cc-57bc4ea01540\", \"platform\": \"ios\", \"event_id\": \"06c0e40c-93b6-414d-8b8c-52240d6c354d\", \"event_date\": 1701321374, \"action\": \"view\", \"uri\": \"https://databricks.com/listpost.asp\"}</td><td>dbdemos-sessions</td><td>4</td><td>16376432</td><td>2023-11-30T05:16:11.876Z</td><td>0</td></tr><tr><td>null</td><td>{\"user_id\": \"4861923d-8618-4684-9212-0e380364e29e\", \"platform\": \"other\", \"event_id\": \"f8c42402-d686-401e-ad68-129364260695\", \"event_date\": 1701321369, \"action\": \"view\", \"uri\": \"https://databricks.com/posts/listterms.php\"}</td><td>dbdemos-sessions</td><td>4</td><td>16376433</td><td>2023-11-30T05:16:12.891Z</td><td>0</td></tr><tr><td>null</td><td>{\"user_id\": \"d4d38a3c-3c64-4f97-a97d-31a8380293ae\", \"platform\": \"ios\", \"event_id\": \"c66c76e5-c895-4185-9f6c-240fa094d43f\", \"event_date\": 1701321376, \"action\": \"view\", \"uri\": \"https://databricks.com/blog/exploreprivacy.htm\"}</td><td>dbdemos-sessions</td><td>4</td><td>16376434</td><td>2023-11-30T05:16:12.896Z</td><td>0</td></tr><tr><td>null</td><td>{\"user_id\": \"554db164-c09e-40fd-ab95-e90a9a739753\", \"platform\": \"ios\", \"event_id\": \"75e173c2-a5d0-42ea-8fee-1f0d264d6814\", \"event_date\": 1701321374, \"action\": \"view\", \"uri\": \"https://databricks.com/tag/blog/postsmain.htm\"}</td><td>dbdemos-sessions</td><td>4</td><td>16376435</td><td>2023-11-30T05:16:13.906Z</td><td>0</td></tr><tr><td>null</td><td>{\"user_id\": \"5f65957e-6cad-4b66-9409-8b1d877f227f\", \"platform\": \"ios\", \"event_id\": \"73ee448f-8b27-4061-9c4b-52f51214d2a9\", \"event_date\": 1701321374, \"action\": \"view\", \"uri\": \"https://databricks.com/explore/category/wp-contentsearch.php\"}</td><td>dbdemos-sessions</td><td>4</td><td>16376436</td><td>2023-11-30T05:16:13.906Z</td><td>0</td></tr><tr><td>null</td><td>{\"user_id\": \"4fd4b3e9-61c6-4786-bc04-d90a9eb2458c\", \"platform\": \"other\", \"event_id\": \"8d795ec2-49e4-4b35-b7b8-c675aebb900a\", \"event_date\": 1701321368, \"action\": \"view\", \"uri\": \"https://databricks.com/tags/category/blogauthor.html\"}</td><td>dbdemos-sessions</td><td>4</td><td>16376437</td><td>2023-11-30T05:16:13.91Z</td><td>0</td></tr><tr><td>null</td><td>{\"user_id\": \"83371c85-106e-4e79-9b16-f62a8904aee7\", \"platform\": \"ios\", \"event_id\": \"d1b8cf60-f900-40bd-a8b3-85c00cb840ae\", \"event_date\": 1701321378, \"action\": \"click\", \"uri\": \"https://databricks.com/tags/categoryterms.html\"}</td><td>dbdemos-sessions</td><td>4</td><td>16376438</td><td>2023-11-30T05:16:14.92Z</td><td>0</td></tr><tr><td>null</td><td>{\"user_id\": \"ff3f9bdd-d0a3-4d28-b151-454d5e88546b\", \"platform\": \"other\", \"event_id\": \"41f9b0c6-bb8f-402f-8149-1546d013f5df\", \"event_date\": 1701321370, \"action\": \"view\", \"uri\": \"https://databricks.com/appterms.htm\"}</td><td>dbdemos-sessions</td><td>4</td><td>16376439</td><td>2023-11-30T05:16:15.927Z</td><td>0</td></tr><tr><td>null</td><td>{\"user_id\": \"c5d9d13b-3de4-4750-a7ff-c642e55c606e\", \"platform\": \"other\", \"event_id\": \"cd3832d0-6b0d-458e-a521-9094ff074988\", \"event_date\": 1701321376, \"action\": \"view\", \"uri\": \"https://databricks.com/categoriessearch.php\"}</td><td>dbdemos-sessions</td><td>4</td><td>16376440</td><td>2023-11-30T05:16:15.934Z</td><td>0</td></tr><tr><td>null</td><td>{\"user_id\": \"b5f792ab-766c-4aa2-86d8-02a7e7abcfc0\", \"platform\": \"other\", \"event_id\": \"35cd9c1c-0f88-4f45-9e5d-91fe3e9dbd47\", \"event_date\": 1701321374, \"action\": \"view\", \"uri\": \"https://databricks.com/search/wp-contentmain.htm\"}</td><td>dbdemos-sessions</td><td>4</td><td>16376441</td><td>2023-11-30T05:16:15.934Z</td><td>0</td></tr><tr><td>null</td><td>{\"user_id\": \"3605ab4e-d224-4328-8ab1-621800f13d58\", \"platform\": \"other\", \"event_id\": \"f576e2cc-ad17-436e-9312-aea023016b36\", \"event_date\": 1701321376, \"action\": \"click\", \"uri\": \"https://databricks.com/app/searchhome.php\"}</td><td>dbdemos-sessions</td><td>4</td><td>16376442</td><td>2023-11-30T05:16:15.937Z</td><td>0</td></tr><tr><td>null</td><td>{\"user_id\": \"c74ac38e-0a9b-4785-9a27-09d1d694e40c\", \"platform\": \"ios\", \"event_id\": \"27f2e772-effd-4372-b3d1-4dfb8c852a72\", \"event_date\": 1701321372, \"action\": \"click\", \"uri\": \"https://databricks.com/wp-content/main/exploresearch.htm\"}</td><td>dbdemos-sessions</td><td>4</td><td>16376443</td><td>2023-11-30T05:16:16.944Z</td><td>0</td></tr><tr><td>null</td><td>{\"user_id\": \"c1923944-ddfe-4ee3-a9da-be94482fa973\", \"platform\": \"ios\", \"event_id\": \"268cccba-398e-4392-8b7e-fafcd30ce051\", \"event_date\": 1701321373, \"action\": \"view\", \"uri\": \"https://databricks.com/tagprivacy.asp\"}</td><td>dbdemos-sessions</td><td>4</td><td>16376444</td><td>2023-11-30T05:16:16.945Z</td><td>0</td></tr><tr><td>null</td><td>{\"user_id\": \"301ed5d3-8d3d-4e1e-96da-0043610a5c98\", \"platform\": \"ios\", \"event_id\": \"798eff9e-8721-48f1-ad51-a30f40aabd46\", \"event_date\": 1701321372, \"action\": \"view\", \"uri\": \"https://databricks.com/main/appauthor.php\"}</td><td>dbdemos-sessions</td><td>4</td><td>16376445</td><td>2023-11-30T05:16:16.945Z</td><td>0</td></tr><tr><td>null</td><td>{\"user_id\": \"d1c224cb-6273-49ed-b7d4-557da425f733\", \"platform\": \"ios\", \"event_id\": \"a3baaa4c-e63c-4c4d-908a-df61306d1e90\", \"event_date\": 1701321372, \"action\": \"log\", \"uri\": \"https://databricks.com/mainsearch.htm\"}</td><td>dbdemos-sessions</td><td>4</td><td>16376446</td><td>2023-11-30T05:16:16.951Z</td><td>0</td></tr><tr><td>null</td><td>{\"user_id\": \"6aec17d6-db8f-48ff-b00d-b1c5dcd16b71\", \"platform\": \"ios\", \"event_id\": \"6491f66f-fc5e-4794-aa81-d3730456c63c\", \"event_date\": 1701321376, \"action\": \"click\", \"uri\": \"https://databricks.com/searchterms.htm\"}</td><td>dbdemos-sessions</td><td>4</td><td>16376447</td><td>2023-11-30T05:16:16.952Z</td><td>0</td></tr><tr><td>null</td><td>{\"user_id\": \"2a284ec7-9875-4c46-a431-bc41aef3bb00\", \"platform\": \"ios\", \"event_id\": \"bec6862c-6d24-4edd-ae42-f013f1f12d77\", \"event_date\": 1701321374, \"action\": \"view\", \"uri\": \"https://databricks.com/category/blog/categoryterms.html\"}</td><td>dbdemos-sessions</td><td>4</td><td>16376448</td><td>2023-11-30T05:16:17.958Z</td><td>0</td></tr><tr><td>null</td><td>{\"user_id\": \"455ca8a1-18bd-409f-b257-5a298fb5a5a9\", \"platform\": \"ios\", \"event_id\": \"d83c6b47-bf25-4d62-9577-cba5da5dec8e\", \"event_date\": 1701321376, \"action\": \"click\", \"uri\": \"https://databricks.com/list/list/blogfaq.htm\"}</td><td>dbdemos-sessions</td><td>4</td><td>16376449</td><td>2023-11-30T05:16:17.964Z</td><td>0</td></tr><tr><td>null</td><td>{\"user_id\": \"d7f839c5-24fb-4c78-a643-9dfea1fcabad\", \"platform\": \"ios\", \"event_id\": \"21c383cf-d4c4-4706-9f24-d79c07c09e14\", \"event_date\": 1701321380, \"action\": \"click\", \"uri\": \"https://databricks.com/category/posts/wp-contenthomepage.asp\"}</td><td>dbdemos-sessions</td><td>4</td><td>16376450</td><td>2023-11-30T05:16:17.964Z</td><td>0</td></tr><tr><td>null</td><td>{\"user_id\": \"e28b5e01-ff82-4179-ac64-5507cfedf9b6\", \"platform\": \"ios\", \"event_id\": \"3b411bc7-dd3b-4cc7-989d-1263b27c5a91\", \"event_date\": 1701321375, \"action\": \"click\", \"uri\": \"https://databricks.com/categoriesprivacy.html\"}</td><td>dbdemos-sessions</td><td>4</td><td>16376451</td><td>2023-11-30T05:16:17.965Z</td><td>0</td></tr><tr><td>null</td><td>{\"user_id\": \"f5bb0598-15cc-4ded-8192-0bd8262a8941\", \"platform\": \"android\", \"event_id\": \"cb0c51e8-ff09-4ee3-9b67-b6fc8d555414\", \"event_date\": 1701321380, \"action\": \"click\", \"uri\": \"https://databricks.com/posts/postsauthor.php\"}</td><td>dbdemos-sessions</td><td>4</td><td>16376452</td><td>2023-11-30T05:16:19.987Z</td><td>0</td></tr><tr><td>null</td><td>{\"user_id\": \"5f65957e-6cad-4b66-9409-8b1d877f227f\", \"platform\": \"android\", \"event_id\": \"a82e0be2-4fff-4f2b-99f1-91aee41cab07\", \"event_date\": 1701321382, \"action\": \"view\", \"uri\": \"https://databricks.com/category/search/postsprivacy.htm\"}</td><td>dbdemos-sessions</td><td>4</td><td>16376453</td><td>2023-11-30T05:16:19.991Z</td><td>0</td></tr><tr><td>null</td><td>{\"user_id\": \"1aa3a739-ede2-426f-873d-9f6a4ebcc7f5\", \"platform\": \"ios\", \"event_id\": \"72392fe8-59da-4e35-a6c8-a2a617583d96\", \"event_date\": 1701321382, \"action\": \"click\", \"uri\": \"https://databricks.com/tagsprivacy.php\"}</td><td>dbdemos-sessions</td><td>4</td><td>16376454</td><td>2023-11-30T05:16:19.992Z</td><td>0</td></tr><tr><td>null</td><td>{\"user_id\": \"1983f70f-77a9-4412-a898-1c7e3312d2af\", \"platform\": \"ios\", \"event_id\": \"d01f1d9d-6e8b-49a0-a042-cd4031b187be\", \"event_date\": 1701321343, \"action\": \"click\", \"uri\": \"https://databricks.com/poststerms.php\"}</td><td>dbdemos-sessions</td><td>4</td><td>16376387</td><td>2023-11-30T05:15:40.403Z</td><td>0</td></tr><tr><td>null</td><td>{\"user_id\": \"6bf1f604-3544-45c9-93a5-180b78652be1\", \"platform\": \"other\", \"event_id\": \"d3e0199f-52ab-4cee-8aee-bfdeef96970c\", \"event_date\": 1701321342, \"action\": \"click\", \"uri\": \"https://databricks.com/tag/category/postspost.htm\"}</td><td>dbdemos-sessions</td><td>4</td><td>16376388</td><td>2023-11-30T05:15:42.416Z</td><td>0</td></tr><tr><td>null</td><td>{\"user_id\": \"c74ac38e-0a9b-4785-9a27-09d1d694e40c\", \"platform\": \"ios\", \"event_id\": \"d8b244bc-debe-401f-8de3-f7ec5b8830dc\", \"event_date\": 1701321338, \"action\": \"view\", \"uri\": \"https://databricks.com/main/blogcategory.html\"}</td><td>dbdemos-sessions</td><td>4</td><td>16376389</td><td>2023-11-30T05:15:42.419Z</td><td>0</td></tr><tr><td>null</td><td>{\"user_id\": \"d6b698c1-d982-4afd-913f-a4ba28177397\", \"platform\": \"ios\", \"event_id\": \"d40a7861-5e52-40e1-81ff-3ac9233ebdcf\", \"event_date\": 1701321343, \"action\": \"view\", \"uri\": \"https://databricks.com/search/wp-contenthomepage.htm\"}</td><td>dbdemos-sessions</td><td>4</td><td>16376390</td><td>2023-11-30T05:15:43.432Z</td><td>0</td></tr><tr><td>null</td><td>{\"user_id\": \"18713496-a98e-49a4-ab88-9f029f18b4c5\", \"platform\": \"ios\", \"event_id\": \"30688731-fc2f-4d8e-a36a-dad68ccc3785\", \"event_date\": 1701321342, \"action\": \"click\", \"uri\": \"https://databricks.com/tags/main/tagsauthor.asp\"}</td><td>dbdemos-sessions</td><td>4</td><td>16376391</td><td>2023-11-30T05:15:44.441Z</td><td>0</td></tr><tr><td>null</td><td>{\"user_id\": \"d67456b2-03ee-4375-8fea-94aa6a87c4d8\", \"platform\": \"ios\", \"event_id\": \"fb4db472-6587-4846-9b28-268cea50375a\", \"event_date\": 1701321344, \"action\": \"click\", \"uri\": \"https://databricks.com/posts/appmain.html\"}</td><td>dbdemos-sessions</td><td>4</td><td>16376392</td><td>2023-11-30T05:15:46.466Z</td><td>0</td></tr><tr><td>null</td><td>{\"user_id\": \"3156d251-7429-4b23-9101-59f0209cddf8\", \"platform\": \"ios\", \"event_id\": \"42de116a-4707-4557-86ed-44634e34d5cd\", \"event_date\": 1701321346, \"action\": \"log\", \"uri\": \"https://databricks.com/maincategory.php\"}</td><td>dbdemos-sessions</td><td>4</td><td>16376393</td><td>2023-11-30T05:15:46.466Z</td><td>0</td></tr><tr><td>null</td><td>{\"user_id\": \"c6520f02-c12e-4be1-bb5d-e86400691485\", \"platform\": \"android\", \"event_id\": \"6a4ed07c-8b43-4686-8836-7cb914e0a41b\", \"event_date\": 1701321343, \"action\": \"click\", \"uri\": \"https://databricks.com/tag/categoriescategory.asp\"}</td><td>dbdemos-sessions</td><td>4</td><td>16376394</td><td>2023-11-30T05:15:47.471Z</td><td>0</td></tr><tr><td>null</td><td>{\"user_id\": \"f5bb0598-15cc-4ded-8192-0bd8262a8941\", \"platform\": \"ios\", \"event_id\": \"5332a16a-a437-4d78-8f58-b5db771d7be9\", \"event_date\": 1701321347, \"action\": \"view\", \"uri\": \"https://databricks.com/list/categoryhome.htm\"}</td><td>dbdemos-sessions</td><td>4</td><td>16376395</td><td>2023-11-30T05:15:47.484Z</td><td>0</td></tr><tr><td>null</td><td>{\"user_id\": \"c6520f02-c12e-4be1-bb5d-e86400691485\", \"platform\": \"ios\", \"event_id\": \"eed0d679-32cd-492a-a3f6-4777a8cc628e\", \"event_date\": 1701321350, \"action\": \"view\", \"uri\": \"https://databricks.com/blog/tags/blogsearch.asp\"}</td><td>dbdemos-sessions</td><td>4</td><td>16376396</td><td>2023-11-30T05:15:48.489Z</td><td>0</td></tr><tr><td>null</td><td>{\"user_id\": \"c0cc8056-d05b-4d33-9c43-a575021a62a8\", \"platform\": \"android\", \"event_id\": \"61dee821-7569-4b55-98a0-57c91f0e4c30\", \"event_date\": 1701321348, \"action\": \"view\", \"uri\": \"https://databricks.com/exploreindex.jsp\"}</td><td>dbdemos-sessions</td><td>4</td><td>16376397</td><td>2023-11-30T05:15:48.489Z</td><td>0</td></tr><tr><td>null</td><td>{\"user_id\": \"426ccd91-2409-4b5d-83e9-d582f552985e\", \"platform\": \"ios\", \"event_id\": \"8155e9e9-caa6-4b07-b710-b4edf4f367ce\", \"event_date\": 1701321344, \"action\": \"view\", \"uri\": \"https://databricks.com/searchmain.htm\"}</td><td>dbdemos-sessions</td><td>4</td><td>16376398</td><td>2023-11-30T05:15:48.495Z</td><td>0</td></tr><tr><td>null</td><td>{\"user_id\": \"d278a0e6-7c83-43e8-a0b4-db949eca8412\", \"platform\": \"ios\", \"event_id\": \"66ee05f5-a103-4d77-aaeb-a7e4852e320f\", \"event_date\": 1701321349, \"action\": \"log\", \"uri\": \"https://databricks.com/appcategory.php\"}</td><td>dbdemos-sessions</td><td>4</td><td>16376399</td><td>2023-11-30T05:15:48.497Z</td><td>0</td></tr><tr><td>null</td><td>{\"user_id\": \"a1410f93-0184-4aca-9c43-c686a605a5f6\", \"platform\": \"android\", \"event_id\": \"5ab3a511-8511-4428-a6e4-8780823b38b0\", \"event_date\": 1701321351, \"action\": \"view\", \"uri\": \"https://databricks.com/blog/wp-contentauthor.htm\"}</td><td>dbdemos-sessions</td><td>4</td><td>16376400</td><td>2023-11-30T05:15:49.502Z</td><td>0</td></tr><tr><td>null</td><td>{\"user_id\": \"af86d48a-b571-4050-acbc-145b24579671\", \"platform\": \"ios\", \"event_id\": \"3705938e-06f2-4ce4-ab19-2c860e7643d8\", \"event_date\": 1701321352, \"action\": \"click\", \"uri\": \"https://databricks.com/category/tagssearch.asp\"}</td><td>dbdemos-sessions</td><td>4</td><td>16376401</td><td>2023-11-30T05:15:49.503Z</td><td>0</td></tr><tr><td>null</td><td>{\"user_id\": \"94ba5e9c-d1c8-4837-8c7f-e3e20d6a180e\", \"platform\": \"other\", \"event_id\": \"51c16bce-2a68-4306-8ab0-f695925b0a25\", \"event_date\": 1701321347, \"action\": \"log\", \"uri\": \"https://databricks.com/category/category/categoryhome.php\"}</td><td>dbdemos-sessions</td><td>4</td><td>16376402</td><td>2023-11-30T05:15:51.523Z</td><td>0</td></tr><tr><td>null</td><td>{\"user_id\": \"82096dbb-07cd-45da-b6cc-57bc4ea01540\", \"platform\": \"other\", \"event_id\": \"27ab9dc5-cf75-4623-9b28-35df056e5314\", \"event_date\": 1701321355, \"action\": \"view\", \"uri\": \"https://databricks.com/main/appauthor.php\"}</td><td>dbdemos-sessions</td><td>4</td><td>16376403</td><td>2023-11-30T05:15:54.558Z</td><td>0</td></tr><tr><td>null</td><td>{\"user_id\": \"e4e079a9-103e-464b-8b2f-b7d906066bad\", \"platform\": \"other\", \"event_id\": \"6c7e62c5-9bf5-43f1-8924-bc6d1c59c8f9\", \"event_date\": 1701321356, \"action\": \"view\", \"uri\": \"https://databricks.com/wp-content/categoryauthor.jsp\"}</td><td>dbdemos-sessions</td><td>4</td><td>16376404</td><td>2023-11-30T05:15:54.559Z</td><td>0</td></tr><tr><td>null</td><td>{\"user_id\": \"1e7b7295-6965-4c14-ab59-388167c9baeb\", \"platform\": \"other\", \"event_id\": \"684a1a3c-3832-469a-a092-484b4ad6935a\", \"event_date\": 1701321357, \"action\": \"view\", \"uri\": \"https://databricks.com/blogindex.asp\"}</td><td>dbdemos-sessions</td><td>4</td><td>16376405</td><td>2023-11-30T05:15:54.561Z</td><td>0</td></tr><tr><td>null</td><td>{\"user_id\": \"5b573c0b-32f7-4f2a-b49c-1e8989ddc2b1\", \"platform\": \"ios\", \"event_id\": \"94471c1a-ebbb-4dba-a6c6-3226d2257b94\", \"event_date\": 1701321351, \"action\": \"click\", \"uri\": \"https://databricks.com/search/app/mainindex.htm\"}</td><td>dbdemos-sessions</td><td>4</td><td>16376406</td><td>2023-11-30T05:15:54.567Z</td><td>0</td></tr><tr><td>null</td><td>{\"user_id\": \"c6520f02-c12e-4be1-bb5d-e86400691485\", \"platform\": \"android\", \"event_id\": \"f4b127e8-2fed-42bb-af3d-45888fcb937c\", \"event_date\": 1701321359, \"action\": \"click\", \"uri\": \"https://databricks.com/app/wp-contenthome.php\"}</td><td>dbdemos-sessions</td><td>4</td><td>16376407</td><td>2023-11-30T05:15:56.587Z</td><td>0</td></tr><tr><td>null</td><td>{\"user_id\": \"7354e19a-6b74-4581-9278-7d2a1fa506d2\", \"platform\": \"android\", \"event_id\": \"4ff1ffe9-ca36-4b31-a7ca-5995255c9c39\", \"event_date\": 1701321359, \"action\": \"view\", \"uri\": \"https://databricks.com/categories/list/tagshome.asp\"}</td><td>dbdemos-sessions</td><td>4</td><td>16376408</td><td>2023-11-30T05:15:56.592Z</td><td>0</td></tr><tr><td>null</td><td>{\"user_id\": \"2a284ec7-9875-4c46-a431-bc41aef3bb00\", \"platform\": \"other\", \"event_id\": \"ffb994ef-fc14-460c-be04-3fb8d6500048\", \"event_date\": 1701321353, \"action\": \"log\", \"uri\": \"https://databricks.com/list/wp-content/wp-contentindex.html\"}</td><td>dbdemos-sessions</td><td>4</td><td>16376409</td><td>2023-11-30T05:15:56.595Z</td><td>0</td></tr><tr><td>null</td><td>{\"user_id\": \"8f2385f0-f59d-4ebc-ac67-d3d5427e9a95\", \"platform\": \"ios\", \"event_id\": \"9e3803b3-0aec-41b2-b7d6-623be09de2c3\", \"event_date\": 1701321356, \"action\": \"view\", \"uri\": \"https://databricks.com/posts/appmain.htm\"}</td><td>dbdemos-sessions</td><td>4</td><td>16376410</td><td>2023-11-30T05:15:59.644Z</td><td>0</td></tr><tr><td>null</td><td>{\"user_id\": \"4f31815d-ad8f-4b3e-9ef3-d7b80e4bf770\", \"platform\": \"other\", \"event_id\": \"b59a58ef-049a-4d2e-9235-2f54d237b625\", \"event_date\": 1701321363, \"action\": \"log\", \"uri\": \"https://databricks.com/blog/listlogin.jsp\"}</td><td>dbdemos-sessions</td><td>4</td><td>16376411</td><td>2023-11-30T05:15:59.652Z</td><td>0</td></tr><tr><td>null</td><td>{\"user_id\": \"8f2385f0-f59d-4ebc-ac67-d3d5427e9a95\", \"platform\": \"ios\", \"event_id\": \"38d6ba74-ee41-4a26-8b04-4894b4baf9c6\", \"event_date\": 1701321358, \"action\": \"click\", \"uri\": \"https://databricks.com/app/wp-contentlogin.html\"}</td><td>dbdemos-sessions</td><td>4</td><td>16376412</td><td>2023-11-30T05:16:00.662Z</td><td>0</td></tr><tr><td>null</td><td>{\"user_id\": \"c6520f02-c12e-4be1-bb5d-e86400691485\", \"platform\": \"ios\", \"event_id\": \"37c5df92-92bc-46fb-b62d-b3a12aef0742\", \"event_date\": 1701321342, \"action\": \"click\", \"uri\": \"https://databricks.com/explore/postsindex.htm\"}</td><td>dbdemos-sessions</td><td>1</td><td>16369408</td><td>2023-11-30T05:15:41.407Z</td><td>0</td></tr><tr><td>null</td><td>{\"user_id\": \"66fe7dd1-8f19-470c-b4b8-be75c4793e76\", \"platform\": \"other\", \"event_id\": \"6bb89129-8079-4ea2-a5d5-6c180ef71b31\", \"event_date\": 1701321343, \"action\": \"click\", \"uri\": \"https://databricks.com/explore/searchregister.htm\"}</td><td>dbdemos-sessions</td><td>1</td><td>16369409</td><td>2023-11-30T05:15:41.41Z</td><td>0</td></tr><tr><td>null</td><td>{\"user_id\": \"8c78e34e-0201-4757-a82a-fa0d9f70beda\", \"platform\": \"ios\", \"event_id\": \"18ccbf85-8ee6-4b00-8c5c-4b6f9c0ea4f9\", \"event_date\": 1701321338, \"action\": \"log\", \"uri\": \"https://databricks.com/searchmain.jsp\"}</td><td>dbdemos-sessions</td><td>1</td><td>16369410</td><td>2023-11-30T05:15:41.411Z</td><td>0</td></tr><tr><td>null</td><td>{\"user_id\": \"1983f70f-77a9-4412-a898-1c7e3312d2af\", \"platform\": \"ios\", \"event_id\": \"4a930475-13b9-4896-a32f-bdf6c4358366\", \"event_date\": 1701321343, \"action\": \"view\", \"uri\": \"https://databricks.com/explore/exploreterms.htm\"}</td><td>dbdemos-sessions</td><td>1</td><td>16369411</td><td>2023-11-30T05:15:43.421Z</td><td>0</td></tr><tr><td>null</td><td>{\"user_id\": \"1e7b7295-6965-4c14-ab59-388167c9baeb\", \"platform\": \"other\", \"event_id\": \"51542c94-b5c3-4eae-890c-8c2da9b6100e\", \"event_date\": 1701321347, \"action\": \"view\", \"uri\": \"https://databricks.com/blog/tags/searchsearch.htm\"}</td><td>dbdemos-sessions</td><td>1</td><td>16369412</td><td>2023-11-30T05:15:43.423Z</td><td>0</td></tr><tr><td>null</td><td>{\"user_id\": \"89266034-ab6f-4298-a4f2-26ee888d009a\", \"platform\": \"other\", \"event_id\": \"b98bbb91-dc65-48a5-8d98-8f13450b9c20\", \"event_date\": 1701321339, \"action\": \"log\", \"uri\": \"https://databricks.com/category/main/categorymain.htm\"}</td><td>dbdemos-sessions</td><td>1</td><td>16369413</td><td>2023-11-30T05:15:43.426Z</td><td>0</td></tr><tr><td>null</td><td>{\"user_id\": \"d78e2c84-3acd-4c26-a603-415b76c598ea\", \"platform\": \"ios\", \"event_id\": \"e94c84e6-3b8f-409e-a202-19149c29f347\", \"event_date\": 1701321341, \"action\": \"view\", \"uri\": \"https://databricks.com/posts/posts/searchcategory.html\"}</td><td>dbdemos-sessions</td><td>1</td><td>16369414</td><td>2023-11-30T05:15:44.438Z</td><td>0</td></tr><tr><td>null</td><td>{\"user_id\": \"18713496-a98e-49a4-ab88-9f029f18b4c5\", \"platform\": \"ios\", \"event_id\": \"a6fc08ea-90ae-4fb1-a72a-96393e72c784\", \"event_date\": 1701321341, \"action\": \"click\", \"uri\": \"https://databricks.com/app/wp-content/categoryhomepage.html\"}</td><td>dbdemos-sessions</td><td>1</td><td>16369415</td><td>2023-11-30T05:15:46.466Z</td><td>0</td></tr><tr><td>null</td><td>{\"user_id\": \"0258e062-93d5-47ae-bf8f-5e946b856f1a\", \"platform\": \"ios\", \"event_id\": \"8aca22ac-f7ba-4058-8564-c54831d3c914\", \"event_date\": 1701321344, \"action\": \"view\", \"uri\": \"https://databricks.com/categoriesfaq.htm\"}</td><td>dbdemos-sessions</td><td>1</td><td>16369416</td><td>2023-11-30T05:15:46.468Z</td><td>0</td></tr><tr><td>null</td><td>{\"user_id\": \"4f9a4975-58ad-4063-be2c-d7fafb9f9072\", \"platform\": \"ios\", \"event_id\": \"29b360d5-ae85-430f-965b-b95fea0b4d32\", \"event_date\": 1701321347, \"action\": \"view\", \"uri\": \"https://databricks.com/blog/explore/searchsearch.php\"}</td><td>dbdemos-sessions</td><td>1</td><td>16369417</td><td>2023-11-30T05:15:49.501Z</td><td>0</td></tr><tr><td>null</td><td>{\"user_id\": \"c1923944-ddfe-4ee3-a9da-be94482fa973\", \"platform\": \"other\", \"event_id\": \"6999bf8e-4497-405a-99fd-d92b4390b983\", \"event_date\": 1701321351, \"action\": \"view\", \"uri\": \"https://databricks.com/mainhomepage.htm\"}</td><td>dbdemos-sessions</td><td>1</td><td>16369418</td><td>2023-11-30T05:15:49.504Z</td><td>0</td></tr><tr><td>null</td><td>{\"user_id\": \"cdf5504b-598d-4c9e-aa2c-01d320d7a397\", \"platform\": \"other\", \"event_id\": \"d2547da3-4d34-4012-bef0-474fedb52f61\", \"event_date\": 1701321351, \"action\": null, \"uri\": \"https://databricks.com/categories/category/appregister.php\"}</td><td>dbdemos-sessions</td><td>1</td><td>16369419</td><td>2023-11-30T05:15:51.528Z</td><td>0</td></tr><tr><td>null</td><td>{\"user_id\": \"954c2940-2415-4618-89e3-8f4147680ac1\", \"platform\": \"ios\", \"event_id\": \"2c1b68bc-6477-4071-a9ec-951fe43010eb\", \"event_date\": 1701321349, \"action\": \"click\", \"uri\": \"https://databricks.com/category/postsmain.htm\"}</td><td>dbdemos-sessions</td><td>1</td><td>16369420</td><td>2023-11-30T05:15:51.53Z</td><td>0</td></tr><tr><td>null</td><td>{\"user_id\": \"3156d251-7429-4b23-9101-59f0209cddf8\", \"platform\": \"ios\", \"event_id\": \"63e7652a-ce21-404c-af4f-521e1f70ac0e\", \"event_date\": 1701321348, \"action\": \"view\", \"uri\": \"https://databricks.com/blog/tagsterms.jsp\"}</td><td>dbdemos-sessions</td><td>1</td><td>16369421</td><td>2023-11-30T05:15:52.535Z</td><td>0</td></tr><tr><td>null</td><td>{\"user_id\": \"88019c0c-6cb1-4e46-a3ea-97661d159ba5\", \"platform\": \"ios\", \"event_id\": \"d04c637d-4942-429f-9bed-585e0aec485e\", \"event_date\": 1701321349, \"action\": \"view\", \"uri\": \"https://databricks.com/posts/wp-content/categoriesterms.php\"}</td><td>dbdemos-sessions</td><td>1</td><td>16369422</td><td>2023-11-30T05:15:52.538Z</td><td>0</td></tr><tr><td>null</td><td>{\"user_id\": \"fa31e0c0-f1fa-432f-b6ae-5bf2146cca06\", \"platform\": \"other\", \"event_id\": \"4a0605d9-1a1f-4303-b63c-cb724b54467f\", \"event_date\": 1701321354, \"action\": \"log\", \"uri\": \"https://databricks.com/list/tags/searchcategory.html\"}</td><td>dbdemos-sessions</td><td>1</td><td>16369423</td><td>2023-11-30T05:15:53.551Z</td><td>0</td></tr><tr><td>null</td><td>{\"user_id\": \"96d32b6c-fb2a-48a1-aea2-2e1df5de0234\", \"platform\": \"other\", \"event_id\": \"6dfa2701-bb38-42aa-b9b4-40f25fb5c6d3\", \"event_date\": 1701321351, \"action\": \"click\", \"uri\": \"https://databricks.com/explore/tagspost.html\"}</td><td>dbdemos-sessions</td><td>1</td><td>16369424</td><td>2023-11-30T05:15:53.553Z</td><td>0</td></tr><tr><td>null</td><td>{\"user_id\": \"3156d251-7429-4b23-9101-59f0209cddf8\", \"platform\": \"ios\", \"event_id\": \"b5768f6f-0f5a-4439-b71a-86dc4ab28a7c\", \"event_date\": 1701321358, \"action\": \"view\", \"uri\": \"https://databricks.com/list/blog/postsindex.php\"}</td><td>dbdemos-sessions</td><td>1</td><td>16369425</td><td>2023-11-30T05:15:54.559Z</td><td>0</td></tr><tr><td>null</td><td>{\"user_id\": \"c1923944-ddfe-4ee3-a9da-be94482fa973\", \"platform\": \"other\", \"event_id\": \"e7fa47f3-40c0-425c-82cd-4594dc41cff8\", \"event_date\": 1701321357, \"action\": \"view\", \"uri\": \"https://databricks.com/postslogin.jsp\"}</td><td>dbdemos-sessions</td><td>1</td><td>16369426</td><td>2023-11-30T05:15:54.564Z</td><td>0</td></tr><tr><td>null</td><td>{\"user_id\": \"604ae75c-5537-43da-bd92-5a235a891266\", \"platform\": \"ios\", \"event_id\": \"80744de5-916c-4adb-9a09-80caf43a482a\", \"event_date\": 1701321357, \"action\": \"view\", \"uri\": \"https://databricks.com/wp-contentregister.php\"}</td><td>dbdemos-sessions</td><td>1</td><td>16369427</td><td>2023-11-30T05:15:55.58Z</td><td>0</td></tr><tr><td>null</td><td>{\"user_id\": \"1983f70f-77a9-4412-a898-1c7e3312d2af\", \"platform\": \"other\", \"event_id\": \"792e0b63-b63b-4125-961f-3de83c43f4c0\", \"event_date\": 1701321360, \"action\": \"view\", \"uri\": \"https://databricks.com/taghome.asp\"}</td><td>dbdemos-sessions</td><td>1</td><td>16369428</td><td>2023-11-30T05:15:56.589Z</td><td>0</td></tr><tr><td>null</td><td>{\"user_id\": \"88019c0c-6cb1-4e46-a3ea-97661d159ba5\", \"platform\": \"ios\", \"event_id\": \"83483f63-559d-498b-a473-44e23493d8b7\", \"event_date\": 1701321356, \"action\": \"view\", \"uri\": \"https://databricks.com/explore/category/explorepost.htm\"}</td><td>dbdemos-sessions</td><td>1</td><td>16369429</td><td>2023-11-30T05:15:56.593Z</td><td>0</td></tr><tr><td>null</td><td>{\"user_id\": \"69eb7a1d-ef3a-4d1e-868d-a4a145cb3de5\", \"platform\": \"ios\", \"event_id\": null, \"event_date\": 1701321359, \"action\": \"view\", \"uri\": \"https://databricks.com/tag/wp-content/explorelogin.html\"}</td><td>dbdemos-sessions</td><td>1</td><td>16369430</td><td>2023-11-30T05:15:57.602Z</td><td>0</td></tr><tr><td>null</td><td>{\"user_id\": \"5e349b64-9ae8-4bf6-919b-33890e3444fb\", \"platform\": \"other\", \"event_id\": \"27be698a-ce51-413e-a3e7-a5eae654e848\", \"event_date\": 1701321352, \"action\": \"click\", \"uri\": \"https://databricks.com/explore/main/mainfaq.asp\"}</td><td>dbdemos-sessions</td><td>1</td><td>16369431</td><td>2023-11-30T05:15:57.603Z</td><td>0</td></tr><tr><td>null</td><td>{\"user_id\": \"8e47e6d7-ef56-45ef-9779-3eb3fbb427f4\", \"platform\": \"ios\", \"event_id\": \"758d9e15-8d48-453b-88a1-7e093ae638f9\", \"event_date\": 1701321357, \"action\": \"view\", \"uri\": \"https://databricks.com/categories/postshome.php\"}</td><td>dbdemos-sessions</td><td>1</td><td>16369432</td><td>2023-11-30T05:15:58.615Z</td><td>0</td></tr><tr><td>null</td><td>{\"user_id\": \"54371530-b4ba-4a28-9f12-2bc87205aded\", \"platform\": \"ios\", \"event_id\": \"27b76269-27b1-4bd3-9b68-8c64fde9804e\", \"event_date\": 1701321354, \"action\": \"click\", \"uri\": \"https://databricks.com/categories/appauthor.php\"}</td><td>dbdemos-sessions</td><td>1</td><td>16369433</td><td>2023-11-30T05:15:58.616Z</td><td>0</td></tr><tr><td>null</td><td>{\"user_id\": \"de0d7892-d459-42e9-9476-87884e4b2734\", \"platform\": \"ios\", \"event_id\": \"d0f5cf93-04d6-4d89-9305-283812852245\", \"event_date\": 1701321356, \"action\": \"log\", \"uri\": \"https://databricks.com/posts/categoriescategory.asp\"}</td><td>dbdemos-sessions</td><td>1</td><td>16369434</td><td>2023-11-30T05:16:01.67Z</td><td>0</td></tr><tr><td>null</td><td>{\"user_id\": \"af86d48a-b571-4050-acbc-145b24579671\", \"platform\": \"ios\", \"event_id\": \"9791fa99-8c48-4808-beea-eec31007df08\", \"event_date\": 1701321359, \"action\": \"view\", \"uri\": \"https://databricks.com/tagshome.php\"}</td><td>dbdemos-sessions</td><td>1</td><td>16369435</td><td>2023-11-30T05:16:01.686Z</td><td>0</td></tr><tr><td>null</td><td>{\"user_id\": \"40e8d981-8436-4139-9da7-4e0a71be1874\", \"platform\": \"ios\", \"event_id\": \"a4341162-01b4-4524-8384-e23dfe6a326f\", \"event_date\": 1701321358, \"action\": \"view\", \"uri\": \"https://databricks.com/searchprivacy.php\"}</td><td>dbdemos-sessions</td><td>1</td><td>16369436</td><td>2023-11-30T05:16:01.69Z</td><td>0</td></tr><tr><td>null</td><td>{\"user_id\": \"d6b698c1-d982-4afd-913f-a4ba28177397\", \"platform\": \"android\", \"event_id\": \"e175974a-3b20-49be-a922-166e7296c943\", \"event_date\": 1701321356, \"action\": \"view\", \"uri\": \"https://databricks.com/tagsregister.html\"}</td><td>dbdemos-sessions</td><td>1</td><td>16369437</td><td>2023-11-30T05:16:01.697Z</td><td>0</td></tr><tr><td>null</td><td>{\"user_id\": \"4861923d-8618-4684-9212-0e380364e29e\", \"platform\": \"ios\", \"event_id\": \"664e2129-7911-49eb-8956-969fe0119e7d\", \"event_date\": 1701321358, \"action\": \"click\", \"uri\": \"https://databricks.com/exploresearch.jsp\"}</td><td>dbdemos-sessions</td><td>1</td><td>16369438</td><td>2023-11-30T05:16:01.698Z</td><td>0</td></tr><tr><td>null</td><td>{\"user_id\": \"5c32df45-eda2-494d-abe8-f00782dd60c5\", \"platform\": \"ios\", \"event_id\": \"526dfb4e-8a22-4b05-98cf-4cd6f4d94b77\", \"event_date\": 1701321360, \"action\": \"log\", \"uri\": \"https://databricks.com/tags/appterms.html\"}</td><td>dbdemos-sessions</td><td>1</td><td>16369439</td><td>2023-11-30T05:16:01.707Z</td><td>0</td></tr><tr><td>null</td><td>{\"user_id\": \"de0d7892-d459-42e9-9476-87884e4b2734\", \"platform\": \"ios\", \"event_id\": \"f2ebb359-bbfd-45ee-8237-4151797551dd\", \"event_date\": 1701321335, \"action\": \"view\", \"uri\": \"https://databricks.com/explore/list/postsregister.htm\"}</td><td>dbdemos-sessions</td><td>3</td><td>16374425</td><td>2023-11-30T05:15:40.401Z</td><td>0</td></tr><tr><td>null</td><td>{\"user_id\": \"69eb7a1d-ef3a-4d1e-868d-a4a145cb3de5\", \"platform\": \"other\", \"event_id\": \"2bc01208-9904-48f9-b4b9-77f7f103fdaa\", \"event_date\": 1701321344, \"action\": \"view\", \"uri\": \"https://databricks.com/postsregister.asp\"}</td><td>dbdemos-sessions</td><td>3</td><td>16374426</td><td>2023-11-30T05:15:40.404Z</td><td>0</td></tr><tr><td>null</td><td>{\"user_id\": \"7cd07a2d-d835-470d-a0c8-b3400c915ac7\", \"platform\": \"other\", \"event_id\": \"d6d8c1cb-a16a-4964-bed5-8f95f68e9fec\", \"event_date\": 1701321340, \"action\": \"view\", \"uri\": \"https://databricks.com/apphomepage.htm\"}</td><td>dbdemos-sessions</td><td>3</td><td>16374427</td><td>2023-11-30T05:15:41.408Z</td><td>0</td></tr><tr><td>null</td><td>{\"user_id\": \"5374937a-2fa0-47af-a197-a01ef24a80ad\", \"platform\": \"ios\", \"event_id\": \"869ae34f-0b8c-4738-9ec2-18b043d409c5\", \"event_date\": 1701321339, \"action\": \"view\", \"uri\": \"https://databricks.com/category/main/categoryhomepage.asp\"}</td><td>dbdemos-sessions</td><td>3</td><td>16374428</td><td>2023-11-30T05:15:41.409Z</td><td>0</td></tr><tr><td>null</td><td>{\"user_id\": \"d78e2c84-3acd-4c26-a603-415b76c598ea\", \"platform\": \"ios\", \"event_id\": \"e94c84e6-3b8f-409e-a202-19149c29f347\", \"event_date\": 1701321341, \"action\": \"view\", \"uri\": \"https://databricks.com/posts/posts/searchcategory.html\"}</td><td>dbdemos-sessions</td><td>3</td><td>16374429</td><td>2023-11-30T05:15:44.438Z</td><td>0</td></tr><tr><td>null</td><td>{\"user_id\": \"6a4e890d-982b-46e1-b446-3688a723cdff\", \"platform\": \"other\", \"event_id\": \"033155d0-ec86-4fd1-8902-2d96167798c6\", \"event_date\": 1701321346, \"action\": \"view\", \"uri\": \"https://databricks.com/main/categorycategory.asp\"}</td><td>dbdemos-sessions</td><td>3</td><td>16374430</td><td>2023-11-30T05:15:44.439Z</td><td>0</td></tr><tr><td>null</td><td>{\"user_id\": \"82096dbb-07cd-45da-b6cc-57bc4ea01540\", \"platform\": \"ios\", \"event_id\": \"b9709bc4-2402-4df2-a68d-4aaf8ba2933a\", \"event_date\": 1701321347, \"action\": \"click\", \"uri\": \"https://databricks.com/posts/tagsauthor.htm\"}</td><td>dbdemos-sessions</td><td>3</td><td>16374431</td><td>2023-11-30T05:15:44.439Z</td><td>0</td></tr><tr><td>null</td><td>{\"user_id\": \"69eb7a1d-ef3a-4d1e-868d-a4a145cb3de5\", \"platform\": \"ios\", \"event_id\": \"a4f1e382-478e-4f33-9d7f-bc8ff8ff7a7c\", \"event_date\": 1701321347, \"action\": \"view\", \"uri\": \"https://databricks.com/category/wp-contentlogin.html\"}</td><td>dbdemos-sessions</td><td>3</td><td>16374432</td><td>2023-11-30T05:15:44.444Z</td><td>0</td></tr><tr><td>null</td><td>{\"user_id\": \"50e32c77-ce88-45b4-9b25-7c747615596b\", \"platform\": \"ios\", \"event_id\": \"0b2ccb3f-d421-46f4-952a-42022761fb08\", \"event_date\": 1701321349, \"action\": \"view\", \"uri\": \"https://databricks.com/blog/posts/tagslogin.htm\"}</td><td>dbdemos-sessions</td><td>3</td><td>16374433</td><td>2023-11-30T05:15:45.458Z</td><td>0</td></tr><tr><td>null</td><td>{\"user_id\": \"02252ba9-e8f2-43b7-903a-5ada8fa4177d\", \"platform\": \"ios\", \"event_id\": \"e1da97b3-5774-4ee6-a95b-93a0c133e32b\", \"event_date\": 1701321349, \"action\": \"view\", \"uri\": \"https://databricks.com/categorymain.htm\"}</td><td>dbdemos-sessions</td><td>3</td><td>16374434</td><td>2023-11-30T05:15:47.477Z</td><td>0</td></tr><tr><td>null</td><td>{\"user_id\": \"f044d5b8-0357-44e1-b9cf-40ba0512eeb0\", \"platform\": \"ios\", \"event_id\": \"6bf66584-abfa-4b1c-a82f-340565cc3a12\", \"event_date\": 1701321352, \"action\": \"view\", \"uri\": \"https://databricks.com/app/category/wp-contentregister.php\"}</td><td>dbdemos-sessions</td><td>3</td><td>16374435</td><td>2023-11-30T05:15:48.493Z</td><td>0</td></tr><tr><td>null</td><td>{\"user_id\": \"d469e072-41ae-4497-b541-de287868682f\", \"platform\": \"android\", \"event_id\": \"04d70a4f-2d5a-4066-be0d-31ae289ef036\", \"event_date\": 1701321348, \"action\": \"view\", \"uri\": \"https://databricks.com/categories/categories/wp-contentsearch.html\"}</td><td>dbdemos-sessions</td><td>3</td><td>16374436</td><td>2023-11-30T05:15:49.499Z</td><td>0</td></tr><tr><td>null</td><td>{\"user_id\": \"e15dc6e5-71f6-4656-a091-a0f96dd2dd35\", \"platform\": \"ios\", \"event_id\": \"0ea27f89-3e36-42d2-a922-01a4570aeded\", \"event_date\": 1701321345, \"action\": \"view\", \"uri\": \"https://databricks.com/blog/blog/categorysearch.html\"}</td><td>dbdemos-sessions</td><td>3</td><td>16374437</td><td>2023-11-30T05:15:50.519Z</td><td>0</td></tr><tr><td>null</td><td>{\"user_id\": \"18713496-a98e-49a4-ab88-9f029f18b4c5\", \"platform\": \"other\", \"event_id\": \"396f6fe1-812e-4d17-a35c-c78a910bd6f8\", \"event_date\": 1701321354, \"action\": \"click\", \"uri\": \"https://databricks.com/tags/blog/postshomepage.htm\"}</td><td>dbdemos-sessions</td><td>3</td><td>16374438</td><td>2023-11-30T05:15:51.526Z</td><td>0</td></tr><tr><td>null</td><td>{\"user_id\": \"f044d5b8-0357-44e1-b9cf-40ba0512eeb0\", \"platform\": \"ios\", \"event_id\": \"baae8ccc-f716-49cc-a49a-32d9c18b4dfa\", \"event_date\": 1701321348, \"action\": \"click\", \"uri\": \"https://databricks.com/posts/listterms.php\"}</td><td>dbdemos-sessions</td><td>3</td><td>16374439</td><td>2023-11-30T05:15:51.529Z</td><td>0</td></tr><tr><td>null</td><td>{\"user_id\": \"604ae75c-5537-43da-bd92-5a235a891266\", \"platform\": \"ios\", \"event_id\": null, \"event_date\": 1701321354, \"action\": \"click\", \"uri\": \"https://databricks.com/categories/posts/categorycategory.html\"}</td><td>dbdemos-sessions</td><td>3</td><td>16374440</td><td>2023-11-30T05:15:51.531Z</td><td>0</td></tr><tr><td>null</td><td>{\"user_id\": \"e27de5d1-1203-41d9-aaed-8521b4a5a4f3\", \"platform\": \"ios\", \"event_id\": \"09d20d86-a83f-4602-b0dd-a043d3b6350f\", \"event_date\": 1701321348, \"action\": \"log\", \"uri\": \"https://databricks.com/category/mainpost.php\"}</td><td>dbdemos-sessions</td><td>3</td><td>16374441</td><td>2023-11-30T05:15:53.546Z</td><td>0</td></tr><tr><td>null</td><td>{\"user_id\": \"954c2940-2415-4618-89e3-8f4147680ac1\", \"platform\": \"ios\", \"event_id\": \"bdfd9dbe-adef-4dde-a951-1886c17005a3\", \"event_date\": 1701321352, \"action\": \"view\", \"uri\": \"https://databricks.com/tagabout.htm\"}</td><td>dbdemos-sessions</td><td>3</td><td>16374442</td><td>2023-11-30T05:15:54.563Z</td><td>0</td></tr><tr><td>null</td><td>{\"user_id\": \"174669fd-183b-461e-9633-ceacc9d3e277\", \"platform\": \"other\", \"event_id\": \"4225b606-fe84-414f-a6f3-d373afbb7b9a\", \"event_date\": 1701321357, \"action\": \"view\", \"uri\": \"https://databricks.com/categoriescategory.htm\"}</td><td>dbdemos-sessions</td><td>3</td><td>16374443</td><td>2023-11-30T05:15:54.567Z</td><td>0</td></tr><tr><td>null</td><td>{\"user_id\": \"bb041937-335f-4592-9b28-75cbd928cd41\", \"platform\": \"android\", \"event_id\": \"2e7e5497-c384-4a8b-8199-622619af813b\", \"event_date\": 1701321355, \"action\": \"click\", \"uri\": \"https://databricks.com/tags/blog/postsfaq.jsp\"}</td><td>dbdemos-sessions</td><td>3</td><td>16374444</td><td>2023-11-30T05:15:55.571Z</td><td>0</td></tr><tr><td>null</td><td>{\"user_id\": \"4861923d-8618-4684-9212-0e380364e29e\", \"platform\": \"android\", \"event_id\": \"bb757a39-7596-4e5f-b51e-be85bf923c6f\", \"event_date\": 1701321353, \"action\": \"click\", \"uri\": \"https://databricks.com/category/appindex.html\"}</td><td>dbdemos-sessions</td><td>3</td><td>16374445</td><td>2023-11-30T05:15:55.583Z</td><td>0</td></tr><tr><td>null</td><td>{\"user_id\": \"19907dcb-5680-4656-897c-8da9e753a547\", \"platform\": \"ios\", \"event_id\": \"3dc7565d-4c34-4883-8de2-20f894d46865\", \"event_date\": 1701321352, \"action\": \"click\", \"uri\": \"https://databricks.com/app/categories/tagscategory.html\"}</td><td>dbdemos-sessions</td><td>3</td><td>16374446</td><td>2023-11-30T05:15:55.585Z</td><td>0</td></tr><tr><td>null</td><td>{\"user_id\": \"ed3224d7-fb6d-42ec-89c2-dc64f4f3be97\", \"platform\": \"android\", \"event_id\": \"ee71fbac-9146-45cc-aff9-188dda894267\", \"event_date\": 1701321351, \"action\": \"view\", \"uri\": \"https://databricks.com/tags/list/bloghomepage.htm\"}</td><td>dbdemos-sessions</td><td>3</td><td>16374447</td><td>2023-11-30T05:15:56.587Z</td><td>0</td></tr><tr><td>null</td><td>{\"user_id\": \"02467029-f802-4ee5-ab0f-6f80a46c4320\", \"platform\": \"other\", \"event_id\": \"9d649cbb-5b36-49ab-a591-40460415ecb1\", \"event_date\": 1701321355, \"action\": \"view\", \"uri\": \"https://databricks.com/mainprivacy.html\"}</td><td>dbdemos-sessions</td><td>3</td><td>16374448</td><td>2023-11-30T05:15:56.595Z</td><td>0</td></tr><tr><td>null</td><td>{\"user_id\": \"a1801d71-661b-4b13-99c5-46b48e26295d\", \"platform\": \"ios\", \"event_id\": \"46dfc392-62e5-4272-8948-585b039a0574\", \"event_date\": 1701321356, \"action\": \"view\", \"uri\": \"https://databricks.com/category/searchcategory.php\"}</td><td>dbdemos-sessions</td><td>3</td><td>16374449</td><td>2023-11-30T05:15:56.596Z</td><td>0</td></tr><tr><td>null</td><td>{\"user_id\": \"e1c4426c-9e77-49a1-87e9-f82b7d298740\", \"platform\": \"ios\", \"event_id\": \"4552e303-483b-4669-89ab-04c9f880e9ea\", \"event_date\": 1701321358, \"action\": \"view\", \"uri\": \"https://databricks.com/category/tag/postslogin.asp\"}</td><td>dbdemos-sessions</td><td>3</td><td>16374450</td><td>2023-11-30T05:15:57.605Z</td><td>0</td></tr><tr><td>null</td><td>{\"user_id\": \"f044d5b8-0357-44e1-b9cf-40ba0512eeb0\", \"platform\": \"android\", \"event_id\": \"abaf6237-60cd-40dd-b6f2-088cc69af781\", \"event_date\": 1701321354, \"action\": \"log\", \"uri\": \"https://databricks.com/posts/tagsabout.html\"}</td><td>dbdemos-sessions</td><td>3</td><td>16374451</td><td>2023-11-30T05:15:58.62Z</td><td>0</td></tr><tr><td>null</td><td>{\"user_id\": \"d4df099d-1d1a-4cf8-b0fb-d0249886106f\", \"platform\": \"ios\", \"event_id\": \"8d1fafd5-60a6-4792-be23-b4dfc903cf39\", \"event_date\": 1701321354, \"action\": \"log\", \"uri\": \"https://databricks.com/listindex.php\"}</td><td>dbdemos-sessions</td><td>3</td><td>16374452</td><td>2023-11-30T05:15:58.63Z</td><td>0</td></tr><tr><td>null</td><td>{\"user_id\": \"e27de5d1-1203-41d9-aaed-8521b4a5a4f3\", \"platform\": \"ios\", \"event_id\": \"6018162e-719e-45a5-b19e-ba1a59cb5162\", \"event_date\": 1701321354, \"action\": \"view\", \"uri\": \"https://databricks.com/wp-content/tagauthor.htm\"}</td><td>dbdemos-sessions</td><td>3</td><td>16374453</td><td>2023-11-30T05:15:59.636Z</td><td>0</td></tr><tr><td>null</td><td>{\"user_id\": \"e4e079a9-103e-464b-8b2f-b7d906066bad\", \"platform\": \"ios\", \"event_id\": \"95e9a00b-216c-432a-82dd-00de10991df3\", \"event_date\": 1701321356, \"action\": null, \"uri\": \"https://databricks.com/main/applogin.html\"}</td><td>dbdemos-sessions</td><td>3</td><td>16374454</td><td>2023-11-30T05:16:00.662Z</td><td>0</td></tr><tr><td>null</td><td>{\"user_id\": \"24e73178-c559-4484-8349-7ea3c1f77105\", \"platform\": \"other\", \"event_id\": \"9d3f5f3b-ba7c-46f4-bb51-d965e56caa1d\", \"event_date\": 1701321360, \"action\": \"click\", \"uri\": \"https://databricks.com/blog/listcategory.htm\"}</td><td>dbdemos-sessions</td><td>3</td><td>16374455</td><td>2023-11-30T05:16:00.664Z</td><td>0</td></tr><tr><td>null</td><td>{\"user_id\": \"e4e079a9-103e-464b-8b2f-b7d906066bad\", \"platform\": \"ios\", \"event_id\": \"af8736ec-aa38-4423-9baa-2ec2b91fbbb3\", \"event_date\": 1701321363, \"action\": \"view\", \"uri\": \"https://databricks.com/search/postsabout.php\"}</td><td>dbdemos-sessions</td><td>3</td><td>16374456</td><td>2023-11-30T05:16:01.677Z</td><td>0</td></tr><tr><td>null</td><td>{\"user_id\": \"f5bb0598-15cc-4ded-8192-0bd8262a8941\", \"platform\": \"other\", \"event_id\": \"8c2ae187-d349-439f-8dd7-83b05a35e774\", \"event_date\": 1701321340, \"action\": \"view\", \"uri\": \"https://databricks.com/tags/posts/categorieslogin.jsp\"}</td><td>dbdemos-sessions</td><td>0</td><td>162967789</td><td>2023-11-30T05:15:40.404Z</td><td>0</td></tr><tr><td>null</td><td>{\"user_id\": \"8ebe91ce-5ce9-4215-b90d-afa7ffc2031b\", \"platform\": \"android\", \"event_id\": \"74734f10-c543-473d-947a-eb4bab0401e5\", \"event_date\": 1701321339, \"action\": \"view\", \"uri\": \"https://databricks.com/category/taghome.php\"}</td><td>dbdemos-sessions</td><td>0</td><td>162967790</td><td>2023-11-30T05:15:43.433Z</td><td>0</td></tr><tr><td>null</td><td>{\"user_id\": \"ff3f9bdd-d0a3-4d28-b151-454d5e88546b\", \"platform\": \"ios\", \"event_id\": \"c763311a-f6db-4875-89a5-f8ca7642ff61\", \"event_date\": 1701321345, \"action\": \"view\", \"uri\": \"https://databricks.com/search/categorycategory.php\"}</td><td>dbdemos-sessions</td><td>0</td><td>162967791</td><td>2023-11-30T05:15:44.442Z</td><td>0</td></tr><tr><td>null</td><td>{\"user_id\": \"88019c0c-6cb1-4e46-a3ea-97661d159ba5\", \"platform\": \"android\", \"event_id\": \"0c53089d-c9e7-43fb-a76e-a98e4b2f6d71\", \"event_date\": 1701321345, \"action\": \"click\", \"uri\": \"https://databricks.com/search/wp-content/searchhomepage.asp\"}</td><td>dbdemos-sessions</td><td>0</td><td>162967792</td><td>2023-11-30T05:15:44.443Z</td><td>0</td></tr><tr><td>null</td><td>{\"user_id\": \"8c37dfb5-4ce9-40ee-aabd-6d2e41387b89\", \"platform\": \"ios\", \"event_id\": \"d35290a1-3dbe-4edb-b7e9-71faafcf439e\", \"event_date\": 1701321349, \"action\": \"view\", \"uri\": \"https://databricks.com/wp-content/appcategory.php\"}</td><td>dbdemos-sessions</td><td>0</td><td>162967793</td><td>2023-11-30T05:15:45.449Z</td><td>0</td></tr><tr><td>null</td><td>{\"user_id\": \"e4e079a9-103e-464b-8b2f-b7d906066bad\", \"platform\": \"ios\", \"event_id\": \"1bf21b36-576a-4982-8bbc-0cf7673d5fed\", \"event_date\": 1701321341, \"action\": \"click\", \"uri\": \"https://databricks.com/searchcategory.htm\"}</td><td>dbdemos-sessions</td><td>0</td><td>162967794</td><td>2023-11-30T05:15:45.453Z</td><td>0</td></tr><tr><td>null</td><td>{\"user_id\": \"954c2940-2415-4618-89e3-8f4147680ac1\", \"platform\": \"other\", \"event_id\": \"2dea5a42-db8d-46a7-b20b-c2457a1a72d1\", \"event_date\": 1701321343, \"action\": \"view\", \"uri\": \"https://databricks.com/main/explore/searchterms.html\"}</td><td>dbdemos-sessions</td><td>0</td><td>162967795</td><td>2023-11-30T05:15:45.457Z</td><td>0</td></tr><tr><td>null</td><td>{\"user_id\": \"6937cb27-2941-49c8-9431-ef4836329ae6\", \"platform\": \"other\", \"event_id\": \"1d57090e-04a0-46de-a96b-fa27388347ef\", \"event_date\": 1701321341, \"action\": \"click\", \"uri\": \"https://databricks.com/wp-content/categorycategory.php\"}</td><td>dbdemos-sessions</td><td>0</td><td>162967796</td><td>2023-11-30T05:15:46.468Z</td><td>0</td></tr><tr><td>null</td><td>{\"user_id\": \"1e7b7295-6965-4c14-ab59-388167c9baeb\", \"platform\": \"other\", \"event_id\": \"7d4f6b36-d52d-4f48-9388-e3ccaae4d5a1\", \"event_date\": 1701321347, \"action\": \"click\", \"uri\": \"https://databricks.com/apppost.jsp\"}</td><td>dbdemos-sessions</td><td>0</td><td>162967797</td><td>2023-11-30T05:15:47.479Z</td><td>0</td></tr><tr><td>null</td><td>{\"user_id\": \"96d32b6c-fb2a-48a1-aea2-2e1df5de0234\", \"platform\": \"other\", \"event_id\": \"36d89a0e-435f-46c8-b606-da9bf5bb8274\", \"event_date\": 1701321351, \"action\": \"click\", \"uri\": \"https://databricks.com/category/appcategory.htm\"}</td><td>dbdemos-sessions</td><td>0</td><td>162967798</td><td>2023-11-30T05:15:49.51Z</td><td>0</td></tr><tr><td>null</td><td>{\"user_id\": \"d6b698c1-d982-4afd-913f-a4ba28177397\", \"platform\": \"ios\", \"event_id\": \"fa870e61-ddb2-46d2-97ef-b4ecc74d36eb\", \"event_date\": 1701321347, \"action\": \"view\", \"uri\": \"https://databricks.com/main/main/mainterms.jsp\"}</td><td>dbdemos-sessions</td><td>0</td><td>162967799</td><td>2023-11-30T05:15:50.518Z</td><td>0</td></tr><tr><td>null</td><td>{\"user_id\": \"18713496-a98e-49a4-ab88-9f029f18b4c5\", \"platform\": \"android\", \"event_id\": \"ef8fd0de-bf8f-457c-a4a8-d263f68de948\", \"event_date\": 1701321356, \"action\": \"view\", \"uri\": \"https://databricks.com/wp-content/categoriesprivacy.html\"}</td><td>dbdemos-sessions</td><td>0</td><td>162967800</td><td>2023-11-30T05:15:52.535Z</td><td>0</td></tr><tr><td>null</td><td>{\"user_id\": \"6bf1f604-3544-45c9-93a5-180b78652be1\", \"platform\": \"other\", \"event_id\": \"07874816-e860-419f-b8d3-aba846aa9ad7\", \"event_date\": 1701321348, \"action\": \"view\", \"uri\": \"https://databricks.com/blog/postsregister.php\"}</td><td>dbdemos-sessions</td><td>0</td><td>162967801</td><td>2023-11-30T05:15:52.537Z</td><td>0</td></tr><tr><td>null</td><td>{\"user_id\": \"8ebe91ce-5ce9-4215-b90d-afa7ffc2031b\", \"platform\": \"other\", \"event_id\": \"fec52c19-4ac0-46f1-b7c2-3b3c0209ce06\", \"event_date\": 1701321356, \"action\": \"click\", \"uri\": \"https://databricks.com/app/categoriescategory.htm\"}</td><td>dbdemos-sessions</td><td>0</td><td>162967802</td><td>2023-11-30T05:15:52.542Z</td><td>0</td></tr><tr><td>null</td><td>{\"user_id\": \"de0d7892-d459-42e9-9476-87884e4b2734\", \"platform\": null, \"event_id\": \"2bd148e6-aa43-448e-b22a-c602a28821e3\", \"event_date\": 1701321354, \"action\": \"click\", \"uri\": \"https://databricks.com/explore/tags/bloghomepage.htm\"}</td><td>dbdemos-sessions</td><td>0</td><td>162967803</td><td>2023-11-30T05:15:54.556Z</td><td>0</td></tr><tr><td>null</td><td>{\"user_id\": \"f044d5b8-0357-44e1-b9cf-40ba0512eeb0\", \"platform\": \"other\", \"event_id\": \"9ab1bbd7-b1da-40ec-9087-6b06f2e22df3\", \"event_date\": 1701321350, \"action\": \"log\", \"uri\": \"https://databricks.com/postsfaq.php\"}</td><td>dbdemos-sessions</td><td>0</td><td>162967804</td><td>2023-11-30T05:15:54.561Z</td><td>0</td></tr><tr><td>null</td><td>{\"user_id\": \"02467029-f802-4ee5-ab0f-6f80a46c4320\", \"platform\": \"other\", \"event_id\": \"57068562-fe54-4bf8-ad25-72eb7d66b994\", \"event_date\": 1701321354, \"action\": \"view\", \"uri\": \"https://databricks.com/categorylogin.html\"}</td><td>dbdemos-sessions</td><td>0</td><td>162967805</td><td>2023-11-30T05:15:54.564Z</td><td>0</td></tr><tr><td>null</td><td>{\"user_id\": \"f51f94e1-27a4-48be-b539-b0aac42704e3\", \"platform\": \"ios\", \"event_id\": \"cc2c6545-1ef5-49ae-97d5-0e4047e07f06\", \"event_date\": 1701321355, \"action\": \"view\", \"uri\": \"https://databricks.com/wp-content/wp-content/tagsprivacy.php\"}</td><td>dbdemos-sessions</td><td>0</td><td>162967806</td><td>2023-11-30T05:15:54.566Z</td><td>0</td></tr><tr><td>null</td><td>{\"user_id\": \"96d32b6c-fb2a-48a1-aea2-2e1df5de0234\", \"platform\": \"ios\", \"event_id\": \"c47163cd-0f49-4373-a46c-7fd8b5ca5695\", \"event_date\": 1701321358, \"action\": \"click\", \"uri\": \"https://databricks.com/blog/tagpost.jsp\"}</td><td>dbdemos-sessions</td><td>0</td><td>162967807</td><td>2023-11-30T05:15:54.567Z</td><td>0</td></tr><tr><td>null</td><td>{\"user_id\": \"d469e072-41ae-4497-b541-de287868682f\", \"platform\": \"other\", \"event_id\": \"1dacd71c-d9ab-4313-93cf-7bde9e9f3427\", \"event_date\": 1701321351, \"action\": \"click\", \"uri\": \"https://databricks.com/searchprivacy.php\"}</td><td>dbdemos-sessions</td><td>0</td><td>162967808</td><td>2023-11-30T05:15:55.57Z</td><td>0</td></tr><tr><td>null</td><td>{\"user_id\": \"e27de5d1-1203-41d9-aaed-8521b4a5a4f3\", \"platform\": \"android\", \"event_id\": \"06d87c40-cba8-4775-acac-31b8bbf7f436\", \"event_date\": 1701321356, \"action\": \"view\", \"uri\": \"https://databricks.com/list/searchterms.html\"}</td><td>dbdemos-sessions</td><td>0</td><td>162967809</td><td>2023-11-30T05:15:55.576Z</td><td>0</td></tr><tr><td>null</td><td>{\"user_id\": \"c50c86c0-459f-4db4-ae86-1e2e8a5a42ed\", \"platform\": \"ios\", \"event_id\": \"07b23c77-a519-4924-8218-70dd6c63cc5c\", \"event_date\": 1701321354, \"action\": \"click\", \"uri\": \"https://databricks.com/explore/list/postsabout.jsp\"}</td><td>dbdemos-sessions</td><td>0</td><td>162967810</td><td>2023-11-30T05:15:55.584Z</td><td>0</td></tr><tr><td>null</td><td>{\"user_id\": \"a1410f93-0184-4aca-9c43-c686a605a5f6\", \"platform\": \"ios\", \"event_id\": \"00685b43-fa49-43ed-bd3a-1e4ff6f1a59f\", \"event_date\": 1701321352, \"action\": \"click\", \"uri\": \"https://databricks.com/wp-content/exploreauthor.html\"}</td><td>dbdemos-sessions</td><td>0</td><td>162967811</td><td>2023-11-30T05:15:57.601Z</td><td>0</td></tr><tr><td>null</td><td>{\"user_id\": \"40e8d981-8436-4139-9da7-4e0a71be1874\", \"platform\": \"other\", \"event_id\": \"b421730a-bcc4-477d-a7e4-0a4fd9401937\", \"event_date\": 1701321355, \"action\": \"click\", \"uri\": \"https://databricks.com/app/postsmain.asp\"}</td><td>dbdemos-sessions</td><td>0</td><td>162967812</td><td>2023-11-30T05:15:57.603Z</td><td>0</td></tr><tr><td>null</td><td>{\"user_id\": \"d278a0e6-7c83-43e8-a0b4-db949eca8412\", \"platform\": \"ios\", \"event_id\": \"fb75822e-cfe3-4282-9132-24962cac0678\", \"event_date\": 1701321360, \"action\": \"click\", \"uri\": \"https://databricks.com/tag/explore/categoriesmain.html\"}</td><td>dbdemos-sessions</td><td>0</td><td>162967813</td><td>2023-11-30T05:15:57.604Z</td><td>0</td></tr><tr><td>null</td><td>{\"user_id\": \"471b9cf5-93fd-4290-927c-5f78456145dc\", \"platform\": \"other\", \"event_id\": \"f7a192d0-3233-4d0b-8688-417f84f2efff\", \"event_date\": 1701321357, \"action\": \"view\", \"uri\": \"https://databricks.com/appregister.htm\"}</td><td>dbdemos-sessions</td><td>0</td><td>162967814</td><td>2023-11-30T05:15:57.606Z</td><td>0</td></tr><tr><td>null</td><td>{\"user_id\": \"93ef5cae-b681-4e40-8e10-cae4283b2b04\", \"platform\": \"ios\", \"event_id\": \"0ff2ef80-d701-4243-a91d-92f935dd7b32\", \"event_date\": 1701321353, \"action\": \"log\", \"uri\": \"https://databricks.com/wp-contentlogin.html\"}</td><td>dbdemos-sessions</td><td>0</td><td>162967815</td><td>2023-11-30T05:15:58.61Z</td><td>0</td></tr><tr><td>null</td><td>{\"user_id\": \"4f31815d-ad8f-4b3e-9ef3-d7b80e4bf770\", \"platform\": \"ios\", \"event_id\": \"638863e5-3ccd-472d-b42e-4bb8d54cee91\", \"event_date\": 1701321356, \"action\": \"view\", \"uri\": \"https://databricks.com/categoriesregister.htm\"}</td><td>dbdemos-sessions</td><td>0</td><td>162967816</td><td>2023-11-30T05:15:58.628Z</td><td>0</td></tr><tr><td>null</td><td>{\"user_id\": \"7354e19a-6b74-4581-9278-7d2a1fa506d2\", \"platform\": \"ios\", \"event_id\": \"6da96000-b95c-4efe-8194-66c0083c3e5c\", \"event_date\": 1701321362, \"action\": \"click\", \"uri\": \"https://databricks.com/blogregister.asp\"}</td><td>dbdemos-sessions</td><td>0</td><td>162967817</td><td>2023-11-30T05:15:59.64Z</td><td>0</td></tr><tr><td>null</td><td>{\"user_id\": \"1e7b7295-6965-4c14-ab59-388167c9baeb\", \"platform\": \"ios\", \"event_id\": \"5789056f-537d-407b-9bef-72ddc6f813c4\", \"event_date\": 1701321358, \"action\": \"log\", \"uri\": \"https://databricks.com/blogsearch.jsp\"}</td><td>dbdemos-sessions</td><td>0</td><td>162967818</td><td>2023-11-30T05:15:59.643Z</td><td>0</td></tr><tr><td>null</td><td>{\"user_id\": \"24e73178-c559-4484-8349-7ea3c1f77105\", \"platform\": \"other\", \"event_id\": \"9606f446-01f6-49ed-ac3f-8353c10fbe47\", \"event_date\": 1701321356, \"action\": \"view\", \"uri\": \"https://databricks.com/app/tagsfaq.html\"}</td><td>dbdemos-sessions</td><td>0</td><td>162967819</td><td>2023-11-30T05:15:59.648Z</td><td>0</td></tr><tr><td>null</td><td>{\"user_id\": \"4f9a4975-58ad-4063-be2c-d7fafb9f9072\", \"platform\": \"other\", \"event_id\": \"e06d5687-39b8-48e4-85f8-ce98a5697356\", \"event_date\": 1701321358, \"action\": \"log\", \"uri\": \"https://databricks.com/explore/blogabout.asp\"}</td><td>dbdemos-sessions</td><td>0</td><td>162967820</td><td>2023-11-30T05:16:00.661Z</td><td>0</td></tr><tr><td>null</td><td>{\"user_id\": \"471b9cf5-93fd-4290-927c-5f78456145dc\", \"platform\": \"android\", \"event_id\": \"34b6fef4-1b57-4762-b069-8b1bb512c322\", \"event_date\": 1701321364, \"action\": \"view\", \"uri\": \"https://databricks.com/categoriesterms.jsp\"}</td><td>dbdemos-sessions</td><td>0</td><td>162967821</td><td>2023-11-30T05:16:00.666Z</td><td>0</td></tr><tr><td>null</td><td>{\"user_id\": \"18713496-a98e-49a4-ab88-9f029f18b4c5\", \"platform\": \"ios\", \"event_id\": \"92e717de-fd32-4ded-95d9-0f68ec3a3141\", \"event_date\": 1701321359, \"action\": \"click\", \"uri\": \"https://databricks.com/list/search/tagshome.jsp\"}</td><td>dbdemos-sessions</td><td>0</td><td>162967822</td><td>2023-11-30T05:16:01.676Z</td><td>0</td></tr><tr><td>null</td><td>{\"user_id\": \"f044d5b8-0357-44e1-b9cf-40ba0512eeb0\", \"platform\": \"ios\", \"event_id\": \"76a46b3d-a4de-4ea4-b9e1-d8e41e13eb20\", \"event_date\": 1701321364, \"action\": \"click\", \"uri\": \"https://databricks.com/main/exploreregister.php\"}</td><td>dbdemos-sessions</td><td>0</td><td>162967823</td><td>2023-11-30T05:16:01.685Z</td><td>0</td></tr><tr><td>null</td><td>{\"user_id\": \"50e32c77-ce88-45b4-9b25-7c747615596b\", \"platform\": \"other\", \"event_id\": \"ae158a71-e283-4476-b003-5ca0f6eba7f3\", \"event_date\": 1701321364, \"action\": \"view\", \"uri\": \"https://databricks.com/wp-contentcategory.jsp\"}</td><td>dbdemos-sessions</td><td>0</td><td>162967824</td><td>2023-11-30T05:16:01.688Z</td><td>0</td></tr><tr><td>null</td><td>{\"user_id\": \"5c32df45-eda2-494d-abe8-f00782dd60c5\", \"platform\": \"ios\", \"event_id\": \"526dfb4e-8a22-4b05-98cf-4cd6f4d94b77\", \"event_date\": 1701321360, \"action\": \"log\", \"uri\": \"https://databricks.com/tags/appterms.html\"}</td><td>dbdemos-sessions</td><td>0</td><td>162967825</td><td>2023-11-30T05:16:01.707Z</td><td>0</td></tr><tr><td>null</td><td>{\"user_id\": \"7354e19a-6b74-4581-9278-7d2a1fa506d2\", \"platform\": \"other\", \"event_id\": \"4539afe2-7e6b-4c8e-aa2f-404a2e24fd19\", \"event_date\": 1701321340, \"action\": \"click\", \"uri\": \"https://databricks.com/tags/list/listfaq.html\"}</td><td>dbdemos-sessions</td><td>5</td><td>16377815</td><td>2023-11-30T05:15:41.411Z</td><td>0</td></tr><tr><td>null</td><td>{\"user_id\": \"93ef5cae-b681-4e40-8e10-cae4283b2b04\", \"platform\": \"other\", \"event_id\": \"205090dd-2d92-4052-b8dd-8be689bea6a1\", \"event_date\": 1701321343, \"action\": \"click\", \"uri\": \"https://databricks.com/list/categoryfaq.html\"}</td><td>dbdemos-sessions</td><td>5</td><td>16377816</td><td>2023-11-30T05:15:42.414Z</td><td>0</td></tr><tr><td>null</td><td>{\"user_id\": \"cdf5504b-598d-4c9e-aa2c-01d320d7a397\", \"platform\": \"ios\", \"event_id\": \"4be4aa71-8865-4777-9785-9f6a40b3f571\", \"event_date\": 1701321340, \"action\": \"click\", \"uri\": \"https://databricks.com/explore/listhomepage.jsp\"}</td><td>dbdemos-sessions</td><td>5</td><td>16377817</td><td>2023-11-30T05:15:43.423Z</td><td>0</td></tr><tr><td>null</td><td>{\"user_id\": \"8c78e34e-0201-4757-a82a-fa0d9f70beda\", \"platform\": \"ios\", \"event_id\": \"7de9f5eb-5f23-4388-a1c0-a44a5e111b02\", \"event_date\": 1701321344, \"action\": \"click\", \"uri\": \"https://databricks.com/blog/wp-content/listpost.html\"}</td><td>dbdemos-sessions</td><td>5</td><td>16377818</td><td>2023-11-30T05:15:43.429Z</td><td>0</td></tr><tr><td>null</td><td>{\"user_id\": \"24e73178-c559-4484-8349-7ea3c1f77105\", \"platform\": \"ios\", \"event_id\": \"5ee014cb-d153-4fc8-8fee-343f86d1ae29\", \"event_date\": 1701321345, \"action\": \"view\", \"uri\": \"https://databricks.com/category/bloghomepage.html\"}</td><td>dbdemos-sessions</td><td>5</td><td>16377819</td><td>2023-11-30T05:15:44.447Z</td><td>0</td></tr><tr><td>null</td><td>{\"user_id\": \"24e73178-c559-4484-8349-7ea3c1f77105\", \"platform\": \"ios\", \"event_id\": \"5ee014cb-d153-4fc8-8fee-343f86d1ae29\", \"event_date\": 1701321345, \"action\": \"view\", \"uri\": \"https://databricks.com/category/bloghomepage.html\"}</td><td>dbdemos-sessions</td><td>5</td><td>16377820</td><td>2023-11-30T05:15:44.447Z</td><td>0</td></tr><tr><td>null</td><td>{\"user_id\": \"de0d7892-d459-42e9-9476-87884e4b2734\", \"platform\": \"ios\", \"event_id\": \"220991b7-4953-4507-8eba-bb31601ca8de\", \"event_date\": 1701321345, \"action\": \"click\", \"uri\": \"https://databricks.com/tags/main/mainpost.html\"}</td><td>dbdemos-sessions</td><td>5</td><td>16377821</td><td>2023-11-30T05:15:45.45Z</td><td>0</td></tr><tr><td>null</td><td>{\"user_id\": \"b994d64b-9f05-4a97-a53d-d95128f1c0c3\", \"platform\": \"ios\", \"event_id\": \"cfae41a9-cff0-4ec5-a1d5-6c87c21367e0\", \"event_date\": 1701321343, \"action\": \"click\", \"uri\": \"https://databricks.com/search/postspost.jsp\"}</td><td>dbdemos-sessions</td><td>5</td><td>16377822</td><td>2023-11-30T05:15:46.469Z</td><td>0</td></tr><tr><td>null</td><td>{\"user_id\": \"1983f70f-77a9-4412-a898-1c7e3312d2af\", \"platform\": \"ios\", \"event_id\": \"ed123697-9ca7-4ac3-8639-7ff50ac983d6\", \"event_date\": 1701321351, \"action\": \"view\", \"uri\": \"https://databricks.com/list/explore/mainhomepage.html\"}</td><td>dbdemos-sessions</td><td>5</td><td>16377823</td><td>2023-11-30T05:15:47.474Z</td><td>0</td></tr><tr><td>null</td><td>{\"user_id\": \"fa31e0c0-f1fa-432f-b6ae-5bf2146cca06\", \"platform\": \"ios\", \"event_id\": \"040efde2-2d46-4379-ac03-dd93c76dcccf\", \"event_date\": 1701321346, \"action\": \"view\", \"uri\": \"https://databricks.com/main/poststerms.php\"}</td><td>dbdemos-sessions</td><td>5</td><td>16377824</td><td>2023-11-30T05:15:47.488Z</td><td>0</td></tr><tr><td>null</td><td>{\"user_id\": \"4861923d-8618-4684-9212-0e380364e29e\", \"platform\": \"ios\", \"event_id\": \"d495c7c3-9a82-4ce0-bd65-74f70ef179f2\", \"event_date\": 1701321344, \"action\": \"click\", \"uri\": \"https://databricks.com/blogregister.php\"}</td><td>dbdemos-sessions</td><td>5</td><td>16377825</td><td>2023-11-30T05:15:48.496Z</td><td>0</td></tr><tr><td>null</td><td>{\"user_id\": \"de0d7892-d459-42e9-9476-87884e4b2734\", \"platform\": \"ios\", \"event_id\": \"961b9e44-c147-4b2d-8149-bd233046a563\", \"event_date\": 1701321346, \"action\": \"click\", \"uri\": \"https://databricks.com/tag/searchindex.php\"}</td><td>dbdemos-sessions</td><td>5</td><td>16377826</td><td>2023-11-30T05:15:49.499Z</td><td>0</td></tr><tr><td>null</td><td>{\"user_id\": \"3156d251-7429-4b23-9101-59f0209cddf8\", \"platform\": \"ios\", \"event_id\": \"2275349d-faec-47de-9b62-53d4cc9e4fed\", \"event_date\": 1701321348, \"action\": \"click\", \"uri\": \"https://databricks.com/blogpost.jsp\"}</td><td>dbdemos-sessions</td><td>5</td><td>16377827</td><td>2023-11-30T05:15:50.516Z</td><td>0</td></tr><tr><td>null</td><td>{\"user_id\": \"9acce7bf-7baa-45f0-b598-93b24e8843fd\", \"platform\": \"other\", \"event_id\": \"5dd6ad81-c6b4-496b-88ce-49408b4016fc\", \"event_date\": 1701321351, \"action\": \"click\", \"uri\": \"https://databricks.com/search/wp-contentfaq.php\"}</td><td>dbdemos-sessions</td><td>5</td><td>16377828</td><td>2023-11-30T05:15:50.517Z</td><td>0</td></tr><tr><td>null</td><td>{\"user_id\": \"8c37dfb5-4ce9-40ee-aabd-6d2e41387b89\", \"platform\": \"other\", \"event_id\": \"420db673-d2fe-4758-8788-f039bc6c08bf\", \"event_date\": 1701321354, \"action\": \"view\", \"uri\": \"https://databricks.com/tags/tagindex.html\"}</td><td>dbdemos-sessions</td><td>5</td><td>16377829</td><td>2023-11-30T05:15:51.522Z</td><td>0</td></tr><tr><td>null</td><td>{\"user_id\": \"287d6985-e3c1-44f7-a700-2df164a43235\", \"platform\": \"ios\", \"event_id\": \"3c5dc87b-1dd6-4582-bf4b-aa94246ecd2a\", \"event_date\": 1701321353, \"action\": \"view\", \"uri\": \"https://databricks.com/search/explore/wp-contentmain.php\"}</td><td>dbdemos-sessions</td><td>5</td><td>16377830</td><td>2023-11-30T05:15:51.525Z</td><td>0</td></tr><tr><td>null</td><td>{\"user_id\": \"6937cb27-2941-49c8-9431-ef4836329ae6\", \"platform\": \"other\", \"event_id\": \"ff044cf0-2eb9-4889-9e3a-038acc850d97\", \"event_date\": 1701321354, \"action\": \"click\", \"uri\": \"https://databricks.com/list/search/categoryhome.php\"}</td><td>dbdemos-sessions</td><td>5</td><td>16377831</td><td>2023-11-30T05:15:51.532Z</td><td>0</td></tr><tr><td>null</td><td>{\"user_id\": \"89266034-ab6f-4298-a4f2-26ee888d009a\", \"platform\": \"other\", \"event_id\": \"74b750ad-ea7e-420a-9648-352ba6e5b54a\", \"event_date\": 1701321353, \"action\": \"click\", \"uri\": \"https://databricks.com/postshome.php\"}</td><td>dbdemos-sessions</td><td>5</td><td>16377832</td><td>2023-11-30T05:15:52.538Z</td><td>0</td></tr><tr><td>null</td><td>{\"user_id\": \"8c78e34e-0201-4757-a82a-fa0d9f70beda\", \"platform\": \"android\", \"event_id\": \"3afc41c1-584f-4600-b56b-cac5ad1aba4b\", \"event_date\": 1701321351, \"action\": \"view\", \"uri\": \"https://databricks.com/categoriesindex.htm\"}</td><td>dbdemos-sessions</td><td>5</td><td>16377833</td><td>2023-11-30T05:15:52.541Z</td><td>0</td></tr><tr><td>null</td><td>{\"user_id\": \"d278a0e6-7c83-43e8-a0b4-db949eca8412\", \"platform\": \"other\", \"event_id\": \"3c5543ae-caf2-4445-8646-67e806a8b161\", \"event_date\": 1701321357, \"action\": \"view\", \"uri\": \"https://databricks.com/list/explore/categoryauthor.php\"}</td><td>dbdemos-sessions</td><td>5</td><td>16377834</td><td>2023-11-30T05:15:53.551Z</td><td>0</td></tr><tr><td>null</td><td>{\"user_id\": \"94ba5e9c-d1c8-4837-8c7f-e3e20d6a180e\", \"platform\": \"other\", \"event_id\": \"533979b8-78c2-4121-bfc7-253906a2a988\", \"event_date\": 1701321355, \"action\": \"log\", \"uri\": \"https://databricks.com/list/postssearch.html\"}</td><td>dbdemos-sessions</td><td>5</td><td>16377835</td><td>2023-11-30T05:15:54.557Z</td><td>0</td></tr><tr><td>null</td><td>{\"user_id\": \"7354e19a-6b74-4581-9278-7d2a1fa506d2\", \"platform\": \"ios\", \"event_id\": \"754aaa05-7db0-4302-9768-ce9a09419476\", \"event_date\": 1701321358, \"action\": \"click\", \"uri\": \"https://databricks.com/wp-content/main/listcategory.html\"}</td><td>dbdemos-sessions</td><td>5</td><td>16377836</td><td>2023-11-30T05:15:54.56Z</td><td>0</td></tr><tr><td>null</td><td>{\"user_id\": \"9acce7bf-7baa-45f0-b598-93b24e8843fd\", \"platform\": \"other\", \"event_id\": \"168ef070-6d57-4a33-a3ba-94ff0b30be7d\", \"event_date\": 1701321351, \"action\": \"click\", \"uri\": \"https://databricks.com/appregister.html\"}</td><td>dbdemos-sessions</td><td>5</td><td>16377837</td><td>2023-11-30T05:15:54.562Z</td><td>0</td></tr><tr><td>null</td><td>{\"user_id\": \"301ed5d3-8d3d-4e1e-96da-0043610a5c98\", \"platform\": \"ios\", \"event_id\": \"2066a09b-d5d5-4fd1-9231-d7027282a2d8\", \"event_date\": 1701321356, \"action\": \"view\", \"uri\": \"https://databricks.com/list/search/tagshome.php\"}</td><td>dbdemos-sessions</td><td>5</td><td>16377838</td><td>2023-11-30T05:15:54.565Z</td><td>0</td></tr><tr><td>null</td><td>{\"user_id\": \"8ebe91ce-5ce9-4215-b90d-afa7ffc2031b\", \"platform\": \"ios\", \"event_id\": \"87c48cb4-836a-4164-8eaa-9b86de504318\", \"event_date\": 1701321353, \"action\": \"view\", \"uri\": \"https://databricks.com/search/list/blogterms.html\"}</td><td>dbdemos-sessions</td><td>5</td><td>16377839</td><td>2023-11-30T05:15:54.566Z</td><td>0</td></tr><tr><td>null</td><td>{\"user_id\": \"4f9a4975-58ad-4063-be2c-d7fafb9f9072\", \"platform\": \"ios\", \"event_id\": \"83a83a1a-c52f-405a-a01d-9b9f5c36c9d0\", \"event_date\": 1701321355, \"action\": \"click\", \"uri\": \"https://databricks.com/list/main/explorehome.html\"}</td><td>dbdemos-sessions</td><td>5</td><td>16377840</td><td>2023-11-30T05:15:55.571Z</td><td>0</td></tr><tr><td>null</td><td>{\"user_id\": \"89266034-ab6f-4298-a4f2-26ee888d009a\", \"platform\": \"ios\", \"event_id\": \"99a3b1b9-6c01-44be-a9a0-e18c59297a7a\", \"event_date\": 1701321351, \"action\": \"click\", \"uri\": \"https://databricks.com/tags/search/listsearch.php\"}</td><td>dbdemos-sessions</td><td>5</td><td>16377841</td><td>2023-11-30T05:15:55.577Z</td><td>0</td></tr><tr><td>null</td><td>{\"user_id\": \"c74ac38e-0a9b-4785-9a27-09d1d694e40c\", \"platform\": \"other\", \"event_id\": \"7d57b9eb-b5e9-43f8-a256-5701ae38c5ac\", \"event_date\": 1701321356, \"action\": \"view\", \"uri\": \"https://databricks.com/tags/blog/postsfaq.htm\"}</td><td>dbdemos-sessions</td><td>5</td><td>16377842</td><td>2023-11-30T05:15:56.594Z</td><td>0</td></tr><tr><td>null</td><td>{\"user_id\": \"4b652069-51b2-4caa-bcea-acb355f2b75d\", \"platform\": \"ios\", \"event_id\": \"2eb243a2-9de7-4a5a-ab97-c0b8b67c434c\", \"event_date\": 1701321351, \"action\": \"click\", \"uri\": \"https://databricks.com/category/appprivacy.php\"}</td><td>dbdemos-sessions</td><td>5</td><td>16377843</td><td>2023-11-30T05:15:56.596Z</td><td>0</td></tr><tr><td>null</td><td>{\"user_id\": \"8c78e34e-0201-4757-a82a-fa0d9f70beda\", \"platform\": \"ios\", \"event_id\": \"0b25ffc8-6ccd-41f5-8fba-4c2edd21c879\", \"event_date\": 1701321358, \"action\": \"click\", \"uri\": \"https://databricks.com/tags/posts/wp-contenthome.html\"}</td><td>dbdemos-sessions</td><td>5</td><td>16377844</td><td>2023-11-30T05:15:58.624Z</td><td>0</td></tr><tr><td>null</td><td>{\"user_id\": \"6a4e890d-982b-46e1-b446-3688a723cdff\", \"platform\": \"other\", \"event_id\": \"182ba35d-8b7c-4574-a0b9-7982c6859151\", \"event_date\": 1701321354, \"action\": \"view\", \"uri\": \"https://databricks.com/mainhomepage.php\"}</td><td>dbdemos-sessions</td><td>5</td><td>16377845</td><td>2023-11-30T05:15:59.634Z</td><td>0</td></tr><tr><td>null</td><td>{\"user_id\": \"69eb7a1d-ef3a-4d1e-868d-a4a145cb3de5\", \"platform\": \"ios\", \"event_id\": \"19030c8b-5b38-46ab-b6ca-333c241bc91e\", \"event_date\": 1701321358, \"action\": \"view\", \"uri\": \"https://databricks.com/blog/tagindex.htm\"}</td><td>dbdemos-sessions</td><td>5</td><td>16377846</td><td>2023-11-30T05:15:59.645Z</td><td>0</td></tr><tr><td>null</td><td>{\"user_id\": \"02467029-f802-4ee5-ab0f-6f80a46c4320\", \"platform\": \"ios\", \"event_id\": \"dca2ee3f-4639-402d-a328-b5d6a91ef138\", \"event_date\": 1701321356, \"action\": \"view\", \"uri\": \"https://databricks.com/main/list/postsmain.htm\"}</td><td>dbdemos-sessions</td><td>5</td><td>16377847</td><td>2023-11-30T05:15:59.646Z</td><td>0</td></tr><tr><td>null</td><td>{\"user_id\": \"d6b698c1-d982-4afd-913f-a4ba28177397\", \"platform\": \"other\", \"event_id\": \"95dd462c-f794-4d6d-a4ca-4bb6f0eb693e\", \"event_date\": 1701321359, \"action\": \"click\", \"uri\": \"https://databricks.com/blog/tagfaq.htm\"}</td><td>dbdemos-sessions</td><td>5</td><td>16377848</td><td>2023-11-30T05:15:59.646Z</td><td>0</td></tr><tr><td>null</td><td>{\"user_id\": \"02467029-f802-4ee5-ab0f-6f80a46c4320\", \"platform\": \"other\", \"event_id\": \"cf3f32c6-892f-449c-9e38-f6d1cacb610b\", \"event_date\": 1701321356, \"action\": \"view\", \"uri\": \"https://databricks.com/tag/tagabout.html\"}</td><td>dbdemos-sessions</td><td>5</td><td>16377849</td><td>2023-11-30T05:16:00.664Z</td><td>0</td></tr><tr><td>null</td><td>{\"user_id\": \"96d32b6c-fb2a-48a1-aea2-2e1df5de0234\", \"platform\": \"ios\", \"event_id\": \"4e148e37-c4f5-4a71-a5c5-121fa691c5b0\", \"event_date\": 1701321363, \"action\": \"view\", \"uri\": \"https://databricks.com/categories/search/categorysearch.php\"}</td><td>dbdemos-sessions</td><td>5</td><td>16377850</td><td>2023-11-30T05:16:00.665Z</td><td>0</td></tr><tr><td>null</td><td>{\"user_id\": \"6a4e890d-982b-46e1-b446-3688a723cdff\", \"platform\": \"ios\", \"event_id\": \"997ce01e-29c1-48e8-a06b-78e01c70afd5\", \"event_date\": 1701321338, \"action\": \"view\", \"uri\": \"https://databricks.com/categories/wp-content/tagauthor.htm\"}</td><td>dbdemos-sessions</td><td>8</td><td>16368566</td><td>2023-11-30T05:15:41.409Z</td><td>0</td></tr><tr><td>null</td><td>{\"user_id\": \"66bc4964-162b-41e1-972c-5ea1c76b408e\", \"platform\": \"other\", \"event_id\": \"3569771b-a769-486a-8ecc-0f56198d927c\", \"event_date\": 1701321340, \"action\": \"view\", \"uri\": \"https://databricks.com/list/app/appcategory.jsp\"}</td><td>dbdemos-sessions</td><td>8</td><td>16368567</td><td>2023-11-30T05:15:41.41Z</td><td>0</td></tr><tr><td>null</td><td>{\"user_id\": \"c1923944-ddfe-4ee3-a9da-be94482fa973\", \"platform\": \"ios\", \"event_id\": \"77e21fac-57af-45cb-a287-97c889a91143\", \"event_date\": 1701321343, \"action\": \"view\", \"uri\": \"https://databricks.com/wp-content/category/listfaq.php\"}</td><td>dbdemos-sessions</td><td>8</td><td>16368568</td><td>2023-11-30T05:15:41.412Z</td><td>0</td></tr><tr><td>null</td><td>{\"user_id\": \"8953da1a-a780-42b1-a6dc-ef3a8d881435\", \"platform\": \"ios\", \"event_id\": \"84a8351d-3319-4486-957d-38dfae26d54a\", \"event_date\": 1701321338, \"action\": \"view\", \"uri\": \"https://databricks.com/posts/categorieshomepage.php\"}</td><td>dbdemos-sessions</td><td>8</td><td>16368569</td><td>2023-11-30T05:15:42.415Z</td><td>0</td></tr><tr><td>null</td><td>{\"user_id\": \"c74ac38e-0a9b-4785-9a27-09d1d694e40c\", \"platform\": \"ios\", \"event_id\": \"d8b244bc-debe-401f-8de3-f7ec5b8830dc\", \"event_date\": 1701321338, \"action\": \"view\", \"uri\": \"https://databricks.com/main/blogcategory.html\"}</td><td>dbdemos-sessions</td><td>8</td><td>16368570</td><td>2023-11-30T05:15:42.419Z</td><td>0</td></tr><tr><td>null</td><td>{\"user_id\": \"f044d5b8-0357-44e1-b9cf-40ba0512eeb0\", \"platform\": \"android\", \"event_id\": \"8b7a4508-557f-4027-b1cf-adfef1415d58\", \"event_date\": 1701321339, \"action\": \"view\", \"uri\": \"https://databricks.com/posts/exploremain.html\"}</td><td>dbdemos-sessions</td><td>8</td><td>16368571</td><td>2023-11-30T05:15:43.423Z</td><td>0</td></tr><tr><td>null</td><td>{\"user_id\": \"af86d48a-b571-4050-acbc-145b24579671\", \"platform\": \"ios\", \"event_id\": \"53a4257d-6b25-4717-ad9b-717e474e95d9\", \"event_date\": 1701321347, \"action\": \"log\", \"uri\": \"https://databricks.com/tags/list/bloghome.php\"}</td><td>dbdemos-sessions</td><td>8</td><td>16368572</td><td>2023-11-30T05:15:43.426Z</td><td>0</td></tr><tr><td>null</td><td>{\"user_id\": \"9acce7bf-7baa-45f0-b598-93b24e8843fd\", \"platform\": \"ios\", \"event_id\": \"c0efc7a8-f3f7-4a95-a9c3-f88e11742f5d\", \"event_date\": 1701321339, \"action\": \"click\", \"uri\": \"https://databricks.com/tags/mainfaq.htm\"}</td><td>dbdemos-sessions</td><td>8</td><td>16368573</td><td>2023-11-30T05:15:43.427Z</td><td>0</td></tr><tr><td>null</td><td>{\"user_id\": \"8c78e34e-0201-4757-a82a-fa0d9f70beda\", \"platform\": \"other\", \"event_id\": \"96ec1bd5-eeaf-4df2-b1bc-1c08571ad356\", \"event_date\": 1701321346, \"action\": \"click\", \"uri\": \"https://databricks.com/categories/wp-content/appmain.html\"}</td><td>dbdemos-sessions</td><td>8</td><td>16368574</td><td>2023-11-30T05:15:44.446Z</td><td>0</td></tr><tr><td>null</td><td>{\"user_id\": \"81ce2faa-fb20-44a8-9c19-f4ac9020b1b2\", \"platform\": \"ios\", \"event_id\": \"3c08d33d-b441-4c82-8886-1fcb8857c83e\", \"event_date\": 1701321350, \"action\": \"click\", \"uri\": \"https://databricks.com/postsregister.html\"}</td><td>dbdemos-sessions</td><td>8</td><td>16368575</td><td>2023-11-30T05:15:46.463Z</td><td>0</td></tr><tr><td>null</td><td>{\"user_id\": \"1ee2129c-c85d-4ce8-af1f-765728e690fe\", \"platform\": \"ios\", \"event_id\": \"6ca055a2-eb2f-43ab-b5ac-c5b3d14b40e3\", \"event_date\": 1701321351, \"action\": \"view\", \"uri\": \"https://databricks.com/categories/wp-contentmain.htm\"}</td><td>dbdemos-sessions</td><td>8</td><td>16368576</td><td>2023-11-30T05:15:48.491Z</td><td>0</td></tr><tr><td>null</td><td>{\"user_id\": \"2a284ec7-9875-4c46-a431-bc41aef3bb00\", \"platform\": \"ios\", \"event_id\": \"dde2a798-7c95-483f-a346-f7b78408a598\", \"event_date\": 1701321344, \"action\": \"click\", \"uri\": \"https://databricks.com/posts/postspost.jsp\"}</td><td>dbdemos-sessions</td><td>8</td><td>16368577</td><td>2023-11-30T05:15:49.508Z</td><td>0</td></tr><tr><td>null</td><td>{\"user_id\": \"ed3224d7-fb6d-42ec-89c2-dc64f4f3be97\", \"platform\": \"other\", \"event_id\": \"46ec654f-ee96-46be-80a0-06e65a596e2f\", \"event_date\": 1701321349, \"action\": \"click\", \"uri\": \"https://databricks.com/appmain.jsp\"}</td><td>dbdemos-sessions</td><td>8</td><td>16368578</td><td>2023-11-30T05:15:50.512Z</td><td>0</td></tr><tr><td>null</td><td>{\"user_id\": \"6e102f64-abf8-441b-942d-19df3cde3714\", \"platform\": \"other\", \"event_id\": \"a45cf3ea-d3c6-4146-9a76-fcea449ef099\", \"event_date\": 1701321346, \"action\": \"click\", \"uri\": \"https://databricks.com/app/postsfaq.asp\"}</td><td>dbdemos-sessions</td><td>8</td><td>16368579</td><td>2023-11-30T05:15:50.514Z</td><td>0</td></tr><tr><td>null</td><td>{\"user_id\": \"89266034-ab6f-4298-a4f2-26ee888d009a\", \"platform\": \"other\", \"event_id\": \"95f76542-1061-4835-a8fa-0e812d84924e\", \"event_date\": 1701321351, \"action\": \"view\", \"uri\": \"https://databricks.com/category/tags/tagmain.htm\"}</td><td>dbdemos-sessions</td><td>8</td><td>16368580</td><td>2023-11-30T05:15:50.517Z</td><td>0</td></tr><tr><td>null</td><td>{\"user_id\": \"1983f70f-77a9-4412-a898-1c7e3312d2af\", \"platform\": \"other\", \"event_id\": \"f3ce0bfe-5b07-477a-ab40-0d9b456ad789\", \"event_date\": 1701321351, \"action\": \"click\", \"uri\": \"https://databricks.com/searchindex.php\"}</td><td>dbdemos-sessions</td><td>8</td><td>16368581</td><td>2023-11-30T05:15:52.534Z</td><td>0</td></tr><tr><td>null</td><td>{\"user_id\": \"5b573c0b-32f7-4f2a-b49c-1e8989ddc2b1\", \"platform\": \"ios\", \"event_id\": \"3c1f6924-0548-4baa-92f8-ed50e0b8f9da\", \"event_date\": 1701321355, \"action\": \"view\", \"uri\": \"https://databricks.com/search/searchhomepage.php\"}</td><td>dbdemos-sessions</td><td>8</td><td>16368582</td><td>2023-11-30T05:15:52.543Z</td><td>0</td></tr><tr><td>null</td><td>{\"user_id\": \"287d6985-e3c1-44f7-a700-2df164a43235\", \"platform\": \"other\", \"event_id\": \"8a8fadd7-c621-4090-a021-c76a01b7c624\", \"event_date\": 1701321353, \"action\": \"click\", \"uri\": \"https://databricks.com/blog/posts/bloglogin.htm\"}</td><td>dbdemos-sessions</td><td>8</td><td>16368583</td><td>2023-11-30T05:15:53.545Z</td><td>0</td></tr><tr><td>null</td><td>{\"user_id\": \"66fe7dd1-8f19-470c-b4b8-be75c4793e76\", \"platform\": \"other\", \"event_id\": \"c3c4421e-47db-4ee1-bcf4-c13f210fe7b4\", \"event_date\": 1701321351, \"action\": \"log\", \"uri\": \"https://databricks.com/wp-content/wp-content/mainprivacy.asp\"}</td><td>dbdemos-sessions</td><td>8</td><td>16368584</td><td>2023-11-30T05:15:54.56Z</td><td>0</td></tr><tr><td>null</td><td>{\"user_id\": \"604ae75c-5537-43da-bd92-5a235a891266\", \"platform\": \"other\", \"event_id\": \"3b80ab19-4307-4f4c-b9dc-845e480afe15\", \"event_date\": 1701321350, \"action\": \"view\", \"uri\": \"https://databricks.com/searchhomepage.htm\"}</td><td>dbdemos-sessions</td><td>8</td><td>16368585</td><td>2023-11-30T05:15:54.564Z</td><td>0</td></tr><tr><td>null</td><td>{\"user_id\": \"54371530-b4ba-4a28-9f12-2bc87205aded\", \"platform\": \"ios\", \"event_id\": \"4b38360f-bfbb-45a3-817a-59e71e6d4d3e\", \"event_date\": 1701321354, \"action\": \"view\", \"uri\": \"https://databricks.com/tag/blogregister.jsp\"}</td><td>dbdemos-sessions</td><td>8</td><td>16368586</td><td>2023-11-30T05:15:55.576Z</td><td>0</td></tr><tr><td>null</td><td>{\"user_id\": \"8ebe91ce-5ce9-4215-b90d-afa7ffc2031b\", \"platform\": \"ios\", \"event_id\": \"2f19be9a-5b6c-440d-bd34-4d2fdef1aa35\", \"event_date\": 1701321355, \"action\": \"view\", \"uri\": \"https://databricks.com/explore/tags/categorycategory.php\"}</td><td>dbdemos-sessions</td><td>8</td><td>16368587</td><td>2023-11-30T05:15:55.582Z</td><td>0</td></tr><tr><td>null</td><td>{\"user_id\": \"d78e2c84-3acd-4c26-a603-415b76c598ea\", \"platform\": \"other\", \"event_id\": \"1ba9c4ee-b7f2-4187-a30d-0c8aefd54495\", \"event_date\": 1701321360, \"action\": \"view\", \"uri\": \"https://databricks.com/app/blogsearch.jsp\"}</td><td>dbdemos-sessions</td><td>8</td><td>16368588</td><td>2023-11-30T05:15:56.588Z</td><td>0</td></tr><tr><td>null</td><td>{\"user_id\": \"18713496-a98e-49a4-ab88-9f029f18b4c5\", \"platform\": \"other\", \"event_id\": \"5787c540-3e91-4d20-b604-eefedcc8c99c\", \"event_date\": 1701321351, \"action\": \"view\", \"uri\": \"https://databricks.com/categorycategory.html\"}</td><td>dbdemos-sessions</td><td>8</td><td>16368589</td><td>2023-11-30T05:15:56.59Z</td><td>0</td></tr><tr><td>null</td><td>{\"user_id\": \"34265667-87e0-4a72-b118-befa1e41b2b7\", \"platform\": \"other\", \"event_id\": \"2b157601-38cb-483f-a09f-fc509074ce79\", \"event_date\": 1701321360, \"action\": \"view\", \"uri\": \"https://databricks.com/main/tagshomepage.php\"}</td><td>dbdemos-sessions</td><td>8</td><td>16368590</td><td>2023-11-30T05:15:56.593Z</td><td>0</td></tr><tr><td>null</td><td>{\"user_id\": \"0258e062-93d5-47ae-bf8f-5e946b856f1a\", \"platform\": \"other\", \"event_id\": \"5fd91013-e483-440a-8983-d156912a5897\", \"event_date\": 1701321358, \"action\": \"click\", \"uri\": \"https://databricks.com/postshome.php\"}</td><td>dbdemos-sessions</td><td>8</td><td>16368591</td><td>2023-11-30T05:15:56.595Z</td><td>0</td></tr><tr><td>null</td><td>{\"user_id\": \"471b9cf5-93fd-4290-927c-5f78456145dc\", \"platform\": \"ios\", \"event_id\": \"c4fe635c-28a6-4e03-b8ac-760e4016141f\", \"event_date\": 1701321358, \"action\": \"log\", \"uri\": \"https://databricks.com/blog/blogsearch.php\"}</td><td>dbdemos-sessions</td><td>8</td><td>16368592</td><td>2023-11-30T05:15:56.597Z</td><td>0</td></tr><tr><td>null</td><td>{\"user_id\": \"fe5cd354-51ff-49cb-98c2-ba91e24b9117\", \"platform\": \"android\", \"event_id\": \"69178998-e861-4bbf-a1c9-2b6242c972f3\", \"event_date\": 1701321359, \"action\": \"click\", \"uri\": \"https://databricks.com/categories/category/categoriesindex.php\"}</td><td>dbdemos-sessions</td><td>8</td><td>16368593</td><td>2023-11-30T05:15:57.6Z</td><td>0</td></tr><tr><td>null</td><td>{\"user_id\": \"b994d64b-9f05-4a97-a53d-d95128f1c0c3\", \"platform\": \"android\", \"event_id\": \"f8face26-c289-43b4-ad79-db0cb4fd23f6\", \"event_date\": 1701321358, \"action\": \"view\", \"uri\": \"https://databricks.com/categories/tagshomepage.html\"}</td><td>dbdemos-sessions</td><td>8</td><td>16368594</td><td>2023-11-30T05:15:58.625Z</td><td>0</td></tr><tr><td>null</td><td>{\"user_id\": \"65c8a970-e4e2-4fc7-9706-825f852acd65\", \"platform\": \"ios\", \"event_id\": \"5d704de8-44af-4fa7-909a-67bcfb705a1a\", \"event_date\": 1701321362, \"action\": \"log\", \"uri\": \"https://databricks.com/tags/wp-content/exploreregister.htm\"}</td><td>dbdemos-sessions</td><td>8</td><td>16368595</td><td>2023-11-30T05:16:00.666Z</td><td>0</td></tr><tr><td>null</td><td>{\"user_id\": \"c5d9d13b-3de4-4750-a7ff-c642e55c606e\", \"platform\": null, \"event_id\": \"981db5cc-42c2-4769-a587-d76735fc5b46\", \"event_date\": 1701321362, \"action\": \"click\", \"uri\": \"https://databricks.com/wp-contentmain.html\"}</td><td>dbdemos-sessions</td><td>8</td><td>16368596</td><td>2023-11-30T05:16:01.701Z</td><td>0</td></tr><tr><td>null</td><td>{\"user_id\": \"50e32c77-ce88-45b4-9b25-7c747615596b\", \"platform\": \"other\", \"event_id\": \"e8da17ff-48e2-4bdf-b3f4-2d5a8213e7dc\", \"event_date\": 1701321341, \"action\": \"view\", \"uri\": \"https://databricks.com/categories/listauthor.php\"}</td><td>dbdemos-sessions</td><td>6</td><td>16368407</td><td>2023-11-30T05:15:41.412Z</td><td>0</td></tr><tr><td>null</td><td>{\"user_id\": \"e4e079a9-103e-464b-8b2f-b7d906066bad\", \"platform\": \"android\", \"event_id\": \"9c12b7fe-6805-444f-b70d-816cb6dee3fa\", \"event_date\": 1701321341, \"action\": \"view\", \"uri\": \"https://databricks.com/wp-content/app/tagsmain.htm\"}</td><td>dbdemos-sessions</td><td>6</td><td>16368408</td><td>2023-11-30T05:15:42.415Z</td><td>0</td></tr><tr><td>null</td><td>{\"user_id\": \"8c78e34e-0201-4757-a82a-fa0d9f70beda\", \"platform\": \"ios\", \"event_id\": \"7de9f5eb-5f23-4388-a1c0-a44a5e111b02\", \"event_date\": 1701321344, \"action\": \"click\", \"uri\": \"https://databricks.com/blog/wp-content/listpost.html\"}</td><td>dbdemos-sessions</td><td>6</td><td>16368409</td><td>2023-11-30T05:15:43.429Z</td><td>0</td></tr><tr><td>null</td><td>{\"user_id\": \"f044d5b8-0357-44e1-b9cf-40ba0512eeb0\", \"platform\": \"other\", \"event_id\": \"35050fe1-2fa1-4457-af9b-7757bf0ea043\", \"event_date\": 1701321341, \"action\": \"view\", \"uri\": \"https://databricks.com/tagsabout.html\"}</td><td>dbdemos-sessions</td><td>6</td><td>16368410</td><td>2023-11-30T05:15:45.455Z</td><td>0</td></tr><tr><td>null</td><td>{\"user_id\": \"34265667-87e0-4a72-b118-befa1e41b2b7\", \"platform\": \"other\", \"event_id\": \"38ea669f-f6c7-45aa-a49a-de59f3ba1ac3\", \"event_date\": 1701321341, \"action\": \"view\", \"uri\": \"https://databricks.com/tagslogin.html\"}</td><td>dbdemos-sessions</td><td>6</td><td>16368411</td><td>2023-11-30T05:15:45.456Z</td><td>0</td></tr><tr><td>null</td><td>{\"user_id\": \"426ccd91-2409-4b5d-83e9-d582f552985e\", \"platform\": \"ios\", \"event_id\": \"d41e0005-418f-49f9-bcf3-540b8e46c058\", \"event_date\": 1701321344, \"action\": \"click\", \"uri\": \"https://databricks.com/tag/postsregister.asp\"}</td><td>dbdemos-sessions</td><td>6</td><td>16368412</td><td>2023-11-30T05:15:45.458Z</td><td>0</td></tr><tr><td>null</td><td>{\"user_id\": \"2a284ec7-9875-4c46-a431-bc41aef3bb00\", \"platform\": \"ios\", \"event_id\": null, \"event_date\": 1701321343, \"action\": \"view\", \"uri\": \"https://databricks.com/search/wp-contentpost.php\"}</td><td>dbdemos-sessions</td><td>6</td><td>16368413</td><td>2023-11-30T05:15:45.46Z</td><td>0</td></tr><tr><td>null</td><td>{\"user_id\": \"d205fb2a-dea2-45a1-85f1-caba13d64e95\", \"platform\": \"ios\", \"event_id\": \"ebd6114a-f716-4bf0-ae2b-2f2eebc0dae0\", \"event_date\": 1701321345, \"action\": \"view\", \"uri\": \"https://databricks.com/listfaq.html\"}</td><td>dbdemos-sessions</td><td>6</td><td>16368414</td><td>2023-11-30T05:15:46.462Z</td><td>0</td></tr><tr><td>null</td><td>{\"user_id\": \"6e102f64-abf8-441b-942d-19df3cde3714\", \"platform\": \"ios\", \"event_id\": \"208ddd03-735d-4181-828f-95dfe084c0ec\", \"event_date\": 1701321344, \"action\": \"view\", \"uri\": \"https://databricks.com/blogsearch.htm\"}</td><td>dbdemos-sessions</td><td>6</td><td>16368415</td><td>2023-11-30T05:15:46.464Z</td><td>0</td></tr><tr><td>null</td><td>{\"user_id\": \"24e73178-c559-4484-8349-7ea3c1f77105\", \"platform\": \"ios\", \"event_id\": \"691330ea-9e45-4e1b-918c-7e74b3edb131\", \"event_date\": 1701321346, \"action\": \"view\", \"uri\": \"https://databricks.com/category/explore/taghomepage.html\"}</td><td>dbdemos-sessions</td><td>6</td><td>16368416</td><td>2023-11-30T05:15:46.468Z</td><td>0</td></tr><tr><td>null</td><td>{\"user_id\": \"88019c0c-6cb1-4e46-a3ea-97661d159ba5\", \"platform\": \"ios\", \"event_id\": \"452dce78-2bd9-4259-8c5a-4320c052ec68\", \"event_date\": 1701321345, \"action\": \"click\", \"uri\": \"https://databricks.com/posts/tags/appindex.jsp\"}</td><td>dbdemos-sessions</td><td>6</td><td>16368417</td><td>2023-11-30T05:15:47.479Z</td><td>0</td></tr><tr><td>null</td><td>{\"user_id\": \"c55b143c-8132-4867-9320-72df1b6c0af4\", \"platform\": \"ios\", \"event_id\": \"d22035a3-a6ab-4ff4-9b55-60792347cee6\", \"event_date\": 1701321342, \"action\": \"view\", \"uri\": \"https://databricks.com/blog/wp-content/mainsearch.html\"}</td><td>dbdemos-sessions</td><td>6</td><td>16368418</td><td>2023-11-30T05:15:47.485Z</td><td>0</td></tr><tr><td>null</td><td>{\"user_id\": \"4f9a4975-58ad-4063-be2c-d7fafb9f9072\", \"platform\": \"ios\", \"event_id\": \"871fa8e4-7f46-44db-9785-aaa5b3d6095b\", \"event_date\": 1701321351, \"action\": \"view\", \"uri\": \"https://databricks.com/tag/tags/searchmain.html\"}</td><td>dbdemos-sessions</td><td>6</td><td>16368419</td><td>2023-11-30T05:15:48.491Z</td><td>0</td></tr><tr><td>null</td><td>{\"user_id\": \"954c2940-2415-4618-89e3-8f4147680ac1\", \"platform\": \"ios\", \"event_id\": \"0e6e1c8d-0205-4236-ba20-998308bac9cb\", \"event_date\": 1701321349, \"action\": \"view\", \"uri\": \"https://databricks.com/explore/main/appterms.html\"}</td><td>dbdemos-sessions</td><td>6</td><td>16368420</td><td>2023-11-30T05:15:48.494Z</td><td>0</td></tr><tr><td>null</td><td>{\"user_id\": \"6937cb27-2941-49c8-9431-ef4836329ae6\", \"platform\": \"ios\", \"event_id\": \"31bebade-296b-44ef-b5e2-b5db4fe1a715\", \"event_date\": 1701321349, \"action\": \"view\", \"uri\": \"https://databricks.com/explore/wp-contentsearch.html\"}</td><td>dbdemos-sessions</td><td>6</td><td>16368421</td><td>2023-11-30T05:15:48.496Z</td><td>0</td></tr><tr><td>null</td><td>{\"user_id\": \"a1801d71-661b-4b13-99c5-46b48e26295d\", \"platform\": \"ios\", \"event_id\": \"0a416aba-c489-4aa5-bf67-583b242e0745\", \"event_date\": 1701321345, \"action\": \"click\", \"uri\": \"https://databricks.com/categoriessearch.html\"}</td><td>dbdemos-sessions</td><td>6</td><td>16368422</td><td>2023-11-30T05:15:48.496Z</td><td>0</td></tr><tr><td>null</td><td>{\"user_id\": \"f044d5b8-0357-44e1-b9cf-40ba0512eeb0\", \"platform\": \"other\", \"event_id\": \"0553264c-5844-4c8f-9fc3-7cebc9ed7102\", \"event_date\": 1701321345, \"action\": \"click\", \"uri\": \"https://databricks.com/categoryhomepage.asp\"}</td><td>dbdemos-sessions</td><td>6</td><td>16368423</td><td>2023-11-30T05:15:49.502Z</td><td>0</td></tr><tr><td>null</td><td>{\"user_id\": \"301ed5d3-8d3d-4e1e-96da-0043610a5c98\", \"platform\": \"other\", \"event_id\": \"5c104dd5-ce49-45fa-9404-994149af8c5b\", \"event_date\": 1701321349, \"action\": \"click\", \"uri\": \"https://databricks.com/explore/mainauthor.html\"}</td><td>dbdemos-sessions</td><td>6</td><td>16368424</td><td>2023-11-30T05:15:49.505Z</td><td>0</td></tr><tr><td>null</td><td>{\"user_id\": \"d6b698c1-d982-4afd-913f-a4ba28177397\", \"platform\": \"ios\", \"event_id\": \"574ed7cb-adff-420f-b95c-64256ed6d02b\", \"event_date\": 1701321351, \"action\": \"click\", \"uri\": \"https://databricks.com/list/search/tagssearch.html\"}</td><td>dbdemos-sessions</td><td>6</td><td>16368425</td><td>2023-11-30T05:15:49.508Z</td><td>0</td></tr><tr><td>null</td><td>{\"user_id\": \"d5c1965f-4903-4b86-895d-f9cce7d9c963\", \"platform\": \"ios\", \"event_id\": \"36949ef5-1c63-417c-be6d-b74e7bf76ea3\", \"event_date\": 1701321352, \"action\": null, \"uri\": \"https://databricks.com/blog/categoriesregister.html\"}</td><td>dbdemos-sessions</td><td>6</td><td>16368426</td><td>2023-11-30T05:15:51.524Z</td><td>0</td></tr><tr><td>null</td><td>{\"user_id\": \"1e7b7295-6965-4c14-ab59-388167c9baeb\", \"platform\": \"other\", \"event_id\": \"e9affb2b-7d4f-4fb0-8e62-196321641325\", \"event_date\": 1701321346, \"action\": \"view\", \"uri\": \"https://databricks.com/searchhome.html\"}</td><td>dbdemos-sessions</td><td>6</td><td>16368427</td><td>2023-11-30T05:15:51.529Z</td><td>0</td></tr><tr><td>null</td><td>{\"user_id\": \"d6b698c1-d982-4afd-913f-a4ba28177397\", \"platform\": \"other\", \"event_id\": \"e680a7ba-2651-41a9-af8b-086047e5bc32\", \"event_date\": 1701321349, \"action\": \"click\", \"uri\": \"https://databricks.com/listprivacy.html\"}</td><td>dbdemos-sessions</td><td>6</td><td>16368428</td><td>2023-11-30T05:15:51.532Z</td><td>0</td></tr><tr><td>null</td><td>{\"user_id\": \"02467029-f802-4ee5-ab0f-6f80a46c4320\", \"platform\": \"ios\", \"event_id\": \"be77dc6b-3e26-4af5-8897-7bc3235611c3\", \"event_date\": 1701321354, \"action\": \"click\", \"uri\": \"https://databricks.com/blog/blog/listhomepage.php\"}</td><td>dbdemos-sessions</td><td>6</td><td>16368429</td><td>2023-11-30T05:15:52.541Z</td><td>0</td></tr><tr><td>null</td><td>{\"user_id\": \"a1801d71-661b-4b13-99c5-46b48e26295d\", \"platform\": \"other\", \"event_id\": \"f3396bd7-77ea-4340-8b67-0b24169d5688\", \"event_date\": 1701321353, \"action\": \"log\", \"uri\": \"https://databricks.com/searchindex.php\"}</td><td>dbdemos-sessions</td><td>6</td><td>16368430</td><td>2023-11-30T05:15:52.543Z</td><td>0</td></tr><tr><td>null</td><td>{\"user_id\": \"f044d5b8-0357-44e1-b9cf-40ba0512eeb0\", \"platform\": \"android\", \"event_id\": \"9baa7056-ae7d-4f07-a7df-ecb77c0a57fd\", \"event_date\": 1701321353, \"action\": \"view\", \"uri\": \"https://databricks.com/tags/postsauthor.html\"}</td><td>dbdemos-sessions</td><td>6</td><td>16368431</td><td>2023-11-30T05:15:53.549Z</td><td>0</td></tr><tr><td>null</td><td>{\"user_id\": \"af86d48a-b571-4050-acbc-145b24579671\", \"platform\": \"ios\", \"event_id\": \"1801630c-43fc-4c2f-9023-1cf4f34c7399\", \"event_date\": 1701321350, \"action\": \"view\", \"uri\": \"https://databricks.com/appabout.html\"}</td><td>dbdemos-sessions</td><td>6</td><td>16368432</td><td>2023-11-30T05:15:54.562Z</td><td>0</td></tr><tr><td>null</td><td>{\"user_id\": \"66fe7dd1-8f19-470c-b4b8-be75c4793e76\", \"platform\": \"other\", \"event_id\": \"b9e08127-aec0-4dec-a183-b0d7b092cadc\", \"event_date\": 1701321353, \"action\": \"view\", \"uri\": \"https://databricks.com/wp-contentmain.jsp\"}</td><td>dbdemos-sessions</td><td>6</td><td>16368433</td><td>2023-11-30T05:15:56.591Z</td><td>0</td></tr><tr><td>null</td><td>{\"user_id\": \"5d81aa0b-2986-4b18-abbd-b085380a1bb6\", \"platform\": \"other\", \"event_id\": \"4b984e02-a4ce-4da5-b5a9-9f986ae93e23\", \"event_date\": 1701321358, \"action\": \"view\", \"uri\": \"https://databricks.com/searchprivacy.jsp\"}</td><td>dbdemos-sessions</td><td>6</td><td>16368434</td><td>2023-11-30T05:15:56.592Z</td><td>0</td></tr><tr><td>null</td><td>{\"user_id\": \"7cd07a2d-d835-470d-a0c8-b3400c915ac7\", \"platform\": \"other\", \"event_id\": \"62e1c905-6f1b-4e57-9515-5c1775040e95\", \"event_date\": 1701321360, \"action\": \"view\", \"uri\": \"https://databricks.com/blog/searchcategory.asp\"}</td><td>dbdemos-sessions</td><td>6</td><td>16368435</td><td>2023-11-30T05:15:57.599Z</td><td>0</td></tr><tr><td>null</td><td>{\"user_id\": \"2a284ec7-9875-4c46-a431-bc41aef3bb00\", \"platform\": \"android\", \"event_id\": \"321a0b40-464a-4e73-93a5-cdc10e7eadbf\", \"event_date\": 1701321353, \"action\": \"view\", \"uri\": \"https://databricks.com/wp-content/tagmain.asp\"}</td><td>dbdemos-sessions</td><td>6</td><td>16368436</td><td>2023-11-30T05:15:57.604Z</td><td>0</td></tr><tr><td>null</td><td>{\"user_id\": \"96d32b6c-fb2a-48a1-aea2-2e1df5de0234\", \"platform\": \"other\", \"event_id\": \"fefe8581-abc7-4a8d-af3c-fb3fdcc304e8\", \"event_date\": 1701321360, \"action\": \"view\", \"uri\": \"https://databricks.com/posts/apphome.html\"}</td><td>dbdemos-sessions</td><td>6</td><td>16368437</td><td>2023-11-30T05:15:57.605Z</td><td>0</td></tr><tr><td>null</td><td>{\"user_id\": \"ff3f9bdd-d0a3-4d28-b151-454d5e88546b\", \"platform\": \"other\", \"event_id\": \"ea853260-1bbf-4606-901e-c684373b315a\", \"event_date\": 1701321356, \"action\": \"log\", \"uri\": \"https://databricks.com/postsauthor.php\"}</td><td>dbdemos-sessions</td><td>6</td><td>16368438</td><td>2023-11-30T05:15:59.635Z</td><td>0</td></tr><tr><td>null</td><td>{\"user_id\": \"5374937a-2fa0-47af-a197-a01ef24a80ad\", \"platform\": \"ios\", \"event_id\": \"7e57f872-34b9-46c4-8a6e-ebcb584defe2\", \"event_date\": 1701321364, \"action\": \"view\", \"uri\": \"https://databricks.com/apphome.php\"}</td><td>dbdemos-sessions</td><td>6</td><td>16368439</td><td>2023-11-30T05:16:00.66Z</td><td>0</td></tr><tr><td>null</td><td>{\"user_id\": \"bb041937-335f-4592-9b28-75cbd928cd41\", \"platform\": \"ios\", \"event_id\": \"023576fe-e9a5-45bc-9f6b-b4565883136c\", \"event_date\": 1701321363, \"action\": \"view\", \"uri\": \"https://databricks.com/categoriescategory.jsp\"}</td><td>dbdemos-sessions</td><td>6</td><td>16368440</td><td>2023-11-30T05:16:01.669Z</td><td>0</td></tr><tr><td>null</td><td>{\"user_id\": \"5374937a-2fa0-47af-a197-a01ef24a80ad\", \"platform\": \"ios\", \"event_id\": \"61cbde35-1dfc-4f41-8f95-97aaf88a27ac\", \"event_date\": 1701321361, \"action\": \"view\", \"uri\": \"https://databricks.com/categories/search/wp-contentcategory.php\"}</td><td>dbdemos-sessions</td><td>6</td><td>16368441</td><td>2023-11-30T05:16:01.672Z</td><td>0</td></tr><tr><td>null</td><td>{\"user_id\": \"d78e2c84-3acd-4c26-a603-415b76c598ea\", \"platform\": \"ios\", \"event_id\": \"bfaec573-03a7-4275-9db0-d3a7b0020620\", \"event_date\": 1701321338, \"action\": \"view\", \"uri\": \"https://databricks.com/tagregister.jsp\"}</td><td>dbdemos-sessions</td><td>2</td><td>16371826</td><td>2023-11-30T05:15:40.402Z</td><td>0</td></tr><tr><td>null</td><td>{\"user_id\": \"fe5cd354-51ff-49cb-98c2-ba91e24b9117\", \"platform\": \"android\", \"event_id\": \"40c16df4-f52b-464c-862c-23d3077d753f\", \"event_date\": 1701321336, \"action\": \"click\", \"uri\": \"https://databricks.com/blogindex.jsp\"}</td><td>dbdemos-sessions</td><td>2</td><td>16371827</td><td>2023-11-30T05:15:40.403Z</td><td>0</td></tr><tr><td>null</td><td>{\"user_id\": \"5e349b64-9ae8-4bf6-919b-33890e3444fb\", \"platform\": \"ios\", \"event_id\": \"d78d1fc9-a112-44e6-bf94-483ef8e03657\", \"event_date\": 1701321343, \"action\": \"click\", \"uri\": \"https://databricks.com/posts/categories/searchabout.htm\"}</td><td>dbdemos-sessions</td><td>2</td><td>16371828</td><td>2023-11-30T05:15:40.405Z</td><td>0</td></tr><tr><td>null</td><td>{\"user_id\": \"d469e072-41ae-4497-b541-de287868682f\", \"platform\": \"ios\", \"event_id\": \"ecd38b1b-5431-41e9-af35-3995308de194\", \"event_date\": 1701321347, \"action\": \"view\", \"uri\": \"https://databricks.com/mainabout.html\"}</td><td>dbdemos-sessions</td><td>2</td><td>16371829</td><td>2023-11-30T05:15:43.421Z</td><td>0</td></tr><tr><td>null</td><td>{\"user_id\": \"d6b698c1-d982-4afd-913f-a4ba28177397\", \"platform\": \"ios\", \"event_id\": \"d40a7861-5e52-40e1-81ff-3ac9233ebdcf\", \"event_date\": 1701321343, \"action\": \"view\", \"uri\": \"https://databricks.com/search/wp-contenthomepage.htm\"}</td><td>dbdemos-sessions</td><td>2</td><td>16371830</td><td>2023-11-30T05:15:43.432Z</td><td>0</td></tr><tr><td>null</td><td>{\"user_id\": \"287d6985-e3c1-44f7-a700-2df164a43235\", \"platform\": \"ios\", \"event_id\": \"dfd60bb6-9c10-44f7-909c-046e53c5da18\", \"event_date\": 1701321342, \"action\": \"log\", \"uri\": \"https://databricks.com/tagspost.php\"}</td><td>dbdemos-sessions</td><td>2</td><td>16371831</td><td>2023-11-30T05:15:44.44Z</td><td>0</td></tr><tr><td>null</td><td>{\"user_id\": \"c74ac38e-0a9b-4785-9a27-09d1d694e40c\", \"platform\": \"ios\", \"event_id\": \"1e9469be-bd24-4150-80f3-8d0ef1e4ce6d\", \"event_date\": 1701321348, \"action\": \"click\", \"uri\": \"https://databricks.com/explore/app/categoriesabout.html\"}</td><td>dbdemos-sessions</td><td>2</td><td>16371832</td><td>2023-11-30T05:15:44.445Z</td><td>0</td></tr><tr><td>null</td><td>{\"user_id\": \"54371530-b4ba-4a28-9f12-2bc87205aded\", \"platform\": \"ios\", \"event_id\": \"080e2da8-630e-47e1-85d1-c9516589edbc\", \"event_date\": 1701321342, \"action\": \"view\", \"uri\": \"https://databricks.com/posts/main/appmain.jsp\"}</td><td>dbdemos-sessions</td><td>2</td><td>16371833</td><td>2023-11-30T05:15:45.453Z</td><td>0</td></tr><tr><td>null</td><td>{\"user_id\": \"7354e19a-6b74-4581-9278-7d2a1fa506d2\", \"platform\": \"ios\", \"event_id\": \"fc4ae30a-e464-4018-baaf-1674e50d8e55\", \"event_date\": 1701321343, \"action\": \"view\", \"uri\": \"https://databricks.com/categoryindex.php\"}</td><td>dbdemos-sessions</td><td>2</td><td>16371834</td><td>2023-11-30T05:15:45.454Z</td><td>0</td></tr><tr><td>null</td><td>{\"user_id\": \"301ed5d3-8d3d-4e1e-96da-0043610a5c98\", \"platform\": \"other\", \"event_id\": \"bb1aca4d-539e-462b-b4fd-7b3eccb1854c\", \"event_date\": 1701321344, \"action\": \"view\", \"uri\": \"https://databricks.com/app/tagsindex.html\"}</td><td>dbdemos-sessions</td><td>2</td><td>16371835</td><td>2023-11-30T05:15:45.459Z</td><td>0</td></tr><tr><td>null</td><td>{\"user_id\": \"c6520f02-c12e-4be1-bb5d-e86400691485\", \"platform\": \"other\", \"event_id\": \"863bc281-efd1-4b27-a95e-65b98a72a5c4\", \"event_date\": 1701321346, \"action\": \"click\", \"uri\": \"https://databricks.com/mainsearch.htm\"}</td><td>dbdemos-sessions</td><td>2</td><td>16371836</td><td>2023-11-30T05:15:46.462Z</td><td>0</td></tr><tr><td>null</td><td>{\"user_id\": \"d5c1965f-4903-4b86-895d-f9cce7d9c963\", \"platform\": \"other\", \"event_id\": \"d40fe94b-624d-4c0c-b322-26c360de3c9a\", \"event_date\": 1701321341, \"action\": \"view\", \"uri\": \"https://databricks.com/category/posts/categoriesmain.jsp\"}</td><td>dbdemos-sessions</td><td>2</td><td>16371837</td><td>2023-11-30T05:15:46.464Z</td><td>0</td></tr><tr><td>null</td><td>{\"user_id\": \"8e47e6d7-ef56-45ef-9779-3eb3fbb427f4\", \"platform\": \"android\", \"event_id\": \"51cd27a5-c037-478f-9ab9-62e72f31d570\", \"event_date\": 1701321342, \"action\": \"view\", \"uri\": \"https://databricks.com/categoriespost.html\"}</td><td>dbdemos-sessions</td><td>2</td><td>16371838</td><td>2023-11-30T05:15:46.465Z</td><td>0</td></tr><tr><td>null</td><td>{\"user_id\": \"93ef5cae-b681-4e40-8e10-cae4283b2b04\", \"platform\": \"ios\", \"event_id\": \"809f7e61-c25a-4ff1-80fe-0cfdc2be28d1\", \"event_date\": 1701321342, \"action\": \"view\", \"uri\": \"https://databricks.com/category/tag/blogabout.jsp\"}</td><td>dbdemos-sessions</td><td>2</td><td>16371839</td><td>2023-11-30T05:15:47.471Z</td><td>0</td></tr><tr><td>null</td><td>{\"user_id\": \"54371530-b4ba-4a28-9f12-2bc87205aded\", \"platform\": \"ios\", \"event_id\": \"e8da2f18-c27b-440c-9568-c6e48ddb897a\", \"event_date\": 1701321345, \"action\": \"click\", \"uri\": \"https://databricks.com/app/tagshome.htm\"}</td><td>dbdemos-sessions</td><td>2</td><td>16371840</td><td>2023-11-30T05:15:47.478Z</td><td>0</td></tr><tr><td>null</td><td>{\"user_id\": \"8ebe91ce-5ce9-4215-b90d-afa7ffc2031b\", \"platform\": \"ios\", \"event_id\": \"fe8166bf-da69-43bc-9fc5-bcc885ff6c33\", \"event_date\": 1701321348, \"action\": \"view\", \"uri\": \"https://databricks.com/search/searchabout.php\"}</td><td>dbdemos-sessions</td><td>2</td><td>16371841</td><td>2023-11-30T05:15:47.487Z</td><td>0</td></tr><tr><td>null</td><td>{\"user_id\": \"8953da1a-a780-42b1-a6dc-ef3a8d881435\", \"platform\": \"android\", \"event_id\": \"8e8a7b3c-19fa-4564-9eec-43d45eb41bb7\", \"event_date\": 1701321345, \"action\": \"view\", \"uri\": \"https://databricks.com/search/listcategory.html\"}</td><td>dbdemos-sessions</td><td>2</td><td>16371842</td><td>2023-11-30T05:15:48.492Z</td><td>0</td></tr><tr><td>null</td><td>{\"user_id\": \"fa31e0c0-f1fa-432f-b6ae-5bf2146cca06\", \"platform\": \"android\", \"event_id\": \"5879924a-4984-4c70-987a-b056047501ce\", \"event_date\": 1701321351, \"action\": \"view\", \"uri\": \"https://databricks.com/blog/categoryterms.php\"}</td><td>dbdemos-sessions</td><td>2</td><td>16371843</td><td>2023-11-30T05:15:48.497Z</td><td>0</td></tr><tr><td>null</td><td>{\"user_id\": \"f5bb0598-15cc-4ded-8192-0bd8262a8941\", \"platform\": \"other\", \"event_id\": \"2be7b86b-817c-4093-a262-e59088815ca0\", \"event_date\": 1701321350, \"action\": \"log\", \"uri\": \"https://databricks.com/searchhome.html\"}</td><td>dbdemos-sessions</td><td>2</td><td>16371844</td><td>2023-11-30T05:15:49.504Z</td><td>0</td></tr><tr><td>null</td><td>{\"user_id\": \"d6b698c1-d982-4afd-913f-a4ba28177397\", \"platform\": \"ios\", \"event_id\": \"fa870e61-ddb2-46d2-97ef-b4ecc74d36eb\", \"event_date\": 1701321347, \"action\": \"view\", \"uri\": \"https://databricks.com/main/main/mainterms.jsp\"}</td><td>dbdemos-sessions</td><td>2</td><td>16371845</td><td>2023-11-30T05:15:50.518Z</td><td>0</td></tr><tr><td>null</td><td>{\"user_id\": \"7354e19a-6b74-4581-9278-7d2a1fa506d2\", \"platform\": \"ios\", \"event_id\": \"d678a686-a2b9-42d3-bc44-44e4d5ff6314\", \"event_date\": 1701321350, \"action\": \"click\", \"uri\": \"https://databricks.com/appregister.htm\"}</td><td>dbdemos-sessions</td><td>2</td><td>16371846</td><td>2023-11-30T05:15:51.527Z</td><td>0</td></tr><tr><td>null</td><td>{\"user_id\": \"954c2940-2415-4618-89e3-8f4147680ac1\", \"platform\": \"ios\", \"event_id\": \"c961d014-3ad6-4d5b-8149-8008b58ea8f0\", \"event_date\": 1701321356, \"action\": \"click\", \"uri\": \"https://databricks.com/main/categories/postshome.html\"}</td><td>dbdemos-sessions</td><td>2</td><td>16371847</td><td>2023-11-30T05:15:53.549Z</td><td>0</td></tr><tr><td>null</td><td>{\"user_id\": \"4f9a4975-58ad-4063-be2c-d7fafb9f9072\", \"platform\": \"android\", \"event_id\": \"21d6629b-61c8-4d60-b339-f3f198d51fa9\", \"event_date\": 1701321350, \"action\": \"view\", \"uri\": \"https://databricks.com/appfaq.html\"}</td><td>dbdemos-sessions</td><td>2</td><td>16371848</td><td>2023-11-30T05:15:54.558Z</td><td>0</td></tr><tr><td>null</td><td>{\"user_id\": \"c74ac38e-0a9b-4785-9a27-09d1d694e40c\", \"platform\": \"other\", \"event_id\": \"028de2e7-dc52-4b52-94bf-ee70605e9cd8\", \"event_date\": 1701321355, \"action\": \"log\", \"uri\": \"https://databricks.com/wp-content/tag/exploreindex.html\"}</td><td>dbdemos-sessions</td><td>2</td><td>16371849</td><td>2023-11-30T05:15:54.563Z</td><td>0</td></tr><tr><td>null</td><td>{\"user_id\": \"40e8d981-8436-4139-9da7-4e0a71be1874\", \"platform\": \"ios\", \"event_id\": \"e5506c2a-e380-49f3-b3ee-a6a00193dfa2\", \"event_date\": 1701321350, \"action\": \"view\", \"uri\": \"https://databricks.com/posts/exploreindex.html\"}</td><td>dbdemos-sessions</td><td>2</td><td>16371850</td><td>2023-11-30T05:15:54.565Z</td><td>0</td></tr><tr><td>null</td><td>{\"user_id\": \"d205fb2a-dea2-45a1-85f1-caba13d64e95\", \"platform\": \"ios\", \"event_id\": \"b8866674-7dbb-4103-a6a8-5db57378eb15\", \"event_date\": 1701321354, \"action\": \"click\", \"uri\": \"https://databricks.com/app/wp-content/blogabout.html\"}</td><td>dbdemos-sessions</td><td>2</td><td>16371851</td><td>2023-11-30T05:15:55.57Z</td><td>0</td></tr><tr><td>null</td><td>{\"user_id\": \"e4e079a9-103e-464b-8b2f-b7d906066bad\", \"platform\": \"android\", \"event_id\": \"135ab167-38bd-410d-a647-dd5a4f20fbaa\", \"event_date\": 1701321356, \"action\": null, \"uri\": \"https://databricks.com/main/taglogin.html\"}</td><td>dbdemos-sessions</td><td>2</td><td>16371852</td><td>2023-11-30T05:15:55.572Z</td><td>0</td></tr><tr><td>null</td><td>{\"user_id\": \"a1801d71-661b-4b13-99c5-46b48e26295d\", \"platform\": \"ios\", \"event_id\": \"46dfc392-62e5-4272-8948-585b039a0574\", \"event_date\": 1701321356, \"action\": \"view\", \"uri\": \"https://databricks.com/category/searchcategory.php\"}</td><td>dbdemos-sessions</td><td>2</td><td>16371853</td><td>2023-11-30T05:15:56.596Z</td><td>0</td></tr><tr><td>null</td><td>{\"user_id\": \"4f31815d-ad8f-4b3e-9ef3-d7b80e4bf770\", \"platform\": \"ios\", \"event_id\": \"3a13d93d-8a18-4fcd-ae68-0c68ff4d7258\", \"event_date\": 1701321356, \"action\": \"log\", \"uri\": \"https://databricks.com/search/wp-contentauthor.html\"}</td><td>dbdemos-sessions</td><td>2</td><td>16371854</td><td>2023-11-30T05:15:56.597Z</td><td>0</td></tr><tr><td>null</td><td>{\"user_id\": \"301ed5d3-8d3d-4e1e-96da-0043610a5c98\", \"platform\": \"other\", \"event_id\": \"0b01a489-9289-4cef-bd08-6a6b73d69610\", \"event_date\": 1701321356, \"action\": \"click\", \"uri\": \"https://databricks.com/blogauthor.php\"}</td><td>dbdemos-sessions</td><td>2</td><td>16371855</td><td>2023-11-30T05:15:57.602Z</td><td>0</td></tr><tr><td>null</td><td>{\"user_id\": \"6e102f64-abf8-441b-942d-19df3cde3714\", \"platform\": \"other\", \"event_id\": \"44de90ff-58ad-4af1-8946-f6831ce68488\", \"event_date\": 1701321355, \"action\": \"view\", \"uri\": \"https://databricks.com/tag/searchabout.htm\"}</td><td>dbdemos-sessions</td><td>2</td><td>16371856</td><td>2023-11-30T05:15:58.614Z</td><td>0</td></tr><tr><td>null</td><td>{\"user_id\": \"426ccd91-2409-4b5d-83e9-d582f552985e\", \"platform\": \"ios\", \"event_id\": \"3b275a7f-8214-4c0c-80af-0656674fd12e\", \"event_date\": 1701321356, \"action\": \"log\", \"uri\": \"https://databricks.com/tag/mainauthor.php\"}</td><td>dbdemos-sessions</td><td>2</td><td>16371857</td><td>2023-11-30T05:15:58.621Z</td><td>0</td></tr><tr><td>null</td><td>{\"user_id\": \"b5f792ab-766c-4aa2-86d8-02a7e7abcfc0\", \"platform\": \"ios\", \"event_id\": \"75b223b3-3d47-411b-a776-fff244dbd429\", \"event_date\": 1701321359, \"action\": \"click\", \"uri\": \"https://databricks.com/categorymain.htm\"}</td><td>dbdemos-sessions</td><td>2</td><td>16371858</td><td>2023-11-30T05:15:59.657Z</td><td>0</td></tr><tr><td>null</td><td>{\"user_id\": \"f044d5b8-0357-44e1-b9cf-40ba0512eeb0\", \"platform\": \"android\", \"event_id\": \"c7135ca0-d816-4db0-88ee-199930a1e724\", \"event_date\": 1701321356, \"action\": \"click\", \"uri\": \"https://databricks.com/search/searchabout.html\"}</td><td>dbdemos-sessions</td><td>2</td><td>16371859</td><td>2023-11-30T05:16:00.663Z</td><td>0</td></tr><tr><td>null</td><td>{\"user_id\": \"af86d48a-b571-4050-acbc-145b24579671\", \"platform\": \"other\", \"event_id\": \"2b241629-a619-4230-a1ac-a52e1b8f8f41\", \"event_date\": 1701321362, \"action\": \"view\", \"uri\": \"https://databricks.com/explore/searchlogin.htm\"}</td><td>dbdemos-sessions</td><td>2</td><td>16371860</td><td>2023-11-30T05:16:00.663Z</td><td>0</td></tr><tr><td>null</td><td>{\"user_id\": \"287d6985-e3c1-44f7-a700-2df164a43235\", \"platform\": \"ios\", \"event_id\": \"e4f647b6-3ea4-4624-8c54-dce0a4fec4c0\", \"event_date\": 1701321365, \"action\": \"log\", \"uri\": \"https://databricks.com/wp-content/postssearch.html\"}</td><td>dbdemos-sessions</td><td>2</td><td>16371861</td><td>2023-11-30T05:16:01.672Z</td><td>0</td></tr><tr><td>null</td><td>{\"user_id\": \"cdf5504b-598d-4c9e-aa2c-01d320d7a397\", \"platform\": \"other\", \"event_id\": \"e7729bb9-6af5-48a2-8fff-2b692be02ab7\", \"event_date\": 1701321362, \"action\": \"view\", \"uri\": \"https://databricks.com/category/mainlogin.html\"}</td><td>dbdemos-sessions</td><td>2</td><td>16371862</td><td>2023-11-30T05:16:01.679Z</td><td>0</td></tr><tr><td>null</td><td>{\"user_id\": \"604ae75c-5537-43da-bd92-5a235a891266\", \"platform\": \"ios\", \"event_id\": \"e4eee14e-c0fa-4524-9910-6cc7be104b87\", \"event_date\": 1701321338, \"action\": null, \"uri\": \"https://databricks.com/categoriessearch.htm\"}</td><td>dbdemos-sessions</td><td>7</td><td>16373385</td><td>2023-11-30T05:15:40.405Z</td><td>0</td></tr><tr><td>null</td><td>{\"user_id\": \"d205fb2a-dea2-45a1-85f1-caba13d64e95\", \"platform\": \"ios\", \"event_id\": \"785c3bc6-2463-46ca-9fc0-e5ab104a2790\", \"event_date\": 1701321345, \"action\": \"view\", \"uri\": \"https://databricks.com/search/explorepost.htm\"}</td><td>dbdemos-sessions</td><td>7</td><td>16373386</td><td>2023-11-30T05:15:42.414Z</td><td>0</td></tr><tr><td>null</td><td>{\"user_id\": \"c55b143c-8132-4867-9320-72df1b6c0af4\", \"platform\": \"ios\", \"event_id\": \"28473a9e-6b6f-4269-b517-c9ee1eea77c7\", \"event_date\": 1701321341, \"action\": \"view\", \"uri\": \"https://databricks.com/blog/posts/mainindex.htm\"}</td><td>dbdemos-sessions</td><td>7</td><td>16373387</td><td>2023-11-30T05:15:42.419Z</td><td>0</td></tr><tr><td>null</td><td>{\"user_id\": \"604ae75c-5537-43da-bd92-5a235a891266\", \"platform\": \"ios\", \"event_id\": \"4056fb52-dc2a-4305-9a83-226708fd69aa\", \"event_date\": 1701321342, \"action\": null, \"uri\": \"https://databricks.com/app/list/explorefaq.php\"}</td><td>dbdemos-sessions</td><td>7</td><td>16373388</td><td>2023-11-30T05:15:43.429Z</td><td>0</td></tr><tr><td>null</td><td>{\"user_id\": \"c6520f02-c12e-4be1-bb5d-e86400691485\", \"platform\": \"other\", \"event_id\": \"908ffcb1-f099-46b2-88c4-10c2ccc046ed\", \"event_date\": 1701321346, \"action\": \"view\", \"uri\": \"https://databricks.com/categoriesprivacy.html\"}</td><td>dbdemos-sessions</td><td>7</td><td>16373389</td><td>2023-11-30T05:15:44.435Z</td><td>0</td></tr><tr><td>null</td><td>{\"user_id\": \"d205fb2a-dea2-45a1-85f1-caba13d64e95\", \"platform\": \"other\", \"event_id\": \"173efeef-b718-4d36-93a6-148daede3d43\", \"event_date\": 1701321339, \"action\": \"view\", \"uri\": \"https://databricks.com/wp-contentauthor.htm\"}</td><td>dbdemos-sessions</td><td>7</td><td>16373390</td><td>2023-11-30T05:15:44.436Z</td><td>0</td></tr><tr><td>null</td><td>{\"user_id\": \"93ef5cae-b681-4e40-8e10-cae4283b2b04\", \"platform\": \"other\", \"event_id\": \"33f09176-93e9-4356-8719-ab23c7f537ce\", \"event_date\": 1701321347, \"action\": \"click\", \"uri\": \"https://databricks.com/mainhomepage.html\"}</td><td>dbdemos-sessions</td><td>7</td><td>16373391</td><td>2023-11-30T05:15:44.437Z</td><td>0</td></tr><tr><td>null</td><td>{\"user_id\": \"50e32c77-ce88-45b4-9b25-7c747615596b\", \"platform\": \"ios\", \"event_id\": \"e944c7dd-417d-4435-8362-61cdfda77df3\", \"event_date\": 1701321343, \"action\": \"view\", \"uri\": \"https://databricks.com/mainhomepage.jsp\"}</td><td>dbdemos-sessions</td><td>7</td><td>16373392</td><td>2023-11-30T05:15:44.446Z</td><td>0</td></tr><tr><td>null</td><td>{\"user_id\": \"1ee2129c-c85d-4ce8-af1f-765728e690fe\", \"platform\": \"ios\", \"event_id\": \"b8a3b6ac-ba5e-4056-9441-f20d226da3d8\", \"event_date\": 1701321347, \"action\": \"click\", \"uri\": \"https://databricks.com/postsmain.htm\"}</td><td>dbdemos-sessions</td><td>7</td><td>16373393</td><td>2023-11-30T05:15:45.452Z</td><td>0</td></tr><tr><td>null</td><td>{\"user_id\": \"54371530-b4ba-4a28-9f12-2bc87205aded\", \"platform\": \"ios\", \"event_id\": \"080e2da8-630e-47e1-85d1-c9516589edbc\", \"event_date\": 1701321342, \"action\": \"view\", \"uri\": \"https://databricks.com/posts/main/appmain.jsp\"}</td><td>dbdemos-sessions</td><td>7</td><td>16373394</td><td>2023-11-30T05:15:45.454Z</td><td>0</td></tr><tr><td>null</td><td>{\"user_id\": \"3156d251-7429-4b23-9101-59f0209cddf8\", \"platform\": \"other\", \"event_id\": \"a1343739-2df0-4fbf-be17-db07d22f1c4e\", \"event_date\": 1701321349, \"action\": \"click\", \"uri\": \"https://databricks.com/tag/explorefaq.php\"}</td><td>dbdemos-sessions</td><td>7</td><td>16373395</td><td>2023-11-30T05:15:45.454Z</td><td>0</td></tr><tr><td>null</td><td>{\"user_id\": \"c0cc8056-d05b-4d33-9c43-a575021a62a8\", \"platform\": \"other\", \"event_id\": \"54a5b2cf-1681-48c1-bc40-665ee51db0d5\", \"event_date\": 1701321345, \"action\": \"view\", \"uri\": \"https://databricks.com/categories/categories/postshome.php\"}</td><td>dbdemos-sessions</td><td>7</td><td>16373396</td><td>2023-11-30T05:15:46.463Z</td><td>0</td></tr><tr><td>null</td><td>{\"user_id\": \"1983f70f-77a9-4412-a898-1c7e3312d2af\", \"platform\": \"ios\", \"event_id\": \"958c024e-2122-498f-95ed-658ba5a984ce\", \"event_date\": 1701321343, \"action\": \"view\", \"uri\": \"https://databricks.com/blogfaq.htm\"}</td><td>dbdemos-sessions</td><td>7</td><td>16373397</td><td>2023-11-30T05:15:46.465Z</td><td>0</td></tr><tr><td>null</td><td>{\"user_id\": \"8f2385f0-f59d-4ebc-ac67-d3d5427e9a95\", \"platform\": \"ios\", \"event_id\": \"1ede8873-e55e-4024-89f7-282f20250d08\", \"event_date\": 1701321342, \"action\": \"view\", \"uri\": \"https://databricks.com/list/appfaq.htm\"}</td><td>dbdemos-sessions</td><td>7</td><td>16373398</td><td>2023-11-30T05:15:47.483Z</td><td>0</td></tr><tr><td>null</td><td>{\"user_id\": \"24e73178-c559-4484-8349-7ea3c1f77105\", \"platform\": \"ios\", \"event_id\": \"1c87fba9-c224-4228-802e-2cb03803a11f\", \"event_date\": 1701321345, \"action\": \"click\", \"uri\": \"https://databricks.com/posts/list/tagpost.html\"}</td><td>dbdemos-sessions</td><td>7</td><td>16373399</td><td>2023-11-30T05:15:47.486Z</td><td>0</td></tr><tr><td>null</td><td>{\"user_id\": \"8ebe91ce-5ce9-4215-b90d-afa7ffc2031b\", \"platform\": \"ios\", \"event_id\": \"fe8166bf-da69-43bc-9fc5-bcc885ff6c33\", \"event_date\": 1701321348, \"action\": \"view\", \"uri\": \"https://databricks.com/search/searchabout.php\"}</td><td>dbdemos-sessions</td><td>7</td><td>16373400</td><td>2023-11-30T05:15:47.487Z</td><td>0</td></tr><tr><td>null</td><td>{\"user_id\": \"4861923d-8618-4684-9212-0e380364e29e\", \"platform\": \"other\", \"event_id\": \"1a2cd6c1-2974-4fc3-a4f2-e3e3a80957c4\", \"event_date\": 1701321346, \"action\": \"view\", \"uri\": \"https://databricks.com/wp-content/categories/wp-contentcategory.php\"}</td><td>dbdemos-sessions</td><td>7</td><td>16373401</td><td>2023-11-30T05:15:47.487Z</td><td>0</td></tr><tr><td>null</td><td>{\"user_id\": \"af86d48a-b571-4050-acbc-145b24579671\", \"platform\": \"other\", \"event_id\": \"c911db44-4618-4018-89a3-85623122bde7\", \"event_date\": 1701321344, \"action\": \"view\", \"uri\": \"https://databricks.com/wp-content/searchhomepage.html\"}</td><td>dbdemos-sessions</td><td>7</td><td>16373402</td><td>2023-11-30T05:15:48.493Z</td><td>0</td></tr><tr><td>null</td><td>{\"user_id\": \"c55b143c-8132-4867-9320-72df1b6c0af4\", \"platform\": \"other\", \"event_id\": \"d87557f2-19be-4b8d-b0b2-607f3e8ab85f\", \"event_date\": 1701321349, \"action\": \"view\", \"uri\": \"https://databricks.com/wp-content/blog/tagterms.html\"}</td><td>dbdemos-sessions</td><td>7</td><td>16373403</td><td>2023-11-30T05:15:48.495Z</td><td>0</td></tr><tr><td>null</td><td>{\"user_id\": \"5e349b64-9ae8-4bf6-919b-33890e3444fb\", \"platform\": \"other\", \"event_id\": \"5a0082ee-31b8-4694-97e6-4ed3897f28cd\", \"event_date\": 1701321349, \"action\": \"view\", \"uri\": \"https://databricks.com/app/mainsearch.asp\"}</td><td>dbdemos-sessions</td><td>7</td><td>16373404</td><td>2023-11-30T05:15:49.505Z</td><td>0</td></tr><tr><td>null</td><td>{\"user_id\": \"fa31e0c0-f1fa-432f-b6ae-5bf2146cca06\", \"platform\": \"ios\", \"event_id\": \"dcba41cb-4630-4e52-a3eb-7813ca76c06f\", \"event_date\": 1701321349, \"action\": \"click\", \"uri\": \"https://databricks.com/explore/maincategory.asp\"}</td><td>dbdemos-sessions</td><td>7</td><td>16373405</td><td>2023-11-30T05:15:49.509Z</td><td>0</td></tr><tr><td>null</td><td>{\"user_id\": \"4b652069-51b2-4caa-bcea-acb355f2b75d\", \"platform\": \"ios\", \"event_id\": \"cb6546a0-5bd1-4bd4-bc69-0740691425fc\", \"event_date\": 1701321346, \"action\": \"view\", \"uri\": \"https://databricks.com/mainhomepage.php\"}</td><td>dbdemos-sessions</td><td>7</td><td>16373406</td><td>2023-11-30T05:15:49.51Z</td><td>0</td></tr><tr><td>null</td><td>{\"user_id\": \"ca395091-d1d8-4621-8a10-ee8ff2db1409\", \"platform\": \"ios\", \"event_id\": \"0b6b9f39-1c81-4a86-b56f-fce8a708bbb4\", \"event_date\": 1701321348, \"action\": \"click\", \"uri\": \"https://databricks.com/wp-content/mainlogin.asp\"}</td><td>dbdemos-sessions</td><td>7</td><td>16373407</td><td>2023-11-30T05:15:50.518Z</td><td>0</td></tr><tr><td>null</td><td>{\"user_id\": \"c6520f02-c12e-4be1-bb5d-e86400691485\", \"platform\": \"ios\", \"event_id\": \"a7238518-24e0-4d72-928c-579fdd3d97ef\", \"event_date\": 1701321355, \"action\": \"log\", \"uri\": \"https://databricks.com/wp-content/searchterms.htm\"}</td><td>dbdemos-sessions</td><td>7</td><td>16373408</td><td>2023-11-30T05:15:51.521Z</td><td>0</td></tr><tr><td>null</td><td>{\"user_id\": \"18713496-a98e-49a4-ab88-9f029f18b4c5\", \"platform\": \"other\", \"event_id\": \"396f6fe1-812e-4d17-a35c-c78a910bd6f8\", \"event_date\": 1701321354, \"action\": \"click\", \"uri\": \"https://databricks.com/tags/blog/postshomepage.htm\"}</td><td>dbdemos-sessions</td><td>7</td><td>16373409</td><td>2023-11-30T05:15:51.526Z</td><td>0</td></tr><tr><td>null</td><td>{\"user_id\": \"3156d251-7429-4b23-9101-59f0209cddf8\", \"platform\": \"ios\", \"event_id\": \"ed7095b8-daa3-46cf-8be6-dcbdcecc3761\", \"event_date\": 1701321356, \"action\": \"view\", \"uri\": \"https://databricks.com/wp-content/search/categorylogin.jsp\"}</td><td>dbdemos-sessions</td><td>7</td><td>16373410</td><td>2023-11-30T05:15:53.546Z</td><td>0</td></tr><tr><td>null</td><td>{\"user_id\": \"66fe7dd1-8f19-470c-b4b8-be75c4793e76\", \"platform\": \"other\", \"event_id\": \"c0675949-1cdd-41af-8ded-845a054ffbe1\", \"event_date\": 1701321356, \"action\": \"view\", \"uri\": \"https://databricks.com/tags/app/categoryregister.asp\"}</td><td>dbdemos-sessions</td><td>7</td><td>16373411</td><td>2023-11-30T05:15:53.548Z</td><td>0</td></tr><tr><td>null</td><td>{\"user_id\": \"d205fb2a-dea2-45a1-85f1-caba13d64e95\", \"platform\": \"other\", \"event_id\": \"f8b0e574-58c3-4d0a-a87e-193afecfde40\", \"event_date\": 1701321350, \"action\": \"view\", \"uri\": \"https://databricks.com/list/listabout.asp\"}</td><td>dbdemos-sessions</td><td>7</td><td>16373412</td><td>2023-11-30T05:15:54.555Z</td><td>0</td></tr><tr><td>null</td><td>{\"user_id\": \"4f9a4975-58ad-4063-be2c-d7fafb9f9072\", \"platform\": \"ios\", \"event_id\": \"20487b41-6606-4bc1-b92f-53b20291a3cf\", \"event_date\": 1701321356, \"action\": \"click\", \"uri\": \"https://databricks.com/blog/categoryfaq.php\"}</td><td>dbdemos-sessions</td><td>7</td><td>16373413</td><td>2023-11-30T05:15:56.588Z</td><td>0</td></tr><tr><td>null</td><td>{\"user_id\": \"5374937a-2fa0-47af-a197-a01ef24a80ad\", \"platform\": \"other\", \"event_id\": \"94701eb2-99d4-4549-8cbe-b08fdee2c5c5\", \"event_date\": 1701321357, \"action\": \"view\", \"uri\": \"https://databricks.com/categories/wp-content/blogsearch.php\"}</td><td>dbdemos-sessions</td><td>7</td><td>16373414</td><td>2023-11-30T05:15:57.6Z</td><td>0</td></tr><tr><td>null</td><td>{\"user_id\": \"287d6985-e3c1-44f7-a700-2df164a43235\", \"platform\": \"ios\", \"event_id\": \"f6939a56-16c5-44ef-bcdc-bcf3d01d0754\", \"event_date\": 1701321355, \"action\": \"view\", \"uri\": \"https://databricks.com/main/tag/exploreregister.html\"}</td><td>dbdemos-sessions</td><td>7</td><td>16373415</td><td>2023-11-30T05:15:57.601Z</td><td>0</td></tr><tr><td>null</td><td>{\"user_id\": \"4f9a4975-58ad-4063-be2c-d7fafb9f9072\", \"platform\": \"other\", \"event_id\": \"65515065-d280-401c-a551-c3280c1d716f\", \"event_date\": 1701321362, \"action\": \"view\", \"uri\": \"https://databricks.com/categoriesfaq.php\"}</td><td>dbdemos-sessions</td><td>7</td><td>16373416</td><td>2023-11-30T05:15:58.613Z</td><td>0</td></tr><tr><td>null</td><td>{\"user_id\": \"d278a0e6-7c83-43e8-a0b4-db949eca8412\", \"platform\": \"ios\", \"event_id\": \"0af356dc-3f8b-49bd-b7b6-00b77106611e\", \"event_date\": 1701321360, \"action\": \"log\", \"uri\": \"https://databricks.com/list/app/listterms.html\"}</td><td>dbdemos-sessions</td><td>7</td><td>16373417</td><td>2023-11-30T05:15:58.626Z</td><td>0</td></tr><tr><td>null</td><td>{\"user_id\": \"174669fd-183b-461e-9633-ceacc9d3e277\", \"platform\": \"ios\", \"event_id\": \"6dfce626-d715-4259-8da5-57bd6c531fe1\", \"event_date\": 1701321353, \"action\": \"view\", \"uri\": \"https://databricks.com/listhome.php\"}</td><td>dbdemos-sessions</td><td>7</td><td>16373418</td><td>2023-11-30T05:15:58.63Z</td><td>0</td></tr><tr><td>null</td><td>{\"user_id\": \"8c37dfb5-4ce9-40ee-aabd-6d2e41387b89\", \"platform\": \"other\", \"event_id\": \"84807182-2a7b-41ee-98b2-b78bea392807\", \"event_date\": 1701321357, \"action\": \"click\", \"uri\": \"https://databricks.com/blog/appmain.html\"}</td><td>dbdemos-sessions</td><td>7</td><td>16373419</td><td>2023-11-30T05:15:59.633Z</td><td>0</td></tr><tr><td>null</td><td>{\"user_id\": \"54371530-b4ba-4a28-9f12-2bc87205aded\", \"platform\": \"other\", \"event_id\": \"a175286c-5cae-4567-a124-15eef5914a63\", \"event_date\": 1701321355, \"action\": null, \"uri\": \"https://databricks.com/tag/explore/appsearch.html\"}</td><td>dbdemos-sessions</td><td>7</td><td>16373420</td><td>2023-11-30T05:15:59.635Z</td><td>0</td></tr><tr><td>null</td><td>{\"user_id\": \"d4df099d-1d1a-4cf8-b0fb-d0249886106f\", \"platform\": \"other\", \"event_id\": \"d360e839-412f-4c99-bbb4-0e8d465f97ad\", \"event_date\": 1701321356, \"action\": \"view\", \"uri\": \"https://databricks.com/mainfaq.html\"}</td><td>dbdemos-sessions</td><td>7</td><td>16373421</td><td>2023-11-30T05:15:59.655Z</td><td>0</td></tr><tr><td>null</td><td>{\"user_id\": \"554db164-c09e-40fd-ab95-e90a9a739753\", \"platform\": \"ios\", \"event_id\": \"e314e560-ec3d-42a4-85b7-98e3a7acbd3f\", \"event_date\": 1701321363, \"action\": \"click\", \"uri\": \"https://databricks.com/tagcategory.htm\"}</td><td>dbdemos-sessions</td><td>7</td><td>16373422</td><td>2023-11-30T05:16:00.667Z</td><td>0</td></tr><tr><td>null</td><td>{\"user_id\": \"301ed5d3-8d3d-4e1e-96da-0043610a5c98\", \"platform\": \"other\", \"event_id\": \"a0539bd0-1d4d-4d25-ac9c-0d26c6d38f73\", \"event_date\": 1701321357, \"action\": \"view\", \"uri\": \"https://databricks.com/categories/categoriesregister.asp\"}</td><td>dbdemos-sessions</td><td>7</td><td>16373423</td><td>2023-11-30T05:16:01.69Z</td><td>0</td></tr><tr><td>null</td><td>{\"user_id\": \"174669fd-183b-461e-9633-ceacc9d3e277\", \"platform\": \"ios\", \"event_id\": \"f87f8dab-d39c-43f3-b796-df27cfb0421a\", \"event_date\": 1701321361, \"action\": \"view\", \"uri\": \"https://databricks.com/category/posts/categorypost.htm\"}</td><td>dbdemos-sessions</td><td>7</td><td>16373424</td><td>2023-11-30T05:16:01.699Z</td><td>0</td></tr><tr><td>null</td><td>{\"user_id\": \"94ba5e9c-d1c8-4837-8c7f-e3e20d6a180e\", \"platform\": \"ios\", \"event_id\": \"689881c3-2a76-40e1-8a9f-615d8abea73d\", \"event_date\": 1701321340, \"action\": \"view\", \"uri\": \"https://databricks.com/wp-contentterms.html\"}</td><td>dbdemos-sessions</td><td>9</td><td>16376596</td><td>2023-11-30T05:15:40.402Z</td><td>0</td></tr><tr><td>null</td><td>{\"user_id\": \"ed3224d7-fb6d-42ec-89c2-dc64f4f3be97\", \"platform\": \"ios\", \"event_id\": \"1a3a5d77-da7d-4126-97ba-6aa59645f291\", \"event_date\": 1701321340, \"action\": \"view\", \"uri\": \"https://databricks.com/list/appcategory.jsp\"}</td><td>dbdemos-sessions</td><td>9</td><td>16376597</td><td>2023-11-30T05:15:41.408Z</td><td>0</td></tr><tr><td>null</td><td>{\"user_id\": \"18713496-a98e-49a4-ab88-9f029f18b4c5\", \"platform\": \"other\", \"event_id\": \"803bde51-6fda-40c7-a93c-dd91fe1dacb0\", \"event_date\": 1701321338, \"action\": \"view\", \"uri\": \"https://databricks.com/app/main/listcategory.html\"}</td><td>dbdemos-sessions</td><td>9</td><td>16376598</td><td>2023-11-30T05:15:43.422Z</td><td>0</td></tr><tr><td>null</td><td>{\"user_id\": \"f5bb0598-15cc-4ded-8192-0bd8262a8941\", \"platform\": \"ios\", \"event_id\": \"ac8eb2e0-f0d2-46bc-a746-166347fe88a9\", \"event_date\": 1701321344, \"action\": \"view\", \"uri\": \"https://databricks.com/explorehomepage.html\"}</td><td>dbdemos-sessions</td><td>9</td><td>16376599</td><td>2023-11-30T05:15:43.427Z</td><td>0</td></tr><tr><td>null</td><td>{\"user_id\": \"cdf5504b-598d-4c9e-aa2c-01d320d7a397\", \"platform\": \"other\", \"event_id\": \"778cce6d-c7b8-4421-9c4b-0b76258c14bc\", \"event_date\": 1701321344, \"action\": \"log\", \"uri\": \"https://databricks.com/posts/tags/categorypost.php\"}</td><td>dbdemos-sessions</td><td>9</td><td>16376600</td><td>2023-11-30T05:15:44.443Z</td><td>0</td></tr><tr><td>null</td><td>{\"user_id\": \"c0cc8056-d05b-4d33-9c43-a575021a62a8\", \"platform\": \"android\", \"event_id\": \"5d127bfc-25e5-4eef-9c96-de2e3f3b60b9\", \"event_date\": 1701321348, \"action\": \"view\", \"uri\": \"https://databricks.com/app/explorehome.jsp\"}</td><td>dbdemos-sessions</td><td>9</td><td>16376601</td><td>2023-11-30T05:15:45.449Z</td><td>0</td></tr><tr><td>null</td><td>{\"user_id\": \"6a4e890d-982b-46e1-b446-3688a723cdff\", \"platform\": \"ios\", \"event_id\": \"2f05f442-9b6b-4a67-9ed4-102ac57d8636\", \"event_date\": 1701321343, \"action\": \"view\", \"uri\": \"https://databricks.com/wp-content/blog/tagscategory.html\"}</td><td>dbdemos-sessions</td><td>9</td><td>16376602</td><td>2023-11-30T05:15:45.452Z</td><td>0</td></tr><tr><td>null</td><td>{\"user_id\": \"1ee2129c-c85d-4ce8-af1f-765728e690fe\", \"platform\": \"ios\", \"event_id\": \"b8a3b6ac-ba5e-4056-9441-f20d226da3d8\", \"event_date\": 1701321347, \"action\": \"click\", \"uri\": \"https://databricks.com/postsmain.htm\"}</td><td>dbdemos-sessions</td><td>9</td><td>16376603</td><td>2023-11-30T05:15:45.453Z</td><td>0</td></tr><tr><td>null</td><td>{\"user_id\": \"f5bb0598-15cc-4ded-8192-0bd8262a8941\", \"platform\": \"ios\", \"event_id\": \"5e4ae938-7d5e-468d-a85b-82024dd76624\", \"event_date\": 1701321341, \"action\": \"view\", \"uri\": \"https://databricks.com/appmain.jsp\"}</td><td>dbdemos-sessions</td><td>9</td><td>16376604</td><td>2023-11-30T05:15:45.457Z</td><td>0</td></tr><tr><td>null</td><td>{\"user_id\": \"0258e062-93d5-47ae-bf8f-5e946b856f1a\", \"platform\": \"ios\", \"event_id\": \"26f5dc3b-302a-42f1-8538-f8a256d7bcc5\", \"event_date\": 1701321340, \"action\": \"click\", \"uri\": \"https://databricks.com/blogfaq.htm\"}</td><td>dbdemos-sessions</td><td>9</td><td>16376605</td><td>2023-11-30T05:15:45.459Z</td><td>0</td></tr><tr><td>null</td><td>{\"user_id\": \"301ed5d3-8d3d-4e1e-96da-0043610a5c98\", \"platform\": \"android\", \"event_id\": \"fb5e8323-10be-4775-bca0-b09915c97b38\", \"event_date\": 1701321349, \"action\": \"click\", \"uri\": \"https://databricks.com/categories/search/postshome.php\"}</td><td>dbdemos-sessions</td><td>9</td><td>16376606</td><td>2023-11-30T05:15:46.467Z</td><td>0</td></tr><tr><td>null</td><td>{\"user_id\": \"6a4e890d-982b-46e1-b446-3688a723cdff\", \"platform\": \"ios\", \"event_id\": \"f74ed30e-4049-456c-bbb5-90eab9b79908\", \"event_date\": 1701321351, \"action\": \"view\", \"uri\": \"https://databricks.com/category/postslogin.php\"}</td><td>dbdemos-sessions</td><td>9</td><td>16376607</td><td>2023-11-30T05:15:47.472Z</td><td>0</td></tr><tr><td>null</td><td>{\"user_id\": \"0127e44a-dc59-4075-9036-a53bda11b20a\", \"platform\": \"other\", \"event_id\": \"7a9b51d5-5d4c-4a1e-a8e1-be716aad8dc6\", \"event_date\": 1701321345, \"action\": \"view\", \"uri\": \"https://databricks.com/app/listlogin.htm\"}</td><td>dbdemos-sessions</td><td>9</td><td>16376608</td><td>2023-11-30T05:15:47.473Z</td><td>0</td></tr><tr><td>null</td><td>{\"user_id\": \"de0d7892-d459-42e9-9476-87884e4b2734\", \"platform\": \"ios\", \"event_id\": \"d64fb6e3-c272-4d2f-8864-7f7ca8f60e14\", \"event_date\": 1701321348, \"action\": \"view\", \"uri\": \"https://databricks.com/listregister.php\"}</td><td>dbdemos-sessions</td><td>9</td><td>16376609</td><td>2023-11-30T05:15:48.49Z</td><td>0</td></tr><tr><td>null</td><td>{\"user_id\": \"d67456b2-03ee-4375-8fea-94aa6a87c4d8\", \"platform\": \"ios\", \"event_id\": \"0d4d3a72-00a4-490b-bd55-98100bbdf120\", \"event_date\": 1701321345, \"action\": \"view\", \"uri\": \"https://databricks.com/searchlogin.htm\"}</td><td>dbdemos-sessions</td><td>9</td><td>16376610</td><td>2023-11-30T05:15:48.492Z</td><td>0</td></tr><tr><td>null</td><td>{\"user_id\": \"18713496-a98e-49a4-ab88-9f029f18b4c5\", \"platform\": \"ios\", \"event_id\": \"4760cd23-5e27-4ec9-8978-f33918470e33\", \"event_date\": 1701321348, \"action\": \"view\", \"uri\": \"https://databricks.com/app/searchhomepage.html\"}</td><td>dbdemos-sessions</td><td>9</td><td>16376611</td><td>2023-11-30T05:15:49.502Z</td><td>0</td></tr><tr><td>null</td><td>{\"user_id\": \"81ce2faa-fb20-44a8-9c19-f4ac9020b1b2\", \"platform\": \"ios\", \"event_id\": \"125d3a76-7ad4-47b7-b407-30614467bf14\", \"event_date\": 1701321353, \"action\": \"log\", \"uri\": \"https://databricks.com/explore/category/searchindex.jsp\"}</td><td>dbdemos-sessions</td><td>9</td><td>16376612</td><td>2023-11-30T05:15:50.513Z</td><td>0</td></tr><tr><td>null</td><td>{\"user_id\": \"18713496-a98e-49a4-ab88-9f029f18b4c5\", \"platform\": \"other\", \"event_id\": \"a71d43fe-4cbc-43a5-81c0-35f64b0eb768\", \"event_date\": 1701321345, \"action\": \"click\", \"uri\": \"https://databricks.com/app/category/categoriessearch.html\"}</td><td>dbdemos-sessions</td><td>9</td><td>16376613</td><td>2023-11-30T05:15:50.515Z</td><td>0</td></tr><tr><td>null</td><td>{\"user_id\": \"ff3f9bdd-d0a3-4d28-b151-454d5e88546b\", \"platform\": \"other\", \"event_id\": \"fd630003-5fec-4769-b09f-c9fcc7ba7fb3\", \"event_date\": 1701321351, \"action\": \"view\", \"uri\": \"https://databricks.com/explore/explore/tagsauthor.html\"}</td><td>dbdemos-sessions</td><td>9</td><td>16376614</td><td>2023-11-30T05:15:50.515Z</td><td>0</td></tr><tr><td>null</td><td>{\"user_id\": \"5b573c0b-32f7-4f2a-b49c-1e8989ddc2b1\", \"platform\": \"ios\", \"event_id\": \"63915bd0-2fbf-49c6-9cb5-4c2422d1a101\", \"event_date\": 1701321354, \"action\": \"click\", \"uri\": \"https://databricks.com/app/blogprivacy.htm\"}</td><td>dbdemos-sessions</td><td>9</td><td>16376615</td><td>2023-11-30T05:15:50.519Z</td><td>0</td></tr><tr><td>null</td><td>{\"user_id\": \"66fe7dd1-8f19-470c-b4b8-be75c4793e76\", \"platform\": \"ios\", \"event_id\": \"1a516aa7-5264-44d1-8c73-234463ab9fe7\", \"event_date\": 1701321346, \"action\": \"click\", \"uri\": \"https://databricks.com/categoryhomepage.jsp\"}</td><td>dbdemos-sessions</td><td>9</td><td>16376616</td><td>2023-11-30T05:15:51.527Z</td><td>0</td></tr><tr><td>null</td><td>{\"user_id\": \"8c78e34e-0201-4757-a82a-fa0d9f70beda\", \"platform\": \"other\", \"event_id\": \"38473a84-fa6b-40d4-91c0-1d20c7c01d2e\", \"event_date\": 1701321353, \"action\": \"click\", \"uri\": \"https://databricks.com/wp-content/tags/exploreabout.html\"}</td><td>dbdemos-sessions</td><td>9</td><td>16376617</td><td>2023-11-30T05:15:51.53Z</td><td>0</td></tr><tr><td>null</td><td>{\"user_id\": \"9acce7bf-7baa-45f0-b598-93b24e8843fd\", \"platform\": \"ios\", \"event_id\": \"ea49e777-34fc-4c7e-a9fc-b153b7cde737\", \"event_date\": 1701321349, \"action\": \"view\", \"uri\": \"https://databricks.com/app/posts/listhomepage.php\"}</td><td>dbdemos-sessions</td><td>9</td><td>16376618</td><td>2023-11-30T05:15:52.539Z</td><td>0</td></tr><tr><td>null</td><td>{\"user_id\": \"2a284ec7-9875-4c46-a431-bc41aef3bb00\", \"platform\": \"android\", \"event_id\": \"ce2c85aa-9ebc-46bc-91f7-5ea2958f19b9\", \"event_date\": 1701321351, \"action\": \"click\", \"uri\": \"https://databricks.com/list/postslogin.html\"}</td><td>dbdemos-sessions</td><td>9</td><td>16376619</td><td>2023-11-30T05:15:53.55Z</td><td>0</td></tr><tr><td>null</td><td>{\"user_id\": \"5374937a-2fa0-47af-a197-a01ef24a80ad\", \"platform\": \"android\", \"event_id\": \"e1c8352a-a9d0-45f1-88a4-19568b8c7094\", \"event_date\": 1701321352, \"action\": \"view\", \"uri\": \"https://databricks.com/categoriesfaq.htm\"}</td><td>dbdemos-sessions</td><td>9</td><td>16376620</td><td>2023-11-30T05:15:54.557Z</td><td>0</td></tr><tr><td>null</td><td>{\"user_id\": \"c6520f02-c12e-4be1-bb5d-e86400691485\", \"platform\": \"ios\", \"event_id\": \"455d354f-0edf-4c2a-9b0b-0c892fc40e65\", \"event_date\": 1701321352, \"action\": \"view\", \"uri\": \"https://databricks.com/wp-contentfaq.php\"}</td><td>dbdemos-sessions</td><td>9</td><td>16376621</td><td>2023-11-30T05:15:55.569Z</td><td>0</td></tr><tr><td>null</td><td>{\"user_id\": \"0258e062-93d5-47ae-bf8f-5e946b856f1a\", \"platform\": \"android\", \"event_id\": \"0800ce99-761a-4717-9b31-b1ddaca67d83\", \"event_date\": 1701321356, \"action\": \"log\", \"uri\": \"https://databricks.com/main/main/exploreauthor.jsp\"}</td><td>dbdemos-sessions</td><td>9</td><td>16376622</td><td>2023-11-30T05:15:55.581Z</td><td>0</td></tr><tr><td>null</td><td>{\"user_id\": \"fe5cd354-51ff-49cb-98c2-ba91e24b9117\", \"platform\": \"ios\", \"event_id\": \"c59e20e1-468c-4e50-98fc-508264318512\", \"event_date\": 1701321353, \"action\": \"click\", \"uri\": \"https://databricks.com/main/tagsauthor.php\"}</td><td>dbdemos-sessions</td><td>9</td><td>16376623</td><td>2023-11-30T05:15:56.589Z</td><td>0</td></tr><tr><td>null</td><td>{\"user_id\": \"50e32c77-ce88-45b4-9b25-7c747615596b\", \"platform\": \"ios\", \"event_id\": \"5631b028-2a28-45c1-bb91-3f415839ca7f\", \"event_date\": 1701321354, \"action\": \"view\", \"uri\": \"https://databricks.com/category/posts/postsfaq.htm\"}</td><td>dbdemos-sessions</td><td>9</td><td>16376624</td><td>2023-11-30T05:15:56.594Z</td><td>0</td></tr><tr><td>null</td><td>{\"user_id\": \"287d6985-e3c1-44f7-a700-2df164a43235\", \"platform\": \"ios\", \"event_id\": \"f6939a56-16c5-44ef-bcdc-bcf3d01d0754\", \"event_date\": 1701321355, \"action\": \"view\", \"uri\": \"https://databricks.com/main/tag/exploreregister.html\"}</td><td>dbdemos-sessions</td><td>9</td><td>16376625</td><td>2023-11-30T05:15:57.6Z</td><td>0</td></tr><tr><td>null</td><td>{\"user_id\": \"69eb7a1d-ef3a-4d1e-868d-a4a145cb3de5\", \"platform\": \"ios\", \"event_id\": null, \"event_date\": 1701321359, \"action\": \"view\", \"uri\": \"https://databricks.com/tag/wp-content/explorelogin.html\"}</td><td>dbdemos-sessions</td><td>9</td><td>16376626</td><td>2023-11-30T05:15:57.602Z</td><td>0</td></tr><tr><td>null</td><td>{\"user_id\": \"b5f792ab-766c-4aa2-86d8-02a7e7abcfc0\", \"platform\": \"other\", \"event_id\": \"b0a4ce7a-46a0-4144-ba48-f37b8794eac9\", \"event_date\": 1701321360, \"action\": \"view\", \"uri\": \"https://databricks.com/tagsfaq.jsp\"}</td><td>dbdemos-sessions</td><td>9</td><td>16376627</td><td>2023-11-30T05:15:57.606Z</td><td>0</td></tr><tr><td>null</td><td>{\"user_id\": \"d205fb2a-dea2-45a1-85f1-caba13d64e95\", \"platform\": \"other\", \"event_id\": \"baf8d7a4-ad02-48f4-8d27-ada29e4abc97\", \"event_date\": 1701321357, \"action\": \"log\", \"uri\": \"https://databricks.com/blog/main/tagsabout.php\"}</td><td>dbdemos-sessions</td><td>9</td><td>16376628</td><td>2023-11-30T05:15:58.609Z</td><td>0</td></tr><tr><td>null</td><td>{\"user_id\": \"d78e2c84-3acd-4c26-a603-415b76c598ea\", \"platform\": \"ios\", \"event_id\": \"0eb23799-af5e-468f-82df-d2c675bf6a53\", \"event_date\": 1701321357, \"action\": \"view\", \"uri\": \"https://databricks.com/postsmain.php\"}</td><td>dbdemos-sessions</td><td>9</td><td>16376629</td><td>2023-11-30T05:15:58.61Z</td><td>0</td></tr><tr><td>null</td><td>{\"user_id\": \"5d81aa0b-2986-4b18-abbd-b085380a1bb6\", \"platform\": \"other\", \"event_id\": \"46247a1b-1a64-4fcc-a93f-9c498c1e2288\", \"event_date\": 1701321358, \"action\": \"view\", \"uri\": \"https://databricks.com/posts/list/mainabout.htm\"}</td><td>dbdemos-sessions</td><td>9</td><td>16376630</td><td>2023-11-30T05:15:58.619Z</td><td>0</td></tr><tr><td>null</td><td>{\"user_id\": \"4861923d-8618-4684-9212-0e380364e29e\", \"platform\": \"other\", \"event_id\": \"b27dc66e-05a5-4ea1-b980-992ff14134db\", \"event_date\": 1701321358, \"action\": \"click\", \"uri\": \"https://databricks.com/listfaq.htm\"}</td><td>dbdemos-sessions</td><td>9</td><td>16376631</td><td>2023-11-30T05:15:58.625Z</td><td>0</td></tr><tr><td>null</td><td>{\"user_id\": \"61a38add-9c06-48fa-ab29-c4b6fd9f5a53\", \"platform\": \"ios\", \"event_id\": \"c5662986-cb1b-423e-81c1-840e15c52338\", \"event_date\": 1701321362, \"action\": \"view\", \"uri\": \"https://databricks.com/category/app/tagregister.html\"}</td><td>dbdemos-sessions</td><td>9</td><td>16376632</td><td>2023-11-30T05:15:58.629Z</td><td>0</td></tr><tr><td>null</td><td>{\"user_id\": \"8c37dfb5-4ce9-40ee-aabd-6d2e41387b89\", \"platform\": \"ios\", \"event_id\": \"6cbd640b-3a7b-4b43-b0e7-ca24622293a9\", \"event_date\": 1701321361, \"action\": \"click\", \"uri\": \"https://databricks.com/app/wp-content/appabout.html\"}</td><td>dbdemos-sessions</td><td>9</td><td>16376633</td><td>2023-11-30T05:16:00.659Z</td><td>0</td></tr><tr><td>null</td><td>{\"user_id\": \"d205fb2a-dea2-45a1-85f1-caba13d64e95\", \"platform\": \"ios\", \"event_id\": \"cccd5495-5ca6-4bdc-ba76-71d53a9d06f2\", \"event_date\": 1701321355, \"action\": \"click\", \"uri\": \"https://databricks.com/category/blog/searchprivacy.htm\"}</td><td>dbdemos-sessions</td><td>9</td><td>16376634</td><td>2023-11-30T05:16:00.66Z</td><td>0</td></tr><tr><td>null</td><td>{\"user_id\": \"8a937358-261b-4364-9009-a726351f44fe\", \"platform\": \"android\", \"event_id\": \"f9ccf3d7-8bf8-44b9-afb3-acab21166226\", \"event_date\": 1701321358, \"action\": \"view\", \"uri\": \"https://databricks.com/list/tagregister.html\"}</td><td>dbdemos-sessions</td><td>9</td><td>16376635</td><td>2023-11-30T05:16:00.665Z</td><td>0</td></tr><tr><td>null</td><td>{\"user_id\": \"7354e19a-6b74-4581-9278-7d2a1fa506d2\", \"platform\": \"other\", \"event_id\": \"65344acb-c154-4f66-bc56-3aa3e0e480e3\", \"event_date\": 1701321358, \"action\": \"click\", \"uri\": \"https://databricks.com/search/categories/mainindex.html\"}</td><td>dbdemos-sessions</td><td>9</td><td>16376636</td><td>2023-11-30T05:16:01.678Z</td><td>0</td></tr><tr><td>null</td><td>{\"user_id\": \"c74ac38e-0a9b-4785-9a27-09d1d694e40c\", \"platform\": \"ios\", \"event_id\": \"7411ddf4-7b54-49fb-ac62-4b52b5cc248b\", \"event_date\": 1701321360, \"action\": \"view\", \"uri\": \"https://databricks.com/app/wp-contentprivacy.jsp\"}</td><td>dbdemos-sessions</td><td>9</td><td>16376637</td><td>2023-11-30T05:16:01.687Z</td><td>0</td></tr><tr><td>null</td><td>{\"user_id\": \"66bc4964-162b-41e1-972c-5ea1c76b408e\", \"platform\": \"ios\", \"event_id\": \"4bc5d48d-3241-4e27-abbd-8a536109a99b\", \"event_date\": 1701321333, \"action\": \"view\", \"uri\": \"https://databricks.com/wp-contentterms.htm\"}</td><td>dbdemos-sessions</td><td>2</td><td>16371822</td><td>2023-11-30T05:15:36.315Z</td><td>0</td></tr><tr><td>null</td><td>{\"user_id\": \"93ef5cae-b681-4e40-8e10-cae4283b2b04\", \"platform\": \"ios\", \"event_id\": \"efa6d94e-dd60-4467-8119-16a1c0338e4e\", \"event_date\": 1701321336, \"action\": \"log\", \"uri\": \"https://databricks.com/search/search/postsindex.jsp\"}</td><td>dbdemos-sessions</td><td>2</td><td>16371823</td><td>2023-11-30T05:15:37.324Z</td><td>0</td></tr><tr><td>null</td><td>{\"user_id\": \"c55b143c-8132-4867-9320-72df1b6c0af4\", \"platform\": \"other\", \"event_id\": \"82241cd6-fd3b-44ab-8bbe-d448da4237e7\", \"event_date\": 1701321337, \"action\": \"click\", \"uri\": \"https://databricks.com/explore/tag/searchhomepage.html\"}</td><td>dbdemos-sessions</td><td>2</td><td>16371824</td><td>2023-11-30T05:15:38.376Z</td><td>0</td></tr><tr><td>null</td><td>{\"user_id\": \"50e32c77-ce88-45b4-9b25-7c747615596b\", \"platform\": \"ios\", \"event_id\": \"30b7f958-0060-4a7d-83a4-d5c7121d58d4\", \"event_date\": 1701321341, \"action\": \"view\", \"uri\": \"https://databricks.com/blogpost.htm\"}</td><td>dbdemos-sessions</td><td>2</td><td>16371825</td><td>2023-11-30T05:15:39.394Z</td><td>0</td></tr><tr><td>null</td><td>{\"user_id\": \"bb041937-335f-4592-9b28-75cbd928cd41\", \"platform\": \"ios\", \"event_id\": \"47a9e342-02f8-4c76-8fcc-02dfe1c45ec2\", \"event_date\": 1701321329, \"action\": \"view\", \"uri\": \"https://databricks.com/wp-contenthome.php\"}</td><td>dbdemos-sessions</td><td>8</td><td>16368557</td><td>2023-11-30T05:15:33.272Z</td><td>0</td></tr><tr><td>null</td><td>{\"user_id\": \"cdf5504b-598d-4c9e-aa2c-01d320d7a397\", \"platform\": \"ios\", \"event_id\": \"22cf58e0-bb46-4799-aa2f-c43e7b7d7371\", \"event_date\": 1701321336, \"action\": \"log\", \"uri\": \"https://databricks.com/search/listcategory.asp\"}</td><td>dbdemos-sessions</td><td>8</td><td>16368558</td><td>2023-11-30T05:15:33.28Z</td><td>0</td></tr><tr><td>null</td><td>{\"user_id\": \"88019c0c-6cb1-4e46-a3ea-97661d159ba5\", \"platform\": \"other\", \"event_id\": \"03815732-1e8a-4267-9f66-415cc3f55b86\", \"event_date\": 1701321332, \"action\": \"view\", \"uri\": \"https://databricks.com/app/category/bloghome.html\"}</td><td>dbdemos-sessions</td><td>8</td><td>16368559</td><td>2023-11-30T05:15:33.281Z</td><td>0</td></tr><tr><td>null</td><td>{\"user_id\": \"1e7b7295-6965-4c14-ab59-388167c9baeb\", \"platform\": \"android\", \"event_id\": \"9ae1f331-60ee-4cc4-936f-1d30a99e72cf\", \"event_date\": 1701321335, \"action\": \"view\", \"uri\": \"https://databricks.com/appterms.htm\"}</td><td>dbdemos-sessions</td><td>8</td><td>16368560</td><td>2023-11-30T05:15:34.294Z</td><td>0</td></tr><tr><td>null</td><td>{\"user_id\": \"d469e072-41ae-4497-b541-de287868682f\", \"platform\": \"ios\", \"event_id\": \"a8eec5ca-4d01-4b2c-8c89-23a949725af9\", \"event_date\": 1701321330, \"action\": \"view\", \"uri\": \"https://databricks.com/list/category/listsearch.jsp\"}</td><td>dbdemos-sessions</td><td>8</td><td>16368561</td><td>2023-11-30T05:15:35.297Z</td><td>0</td></tr><tr><td>null</td><td>{\"user_id\": \"69eb7a1d-ef3a-4d1e-868d-a4a145cb3de5\", \"platform\": \"ios\", \"event_id\": \"3030f75b-8ffd-4b2c-8b35-37a034f0a22d\", \"event_date\": 1701321336, \"action\": \"click\", \"uri\": \"https://databricks.com/main/list/wp-contentcategory.asp\"}</td><td>dbdemos-sessions</td><td>8</td><td>16368562</td><td>2023-11-30T05:15:36.32Z</td><td>0</td></tr><tr><td>null</td><td>{\"user_id\": \"1983f70f-77a9-4412-a898-1c7e3312d2af\", \"platform\": \"ios\", \"event_id\": null, \"event_date\": 1701321338, \"action\": \"view\", \"uri\": \"https://databricks.com/category/searchfaq.php\"}</td><td>dbdemos-sessions</td><td>8</td><td>16368563</td><td>2023-11-30T05:15:37.329Z</td><td>0</td></tr><tr><td>null</td><td>{\"user_id\": \"8c78e34e-0201-4757-a82a-fa0d9f70beda\", \"platform\": \"ios\", \"event_id\": \"4559a900-c42f-4680-b4ec-606be4f63b3f\", \"event_date\": 1701321334, \"action\": \"click\", \"uri\": \"https://databricks.com/tags/categoriescategory.php\"}</td><td>dbdemos-sessions</td><td>8</td><td>16368564</td><td>2023-11-30T05:15:38.379Z</td><td>0</td></tr><tr><td>null</td><td>{\"user_id\": \"1983f70f-77a9-4412-a898-1c7e3312d2af\", \"platform\": \"other\", \"event_id\": \"018e0ab6-c716-48db-af7c-5f8134beafd7\", \"event_date\": 1701321341, \"action\": \"click\", \"uri\": \"https://databricks.com/taghome.php\"}</td><td>dbdemos-sessions</td><td>8</td><td>16368565</td><td>2023-11-30T05:15:39.386Z</td><td>0</td></tr><tr><td>null</td><td>{\"user_id\": \"a0da7b6b-33f2-48b5-83d7-299711c857fe\", \"platform\": \"ios\", \"event_id\": \"ad7648b1-9c19-4248-a0b3-cee52ad4148e\", \"event_date\": 1701321333, \"action\": \"click\", \"uri\": \"https://databricks.com/posts/categoryterms.html\"}</td><td>dbdemos-sessions</td><td>5</td><td>16377806</td><td>2023-11-30T05:15:33.281Z</td><td>0</td></tr><tr><td>null</td><td>{\"user_id\": \"7cd07a2d-d835-470d-a0c8-b3400c915ac7\", \"platform\": \"ios\", \"event_id\": \"e66327c5-3711-42a0-8c69-e5f17a33036c\", \"event_date\": 1701321334, \"action\": \"click\", \"uri\": \"https://databricks.com/postsfaq.php\"}</td><td>dbdemos-sessions</td><td>5</td><td>16377807</td><td>2023-11-30T05:15:34.285Z</td><td>0</td></tr><tr><td>null</td><td>{\"user_id\": \"5d81aa0b-2986-4b18-abbd-b085380a1bb6\", \"platform\": \"ios\", \"event_id\": \"fdeb5086-6e6c-4ca0-85da-acd06abec6b7\", \"event_date\": 1701321333, \"action\": \"view\", \"uri\": \"https://databricks.com/main/categories/postsauthor.htm\"}</td><td>dbdemos-sessions</td><td>5</td><td>16377808</td><td>2023-11-30T05:15:35.306Z</td><td>0</td></tr><tr><td>null</td><td>{\"user_id\": \"0127e44a-dc59-4075-9036-a53bda11b20a\", \"platform\": \"other\", \"event_id\": \"1425d9b0-651f-4980-8b6b-9492ac6d370d\", \"event_date\": 1701321339, \"action\": \"log\", \"uri\": \"https://databricks.com/main/tag/categoriesprivacy.php\"}</td><td>dbdemos-sessions</td><td>5</td><td>16377809</td><td>2023-11-30T05:15:36.314Z</td><td>0</td></tr><tr><td>null</td><td>{\"user_id\": \"e4e079a9-103e-464b-8b2f-b7d906066bad\", \"platform\": \"android\", \"event_id\": \"ea438efa-beb2-46ab-9abb-c2ab833ed29a\", \"event_date\": 1701321334, \"action\": \"view\", \"uri\": \"https://databricks.com/posts/mainterms.html\"}</td><td>dbdemos-sessions</td><td>5</td><td>16377810</td><td>2023-11-30T05:15:37.33Z</td><td>0</td></tr><tr><td>null</td><td>{\"user_id\": \"c74ac38e-0a9b-4785-9a27-09d1d694e40c\", \"platform\": null, \"event_id\": \"9106f795-fa41-4791-86ce-7583376df29d\", \"event_date\": 1701321336, \"action\": \"view\", \"uri\": \"https://databricks.com/listterms.htm\"}</td><td>dbdemos-sessions</td><td>5</td><td>16377811</td><td>2023-11-30T05:15:37.341Z</td><td>0</td></tr><tr><td>null</td><td>{\"user_id\": \"d469e072-41ae-4497-b541-de287868682f\", \"platform\": \"ios\", \"event_id\": \"fdcf2c7d-3416-4c10-aa9f-cddb81d0f135\", \"event_date\": 1701321340, \"action\": \"click\", \"uri\": \"https://databricks.com/main/wp-content/tagabout.htm\"}</td><td>dbdemos-sessions</td><td>5</td><td>16377812</td><td>2023-11-30T05:15:38.344Z</td><td>0</td></tr><tr><td>null</td><td>{\"user_id\": \"dc4c68db-f999-47bd-8569-97fb8c457a1d\", \"platform\": \"other\", \"event_id\": \"86e7af18-1f4b-46de-8ffd-3e0e906dd348\", \"event_date\": 1701321333, \"action\": \"view\", \"uri\": \"https://databricks.com/tag/searchprivacy.html\"}</td><td>dbdemos-sessions</td><td>5</td><td>16377813</td><td>2023-11-30T05:15:38.35Z</td><td>0</td></tr><tr><td>null</td><td>{\"user_id\": \"429cd2ea-bb89-43bf-a2b7-190cd57c513d\", \"platform\": \"ios\", \"event_id\": \"c81f6d7f-4bde-4fb4-bfac-e71449282ac1\", \"event_date\": 1701321338, \"action\": \"log\", \"uri\": \"https://databricks.com/search/appsearch.html\"}</td><td>dbdemos-sessions</td><td>5</td><td>16377814</td><td>2023-11-30T05:15:39.381Z</td><td>0</td></tr><tr><td>null</td><td>{\"user_id\": \"64ebf32b-4a70-4906-a9d6-faa6dc1c8697\", \"platform\": \"android\", \"event_id\": \"2a507893-b28b-4b6a-87f3-ff77fc81856f\", \"event_date\": 1701321331, \"action\": \"log\", \"uri\": \"https://databricks.com/wp-content/blog/listabout.html\"}</td><td>dbdemos-sessions</td><td>7</td><td>16373376</td><td>2023-11-30T05:15:33.27Z</td><td>0</td></tr><tr><td>null</td><td>{\"user_id\": \"de0d7892-d459-42e9-9476-87884e4b2734\", \"platform\": \"other\", \"event_id\": \"22fa58f1-ec25-4a99-86de-d248c0a47428\", \"event_date\": 1701321334, \"action\": \"view\", \"uri\": \"https://databricks.com/tag/posts/blogsearch.php\"}</td><td>dbdemos-sessions</td><td>7</td><td>16373377</td><td>2023-11-30T05:15:33.273Z</td><td>0</td></tr><tr><td>null</td><td>{\"user_id\": \"5374937a-2fa0-47af-a197-a01ef24a80ad\", \"platform\": \"other\", \"event_id\": \"26de90dd-753b-4f6b-9ca3-b05e2ce6a916\", \"event_date\": 1701321337, \"action\": \"log\", \"uri\": \"https://databricks.com/list/tags/categoryauthor.html\"}</td><td>dbdemos-sessions</td><td>7</td><td>16373378</td><td>2023-11-30T05:15:34.286Z</td><td>0</td></tr><tr><td>null</td><td>{\"user_id\": \"d5c1965f-4903-4b86-895d-f9cce7d9c963\", \"platform\": \"ios\", \"event_id\": \"f922e71f-3f26-419d-a746-75bfb0d81e96\", \"event_date\": 1701321335, \"action\": \"click\", \"uri\": \"https://databricks.com/mainabout.htm\"}</td><td>dbdemos-sessions</td><td>7</td><td>16373379</td><td>2023-11-30T05:15:34.291Z</td><td>0</td></tr><tr><td>null</td><td>{\"user_id\": \"d205fb2a-dea2-45a1-85f1-caba13d64e95\", \"platform\": \"other\", \"event_id\": \"84b55edc-7bfc-4a82-ad2c-ba25bda89a04\", \"event_date\": 1701321331, \"action\": \"view\", \"uri\": \"https://databricks.com/list/categories/explorefaq.php\"}</td><td>dbdemos-sessions</td><td>7</td><td>16373380</td><td>2023-11-30T05:15:35.299Z</td><td>0</td></tr><tr><td>null</td><td>{\"user_id\": \"7354e19a-6b74-4581-9278-7d2a1fa506d2\", \"platform\": \"ios\", \"event_id\": \"2ce6e76b-f7c4-4e40-8203-46b98665faf2\", \"event_date\": 1701321338, \"action\": \"view\", \"uri\": \"https://databricks.com/categoriesauthor.php\"}</td><td>dbdemos-sessions</td><td>7</td><td>16373381</td><td>2023-11-30T05:15:36.316Z</td><td>0</td></tr><tr><td>null</td><td>{\"user_id\": \"64ebf32b-4a70-4906-a9d6-faa6dc1c8697\", \"platform\": \"android\", \"event_id\": \"5ed68446-22cc-4881-a57c-d4ada1dc4971\", \"event_date\": 1701321341, \"action\": \"click\", \"uri\": \"https://databricks.com/posts/wp-contenthome.htm\"}</td><td>dbdemos-sessions</td><td>7</td><td>16373382</td><td>2023-11-30T05:15:37.325Z</td><td>0</td></tr><tr><td>null</td><td>{\"user_id\": \"66bc4964-162b-41e1-972c-5ea1c76b408e\", \"platform\": \"ios\", \"event_id\": null, \"event_date\": 1701321338, \"action\": \"view\", \"uri\": \"https://databricks.com/tag/tags/mainterms.html\"}</td><td>dbdemos-sessions</td><td>7</td><td>16373383</td><td>2023-11-30T05:15:37.331Z</td><td>0</td></tr><tr><td>null</td><td>{\"user_id\": \"fe5cd354-51ff-49cb-98c2-ba91e24b9117\", \"platform\": \"other\", \"event_id\": \"0ccd56b5-df55-470b-85b3-827253dde13a\", \"event_date\": 1701321336, \"action\": \"view\", \"uri\": \"https://databricks.com/main/categoriesprivacy.php\"}</td><td>dbdemos-sessions</td><td>7</td><td>16373384</td><td>2023-11-30T05:15:39.384Z</td><td>0</td></tr><tr><td>null</td><td>{\"user_id\": \"5374937a-2fa0-47af-a197-a01ef24a80ad\", \"platform\": \"ios\", \"event_id\": \"1ffdedfa-743d-4a67-983e-ff8cb430e4ba\", \"event_date\": 1701321331, \"action\": \"view\", \"uri\": \"https://databricks.com/wp-content/applogin.htm\"}</td><td>dbdemos-sessions</td><td>6</td><td>16368398</td><td>2023-11-30T05:15:33.273Z</td><td>0</td></tr><tr><td>null</td><td>{\"user_id\": \"6bf1f604-3544-45c9-93a5-180b78652be1\", \"platform\": \"other\", \"event_id\": \"3bedf939-2c84-487c-bc41-e34d455afad3\", \"event_date\": 1701321337, \"action\": \"view\", \"uri\": \"https://databricks.com/wp-content/category/blogindex.html\"}</td><td>dbdemos-sessions</td><td>6</td><td>16368399</td><td>2023-11-30T05:15:34.293Z</td><td>0</td></tr><tr><td>null</td><td>{\"user_id\": \"cdf5504b-598d-4c9e-aa2c-01d320d7a397\", \"platform\": \"other\", \"event_id\": \"0452f3e6-d8e8-43b3-b1b0-8f486c36b0f8\", \"event_date\": 1701321330, \"action\": \"click\", \"uri\": \"https://databricks.com/appregister.jsp\"}</td><td>dbdemos-sessions</td><td>6</td><td>16368400</td><td>2023-11-30T05:15:35.306Z</td><td>0</td></tr><tr><td>null</td><td>{\"user_id\": \"f044d5b8-0357-44e1-b9cf-40ba0512eeb0\", \"platform\": \"other\", \"event_id\": \"b7e07139-ed60-4d58-80dc-ac519f0cb20f\", \"event_date\": 1701321331, \"action\": \"click\", \"uri\": \"https://databricks.com/list/appauthor.html\"}</td><td>dbdemos-sessions</td><td>6</td><td>16368401</td><td>2023-11-30T05:15:35.307Z</td><td>0</td></tr><tr><td>null</td><td>{\"user_id\": \"de0d7892-d459-42e9-9476-87884e4b2734\", \"platform\": \"ios\", \"event_id\": \"41ef76b0-9955-4b83-b2bd-78a641cd16c7\", \"event_date\": 1701321340, \"action\": \"view\", \"uri\": \"https://databricks.com/blog/categoryfaq.jsp\"}</td><td>dbdemos-sessions</td><td>6</td><td>16368402</td><td>2023-11-30T05:15:36.313Z</td><td>0</td></tr><tr><td>null</td><td>{\"user_id\": \"54371530-b4ba-4a28-9f12-2bc87205aded\", \"platform\": \"other\", \"event_id\": \"12169fe1-fad0-4a1d-a3c3-b86c8d47fd76\", \"event_date\": 1701321340, \"action\": \"view\", \"uri\": \"https://databricks.com/category/app/appterms.php\"}</td><td>dbdemos-sessions</td><td>6</td><td>16368403</td><td>2023-11-30T05:15:37.331Z</td><td>0</td></tr><tr><td>null</td><td>{\"user_id\": \"8c37dfb5-4ce9-40ee-aabd-6d2e41387b89\", \"platform\": \"ios\", \"event_id\": \"822eafa8-5655-493c-8334-97ff62f0b236\", \"event_date\": 1701321338, \"action\": \"view\", \"uri\": \"https://databricks.com/searchsearch.htm\"}</td><td>dbdemos-sessions</td><td>6</td><td>16368404</td><td>2023-11-30T05:15:38.345Z</td><td>0</td></tr><tr><td>null</td><td>{\"user_id\": \"2cba3859-c218-4a01-b84c-af6c9b68fd45\", \"platform\": \"other\", \"event_id\": \"078af5b8-782b-4ae9-8d44-5a92bad1f86d\", \"event_date\": 1701321339, \"action\": \"click\", \"uri\": \"https://databricks.com/posts/wp-contentpost.html\"}</td><td>dbdemos-sessions</td><td>6</td><td>16368405</td><td>2023-11-30T05:15:38.364Z</td><td>0</td></tr><tr><td>null</td><td>{\"user_id\": \"7354e19a-6b74-4581-9278-7d2a1fa506d2\", \"platform\": \"ios\", \"event_id\": \"82a5b121-6162-453f-9b76-71b521ab6f10\", \"event_date\": 1701321334, \"action\": \"view\", \"uri\": \"https://databricks.com/category/category/appindex.html\"}</td><td>dbdemos-sessions</td><td>6</td><td>16368406</td><td>2023-11-30T05:15:39.39Z</td><td>0</td></tr><tr><td>null</td><td>{\"user_id\": \"bb041937-335f-4592-9b28-75cbd928cd41\", \"platform\": \"ios\", \"event_id\": \"47a9e342-02f8-4c76-8fcc-02dfe1c45ec2\", \"event_date\": 1701321329, \"action\": \"view\", \"uri\": \"https://databricks.com/wp-contenthome.php\"}</td><td>dbdemos-sessions</td><td>9</td><td>16376585</td><td>2023-11-30T05:15:33.272Z</td><td>0</td></tr><tr><td>null</td><td>{\"user_id\": \"89266034-ab6f-4298-a4f2-26ee888d009a\", \"platform\": \"other\", \"event_id\": \"50d64a0f-755a-461a-b3d9-b2d234b86b7d\", \"event_date\": 1701321332, \"action\": \"view\", \"uri\": \"https://databricks.com/list/app/blogterms.htm\"}</td><td>dbdemos-sessions</td><td>9</td><td>16376586</td><td>2023-11-30T05:15:34.294Z</td><td>0</td></tr><tr><td>null</td><td>{\"user_id\": \"954c2940-2415-4618-89e3-8f4147680ac1\", \"platform\": \"ios\", \"event_id\": \"d66e0b7b-1d7c-4f03-91a8-70546037bb60\", \"event_date\": 1701321334, \"action\": \"log\", \"uri\": \"https://databricks.com/tagmain.asp\"}</td><td>dbdemos-sessions</td><td>9</td><td>16376587</td><td>2023-11-30T05:15:34.295Z</td><td>0</td></tr><tr><td>null</td><td>{\"user_id\": \"6a4e890d-982b-46e1-b446-3688a723cdff\", \"platform\": \"android\", \"event_id\": \"11046641-e4a6-4fe9-a1a8-949305605518\", \"event_date\": 1701321331, \"action\": \"view\", \"uri\": \"https://databricks.com/search/app/categoriesregister.html\"}</td><td>dbdemos-sessions</td><td>9</td><td>16376588</td><td>2023-11-30T05:15:35.303Z</td><td>0</td></tr><tr><td>null</td><td>{\"user_id\": \"429cd2ea-bb89-43bf-a2b7-190cd57c513d\", \"platform\": \"ios\", \"event_id\": \"8616278f-e3b3-403f-9d62-146fc193d3ba\", \"event_date\": 1701321331, \"action\": \"click\", \"uri\": \"https://databricks.com/wp-content/blogabout.php\"}</td><td>dbdemos-sessions</td><td>9</td><td>16376589</td><td>2023-11-30T05:15:36.312Z</td><td>0</td></tr><tr><td>null</td><td>{\"user_id\": \"69eb7a1d-ef3a-4d1e-868d-a4a145cb3de5\", \"platform\": \"ios\", \"event_id\": \"3030f75b-8ffd-4b2c-8b35-37a034f0a22d\", \"event_date\": 1701321336, \"action\": \"click\", \"uri\": \"https://databricks.com/main/list/wp-contentcategory.asp\"}</td><td>dbdemos-sessions</td><td>9</td><td>16376590</td><td>2023-11-30T05:15:36.319Z</td><td>0</td></tr><tr><td>null</td><td>{\"user_id\": \"4f9a4975-58ad-4063-be2c-d7fafb9f9072\", \"platform\": \"other\", \"event_id\": \"a916c5ec-8681-4e0e-8d78-d857b2a97d68\", \"event_date\": 1701321340, \"action\": \"view\", \"uri\": \"https://databricks.com/listhome.php\"}</td><td>dbdemos-sessions</td><td>9</td><td>16376591</td><td>2023-11-30T05:15:38.349Z</td><td>0</td></tr><tr><td>null</td><td>{\"user_id\": \"1ee2129c-c85d-4ce8-af1f-765728e690fe\", \"platform\": \"other\", \"event_id\": \"72a50816-184a-4ace-a03b-c92043bca089\", \"event_date\": 1701321341, \"action\": \"view\", \"uri\": \"https://databricks.com/category/categoriescategory.html\"}</td><td>dbdemos-sessions</td><td>9</td><td>16376592</td><td>2023-11-30T05:15:39.385Z</td><td>0</td></tr><tr><td>null</td><td>{\"user_id\": \"0127e44a-dc59-4075-9036-a53bda11b20a\", \"platform\": \"other\", \"event_id\": \"dde843cf-c68a-4568-b604-9c92ad6a08d5\", \"event_date\": 1701321342, \"action\": \"view\", \"uri\": \"https://databricks.com/tags/wp-contentabout.htm\"}</td><td>dbdemos-sessions</td><td>9</td><td>16376593</td><td>2023-11-30T05:15:39.385Z</td><td>0</td></tr><tr><td>null</td><td>{\"user_id\": \"3156d251-7429-4b23-9101-59f0209cddf8\", \"platform\": \"other\", \"event_id\": \"2ad0ace8-2981-4ee8-b080-9225a3fa413c\", \"event_date\": 1701321343, \"action\": \"view\", \"uri\": \"https://databricks.com/blogcategory.html\"}</td><td>dbdemos-sessions</td><td>9</td><td>16376594</td><td>2023-11-30T05:15:39.387Z</td><td>0</td></tr><tr><td>null</td><td>{\"user_id\": \"f044d5b8-0357-44e1-b9cf-40ba0512eeb0\", \"platform\": \"ios\", \"event_id\": \"7efd6397-e32b-4c66-99db-8971bdfdcec2\", \"event_date\": 1701321336, \"action\": \"view\", \"uri\": \"https://databricks.com/app/explorelogin.asp\"}</td><td>dbdemos-sessions</td><td>9</td><td>16376595</td><td>2023-11-30T05:15:39.391Z</td><td>0</td></tr><tr><td>null</td><td>{\"user_id\": \"d5c1965f-4903-4b86-895d-f9cce7d9c963\", \"platform\": \"other\", \"event_id\": \"752e916b-f5fe-4b62-bda7-5ac92a440bbb\", \"event_date\": 1701321332, \"action\": \"view\", \"uri\": \"https://databricks.com/category/appfaq.htm\"}</td><td>dbdemos-sessions</td><td>0</td><td>162967781</td><td>2023-11-30T05:15:33.275Z</td><td>0</td></tr><tr><td>null</td><td>{\"user_id\": \"88019c0c-6cb1-4e46-a3ea-97661d159ba5\", \"platform\": \"other\", \"event_id\": \"03815732-1e8a-4267-9f66-415cc3f55b86\", \"event_date\": 1701321332, \"action\": \"view\", \"uri\": \"https://databricks.com/app/category/bloghome.html\"}</td><td>dbdemos-sessions</td><td>0</td><td>162967782</td><td>2023-11-30T05:15:33.281Z</td><td>0</td></tr><tr><td>null</td><td>{\"user_id\": \"0127e44a-dc59-4075-9036-a53bda11b20a\", \"platform\": \"android\", \"event_id\": \"e0a79ae5-592a-491a-a728-d6fd7bd63626\", \"event_date\": 1701321329, \"action\": \"view\", \"uri\": \"https://databricks.com/posts/exploresearch.htm\"}</td><td>dbdemos-sessions</td><td>0</td><td>162967783</td><td>2023-11-30T05:15:34.287Z</td><td>0</td></tr><tr><td>null</td><td>{\"user_id\": \"d5c1965f-4903-4b86-895d-f9cce7d9c963\", \"platform\": \"ios\", \"event_id\": \"f922e71f-3f26-419d-a746-75bfb0d81e96\", \"event_date\": 1701321335, \"action\": \"click\", \"uri\": \"https://databricks.com/mainabout.htm\"}</td><td>dbdemos-sessions</td><td>0</td><td>162967784</td><td>2023-11-30T05:15:34.291Z</td><td>0</td></tr><tr><td>null</td><td>{\"user_id\": \"4f9a4975-58ad-4063-be2c-d7fafb9f9072\", \"platform\": \"ios\", \"event_id\": \"23bfa32c-6568-42b4-8275-b6259f3f2f5f\", \"event_date\": 1701321338, \"action\": \"view\", \"uri\": \"https://databricks.com/tags/search/mainmain.htm\"}</td><td>dbdemos-sessions</td><td>0</td><td>162967785</td><td>2023-11-30T05:15:35.302Z</td><td>0</td></tr><tr><td>null</td><td>{\"user_id\": \"66fe7dd1-8f19-470c-b4b8-be75c4793e76\", \"platform\": \"ios\", \"event_id\": \"e9189fed-51b1-4a0c-9a5d-f861ecaf0f27\", \"event_date\": 1701321339, \"action\": \"view\", \"uri\": \"https://databricks.com/categoriesterms.php\"}</td><td>dbdemos-sessions</td><td>0</td><td>162967786</td><td>2023-11-30T05:15:35.305Z</td><td>0</td></tr><tr><td>null</td><td>{\"user_id\": \"9acce7bf-7baa-45f0-b598-93b24e8843fd\", \"platform\": \"ios\", \"event_id\": \"e7cf64f5-ac14-405f-88cc-94a8430952af\", \"event_date\": 1701321336, \"action\": \"click\", \"uri\": \"https://databricks.com/mainregister.html\"}</td><td>dbdemos-sessions</td><td>0</td><td>162967787</td><td>2023-11-30T05:15:36.321Z</td><td>0</td></tr><tr><td>null</td><td>{\"user_id\": \"d205fb2a-dea2-45a1-85f1-caba13d64e95\", \"platform\": \"ios\", \"event_id\": \"debc67c1-3de3-4f47-a0c7-9dec65a3be30\", \"event_date\": 1701321342, \"action\": \"log\", \"uri\": \"https://databricks.com/wp-content/listindex.html\"}</td><td>dbdemos-sessions</td><td>0</td><td>162967788</td><td>2023-11-30T05:15:38.346Z</td><td>0</td></tr><tr><td>null</td><td>{\"user_id\": \"1ee2129c-c85d-4ce8-af1f-765728e690fe\", \"platform\": \"android\", \"event_id\": \"5afb473e-9099-4bec-b83c-bef6d37277f8\", \"event_date\": 1701321329, \"action\": \"log\", \"uri\": \"https://databricks.com/posts/tag/listauthor.html\"}</td><td>dbdemos-sessions</td><td>1</td><td>16369399</td><td>2023-11-30T05:15:33.274Z</td><td>0</td></tr><tr><td>null</td><td>{\"user_id\": \"1ee2129c-c85d-4ce8-af1f-765728e690fe\", \"platform\": \"ios\", \"event_id\": \"c3f186bf-8abd-4f5a-8156-54546dc08eb5\", \"event_date\": 1701321330, \"action\": \"view\", \"uri\": \"https://databricks.com/posts/tagpost.php\"}</td><td>dbdemos-sessions</td><td>1</td><td>16369400</td><td>2023-11-30T05:15:35.303Z</td><td>0</td></tr><tr><td>null</td><td>{\"user_id\": \"04ebf641-947d-4207-aef6-4c4d1fc4aa36\", \"platform\": \"ios\", \"event_id\": \"0050b17e-ea8c-4a0b-abe6-c8b518c2d28c\", \"event_date\": 1701321333, \"action\": \"click\", \"uri\": \"https://databricks.com/app/wp-contenthome.html\"}</td><td>dbdemos-sessions</td><td>1</td><td>16369401</td><td>2023-11-30T05:15:35.304Z</td><td>0</td></tr><tr><td>null</td><td>{\"user_id\": \"5d81aa0b-2986-4b18-abbd-b085380a1bb6\", \"platform\": \"ios\", \"event_id\": \"fdeb5086-6e6c-4ca0-85da-acd06abec6b7\", \"event_date\": 1701321333, \"action\": \"view\", \"uri\": \"https://databricks.com/main/categories/postsauthor.htm\"}</td><td>dbdemos-sessions</td><td>1</td><td>16369402</td><td>2023-11-30T05:15:35.306Z</td><td>0</td></tr><tr><td>null</td><td>{\"user_id\": \"954c2940-2415-4618-89e3-8f4147680ac1\", \"platform\": \"ios\", \"event_id\": \"ef6cbe7a-4152-4ade-b85a-b94b9497ca9e\", \"event_date\": 1701321332, \"action\": \"view\", \"uri\": \"https://databricks.com/app/wp-content/wp-contentindex.htm\"}</td><td>dbdemos-sessions</td><td>1</td><td>16369403</td><td>2023-11-30T05:15:35.308Z</td><td>0</td></tr><tr><td>null</td><td>{\"user_id\": \"34265667-87e0-4a72-b118-befa1e41b2b7\", \"platform\": \"android\", \"event_id\": \"63164aa7-32ce-4164-a402-48f7a1f2cf67\", \"event_date\": 1701321333, \"action\": \"view\", \"uri\": \"https://databricks.com/main/tags/appabout.htm\"}</td><td>dbdemos-sessions</td><td>1</td><td>16369404</td><td>2023-11-30T05:15:37.34Z</td><td>0</td></tr><tr><td>null</td><td>{\"user_id\": \"81ce2faa-fb20-44a8-9c19-f4ac9020b1b2\", \"platform\": \"ios\", \"event_id\": \"68f9c180-5544-46b8-a450-dcc2354b4647\", \"event_date\": 1701321339, \"action\": \"view\", \"uri\": \"https://databricks.com/blogcategory.jsp\"}</td><td>dbdemos-sessions</td><td>1</td><td>16369405</td><td>2023-11-30T05:15:38.349Z</td><td>0</td></tr><tr><td>null</td><td>{\"user_id\": \"6e102f64-abf8-441b-942d-19df3cde3714\", \"platform\": \"other\", \"event_id\": \"a11f4922-967c-4313-9d8f-3ebc2a177c07\", \"event_date\": 1701321334, \"action\": \"click\", \"uri\": \"https://databricks.com/exploreterms.asp\"}</td><td>dbdemos-sessions</td><td>1</td><td>16369406</td><td>2023-11-30T05:15:38.354Z</td><td>0</td></tr><tr><td>null</td><td>{\"user_id\": \"89266034-ab6f-4298-a4f2-26ee888d009a\", \"platform\": \"ios\", \"event_id\": \"0d9f0cf4-1537-4e09-bfdc-4031a92e47ec\", \"event_date\": 1701321340, \"action\": \"click\", \"uri\": \"https://databricks.com/blog/category/explorehome.htm\"}</td><td>dbdemos-sessions</td><td>1</td><td>16369407</td><td>2023-11-30T05:15:39.393Z</td><td>0</td></tr><tr><td>null</td><td>{\"user_id\": \"5d81aa0b-2986-4b18-abbd-b085380a1bb6\", \"platform\": \"other\", \"event_id\": \"c979ed0a-ae93-410e-b7d2-24717c1006fd\", \"event_date\": 1701321336, \"action\": \"view\", \"uri\": \"https://databricks.com/exploreabout.asp\"}</td><td>dbdemos-sessions</td><td>4</td><td>16376373</td><td>2023-11-30T05:15:33.275Z</td><td>0</td></tr><tr><td>null</td><td>{\"user_id\": \"2cba3859-c218-4a01-b84c-af6c9b68fd45\", \"platform\": \"ios\", \"event_id\": \"6833da78-103b-484a-8bcb-8b647e7943cb\", \"event_date\": 1701321333, \"action\": \"click\", \"uri\": \"https://databricks.com/blog/tagspost.htm\"}</td><td>dbdemos-sessions</td><td>4</td><td>16376374</td><td>2023-11-30T05:15:33.28Z</td><td>0</td></tr><tr><td>null</td><td>{\"user_id\": \"1e7b7295-6965-4c14-ab59-388167c9baeb\", \"platform\": \"android\", \"event_id\": \"9ae1f331-60ee-4cc4-936f-1d30a99e72cf\", \"event_date\": 1701321335, \"action\": \"view\", \"uri\": \"https://databricks.com/appterms.htm\"}</td><td>dbdemos-sessions</td><td>4</td><td>16376375</td><td>2023-11-30T05:15:34.293Z</td><td>0</td></tr><tr><td>null</td><td>{\"user_id\": \"34265667-87e0-4a72-b118-befa1e41b2b7\", \"platform\": \"other\", \"event_id\": \"38d3e00f-20c4-4b57-a603-495ca6dda0c4\", \"event_date\": 1701321336, \"action\": \"view\", \"uri\": \"https://databricks.com/listterms.html\"}</td><td>dbdemos-sessions</td><td>4</td><td>16376376</td><td>2023-11-30T05:15:34.294Z</td><td>0</td></tr><tr><td>null</td><td>{\"user_id\": \"64ebf32b-4a70-4906-a9d6-faa6dc1c8697\", \"platform\": \"ios\", \"event_id\": \"ffd702ae-9eb3-4378-b59d-f4447ddf6c8d\", \"event_date\": 1701321338, \"action\": \"view\", \"uri\": \"https://databricks.com/searchterms.htm\"}</td><td>dbdemos-sessions</td><td>4</td><td>16376377</td><td>2023-11-30T05:15:35.299Z</td><td>0</td></tr><tr><td>null</td><td>{\"user_id\": \"18713496-a98e-49a4-ab88-9f029f18b4c5\", \"platform\": \"ios\", \"event_id\": \"5e859771-0b25-47dc-b810-a25fd70ce5fb\", \"event_date\": 1701321330, \"action\": \"click\", \"uri\": \"https://databricks.com/category/categoryauthor.htm\"}</td><td>dbdemos-sessions</td><td>4</td><td>16376378</td><td>2023-11-30T05:15:35.304Z</td><td>0</td></tr><tr><td>null</td><td>{\"user_id\": \"8f2385f0-f59d-4ebc-ac67-d3d5427e9a95\", \"platform\": \"ios\", \"event_id\": \"46d1ea2b-5420-4204-be91-08e79982243f\", \"event_date\": 1701321332, \"action\": \"view\", \"uri\": \"https://databricks.com/search/categories/tagsterms.htm\"}</td><td>dbdemos-sessions</td><td>4</td><td>16376379</td><td>2023-11-30T05:15:35.307Z</td><td>0</td></tr><tr><td>null</td><td>{\"user_id\": \"c6520f02-c12e-4be1-bb5d-e86400691485\", \"platform\": \"other\", \"event_id\": \"6d9e0862-aa47-477a-ab94-2a35ef8fd219\", \"event_date\": 1701321340, \"action\": \"click\", \"uri\": \"https://databricks.com/list/wp-content/applogin.htm\"}</td><td>dbdemos-sessions</td><td>4</td><td>16376380</td><td>2023-11-30T05:15:36.31Z</td><td>0</td></tr><tr><td>null</td><td>{\"user_id\": \"429cd2ea-bb89-43bf-a2b7-190cd57c513d\", \"platform\": \"ios\", \"event_id\": \"8616278f-e3b3-403f-9d62-146fc193d3ba\", \"event_date\": 1701321331, \"action\": \"click\", \"uri\": \"https://databricks.com/wp-content/blogabout.php\"}</td><td>dbdemos-sessions</td><td>4</td><td>16376381</td><td>2023-11-30T05:15:36.312Z</td><td>0</td></tr><tr><td>null</td><td>{\"user_id\": \"e4e079a9-103e-464b-8b2f-b7d906066bad\", \"platform\": \"other\", \"event_id\": \"d98ee77d-ddb7-4b30-bd19-7127cbc3c5b3\", \"event_date\": 1701321332, \"action\": \"click\", \"uri\": \"https://databricks.com/app/tag/tagpost.php\"}</td><td>dbdemos-sessions</td><td>4</td><td>16376382</td><td>2023-11-30T05:15:36.315Z</td><td>0</td></tr><tr><td>null</td><td>{\"user_id\": \"8e47e6d7-ef56-45ef-9779-3eb3fbb427f4\", \"platform\": \"ios\", \"event_id\": \"1fd133e6-be3a-421f-8350-7801099bd900\", \"event_date\": 1701321339, \"action\": \"view\", \"uri\": \"https://databricks.com/explorelogin.html\"}</td><td>dbdemos-sessions</td><td>4</td><td>16376383</td><td>2023-11-30T05:15:37.328Z</td><td>0</td></tr><tr><td>null</td><td>{\"user_id\": \"1983f70f-77a9-4412-a898-1c7e3312d2af\", \"platform\": \"android\", \"event_id\": \"0c8972cf-d6e0-459a-882d-9207fb8b4498\", \"event_date\": 1701321340, \"action\": \"log\", \"uri\": \"https://databricks.com/wp-content/main/postsindex.html\"}</td><td>dbdemos-sessions</td><td>4</td><td>16376384</td><td>2023-11-30T05:15:38.357Z</td><td>0</td></tr><tr><td>null</td><td>{\"user_id\": \"54371530-b4ba-4a28-9f12-2bc87205aded\", \"platform\": \"other\", \"event_id\": \"f4bea981-b26a-4702-adf2-f90a875f7428\", \"event_date\": 1701321335, \"action\": \"view\", \"uri\": \"https://databricks.com/tags/listhome.htm\"}</td><td>dbdemos-sessions</td><td>4</td><td>16376385</td><td>2023-11-30T05:15:38.362Z</td><td>0</td></tr><tr><td>null</td><td>{\"user_id\": \"e27de5d1-1203-41d9-aaed-8521b4a5a4f3\", \"platform\": \"android\", \"event_id\": \"16242938-17a7-4300-aaef-0a9f9a157c03\", \"event_date\": 1701321334, \"action\": \"log\", \"uri\": \"https://databricks.com/postscategory.html\"}</td><td>dbdemos-sessions</td><td>4</td><td>16376386</td><td>2023-11-30T05:15:39.387Z</td><td>0</td></tr><tr><td>null</td><td>{\"user_id\": \"6a4e890d-982b-46e1-b446-3688a723cdff\", \"platform\": \"ios\", \"event_id\": \"72ac388c-1054-4429-b8cd-d74d20ebfa6e\", \"event_date\": 1701321328, \"action\": \"view\", \"uri\": \"https://databricks.com/mainindex.jsp\"}</td><td>dbdemos-sessions</td><td>3</td><td>16374408</td><td>2023-11-30T05:15:33.274Z</td><td>0</td></tr><tr><td>null</td><td>{\"user_id\": \"c6520f02-c12e-4be1-bb5d-e86400691485\", \"platform\": \"other\", \"event_id\": \"2440ef44-498e-4557-a929-98c7797287a3\", \"event_date\": 1701321331, \"action\": \"click\", \"uri\": \"https://databricks.com/searchindex.htm\"}</td><td>dbdemos-sessions</td><td>3</td><td>16374409</td><td>2023-11-30T05:15:34.284Z</td><td>0</td></tr><tr><td>null</td><td>{\"user_id\": \"ed3224d7-fb6d-42ec-89c2-dc64f4f3be97\", \"platform\": \"ios\", \"event_id\": \"52a6fbe7-dc49-4f8a-9ecf-61ce2c5f82a8\", \"event_date\": 1701321329, \"action\": \"view\", \"uri\": \"https://databricks.com/tagfaq.php\"}</td><td>dbdemos-sessions</td><td>3</td><td>16374410</td><td>2023-11-30T05:15:34.286Z</td><td>0</td></tr><tr><td>null</td><td>{\"user_id\": \"d205fb2a-dea2-45a1-85f1-caba13d64e95\", \"platform\": \"other\", \"event_id\": \"84b55edc-7bfc-4a82-ad2c-ba25bda89a04\", \"event_date\": 1701321331, \"action\": \"view\", \"uri\": \"https://databricks.com/list/categories/explorefaq.php\"}</td><td>dbdemos-sessions</td><td>3</td><td>16374411</td><td>2023-11-30T05:15:35.297Z</td><td>0</td></tr><tr><td>null</td><td>{\"user_id\": \"d78e2c84-3acd-4c26-a603-415b76c598ea\", \"platform\": \"ios\", \"event_id\": \"9293cee7-b753-4258-a1fe-84abd02454d6\", \"event_date\": 1701321338, \"action\": \"view\", \"uri\": \"https://databricks.com/explore/categoryhome.html\"}</td><td>dbdemos-sessions</td><td>3</td><td>16374412</td><td>2023-11-30T05:15:35.3Z</td><td>0</td></tr><tr><td>null</td><td>{\"user_id\": \"5374937a-2fa0-47af-a197-a01ef24a80ad\", \"platform\": \"other\", \"event_id\": \"b113bc6d-1035-4368-b9e1-a269bdb83be5\", \"event_date\": 1701321340, \"action\": \"view\", \"uri\": \"https://databricks.com/categoriesmain.asp\"}</td><td>dbdemos-sessions</td><td>3</td><td>16374413</td><td>2023-11-30T05:15:36.313Z</td><td>0</td></tr><tr><td>null</td><td>{\"user_id\": \"dc4c68db-f999-47bd-8569-97fb8c457a1d\", \"platform\": \"other\", \"event_id\": \"f0fb2521-70a3-4ca9-a125-a51eadbd6677\", \"event_date\": 1701321339, \"action\": \"log\", \"uri\": \"https://databricks.com/main/listlogin.html\"}</td><td>dbdemos-sessions</td><td>3</td><td>16374414</td><td>2023-11-30T05:15:36.313Z</td><td>0</td></tr><tr><td>null</td><td>{\"user_id\": \"7cd07a2d-d835-470d-a0c8-b3400c915ac7\", \"platform\": \"android\", \"event_id\": \"427ef674-5443-4a71-8cfa-34ebf8e69947\", \"event_date\": 1701321339, \"action\": \"view\", \"uri\": \"https://databricks.com/wp-contentlogin.html\"}</td><td>dbdemos-sessions</td><td>3</td><td>16374415</td><td>2023-11-30T05:15:37.323Z</td><td>0</td></tr><tr><td>null</td><td>{\"user_id\": \"c1923944-ddfe-4ee3-a9da-be94482fa973\", \"platform\": \"ios\", \"event_id\": \"381282aa-f859-4597-b8c3-215ecb1a6bdd\", \"event_date\": 1701321335, \"action\": \"click\", \"uri\": \"https://databricks.com/search/mainhomepage.php\"}</td><td>dbdemos-sessions</td><td>3</td><td>16374416</td><td>2023-11-30T05:15:37.342Z</td><td>0</td></tr><tr><td>null</td><td>{\"user_id\": \"d5c1965f-4903-4b86-895d-f9cce7d9c963\", \"platform\": \"ios\", \"event_id\": \"9173fa10-be16-4d88-a7ce-8ee245a461c8\", \"event_date\": 1701321334, \"action\": \"view\", \"uri\": \"https://databricks.com/wp-content/taghome.jsp\"}</td><td>dbdemos-sessions</td><td>3</td><td>16374417</td><td>2023-11-30T05:15:38.355Z</td><td>0</td></tr><tr><td>null</td><td>{\"user_id\": \"e4e079a9-103e-464b-8b2f-b7d906066bad\", \"platform\": \"ios\", \"event_id\": \"79156d64-265f-4c4c-9ae4-636ed5aa0f68\", \"event_date\": 1701321342, \"action\": \"view\", \"uri\": \"https://databricks.com/wp-content/mainregister.html\"}</td><td>dbdemos-sessions</td><td>3</td><td>16374418</td><td>2023-11-30T05:15:38.361Z</td><td>0</td></tr><tr><td>null</td><td>{\"user_id\": \"54371530-b4ba-4a28-9f12-2bc87205aded\", \"platform\": \"other\", \"event_id\": \"f4bea981-b26a-4702-adf2-f90a875f7428\", \"event_date\": 1701321335, \"action\": \"view\", \"uri\": \"https://databricks.com/tags/listhome.htm\"}</td><td>dbdemos-sessions</td><td>3</td><td>16374419</td><td>2023-11-30T05:15:38.363Z</td><td>0</td></tr><tr><td>null</td><td>{\"user_id\": \"6bf1f604-3544-45c9-93a5-180b78652be1\", \"platform\": \"other\", \"event_id\": \"93b8c7c9-76d0-4ed9-9f42-fbf944ed27fc\", \"event_date\": 1701321336, \"action\": \"log\", \"uri\": \"https://databricks.com/blog/explore/explorepost.htm\"}</td><td>dbdemos-sessions</td><td>3</td><td>16374420</td><td>2023-11-30T05:15:38.364Z</td><td>0</td></tr><tr><td>null</td><td>{\"user_id\": \"93ef5cae-b681-4e40-8e10-cae4283b2b04\", \"platform\": \"other\", \"event_id\": \"98c5fc4b-aa22-48bb-9f62-ad66a1cade7b\", \"event_date\": 1701321337, \"action\": \"log\", \"uri\": \"https://databricks.com/appfaq.asp\"}</td><td>dbdemos-sessions</td><td>3</td><td>16374421</td><td>2023-11-30T05:15:39.383Z</td><td>0</td></tr><tr><td>null</td><td>{\"user_id\": \"287d6985-e3c1-44f7-a700-2df164a43235\", \"platform\": \"other\", \"event_id\": \"ebe00228-b15e-4b0f-b859-a0a62db089aa\", \"event_date\": 1701321338, \"action\": \"click\", \"uri\": \"https://databricks.com/category/search/postsauthor.html\"}</td><td>dbdemos-sessions</td><td>3</td><td>16374422</td><td>2023-11-30T05:15:39.386Z</td><td>0</td></tr><tr><td>null</td><td>{\"user_id\": \"34265667-87e0-4a72-b118-befa1e41b2b7\", \"platform\": \"other\", \"event_id\": \"3eb94d69-3c76-4b9c-86c3-e0d9cfa06935\", \"event_date\": 1701321336, \"action\": \"view\", \"uri\": \"https://databricks.com/category/categories/bloghome.php\"}</td><td>dbdemos-sessions</td><td>3</td><td>16374423</td><td>2023-11-30T05:15:39.392Z</td><td>0</td></tr><tr><td>null</td><td>{\"user_id\": \"c74ac38e-0a9b-4785-9a27-09d1d694e40c\", \"platform\": \"ios\", \"event_id\": \"a28eba9d-7857-469f-8c52-1121747faada\", \"event_date\": 1701321342, \"action\": \"view\", \"uri\": \"https://databricks.com/explore/categoriesindex.asp\"}</td><td>dbdemos-sessions</td><td>3</td><td>16374424</td><td>2023-11-30T05:15:39.393Z</td><td>0</td></tr></tbody></table></div>"
      ]
     },
     "metadata": {
      "application/vnd.databricks.v1+output": {
       "addedWidgets": {},
       "aggData": [],
       "aggError": "",
       "aggOverflow": false,
       "aggSchema": [],
       "aggSeriesLimitReached": false,
       "aggType": "",
       "arguments": {},
       "columnCustomDisplayInfos": {},
       "data": [
        [
         null,
         "{\"user_id\": \"a9d649d1-694d-4652-b94a-5389edb038ec\", \"platform\": \"ios\", \"event_id\": \"a7764148-1c9b-4e4e-84c5-c0451e7ef0f0\", \"event_date\": 1701321360, \"action\": \"click\", \"uri\": \"https://databricks.com/tags/tag/listmain.htm\"}",
         "dbdemos-sessions",
         8,
         16368597,
         "2023-11-30T05:16:03.731Z",
         0
        ],
        [
         null,
         "{\"user_id\": \"65c8a970-e4e2-4fc7-9706-825f852acd65\", \"platform\": \"ios\", \"event_id\": \"befeefd2-99cd-41a8-b315-3e07a25ecb21\", \"event_date\": 1701321368, \"action\": \"view\", \"uri\": \"https://databricks.com/blog/tagregister.html\"}",
         "dbdemos-sessions",
         8,
         16368598,
         "2023-11-30T05:16:05.801Z",
         0
        ],
        [
         null,
         "{\"user_id\": \"d73a3593-150d-4d93-b32e-fa94fa4ed628\", \"platform\": \"ios\", \"event_id\": \"014d46cd-63d0-4376-b0f9-2cb3dc02a44f\", \"event_date\": 1701321362, \"action\": \"view\", \"uri\": \"https://databricks.com/blog/tags/searchpost.jsp\"}",
         "dbdemos-sessions",
         8,
         16368599,
         "2023-11-30T05:16:06.824Z",
         0
        ],
        [
         null,
         "{\"user_id\": \"6e102f64-abf8-441b-942d-19df3cde3714\", \"platform\": \"other\", \"event_id\": \"77713498-21c0-41e1-995c-cebbcc06e529\", \"event_date\": 1701321368, \"action\": \"view\", \"uri\": \"https://databricks.com/categorieshome.php\"}",
         "dbdemos-sessions",
         8,
         16368600,
         "2023-11-30T05:16:07.826Z",
         0
        ],
        [
         null,
         "{\"user_id\": \"301ed5d3-8d3d-4e1e-96da-0043610a5c98\", \"platform\": \"ios\", \"event_id\": \"2477d395-0c71-4d0a-9f74-66736bae4876\", \"event_date\": 1701321366, \"action\": \"log\", \"uri\": \"https://databricks.com/search/blogindex.html\"}",
         "dbdemos-sessions",
         8,
         16368601,
         "2023-11-30T05:16:07.833Z",
         0
        ],
        [
         null,
         "{\"user_id\": \"455ca8a1-18bd-409f-b257-5a298fb5a5a9\", \"platform\": \"ios\", \"event_id\": \"7911d4aa-ea76-412f-8357-749894b2c0ce\", \"event_date\": 1701321371, \"action\": \"view\", \"uri\": \"https://databricks.com/appterms.asp\"}",
         "dbdemos-sessions",
         8,
         16368602,
         "2023-11-30T05:16:07.836Z",
         0
        ],
        [
         null,
         "{\"user_id\": \"94ba5e9c-d1c8-4837-8c7f-e3e20d6a180e\", \"platform\": \"ios\", \"event_id\": \"cdd757d7-83a6-4163-a730-790b314c34d5\", \"event_date\": 1701321369, \"action\": \"log\", \"uri\": \"https://databricks.com/mainhomepage.asp\"}",
         "dbdemos-sessions",
         8,
         16368603,
         "2023-11-30T05:16:08.839Z",
         0
        ],
        [
         null,
         "{\"user_id\": \"7354e19a-6b74-4581-9278-7d2a1fa506d2\", \"platform\": \"ios\", \"event_id\": \"b8769837-a90d-4adb-b720-a4999d97b44f\", \"event_date\": 1701321367, \"action\": \"view\", \"uri\": \"https://databricks.com/categoriesabout.htm\"}",
         "dbdemos-sessions",
         8,
         16368604,
         "2023-11-30T05:16:09.85Z",
         0
        ],
        [
         null,
         "{\"user_id\": \"8c78e34e-0201-4757-a82a-fa0d9f70beda\", \"platform\": \"other\", \"event_id\": \"fb9a443c-ed7e-4fb1-a177-7228d83958d3\", \"event_date\": 1701321369, \"action\": \"view\", \"uri\": \"https://databricks.com/explore/mainmain.html\"}",
         "dbdemos-sessions",
         8,
         16368605,
         "2023-11-30T05:16:09.853Z",
         0
        ],
        [
         null,
         "{\"user_id\": \"f5bb0598-15cc-4ded-8192-0bd8262a8941\", \"platform\": \"ios\", \"event_id\": \"23b03251-10e2-46b7-bbe9-3ec674d27ced\", \"event_date\": 1701321370, \"action\": \"click\", \"uri\": \"https://databricks.com/wp-content/exploreindex.htm\"}",
         "dbdemos-sessions",
         8,
         16368606,
         "2023-11-30T05:16:10.866Z",
         0
        ],
        [
         null,
         "{\"user_id\": \"604ae75c-5537-43da-bd92-5a235a891266\", \"platform\": null, \"event_id\": \"bd169203-301d-4451-b7f0-f21979e18493\", \"event_date\": 1701321366, \"action\": \"log\", \"uri\": \"https://databricks.com/categoryindex.html\"}",
         "dbdemos-sessions",
         8,
         16368607,
         "2023-11-30T05:16:10.868Z",
         0
        ],
        [
         null,
         "{\"user_id\": \"18713496-a98e-49a4-ab88-9f029f18b4c5\", \"platform\": \"ios\", \"event_id\": \"5203b7fe-e0da-416e-bf1a-8d082c6ef595\", \"event_date\": 1701321371, \"action\": \"view\", \"uri\": \"https://databricks.com/categorieshomepage.php\"}",
         "dbdemos-sessions",
         8,
         16368608,
         "2023-11-30T05:16:12.888Z",
         0
        ],
        [
         null,
         "{\"user_id\": \"45a7825b-826f-402b-a6c1-ffaf0c44da1d\", \"platform\": \"ios\", \"event_id\": \"7e9158cb-a0ef-40a0-b2d2-2ce9d7d8b0ad\", \"event_date\": 1701321374, \"action\": \"view\", \"uri\": \"https://databricks.com/search/tags/categoriesauthor.html\"}",
         "dbdemos-sessions",
         8,
         16368609,
         "2023-11-30T05:16:12.896Z",
         0
        ],
        [
         null,
         "{\"user_id\": \"ca395091-d1d8-4621-8a10-ee8ff2db1409\", \"platform\": \"ios\", \"event_id\": \"9581675e-ef72-49f3-8dd6-9f6830f1772c\", \"event_date\": 1701321374, \"action\": null, \"uri\": \"https://databricks.com/wp-content/search/searchhome.html\"}",
         "dbdemos-sessions",
         8,
         16368610,
         "2023-11-30T05:16:14.918Z",
         0
        ],
        [
         null,
         "{\"user_id\": \"dbf55039-2fd8-42f8-bc6b-cda6329562d7\", \"platform\": \"other\", \"event_id\": \"d17d2acd-5dff-47d7-b924-39915e9b01d8\", \"event_date\": 1701321375, \"action\": \"click\", \"uri\": \"https://databricks.com/wp-contentindex.html\"}",
         "dbdemos-sessions",
         8,
         16368611,
         "2023-11-30T05:16:14.92Z",
         0
        ],
        [
         null,
         "{\"user_id\": \"5c32df45-eda2-494d-abe8-f00782dd60c5\", \"platform\": \"ios\", \"event_id\": \"89032cc7-d007-432c-a6b5-d93e78bb3eb7\", \"event_date\": 1701321378, \"action\": \"view\", \"uri\": \"https://databricks.com/wp-content/search/postsregister.asp\"}",
         "dbdemos-sessions",
         8,
         16368612,
         "2023-11-30T05:16:15.936Z",
         0
        ],
        [
         null,
         "{\"user_id\": \"95554353-d49e-4465-a165-59b15116e5dd\", \"platform\": \"other\", \"event_id\": \"7a08ff02-3eb2-46c2-986c-17491d6c1c17\", \"event_date\": 1701321375, \"action\": \"view\", \"uri\": \"https://databricks.com/postssearch.htm\"}",
         "dbdemos-sessions",
         8,
         16368613,
         "2023-11-30T05:16:16.952Z",
         0
        ],
        [
         null,
         "{\"user_id\": \"015951ed-1620-4f38-95be-7b9f4620cbca\", \"platform\": \"ios\", \"event_id\": \"ce9bfa6d-62b9-4d24-882b-66fb185b411a\", \"event_date\": 1701321374, \"action\": \"log\", \"uri\": \"https://databricks.com/list/blogprivacy.html\"}",
         "dbdemos-sessions",
         8,
         16368614,
         "2023-11-30T05:16:16.953Z",
         0
        ],
        [
         null,
         "{\"user_id\": \"174669fd-183b-461e-9633-ceacc9d3e277\", \"platform\": \"ios\", \"event_id\": \"acf6af74-f442-41f9-a9ec-2e8950c2a608\", \"event_date\": 1701321374, \"action\": \"view\", \"uri\": \"https://databricks.com/blog/tagsregister.jsp\"}",
         "dbdemos-sessions",
         8,
         16368615,
         "2023-11-30T05:16:17.959Z",
         0
        ],
        [
         null,
         "{\"user_id\": \"93ef5cae-b681-4e40-8e10-cae4283b2b04\", \"platform\": \"other\", \"event_id\": \"bf672cc8-9c74-4cd3-85f8-42881916712d\", \"event_date\": 1701321377, \"action\": \"view\", \"uri\": \"https://databricks.com/explore/list/postsfaq.html\"}",
         "dbdemos-sessions",
         8,
         16368616,
         "2023-11-30T05:16:18.968Z",
         0
        ],
        [
         null,
         "{\"user_id\": \"d78e2c84-3acd-4c26-a603-415b76c598ea\", \"platform\": \"android\", \"event_id\": \"3b128b23-a9a1-45de-bc57-e119785b870d\", \"event_date\": 1701321378, \"action\": \"view\", \"uri\": \"https://databricks.com/list/list/explorecategory.html\"}",
         "dbdemos-sessions",
         8,
         16368617,
         "2023-11-30T05:16:18.969Z",
         0
        ],
        [
         null,
         "{\"user_id\": \"e4e079a9-103e-464b-8b2f-b7d906066bad\", \"platform\": \"other\", \"event_id\": \"9d1441a0-7d7c-4c51-a7c2-4b239c8571ff\", \"event_date\": 1701321375, \"action\": \"click\", \"uri\": \"https://databricks.com/search/categorylogin.php\"}",
         "dbdemos-sessions",
         8,
         16368618,
         "2023-11-30T05:16:18.972Z",
         0
        ],
        [
         null,
         "{\"user_id\": \"65c8a970-e4e2-4fc7-9706-825f852acd65\", \"platform\": \"android\", \"event_id\": \"04de322c-d6f3-44ef-ad08-a5e8067fda55\", \"event_date\": 1701321373, \"action\": \"click\", \"uri\": \"https://databricks.com/categoriesfaq.php\"}",
         "dbdemos-sessions",
         8,
         16368619,
         "2023-11-30T05:16:18.976Z",
         0
        ],
        [
         null,
         "{\"user_id\": \"2a284ec7-9875-4c46-a431-bc41aef3bb00\", \"platform\": \"ios\", \"event_id\": \"cd61cf2c-d3d1-40b3-a6f0-1c484a12bfa1\", \"event_date\": 1701321378, \"action\": \"view\", \"uri\": \"https://databricks.com/mainfaq.html\"}",
         "dbdemos-sessions",
         8,
         16368620,
         "2023-11-30T05:16:19.988Z",
         0
        ],
        [
         null,
         "{\"user_id\": \"d4535df9-a37d-4a3c-8309-c60389024de9\", \"platform\": \"ios\", \"event_id\": \"59f68de9-e72b-469b-8916-e32eba771ad1\", \"event_date\": 1701321378, \"action\": \"view\", \"uri\": \"https://databricks.com/tag/categories/appindex.php\"}",
         "dbdemos-sessions",
         8,
         16368621,
         "2023-11-30T05:16:19.993Z",
         0
        ],
        [
         null,
         "{\"user_id\": \"cdf5504b-598d-4c9e-aa2c-01d320d7a397\", \"platform\": \"ios\", \"event_id\": \"3f180c26-7d6d-4932-b97f-262acae5b479\", \"event_date\": 1701321364, \"action\": \"view\", \"uri\": \"https://databricks.com/search/tag/listindex.asp\"}",
         "dbdemos-sessions",
         2,
         16371863,
         "2023-11-30T05:16:02.713Z",
         0
        ],
        [
         null,
         "{\"user_id\": \"604ae75c-5537-43da-bd92-5a235a891266\", \"platform\": \"ios\", \"event_id\": \"9ae6b385-0000-4d4d-bab0-b60841b217ee\", \"event_date\": 1701321357, \"action\": \"view\", \"uri\": \"https://databricks.com/tag/category/categoryauthor.html\"}",
         "dbdemos-sessions",
         2,
         16371864,
         "2023-11-30T05:16:02.714Z",
         0
        ],
        [
         null,
         "{\"user_id\": \"a1410f93-0184-4aca-9c43-c686a605a5f6\", \"platform\": \"ios\", \"event_id\": \"08400704-40b1-4ed2-a42a-5e1be3fbf08a\", \"event_date\": 1701321362, \"action\": \"view\", \"uri\": \"https://databricks.com/search/search/mainhomepage.html\"}",
         "dbdemos-sessions",
         2,
         16371865,
         "2023-11-30T05:16:03.724Z",
         0
        ],
        [
         null,
         "{\"user_id\": \"54371530-b4ba-4a28-9f12-2bc87205aded\", \"platform\": \"ios\", \"event_id\": \"7ae7299b-ef0f-48fd-af9e-a3cee6290d12\", \"event_date\": 1701321359, \"action\": \"click\", \"uri\": \"https://databricks.com/search/app/postsregister.php\"}",
         "dbdemos-sessions",
         2,
         16371866,
         "2023-11-30T05:16:04.739Z",
         0
        ],
        [
         null,
         "{\"user_id\": \"5374937a-2fa0-47af-a197-a01ef24a80ad\", \"platform\": \"ios\", \"event_id\": \"9c2195eb-f6a7-4510-bef4-930f71ae0cde\", \"event_date\": 1701321369, \"action\": \"view\", \"uri\": \"https://databricks.com/tag/wp-contentlogin.php\"}",
         "dbdemos-sessions",
         2,
         16371867,
         "2023-11-30T05:16:05.782Z",
         0
        ],
        [
         null,
         "{\"user_id\": \"a1410f93-0184-4aca-9c43-c686a605a5f6\", \"platform\": \"other\", \"event_id\": \"a2f7c0a2-62d0-4a18-be4e-8a2e55f7b91a\", \"event_date\": 1701321365, \"action\": \"view\", \"uri\": \"https://databricks.com/main/listhomepage.php\"}",
         "dbdemos-sessions",
         2,
         16371868,
         "2023-11-30T05:16:05.785Z",
         0
        ],
        [
         null,
         "{\"user_id\": \"66fe7dd1-8f19-470c-b4b8-be75c4793e76\", \"platform\": \"ios\", \"event_id\": \"b81819c7-fed2-41fb-82b0-ca1ff7972d43\", \"event_date\": 1701321364, \"action\": \"view\", \"uri\": \"https://databricks.com/categorylogin.html\"}",
         "dbdemos-sessions",
         2,
         16371869,
         "2023-11-30T05:16:06.81Z",
         0
        ],
        [
         null,
         "{\"user_id\": \"d6b698c1-d982-4afd-913f-a4ba28177397\", \"platform\": \"android\", \"event_id\": \"3cca38b5-5043-408f-9831-3e0291bd5fbc\", \"event_date\": 1701321365, \"action\": \"view\", \"uri\": \"https://databricks.com/postsprivacy.html\"}",
         "dbdemos-sessions",
         2,
         16371870,
         "2023-11-30T05:16:06.818Z",
         0
        ],
        [
         null,
         "{\"user_id\": \"7cd07a2d-d835-470d-a0c8-b3400c915ac7\", \"platform\": \"ios\", \"event_id\": \"a8d8ccad-7cca-41f5-aeed-955593385aca\", \"event_date\": 1701321367, \"action\": \"view\", \"uri\": \"https://databricks.com/categories/app/categoriesfaq.htm\"}",
         "dbdemos-sessions",
         2,
         16371871,
         "2023-11-30T05:16:07.826Z",
         0
        ],
        [
         null,
         "{\"user_id\": \"a1410f93-0184-4aca-9c43-c686a605a5f6\", \"platform\": \"other\", \"event_id\": \"abceef57-e81a-4cc0-909d-a9d0ad2190bc\", \"event_date\": 1701321371, \"action\": \"view\", \"uri\": \"https://databricks.com/exploresearch.htm\"}",
         "dbdemos-sessions",
         2,
         16371872,
         "2023-11-30T05:16:07.828Z",
         0
        ],
        [
         null,
         "{\"user_id\": \"d6b698c1-d982-4afd-913f-a4ba28177397\", \"platform\": null, \"event_id\": \"39169b64-9f1c-4b5e-9c3a-514e1364b6ff\", \"event_date\": 1701321367, \"action\": \"click\", \"uri\": \"https://databricks.com/mainpost.html\"}",
         "dbdemos-sessions",
         2,
         16371873,
         "2023-11-30T05:16:09.855Z",
         0
        ],
        [
         null,
         "{\"user_id\": \"2a284ec7-9875-4c46-a431-bc41aef3bb00\", \"platform\": \"other\", \"event_id\": \"e4528e62-3300-4b35-b6eb-8e282d3b754f\", \"event_date\": 1701321364, \"action\": \"view\", \"uri\": \"https://databricks.com/categoryterms.jsp\"}",
         "dbdemos-sessions",
         2,
         16371874,
         "2023-11-30T05:16:09.857Z",
         0
        ],
        [
         null,
         "{\"user_id\": \"174669fd-183b-461e-9633-ceacc9d3e277\", \"platform\": \"ios\", \"event_id\": \"92290cd9-56fb-4c49-8701-8fbba2c0f00b\", \"event_date\": 1701321366, \"action\": \"click\", \"uri\": \"https://databricks.com/explore/listlogin.html\"}",
         "dbdemos-sessions",
         2,
         16371875,
         "2023-11-30T05:16:09.859Z",
         0
        ],
        [
         null,
         "{\"user_id\": \"ca395091-d1d8-4621-8a10-ee8ff2db1409\", \"platform\": \"ios\", \"event_id\": \"171078e0-cbe7-4a2d-8e8a-d0b625ff2082\", \"event_date\": 1701321368, \"action\": \"view\", \"uri\": \"https://databricks.com/posts/wp-content/blogregister.jsp\"}",
         "dbdemos-sessions",
         2,
         16371876,
         "2023-11-30T05:16:10.869Z",
         0
        ],
        [
         null,
         "{\"user_id\": \"174669fd-183b-461e-9633-ceacc9d3e277\", \"platform\": \"other\", \"event_id\": \"fa64e00c-88bf-4eb2-be59-54d50879405c\", \"event_date\": 1701321366, \"action\": \"click\", \"uri\": \"https://databricks.com/listlogin.php\"}",
         "dbdemos-sessions",
         2,
         16371877,
         "2023-11-30T05:16:10.871Z",
         0
        ],
        [
         null,
         "{\"user_id\": \"554db164-c09e-40fd-ab95-e90a9a739753\", \"platform\": \"ios\", \"event_id\": \"60f8cddc-b50d-4c24-8eb5-9f44cbd2f97a\", \"event_date\": 1701321370, \"action\": \"view\", \"uri\": \"https://databricks.com/category/app/postscategory.html\"}",
         "dbdemos-sessions",
         2,
         16371878,
         "2023-11-30T05:16:10.872Z",
         0
        ],
        [
         null,
         "{\"user_id\": \"2a284ec7-9875-4c46-a431-bc41aef3bb00\", \"platform\": \"ios\", \"event_id\": null, \"event_date\": 1701321376, \"action\": \"click\", \"uri\": \"https://databricks.com/tag/tagabout.htm\"}",
         "dbdemos-sessions",
         2,
         16371879,
         "2023-11-30T05:16:12.89Z",
         0
        ],
        [
         null,
         "{\"user_id\": \"d7f839c5-24fb-4c78-a643-9dfea1fcabad\", \"platform\": \"ios\", \"event_id\": null, \"event_date\": 1701321373, \"action\": \"view\", \"uri\": \"https://databricks.com/app/taghome.html\"}",
         "dbdemos-sessions",
         2,
         16371880,
         "2023-11-30T05:16:12.895Z",
         0
        ],
        [
         null,
         "{\"user_id\": \"d4535df9-a37d-4a3c-8309-c60389024de9\", \"platform\": \"other\", \"event_id\": \"8c1c8449-f9df-4246-ab2d-ee8551ed8778\", \"event_date\": 1701321375, \"action\": \"view\", \"uri\": \"https://databricks.com/categorycategory.jsp\"}",
         "dbdemos-sessions",
         2,
         16371881,
         "2023-11-30T05:16:13.907Z",
         0
        ],
        [
         null,
         "{\"user_id\": \"d5c1965f-4903-4b86-895d-f9cce7d9c963\", \"platform\": \"other\", \"event_id\": \"be0539e3-e624-4bf4-b5e9-2df8b988cbfd\", \"event_date\": 1701321369, \"action\": \"click\", \"uri\": \"https://databricks.com/app/taghomepage.html\"}",
         "dbdemos-sessions",
         2,
         16371882,
         "2023-11-30T05:16:14.914Z",
         0
        ],
        [
         null,
         "{\"user_id\": \"ca395091-d1d8-4621-8a10-ee8ff2db1409\", \"platform\": \"ios\", \"event_id\": \"9581675e-ef72-49f3-8dd6-9f6830f1772c\", \"event_date\": 1701321374, \"action\": null, \"uri\": \"https://databricks.com/wp-content/search/searchhome.html\"}",
         "dbdemos-sessions",
         2,
         16371883,
         "2023-11-30T05:16:14.918Z",
         0
        ],
        [
         null,
         "{\"user_id\": \"604ae75c-5537-43da-bd92-5a235a891266\", \"platform\": \"ios\", \"event_id\": \"1c2ed63d-61c0-42d2-8176-319b94893f34\", \"event_date\": 1701321371, \"action\": \"click\", \"uri\": \"https://databricks.com/list/tagauthor.htm\"}",
         "dbdemos-sessions",
         2,
         16371884,
         "2023-11-30T05:16:15.93Z",
         0
        ],
        [
         null,
         "{\"user_id\": \"d1c224cb-6273-49ed-b7d4-557da425f733\", \"platform\": \"ios\", \"event_id\": \"a32b545d-24b5-4f85-a590-84e881258a38\", \"event_date\": 1701321379, \"action\": \"log\", \"uri\": \"https://databricks.com/categories/tagabout.asp\"}",
         "dbdemos-sessions",
         2,
         16371885,
         "2023-11-30T05:16:15.938Z",
         0
        ],
        [
         null,
         "{\"user_id\": \"2a284ec7-9875-4c46-a431-bc41aef3bb00\", \"platform\": \"other\", \"event_id\": \"2567284a-7792-4b60-a9a1-23d2f798f700\", \"event_date\": 1701321379, \"action\": \"view\", \"uri\": \"https://databricks.com/categoriesauthor.htm\"}",
         "dbdemos-sessions",
         2,
         16371886,
         "2023-11-30T05:16:16.946Z",
         0
        ],
        [
         null,
         "{\"user_id\": \"5b573c0b-32f7-4f2a-b49c-1e8989ddc2b1\", \"platform\": \"ios\", \"event_id\": \"46ec77f8-c8ea-4e1d-8ad4-debd1764b362\", \"event_date\": 1701321377, \"action\": \"view\", \"uri\": \"https://databricks.com/explore/listhomepage.htm\"}",
         "dbdemos-sessions",
         2,
         16371887,
         "2023-11-30T05:16:16.948Z",
         0
        ],
        [
         null,
         "{\"user_id\": \"554db164-c09e-40fd-ab95-e90a9a739753\", \"platform\": \"ios\", \"event_id\": \"d30e5bbb-76e3-4129-9e2f-dc49fb24899f\", \"event_date\": 1701321372, \"action\": \"click\", \"uri\": \"https://databricks.com/app/posts/mainsearch.html\"}",
         "dbdemos-sessions",
         2,
         16371888,
         "2023-11-30T05:16:16.95Z",
         0
        ],
        [
         null,
         "{\"user_id\": \"d6b698c1-d982-4afd-913f-a4ba28177397\", \"platform\": \"android\", \"event_id\": \"77ef2ddd-5249-48cd-bffb-f06b8645358e\", \"event_date\": 1701321375, \"action\": \"click\", \"uri\": \"https://databricks.com/blog/explorehomepage.html\"}",
         "dbdemos-sessions",
         2,
         16371889,
         "2023-11-30T05:16:17.956Z",
         0
        ],
        [
         null,
         "{\"user_id\": \"fe5cd354-51ff-49cb-98c2-ba91e24b9117\", \"platform\": \"ios\", \"event_id\": \"0b973a4f-5ac3-417c-ad9b-c206d5a3ed97\", \"event_date\": 1701321377, \"action\": \"click\", \"uri\": \"https://databricks.com/tags/categorysearch.html\"}",
         "dbdemos-sessions",
         2,
         16371890,
         "2023-11-30T05:16:18.969Z",
         0
        ],
        [
         null,
         "{\"user_id\": \"a1410f93-0184-4aca-9c43-c686a605a5f6\", \"platform\": \"ios\", \"event_id\": \"054a4ec0-9016-457c-87ea-7d38c043f899\", \"event_date\": 1701321378, \"action\": \"view\", \"uri\": \"https://databricks.com/main/tags/categoryfaq.html\"}",
         "dbdemos-sessions",
         2,
         16371891,
         "2023-11-30T05:16:18.973Z",
         0
        ],
        [
         null,
         "{\"user_id\": \"18713496-a98e-49a4-ab88-9f029f18b4c5\", \"platform\": \"ios\", \"event_id\": \"3089e480-5e34-4ba0-a489-71655494f32f\", \"event_date\": 1701321378, \"action\": \"view\", \"uri\": \"https://databricks.com/category/listindex.htm\"}",
         "dbdemos-sessions",
         2,
         16371892,
         "2023-11-30T05:16:19.983Z",
         0
        ],
        [
         null,
         "{\"user_id\": \"49facf48-ff7c-4d4f-a4cc-42432b261b71\", \"platform\": \"ios\", \"event_id\": \"bb01412e-137a-409e-90e4-1a67c692940d\", \"event_date\": 1701321382, \"action\": \"click\", \"uri\": \"https://databricks.com/search/explorehome.htm\"}",
         "dbdemos-sessions",
         2,
         16371893,
         "2023-11-30T05:16:19.995Z",
         0
        ],
        [
         null,
         "{\"user_id\": \"37ae47e8-eefc-4e9e-8664-f272435abfca\", \"platform\": \"ios\", \"event_id\": \"26533e2a-31a6-40ce-9ff0-050234bf6772\", \"event_date\": 1701321377, \"action\": \"log\", \"uri\": \"https://databricks.com/tag/tagslogin.htm\"}",
         "dbdemos-sessions",
         2,
         16371894,
         "2023-11-30T05:16:19.997Z",
         0
        ],
        [
         null,
         "{\"user_id\": \"9acce7bf-7baa-45f0-b598-93b24e8843fd\", \"platform\": \"ios\", \"event_id\": \"bdfb956f-83ed-46e0-8a15-5895a9ad022a\", \"event_date\": 1701321362, \"action\": \"view\", \"uri\": \"https://databricks.com/main/searchindex.html\"}",
         "dbdemos-sessions",
         5,
         16377851,
         "2023-11-30T05:16:02.713Z",
         0
        ],
        [
         null,
         "{\"user_id\": \"02467029-f802-4ee5-ab0f-6f80a46c4320\", \"platform\": \"ios\", \"event_id\": \"1f03ac1f-7060-4629-891b-f4f297018342\", \"event_date\": 1701321360, \"action\": \"click\", \"uri\": \"https://databricks.com/blog/wp-content/mainlogin.php\"}",
         "dbdemos-sessions",
         5,
         16377852,
         "2023-11-30T05:16:02.714Z",
         0
        ],
        [
         null,
         "{\"user_id\": \"f51f94e1-27a4-48be-b539-b0aac42704e3\", \"platform\": \"other\", \"event_id\": \"dd558ab6-1d47-44c0-9a9e-bcac6eb59670\", \"event_date\": 1701321360, \"action\": \"view\", \"uri\": \"https://databricks.com/main/main/bloglogin.htm\"}",
         "dbdemos-sessions",
         5,
         16377853,
         "2023-11-30T05:16:04.754Z",
         0
        ],
        [
         null,
         "{\"user_id\": \"65c8a970-e4e2-4fc7-9706-825f852acd65\", \"platform\": \"other\", \"event_id\": \"93f6c5c0-a61a-411a-8460-c870b27f94e9\", \"event_date\": 1701321360, \"action\": \"view\", \"uri\": \"https://databricks.com/posts/mainfaq.php\"}",
         "dbdemos-sessions",
         5,
         16377854,
         "2023-11-30T05:16:04.76Z",
         0
        ],
        [
         null,
         "{\"user_id\": \"82096dbb-07cd-45da-b6cc-57bc4ea01540\", \"platform\": \"other\", \"event_id\": \"268c6f5a-f793-4e80-a521-1ee0bf7a3b05\", \"event_date\": 1701321365, \"action\": \"click\", \"uri\": \"https://databricks.com/wp-content/category/wp-contenthomepage.htm\"}",
         "dbdemos-sessions",
         5,
         16377855,
         "2023-11-30T05:16:05.784Z",
         0
        ],
        [
         null,
         "{\"user_id\": \"02467029-f802-4ee5-ab0f-6f80a46c4320\", \"platform\": \"ios\", \"event_id\": \"b33e3d62-7a8a-4a61-80c9-9f69c0b33f9d\", \"event_date\": 1701321361, \"action\": \"view\", \"uri\": \"https://databricks.com/categories/categories/postshome.asp\"}",
         "dbdemos-sessions",
         5,
         16377856,
         "2023-11-30T05:16:05.786Z",
         0
        ],
        [
         null,
         "{\"user_id\": \"554db164-c09e-40fd-ab95-e90a9a739753\", \"platform\": \"ios\", \"event_id\": \"a09adcc2-c200-4c69-975c-53a89ebb7faf\", \"event_date\": 1701321365, \"action\": \"view\", \"uri\": \"https://databricks.com/searchcategory.htm\"}",
         "dbdemos-sessions",
         5,
         16377857,
         "2023-11-30T05:16:05.801Z",
         0
        ],
        [
         null,
         "{\"user_id\": \"ca395091-d1d8-4621-8a10-ee8ff2db1409\", \"platform\": \"ios\", \"event_id\": \"36336b2f-eef7-424d-9a08-0544ae671721\", \"event_date\": 1701321362, \"action\": \"view\", \"uri\": \"https://databricks.com/list/bloghomepage.htm\"}",
         "dbdemos-sessions",
         5,
         16377858,
         "2023-11-30T05:16:06.819Z",
         0
        ],
        [
         null,
         "{\"user_id\": \"5d81aa0b-2986-4b18-abbd-b085380a1bb6\", \"platform\": \"ios\", \"event_id\": \"df52007e-55b8-418c-9b18-76d2bb923aca\", \"event_date\": 1701321368, \"action\": \"view\", \"uri\": \"https://databricks.com/posts/wp-content/mainindex.htm\"}",
         "dbdemos-sessions",
         5,
         16377859,
         "2023-11-30T05:16:07.83Z",
         0
        ],
        [
         null,
         "{\"user_id\": \"83371c85-106e-4e79-9b16-f62a8904aee7\", \"platform\": \"ios\", \"event_id\": \"13b624bc-4118-430e-985d-a1e7ee21d0b3\", \"event_date\": 1701321364, \"action\": \"view\", \"uri\": \"https://databricks.com/wp-content/tagauthor.htm\"}",
         "dbdemos-sessions",
         5,
         16377860,
         "2023-11-30T05:16:07.836Z",
         0
        ],
        [
         null,
         "{\"user_id\": \"8c37dfb5-4ce9-40ee-aabd-6d2e41387b89\", \"platform\": \"android\", \"event_id\": \"1bde6427-d645-4c53-b072-1e42615a09be\", \"event_date\": 1701321369, \"action\": \"click\", \"uri\": \"https://databricks.com/search/app/appauthor.html\"}",
         "dbdemos-sessions",
         5,
         16377861,
         "2023-11-30T05:16:08.838Z",
         0
        ],
        [
         null,
         "{\"user_id\": \"426ccd91-2409-4b5d-83e9-d582f552985e\", \"platform\": \"android\", \"event_id\": \"c4fab495-ae00-4980-9be0-dbd7684474ae\", \"event_date\": 1701321371, \"action\": \"log\", \"uri\": \"https://databricks.com/app/search/mainabout.html\"}",
         "dbdemos-sessions",
         5,
         16377862,
         "2023-11-30T05:16:09.851Z",
         0
        ],
        [
         null,
         "{\"user_id\": \"65c8a970-e4e2-4fc7-9706-825f852acd65\", \"platform\": \"ios\", \"event_id\": null, \"event_date\": 1701321365, \"action\": \"log\", \"uri\": \"https://databricks.com/explore/explore/blogprivacy.php\"}",
         "dbdemos-sessions",
         5,
         16377863,
         "2023-11-30T05:16:09.86Z",
         0
        ],
        [
         null,
         "{\"user_id\": \"93ef5cae-b681-4e40-8e10-cae4283b2b04\", \"platform\": \"other\", \"event_id\": \"3ced2f72-a49d-420f-8176-1aeca96ead57\", \"event_date\": 1701321374, \"action\": \"click\", \"uri\": \"https://databricks.com/categoryterms.jsp\"}",
         "dbdemos-sessions",
         5,
         16377864,
         "2023-11-30T05:16:10.864Z",
         0
        ],
        [
         null,
         "{\"user_id\": \"54371530-b4ba-4a28-9f12-2bc87205aded\", \"platform\": \"ios\", \"event_id\": \"d6badeee-44a1-41da-be06-864e5d21eb5f\", \"event_date\": 1701321370, \"action\": \"view\", \"uri\": \"https://databricks.com/tag/tags/appregister.htm\"}",
         "dbdemos-sessions",
         5,
         16377865,
         "2023-11-30T05:16:10.864Z",
         0
        ],
        [
         null,
         "{\"user_id\": \"cdf5504b-598d-4c9e-aa2c-01d320d7a397\", \"platform\": \"ios\", \"event_id\": \"dafed321-cb59-4cec-a64b-413b6d1f57df\", \"event_date\": 1701321366, \"action\": \"log\", \"uri\": \"https://databricks.com/category/wp-content/searchhome.html\"}",
         "dbdemos-sessions",
         5,
         16377866,
         "2023-11-30T05:16:10.865Z",
         0
        ],
        [
         null,
         "{\"user_id\": \"5f65957e-6cad-4b66-9409-8b1d877f227f\", \"platform\": \"ios\", \"event_id\": \"90e70d8d-c8f6-4a94-88f8-4bbbb574d3de\", \"event_date\": 1701321374, \"action\": \"click\", \"uri\": \"https://databricks.com/explore/categories/searchindex.html\"}",
         "dbdemos-sessions",
         5,
         16377867,
         "2023-11-30T05:16:10.873Z",
         0
        ],
        [
         null,
         "{\"user_id\": \"d7f839c5-24fb-4c78-a643-9dfea1fcabad\", \"platform\": \"other\", \"event_id\": \"79c85884-55c3-444e-a61b-81a70a150446\", \"event_date\": 1701321371, \"action\": \"log\", \"uri\": \"https://databricks.com/tagsfaq.jsp\"}",
         "dbdemos-sessions",
         5,
         16377868,
         "2023-11-30T05:16:11.882Z",
         0
        ],
        [
         null,
         "{\"user_id\": \"4fd4b3e9-61c6-4786-bc04-d90a9eb2458c\", \"platform\": \"ios\", \"event_id\": \"24f39fff-f1d4-4f7f-bc72-1fed2163aaf5\", \"event_date\": 1701321368, \"action\": \"view\", \"uri\": \"https://databricks.com/categories/tags/listmain.jsp\"}",
         "dbdemos-sessions",
         5,
         16377869,
         "2023-11-30T05:16:11.883Z",
         0
        ],
        [
         null,
         "{\"user_id\": \"6a4e890d-982b-46e1-b446-3688a723cdff\", \"platform\": \"ios\", \"event_id\": \"1420a255-54c0-4e73-8fa6-a2bc8a987b71\", \"event_date\": 1701321369, \"action\": \"click\", \"uri\": \"https://databricks.com/tag/wp-content/blogfaq.jsp\"}",
         "dbdemos-sessions",
         5,
         16377870,
         "2023-11-30T05:16:13.899Z",
         0
        ],
        [
         null,
         "{\"user_id\": \"5b573c0b-32f7-4f2a-b49c-1e8989ddc2b1\", \"platform\": \"android\", \"event_id\": \"18b4cb2f-aa8a-4021-9e0e-1f32a55f9d22\", \"event_date\": 1701321368, \"action\": \"log\", \"uri\": \"https://databricks.com/wp-content/search/taghomepage.html\"}",
         "dbdemos-sessions",
         5,
         16377871,
         "2023-11-30T05:16:13.904Z",
         0
        ],
        [
         null,
         "{\"user_id\": \"d1c224cb-6273-49ed-b7d4-557da425f733\", \"platform\": \"other\", \"event_id\": \"00aea655-99aa-4a8c-89ff-83466f5d278a\", \"event_date\": 1701321376, \"action\": \"click\", \"uri\": \"https://databricks.com/postsregister.jsp\"}",
         "dbdemos-sessions",
         5,
         16377872,
         "2023-11-30T05:16:13.911Z",
         0
        ],
        [
         null,
         "{\"user_id\": \"26e9a62b-affa-4c87-a5a9-df7bea55004e\", \"platform\": \"other\", \"event_id\": \"2f6a44c5-15c1-40a1-b614-9f4fff03815c\", \"event_date\": 1701321368, \"action\": \"view\", \"uri\": \"https://databricks.com/categoryfaq.htm\"}",
         "dbdemos-sessions",
         5,
         16377873,
         "2023-11-30T05:16:13.912Z",
         0
        ],
        [
         null,
         "{\"user_id\": \"bb041937-335f-4592-9b28-75cbd928cd41\", \"platform\": \"other\", \"event_id\": \"9de78265-865d-45eb-a897-ca4be2aa29c0\", \"event_date\": 1701321370, \"action\": \"view\", \"uri\": \"https://databricks.com/wp-content/categories/postslogin.php\"}",
         "dbdemos-sessions",
         5,
         16377874,
         "2023-11-30T05:16:14.913Z",
         0
        ],
        [
         null,
         "{\"user_id\": \"e4e079a9-103e-464b-8b2f-b7d906066bad\", \"platform\": \"other\", \"event_id\": \"eb7ec444-01ef-45c4-9ec6-15cc876e1635\", \"event_date\": 1701321370, \"action\": \"view\", \"uri\": \"https://databricks.com/tag/categories/tagpost.html\"}",
         "dbdemos-sessions",
         5,
         16377875,
         "2023-11-30T05:16:14.916Z",
         0
        ],
        [
         null,
         "{\"user_id\": \"a2203049-6083-4c38-b3e8-0832f315801a\", \"platform\": \"android\", \"event_id\": \"67d325ee-70e0-4d6b-af44-32c4ffba9877\", \"event_date\": 1701321373, \"action\": \"view\", \"uri\": \"https://databricks.com/apphome.htm\"}",
         "dbdemos-sessions",
         5,
         16377876,
         "2023-11-30T05:16:14.921Z",
         0
        ],
        [
         null,
         "{\"user_id\": \"301ed5d3-8d3d-4e1e-96da-0043610a5c98\", \"platform\": \"ios\", \"event_id\": \"c973fc93-8149-4196-bae7-53425750c6ed\", \"event_date\": 1701321378, \"action\": \"log\", \"uri\": \"https://databricks.com/explore/tagabout.jsp\"}",
         "dbdemos-sessions",
         5,
         16377877,
         "2023-11-30T05:16:15.931Z",
         0
        ],
        [
         null,
         "{\"user_id\": \"287d6985-e3c1-44f7-a700-2df164a43235\", \"platform\": \"ios\", \"event_id\": \"11f5ce9b-7ef7-42a2-8a90-9ddeeacb7a1f\", \"event_date\": 1701321375, \"action\": \"view\", \"uri\": \"https://databricks.com/list/categorieshome.asp\"}",
         "dbdemos-sessions",
         5,
         16377878,
         "2023-11-30T05:16:16.942Z",
         0
        ],
        [
         null,
         "{\"user_id\": \"c5d9d13b-3de4-4750-a7ff-c642e55c606e\", \"platform\": \"ios\", \"event_id\": \"7d53eec7-b7e0-4508-bdba-48d2198a849f\", \"event_date\": 1701321373, \"action\": \"view\", \"uri\": \"https://databricks.com/explore/categorycategory.php\"}",
         "dbdemos-sessions",
         5,
         16377879,
         "2023-11-30T05:16:16.948Z",
         0
        ],
        [
         null,
         "{\"user_id\": \"c1923944-ddfe-4ee3-a9da-be94482fa973\", \"platform\": \"android\", \"event_id\": \"2aa6b38f-01b2-4288-b239-53718c854ff7\", \"event_date\": 1701321376, \"action\": \"view\", \"uri\": \"https://databricks.com/wp-content/list/postsfaq.jsp\"}",
         "dbdemos-sessions",
         5,
         16377880,
         "2023-11-30T05:16:17.956Z",
         0
        ],
        [
         null,
         "{\"user_id\": \"d73a3593-150d-4d93-b32e-fa94fa4ed628\", \"platform\": \"ios\", \"event_id\": \"d45f586d-e0eb-4f8c-ae92-aff7c682fab3\", \"event_date\": 1701321372, \"action\": \"view\", \"uri\": \"https://databricks.com/explore/posts/exploreprivacy.asp\"}",
         "dbdemos-sessions",
         5,
         16377881,
         "2023-11-30T05:16:17.963Z",
         0
        ],
        [
         null,
         "{\"user_id\": \"2a284ec7-9875-4c46-a431-bc41aef3bb00\", \"platform\": \"other\", \"event_id\": \"41badf80-a2f5-4fa1-b3cf-73b3d6e3fd47\", \"event_date\": 1701321376, \"action\": \"view\", \"uri\": \"https://databricks.com/categoriesabout.jsp\"}",
         "dbdemos-sessions",
         5,
         16377882,
         "2023-11-30T05:16:18.975Z",
         0
        ],
        [
         null,
         "{\"user_id\": \"954c2940-2415-4618-89e3-8f4147680ac1\", \"platform\": \"ios\", \"event_id\": \"e5af162c-fc86-4600-88ea-26cb02793cf7\", \"event_date\": 1701321382, \"action\": \"log\", \"uri\": \"https://databricks.com/categoriesregister.php\"}",
         "dbdemos-sessions",
         5,
         16377883,
         "2023-11-30T05:16:19.986Z",
         0
        ],
        [
         null,
         "{\"user_id\": \"429cd2ea-bb89-43bf-a2b7-190cd57c513d\", \"platform\": \"ios\", \"event_id\": \"aafe3dd1-41b6-4a6c-b278-f75512e414e1\", \"event_date\": 1701321362, \"action\": \"view\", \"uri\": \"https://databricks.com/blog/tagscategory.htm\"}",
         "dbdemos-sessions",
         9,
         16376638,
         "2023-11-30T05:16:02.709Z",
         0
        ],
        [
         null,
         "{\"user_id\": \"8ebe91ce-5ce9-4215-b90d-afa7ffc2031b\", \"platform\": \"other\", \"event_id\": \"306936be-6532-4627-8d5c-1e0e1e53e655\", \"event_date\": 1701321357, \"action\": \"click\", \"uri\": \"https://databricks.com/category/explore/tagsprivacy.html\"}",
         "dbdemos-sessions",
         9,
         16376639,
         "2023-11-30T05:16:02.715Z",
         0
        ],
        [
         null,
         "{\"user_id\": \"d278a0e6-7c83-43e8-a0b4-db949eca8412\", \"platform\": \"other\", \"event_id\": \"d185f289-8124-4c3f-8a7e-15ec0d5ce6a0\", \"event_date\": 1701321358, \"action\": \"view\", \"uri\": \"https://databricks.com/category/categoriesterms.asp\"}",
         "dbdemos-sessions",
         9,
         16376640,
         "2023-11-30T05:16:02.718Z",
         0
        ],
        [
         null,
         "{\"user_id\": \"f51f94e1-27a4-48be-b539-b0aac42704e3\", \"platform\": \"other\", \"event_id\": \"e355f996-5524-4db1-a759-cd9b8447c551\", \"event_date\": 1701321358, \"action\": \"view\", \"uri\": \"https://databricks.com/tagsearch.htm\"}",
         "dbdemos-sessions",
         9,
         16376641,
         "2023-11-30T05:16:03.727Z",
         0
        ],
        [
         null,
         "{\"user_id\": \"0258e062-93d5-47ae-bf8f-5e946b856f1a\", \"platform\": \"ios\", \"event_id\": \"6d1181f6-839d-4580-b4b2-c6b21058b681\", \"event_date\": 1701321366, \"action\": \"view\", \"uri\": \"https://databricks.com/mainpost.asp\"}",
         "dbdemos-sessions",
         9,
         16376642,
         "2023-11-30T05:16:04.75Z",
         0
        ],
        [
         null,
         "{\"user_id\": \"83f81766-8347-477d-ac90-f0cb72a8d242\", \"platform\": \"other\", \"event_id\": \"d70d4f59-d33b-4106-b68d-353d6bd8e38e\", \"event_date\": 1701321359, \"action\": \"click\", \"uri\": \"https://databricks.com/taghomepage.htm\"}",
         "dbdemos-sessions",
         9,
         16376643,
         "2023-11-30T05:16:04.758Z",
         0
        ],
        [
         null,
         "{\"user_id\": \"429cd2ea-bb89-43bf-a2b7-190cd57c513d\", \"platform\": \"ios\", \"event_id\": \"6eac3228-0af7-4223-b609-7509e3de266f\", \"event_date\": 1701321367, \"action\": \"click\", \"uri\": \"https://databricks.com/posts/explore/taghome.asp\"}",
         "dbdemos-sessions",
         9,
         16376644,
         "2023-11-30T05:16:05.781Z",
         0
        ],
        [
         null,
         "{\"user_id\": \"34265667-87e0-4a72-b118-befa1e41b2b7\", \"platform\": \"ios\", \"event_id\": \"34f0e3c8-a262-499a-8d46-7553fc3c97d4\", \"event_date\": 1701321361, \"action\": \"click\", \"uri\": \"https://databricks.com/categories/tag/searchhome.php\"}",
         "dbdemos-sessions",
         9,
         16376645,
         "2023-11-30T05:16:06.811Z",
         0
        ],
        [
         null,
         "{\"user_id\": \"40e8d981-8436-4139-9da7-4e0a71be1874\", \"platform\": \"other\", \"event_id\": \"66936fa6-d462-4c5a-80ec-ed7eaea75597\", \"event_date\": 1701321370, \"action\": \"view\", \"uri\": \"https://databricks.com/categorycategory.jsp\"}",
         "dbdemos-sessions",
         9,
         16376646,
         "2023-11-30T05:16:06.812Z",
         0
        ],
        [
         null,
         "{\"user_id\": \"8a937358-261b-4364-9009-a726351f44fe\", \"platform\": \"other\", \"event_id\": \"105eaf2b-4fa2-492f-add3-b5e86aac8b52\", \"event_date\": 1701321362, \"action\": \"click\", \"uri\": \"https://databricks.com/posts/search/categoryfaq.php\"}",
         "dbdemos-sessions",
         9,
         16376647,
         "2023-11-30T05:16:06.821Z",
         0
        ],
        [
         null,
         "{\"user_id\": \"83371c85-106e-4e79-9b16-f62a8904aee7\", \"platform\": \"ios\", \"event_id\": \"13b624bc-4118-430e-985d-a1e7ee21d0b3\", \"event_date\": 1701321364, \"action\": \"view\", \"uri\": \"https://databricks.com/wp-content/tagauthor.htm\"}",
         "dbdemos-sessions",
         9,
         16376648,
         "2023-11-30T05:16:07.836Z",
         0
        ],
        [
         null,
         "{\"user_id\": \"e4e079a9-103e-464b-8b2f-b7d906066bad\", \"platform\": \"ios\", \"event_id\": \"b970f0eb-8884-4ab5-92b1-3422bef676da\", \"event_date\": 1701321364, \"action\": \"click\", \"uri\": \"https://databricks.com/wp-content/app/listauthor.php\"}",
         "dbdemos-sessions",
         9,
         16376649,
         "2023-11-30T05:16:08.841Z",
         0
        ],
        [
         null,
         "{\"user_id\": \"ea676090-0000-4946-a288-4e1ab4c91ea2\", \"platform\": \"ios\", \"event_id\": \"e8ef522e-ce0e-4bfe-b2ab-502e03ff6741\", \"event_date\": 1701321368, \"action\": \"click\", \"uri\": \"https://databricks.com/app/postspost.html\"}",
         "dbdemos-sessions",
         9,
         16376650,
         "2023-11-30T05:16:08.845Z",
         0
        ],
        [
         null,
         "{\"user_id\": \"426ccd91-2409-4b5d-83e9-d582f552985e\", \"platform\": \"android\", \"event_id\": \"c4fab495-ae00-4980-9be0-dbd7684474ae\", \"event_date\": 1701321371, \"action\": \"log\", \"uri\": \"https://databricks.com/app/search/mainabout.html\"}",
         "dbdemos-sessions",
         9,
         16376651,
         "2023-11-30T05:16:09.851Z",
         0
        ],
        [
         null,
         "{\"user_id\": \"7354e19a-6b74-4581-9278-7d2a1fa506d2\", \"platform\": \"android\", \"event_id\": \"89d8a31c-6547-4eae-a2d1-7aa8db37ae4b\", \"event_date\": 1701321371, \"action\": \"click\", \"uri\": \"https://databricks.com/tagsfaq.html\"}",
         "dbdemos-sessions",
         9,
         16376652,
         "2023-11-30T05:16:10.865Z",
         0
        ],
        [
         null,
         "{\"user_id\": \"4861923d-8618-4684-9212-0e380364e29e\", \"platform\": \"ios\", \"event_id\": \"d72b1915-3926-45c2-9593-d34f114e832d\", \"event_date\": 1701321366, \"action\": \"view\", \"uri\": \"https://databricks.com/listindex.html\"}",
         "dbdemos-sessions",
         9,
         16376653,
         "2023-11-30T05:16:10.87Z",
         0
        ],
        [
         null,
         "{\"user_id\": \"19907dcb-5680-4656-897c-8da9e753a547\", \"platform\": \"ios\", \"event_id\": \"a19a24ec-0e47-4249-930c-6273d2caa5b4\", \"event_date\": 1701321368, \"action\": \"view\", \"uri\": \"https://databricks.com/blogsearch.jsp\"}",
         "dbdemos-sessions",
         9,
         16376654,
         "2023-11-30T05:16:10.871Z",
         0
        ],
        [
         null,
         "{\"user_id\": \"3605ab4e-d224-4328-8ab1-621800f13d58\", \"platform\": \"other\", \"event_id\": \"68ced0c0-0f21-49e5-9004-221ddc3284f9\", \"event_date\": 1701321370, \"action\": \"click\", \"uri\": \"https://databricks.com/categorysearch.jsp\"}",
         "dbdemos-sessions",
         9,
         16376655,
         "2023-11-30T05:16:10.874Z",
         0
        ],
        [
         null,
         "{\"user_id\": \"554db164-c09e-40fd-ab95-e90a9a739753\", \"platform\": \"ios\", \"event_id\": \"92f8a12f-eb93-4baa-9db4-2a31b79eb7cc\", \"event_date\": 1701321375, \"action\": \"view\", \"uri\": \"https://databricks.com/listhome.php\"}",
         "dbdemos-sessions",
         9,
         16376656,
         "2023-11-30T05:16:11.881Z",
         0
        ],
        [
         null,
         "{\"user_id\": \"94ba5e9c-d1c8-4837-8c7f-e3e20d6a180e\", \"platform\": \"ios\", \"event_id\": \"ba8f333d-896a-4058-a723-68438091e94f\", \"event_date\": 1701321369, \"action\": \"log\", \"uri\": \"https://databricks.com/tag/postsindex.htm\"}",
         "dbdemos-sessions",
         9,
         16376657,
         "2023-11-30T05:16:12.885Z",
         0
        ],
        [
         null,
         "{\"user_id\": \"82096dbb-07cd-45da-b6cc-57bc4ea01540\", \"platform\": \"ios\", \"event_id\": \"31073f51-403e-482b-9b45-732958713783\", \"event_date\": 1701321372, \"action\": \"view\", \"uri\": \"https://databricks.com/app/blog/tagsabout.html\"}",
         "dbdemos-sessions",
         9,
         16376658,
         "2023-11-30T05:16:12.886Z",
         0
        ],
        [
         null,
         "{\"user_id\": \"af86d48a-b571-4050-acbc-145b24579671\", \"platform\": \"ios\", \"event_id\": \"d52f6581-149d-4a37-9984-4610d977d205\", \"event_date\": 1701321374, \"action\": \"view\", \"uri\": \"https://databricks.com/search/tag/exploremain.html\"}",
         "dbdemos-sessions",
         9,
         16376659,
         "2023-11-30T05:16:12.89Z",
         0
        ],
        [
         null,
         "{\"user_id\": \"d6b698c1-d982-4afd-913f-a4ba28177397\", \"platform\": \"ios\", \"event_id\": \"4e7dcc43-1875-40ca-a1a4-a170d9d30a23\", \"event_date\": 1701321370, \"action\": \"view\", \"uri\": \"https://databricks.com/blog/categorypost.html\"}",
         "dbdemos-sessions",
         9,
         16376660,
         "2023-11-30T05:16:12.89Z",
         0
        ],
        [
         null,
         "{\"user_id\": \"61a38add-9c06-48fa-ab29-c4b6fd9f5a53\", \"platform\": \"ios\", \"event_id\": \"36ed87ad-0670-47fa-bab3-0c64b8eeb1c7\", \"event_date\": 1701321368, \"action\": \"view\", \"uri\": \"https://databricks.com/list/postspost.html\"}",
         "dbdemos-sessions",
         9,
         16376661,
         "2023-11-30T05:16:12.893Z",
         0
        ],
        [
         null,
         "{\"user_id\": \"b5f792ab-766c-4aa2-86d8-02a7e7abcfc0\", \"platform\": \"ios\", \"event_id\": \"67a6fb6b-e721-4e04-a00b-1e0dc34232e4\", \"event_date\": 1701321376, \"action\": \"view\", \"uri\": \"https://databricks.com/app/blog/appterms.html\"}",
         "dbdemos-sessions",
         9,
         16376662,
         "2023-11-30T05:16:12.893Z",
         0
        ],
        [
         null,
         "{\"user_id\": \"5d81aa0b-2986-4b18-abbd-b085380a1bb6\", \"platform\": \"ios\", \"event_id\": \"a63741cd-ead0-48a9-96d9-dacb410e0df0\", \"event_date\": 1701321376, \"action\": \"log\", \"uri\": \"https://databricks.com/category/bloghomepage.jsp\"}",
         "dbdemos-sessions",
         9,
         16376663,
         "2023-11-30T05:16:14.917Z",
         0
        ],
        [
         null,
         "{\"user_id\": \"4f9a4975-58ad-4063-be2c-d7fafb9f9072\", \"platform\": \"ios\", \"event_id\": \"350a6929-c507-4d0d-9aec-a574d69929fb\", \"event_date\": 1701321374, \"action\": \"click\", \"uri\": \"https://databricks.com/tags/explorehome.php\"}",
         "dbdemos-sessions",
         9,
         16376664,
         "2023-11-30T05:16:15.925Z",
         0
        ],
        [
         null,
         "{\"user_id\": \"8953da1a-a780-42b1-a6dc-ef3a8d881435\", \"platform\": \"other\", \"event_id\": \"0f798a68-1a9a-4243-90b9-421cb976b0d5\", \"event_date\": 1701321378, \"action\": \"click\", \"uri\": \"https://databricks.com/app/appfaq.jsp\"}",
         "dbdemos-sessions",
         9,
         16376665,
         "2023-11-30T05:16:15.926Z",
         0
        ],
        [
         null,
         "{\"user_id\": \"5b573c0b-32f7-4f2a-b49c-1e8989ddc2b1\", \"platform\": \"other\", \"event_id\": \"4bb11533-c2d6-46eb-a4d4-f6c9d65cf745\", \"event_date\": 1701321371, \"action\": \"view\", \"uri\": \"https://databricks.com/blog/tag/explorepost.html\"}",
         "dbdemos-sessions",
         9,
         16376666,
         "2023-11-30T05:16:15.934Z",
         0
        ],
        [
         null,
         "{\"user_id\": \"83371c85-106e-4e79-9b16-f62a8904aee7\", \"platform\": \"other\", \"event_id\": \"1351914a-fc53-455b-9b40-d50e56c9a028\", \"event_date\": 1701321372, \"action\": \"log\", \"uri\": \"https://databricks.com/app/tagprivacy.html\"}",
         "dbdemos-sessions",
         9,
         16376667,
         "2023-11-30T05:16:15.935Z",
         0
        ],
        [
         null,
         "{\"user_id\": \"e28b5e01-ff82-4179-ac64-5507cfedf9b6\", \"platform\": \"ios\", \"event_id\": \"13fda750-d498-4143-abcf-ae535550daf2\", \"event_date\": 1701321376, \"action\": \"view\", \"uri\": \"https://databricks.com/explore/categories/categorieshome.asp\"}",
         "dbdemos-sessions",
         9,
         16376668,
         "2023-11-30T05:16:15.939Z",
         0
        ],
        [
         null,
         "{\"user_id\": \"d78e2c84-3acd-4c26-a603-415b76c598ea\", \"platform\": \"ios\", \"event_id\": \"a7d7eeab-0f57-4a1a-913e-0bbe02bf2ea3\", \"event_date\": 1701321372, \"action\": \"click\", \"uri\": \"https://databricks.com/blogprivacy.html\"}",
         "dbdemos-sessions",
         9,
         16376669,
         "2023-11-30T05:16:16.941Z",
         0
        ],
        [
         null,
         "{\"user_id\": \"34265667-87e0-4a72-b118-befa1e41b2b7\", \"platform\": \"android\", \"event_id\": \"543a2027-8c3c-452d-8af8-878969aaf445\", \"event_date\": 1701321375, \"action\": \"click\", \"uri\": \"https://databricks.com/search/category/postsauthor.html\"}",
         "dbdemos-sessions",
         9,
         16376670,
         "2023-11-30T05:16:16.943Z",
         0
        ],
        [
         null,
         "{\"user_id\": \"1aa3a739-ede2-426f-873d-9f6a4ebcc7f5\", \"platform\": \"ios\", \"event_id\": \"b35c22c3-a10d-4f91-8fdf-fadea7fa1b32\", \"event_date\": 1701321378, \"action\": \"click\", \"uri\": \"https://databricks.com/posts/wp-contentmain.asp\"}",
         "dbdemos-sessions",
         9,
         16376671,
         "2023-11-30T05:16:16.95Z",
         0
        ],
        [
         null,
         "{\"user_id\": \"d70636d7-e2ab-4f4a-8c4e-fe400a25f757\", \"platform\": \"ios\", \"event_id\": \"e6b4995f-5927-44fe-b9c0-2910a984e702\", \"event_date\": 1701321374, \"action\": \"view\", \"uri\": \"https://databricks.com/explore/categoryfaq.html\"}",
         "dbdemos-sessions",
         9,
         16376672,
         "2023-11-30T05:16:16.951Z",
         0
        ],
        [
         null,
         "{\"user_id\": \"d7212efa-f6a5-4325-adf4-27a99756af10\", \"platform\": \"ios\", \"event_id\": \"c78e19ec-0820-4cb0-bffb-317055de36c3\", \"event_date\": 1701321378, \"action\": \"view\", \"uri\": \"https://databricks.com/blog/explorefaq.html\"}",
         "dbdemos-sessions",
         9,
         16376673,
         "2023-11-30T05:16:16.953Z",
         0
        ],
        [
         null,
         "{\"user_id\": \"468292d1-34a8-4b3e-94e1-f9442dac5d5e\", \"platform\": \"ios\", \"event_id\": \"ee19f9c7-888f-4430-aa46-23e2c3fe507c\", \"event_date\": 1701321381, \"action\": \"log\", \"uri\": \"https://databricks.com/app/explore/searchauthor.php\"}",
         "dbdemos-sessions",
         9,
         16376674,
         "2023-11-30T05:16:17.963Z",
         0
        ],
        [
         null,
         "{\"user_id\": \"287d6985-e3c1-44f7-a700-2df164a43235\", \"platform\": \"other\", \"event_id\": \"d38fce64-5333-494a-a780-31c5201b11ae\", \"event_date\": 1701321374, \"action\": \"view\", \"uri\": \"https://databricks.com/tagsabout.jsp\"}",
         "dbdemos-sessions",
         9,
         16376675,
         "2023-11-30T05:16:18.97Z",
         0
        ],
        [
         null,
         "{\"user_id\": \"66fe7dd1-8f19-470c-b4b8-be75c4793e76\", \"platform\": \"other\", \"event_id\": \"4456a348-ba42-4f57-b640-4d106f7c5af0\", \"event_date\": 1701321378, \"action\": \"click\", \"uri\": \"https://databricks.com/search/categoriesprivacy.php\"}",
         "dbdemos-sessions",
         9,
         16376676,
         "2023-11-30T05:16:19.985Z",
         0
        ],
        [
         null,
         "{\"user_id\": \"3ad07dbf-363a-4662-829f-7cb889ad0da0\", \"platform\": \"ios\", \"event_id\": \"56f3e1b0-b5a7-4aff-b6af-84d2d8e31c6b\", \"event_date\": 1701321383, \"action\": \"view\", \"uri\": \"https://databricks.com/tags/tagspost.html\"}",
         "dbdemos-sessions",
         9,
         16376677,
         "2023-11-30T05:16:19.996Z",
         0
        ],
        [
         null,
         "{\"user_id\": \"94ba5e9c-d1c8-4837-8c7f-e3e20d6a180e\", \"platform\": \"ios\", \"event_id\": \"ca1ffe2a-c8e6-4603-803e-fd092929c871\", \"event_date\": 1701321358, \"action\": \"click\", \"uri\": \"https://databricks.com/wp-content/searchfaq.php\"}",
         "dbdemos-sessions",
         3,
         16374457,
         "2023-11-30T05:16:02.71Z",
         0
        ],
        [
         null,
         "{\"user_id\": \"1983f70f-77a9-4412-a898-1c7e3312d2af\", \"platform\": \"other\", \"event_id\": \"c0ded847-f32e-4529-a377-d24d7151f91d\", \"event_date\": 1701321361, \"action\": \"view\", \"uri\": \"https://databricks.com/tagpost.html\"}",
         "dbdemos-sessions",
         3,
         16374458,
         "2023-11-30T05:16:02.712Z",
         0
        ],
        [
         null,
         "{\"user_id\": \"5c32df45-eda2-494d-abe8-f00782dd60c5\", \"platform\": \"ios\", \"event_id\": \"f7afb1d1-24a7-4cb9-a182-8cb081ed03bb\", \"event_date\": 1701321363, \"action\": \"click\", \"uri\": \"https://databricks.com/main/tags/wp-contentmain.php\"}",
         "dbdemos-sessions",
         3,
         16374459,
         "2023-11-30T05:16:02.719Z",
         0
        ],
        [
         null,
         "{\"user_id\": \"18713496-a98e-49a4-ab88-9f029f18b4c5\", \"platform\": \"other\", \"event_id\": \"4e47a419-b2cd-462c-9fca-e8577452f35f\", \"event_date\": 1701321364, \"action\": \"click\", \"uri\": \"https://databricks.com/search/postsindex.asp\"}",
         "dbdemos-sessions",
         3,
         16374460,
         "2023-11-30T05:16:03.723Z",
         0
        ],
        [
         null,
         "{\"user_id\": \"2a284ec7-9875-4c46-a431-bc41aef3bb00\", \"platform\": \"ios\", \"event_id\": \"de52532d-6fe5-40d8-8b48-4ca1deb65d92\", \"event_date\": 1701321361, \"action\": \"click\", \"uri\": \"https://databricks.com/wp-content/blog/tagshomepage.html\"}",
         "dbdemos-sessions",
         3,
         16374461,
         "2023-11-30T05:16:04.751Z",
         0
        ],
        [
         null,
         "{\"user_id\": \"dbf55039-2fd8-42f8-bc6b-cda6329562d7\", \"platform\": \"other\", \"event_id\": \"ea74d14e-15d6-44bd-86e7-a92cc4aa98a5\", \"event_date\": 1701321366, \"action\": \"click\", \"uri\": \"https://databricks.com/search/posts/explorelogin.php\"}",
         "dbdemos-sessions",
         3,
         16374462,
         "2023-11-30T05:16:04.759Z",
         0
        ],
        [
         null,
         "{\"user_id\": \"8953da1a-a780-42b1-a6dc-ef3a8d881435\", \"platform\": \"android\", \"event_id\": \"f9309824-4f67-4df0-a187-32380983da46\", \"event_date\": 1701321362, \"action\": \"view\", \"uri\": \"https://databricks.com/wp-content/blogpost.php\"}",
         "dbdemos-sessions",
         3,
         16374463,
         "2023-11-30T05:16:06.808Z",
         0
        ],
        [
         null,
         "{\"user_id\": \"604ae75c-5537-43da-bd92-5a235a891266\", \"platform\": \"other\", \"event_id\": \"8e963f1b-7d9b-46a4-aae5-bda78a82ac62\", \"event_date\": 1701321370, \"action\": \"view\", \"uri\": \"https://databricks.com/tags/tags/postshome.html\"}",
         "dbdemos-sessions",
         3,
         16374464,
         "2023-11-30T05:16:07.832Z",
         0
        ],
        [
         null,
         "{\"user_id\": \"7cd07a2d-d835-470d-a0c8-b3400c915ac7\", \"platform\": \"ios\", \"event_id\": \"b9123865-0a21-453d-a0a8-d4a1f99a2d09\", \"event_date\": 1701321364, \"action\": \"view\", \"uri\": \"https://databricks.com/tag/tagprivacy.htm\"}",
         "dbdemos-sessions",
         3,
         16374465,
         "2023-11-30T05:16:08.838Z",
         0
        ],
        [
         null,
         "{\"user_id\": \"1983f70f-77a9-4412-a898-1c7e3312d2af\", \"platform\": \"ios\", \"event_id\": \"51298677-3a9f-4e37-9a10-386097cff687\", \"event_date\": 1701321372, \"action\": \"view\", \"uri\": \"https://databricks.com/blogregister.htm\"}",
         "dbdemos-sessions",
         3,
         16374466,
         "2023-11-30T05:16:08.841Z",
         0
        ],
        [
         null,
         "{\"user_id\": \"4fd4b3e9-61c6-4786-bc04-d90a9eb2458c\", \"platform\": \"ios\", \"event_id\": \"c8350210-c52a-4b5a-970e-cb013f0b862c\", \"event_date\": 1701321366, \"action\": \"view\", \"uri\": \"https://databricks.com/tags/tag/searchpost.asp\"}",
         "dbdemos-sessions",
         3,
         16374467,
         "2023-11-30T05:16:08.846Z",
         0
        ],
        [
         null,
         "{\"user_id\": \"bb041937-335f-4592-9b28-75cbd928cd41\", \"platform\": \"ios\", \"event_id\": \"36a702ad-cdb9-41f6-b136-332f04e335f7\", \"event_date\": 1701321371, \"action\": \"click\", \"uri\": \"https://databricks.com/tags/wp-content/categoriesfaq.asp\"}",
         "dbdemos-sessions",
         3,
         16374468,
         "2023-11-30T05:16:09.849Z",
         0
        ],
        [
         null,
         "{\"user_id\": \"70856272-64cd-4308-9e41-4631a7dd8024\", \"platform\": \"other\", \"event_id\": \"58f25592-d241-47cd-a3fb-95a6bfb63000\", \"event_date\": 1701321367, \"action\": \"view\", \"uri\": \"https://databricks.com/search/explore/exploreprivacy.php\"}",
         "dbdemos-sessions",
         3,
         16374469,
         "2023-11-30T05:16:09.858Z",
         0
        ],
        [
         null,
         "{\"user_id\": \"d4535df9-a37d-4a3c-8309-c60389024de9\", \"platform\": \"other\", \"event_id\": \"32640ef5-c8bb-4db4-ae9e-d514022969fd\", \"event_date\": 1701321373, \"action\": \"view\", \"uri\": \"https://databricks.com/tagindex.html\"}",
         "dbdemos-sessions",
         3,
         16374470,
         "2023-11-30T05:16:09.861Z",
         0
        ],
        [
         null,
         "{\"user_id\": \"40e8d981-8436-4139-9da7-4e0a71be1874\", \"platform\": \"ios\", \"event_id\": \"e82e6988-c933-43b6-8642-bf1020a8d4db\", \"event_date\": 1701321370, \"action\": \"view\", \"uri\": \"https://databricks.com/explorehomepage.asp\"}",
         "dbdemos-sessions",
         3,
         16374471,
         "2023-11-30T05:16:10.868Z",
         0
        ],
        [
         null,
         "{\"user_id\": \"d5c1965f-4903-4b86-895d-f9cce7d9c963\", \"platform\": \"other\", \"event_id\": \"75671e7b-4598-4d53-a120-1b8846f42689\", \"event_date\": 1701321367, \"action\": \"view\", \"uri\": \"https://databricks.com/mainauthor.html\"}",
         "dbdemos-sessions",
         3,
         16374472,
         "2023-11-30T05:16:11.877Z",
         0
        ],
        [
         null,
         "{\"user_id\": \"b5f792ab-766c-4aa2-86d8-02a7e7abcfc0\", \"platform\": \"android\", \"event_id\": null, \"event_date\": 1701321375, \"action\": \"view\", \"uri\": \"https://databricks.com/explore/category/tagslogin.htm\"}",
         "dbdemos-sessions",
         3,
         16374473,
         "2023-11-30T05:16:11.881Z",
         0
        ],
        [
         null,
         "{\"user_id\": \"d5c1965f-4903-4b86-895d-f9cce7d9c963\", \"platform\": \"other\", \"event_id\": \"b489959f-d5ee-48e3-9199-86cddc531ced\", \"event_date\": 1701321368, \"action\": \"log\", \"uri\": \"https://databricks.com/mainregister.php\"}",
         "dbdemos-sessions",
         3,
         16374474,
         "2023-11-30T05:16:12.886Z",
         0
        ],
        [
         null,
         "{\"user_id\": \"02252ba9-e8f2-43b7-903a-5ada8fa4177d\", \"platform\": \"other\", \"event_id\": \"cb0ec3a9-e0fd-47af-bed3-075612ef928e\", \"event_date\": 1701321374, \"action\": \"click\", \"uri\": \"https://databricks.com/main/posts/appregister.jsp\"}",
         "dbdemos-sessions",
         3,
         16374475,
         "2023-11-30T05:16:12.888Z",
         0
        ],
        [
         null,
         "{\"user_id\": \"a1410f93-0184-4aca-9c43-c686a605a5f6\", \"platform\": \"other\", \"event_id\": \"e165a1e4-731b-41fc-ab51-a05648a714e0\", \"event_date\": 1701321375, \"action\": \"click\", \"uri\": \"https://databricks.com/tags/blog/categoriespost.html\"}",
         "dbdemos-sessions",
         3,
         16374476,
         "2023-11-30T05:16:12.889Z",
         0
        ],
        [
         null,
         "{\"user_id\": \"5d81aa0b-2986-4b18-abbd-b085380a1bb6\", \"platform\": \"ios\", \"event_id\": \"d083700c-76cb-4ef9-b6c7-cf6d84acc823\", \"event_date\": 1701321373, \"action\": \"view\", \"uri\": \"https://databricks.com/main/appcategory.htm\"}",
         "dbdemos-sessions",
         3,
         16374477,
         "2023-11-30T05:16:12.889Z",
         0
        ],
        [
         null,
         "{\"user_id\": \"1983f70f-77a9-4412-a898-1c7e3312d2af\", \"platform\": \"other\", \"event_id\": \"e4291d9c-222e-4c28-8180-4916bcbc22de\", \"event_date\": 1701321377, \"action\": \"log\", \"uri\": \"https://databricks.com/explore/main/mainhomepage.html\"}",
         "dbdemos-sessions",
         3,
         16374478,
         "2023-11-30T05:16:13.901Z",
         0
        ],
        [
         null,
         "{\"user_id\": \"34265667-87e0-4a72-b118-befa1e41b2b7\", \"platform\": \"ios\", \"event_id\": \"ce668c50-034b-465f-a5dc-60742adf7e39\", \"event_date\": 1701321375, \"action\": \"view\", \"uri\": \"https://databricks.com/categoryprivacy.htm\"}",
         "dbdemos-sessions",
         3,
         16374479,
         "2023-11-30T05:16:13.902Z",
         0
        ],
        [
         null,
         "{\"user_id\": \"0258e062-93d5-47ae-bf8f-5e946b856f1a\", \"platform\": \"ios\", \"event_id\": \"973b9e82-372a-407a-af28-56cf5a718792\", \"event_date\": 1701321376, \"action\": \"view\", \"uri\": \"https://databricks.com/list/wp-content/appindex.htm\"}",
         "dbdemos-sessions",
         3,
         16374480,
         "2023-11-30T05:16:13.903Z",
         0
        ],
        [
         null,
         "{\"user_id\": \"50e32c77-ce88-45b4-9b25-7c747615596b\", \"platform\": \"ios\", \"event_id\": \"924b1e44-6a4e-4433-96bb-8cb1917c06b8\", \"event_date\": 1701321377, \"action\": \"view\", \"uri\": \"https://databricks.com/main/mainsearch.php\"}",
         "dbdemos-sessions",
         3,
         16374481,
         "2023-11-30T05:16:14.917Z",
         0
        ],
        [
         null,
         "{\"user_id\": \"96d32b6c-fb2a-48a1-aea2-2e1df5de0234\", \"platform\": \"ios\", \"event_id\": \"3bd458b6-7b92-4a98-86d9-568f4bf0917f\", \"event_date\": 1701321370, \"action\": \"click\", \"uri\": \"https://databricks.com/blogpost.jsp\"}",
         "dbdemos-sessions",
         3,
         16374482,
         "2023-11-30T05:16:14.918Z",
         0
        ],
        [
         null,
         "{\"user_id\": \"83f81766-8347-477d-ac90-f0cb72a8d242\", \"platform\": \"ios\", \"event_id\": \"4bc23362-be72-4d1c-905a-24c76c751272\", \"event_date\": 1701321369, \"action\": \"click\", \"uri\": \"https://databricks.com/wp-content/wp-content/wp-contenthome.htm\"}",
         "dbdemos-sessions",
         3,
         16374483,
         "2023-11-30T05:16:14.919Z",
         0
        ],
        [
         null,
         "{\"user_id\": \"8c37dfb5-4ce9-40ee-aabd-6d2e41387b89\", \"platform\": \"other\", \"event_id\": \"9529a6fe-6d90-469f-acd4-e48ed77db833\", \"event_date\": 1701321379, \"action\": \"click\", \"uri\": \"https://databricks.com/explore/mainmain.asp\"}",
         "dbdemos-sessions",
         3,
         16374484,
         "2023-11-30T05:16:15.924Z",
         0
        ],
        [
         null,
         "{\"user_id\": \"ff3f9bdd-d0a3-4d28-b151-454d5e88546b\", \"platform\": \"other\", \"event_id\": \"41f9b0c6-bb8f-402f-8149-1546d013f5df\", \"event_date\": 1701321370, \"action\": \"view\", \"uri\": \"https://databricks.com/appterms.htm\"}",
         "dbdemos-sessions",
         3,
         16374485,
         "2023-11-30T05:16:15.929Z",
         0
        ],
        [
         null,
         "{\"user_id\": \"8f2385f0-f59d-4ebc-ac67-d3d5427e9a95\", \"platform\": \"android\", \"event_id\": \"b2560ffa-ea8a-4e22-a8ff-d3ee77f8530f\", \"event_date\": 1701321378, \"action\": \"log\", \"uri\": \"https://databricks.com/posts/search/categoryauthor.php\"}",
         "dbdemos-sessions",
         3,
         16374486,
         "2023-11-30T05:16:15.93Z",
         0
        ],
        [
         null,
         "{\"user_id\": \"24e73178-c559-4484-8349-7ea3c1f77105\", \"platform\": \"other\", \"event_id\": \"2fb74025-848e-4175-b3d8-6b70ea488c75\", \"event_date\": 1701321379, \"action\": \"view\", \"uri\": \"https://databricks.com/postssearch.htm\"}",
         "dbdemos-sessions",
         3,
         16374487,
         "2023-11-30T05:16:15.931Z",
         0
        ],
        [
         null,
         "{\"user_id\": \"954c2940-2415-4618-89e3-8f4147680ac1\", \"platform\": \"ios\", \"event_id\": \"299ecb78-4ccf-4528-92cc-352493082cb6\", \"event_date\": 1701321374, \"action\": \"click\", \"uri\": \"https://databricks.com/wp-contentmain.htm\"}",
         "dbdemos-sessions",
         3,
         16374488,
         "2023-11-30T05:16:16.943Z",
         0
        ],
        [
         null,
         "{\"user_id\": \"8ebe91ce-5ce9-4215-b90d-afa7ffc2031b\", \"platform\": \"ios\", \"event_id\": \"0f6f2681-f851-466c-97a2-e71743d0296d\", \"event_date\": 1701321371, \"action\": \"view\", \"uri\": \"https://databricks.com/posts/tags/categoryregister.asp\"}",
         "dbdemos-sessions",
         3,
         16374489,
         "2023-11-30T05:16:16.947Z",
         0
        ],
        [
         null,
         "{\"user_id\": \"65c8a970-e4e2-4fc7-9706-825f852acd65\", \"platform\": \"ios\", \"event_id\": \"56d3c9e0-dcf2-480b-9a66-bc333bdbecd7\", \"event_date\": 1701321371, \"action\": \"click\", \"uri\": \"https://databricks.com/wp-content/blogterms.asp\"}",
         "dbdemos-sessions",
         3,
         16374490,
         "2023-11-30T05:16:16.949Z",
         0
        ],
        [
         null,
         "{\"user_id\": \"d7212efa-f6a5-4325-adf4-27a99756af10\", \"platform\": null, \"event_id\": \"5d2a55a2-25ae-48ab-9b24-ca668d346a46\", \"event_date\": 1701321380, \"action\": \"view\", \"uri\": \"https://databricks.com/category/blogterms.html\"}",
         "dbdemos-sessions",
         3,
         16374491,
         "2023-11-30T05:16:17.966Z",
         0
        ],
        [
         null,
         "{\"user_id\": \"287d6985-e3c1-44f7-a700-2df164a43235\", \"platform\": \"other\", \"event_id\": \"d38fce64-5333-494a-a780-31c5201b11ae\", \"event_date\": 1701321374, \"action\": \"view\", \"uri\": \"https://databricks.com/tagsabout.jsp\"}",
         "dbdemos-sessions",
         3,
         16374492,
         "2023-11-30T05:16:18.97Z",
         0
        ],
        [
         null,
         "{\"user_id\": \"70856272-64cd-4308-9e41-4631a7dd8024\", \"platform\": \"other\", \"event_id\": \"20c3891d-b635-429f-9169-a25208e93bf1\", \"event_date\": 1701321381, \"action\": \"view\", \"uri\": \"https://databricks.com/app/wp-contentterms.jsp\"}",
         "dbdemos-sessions",
         3,
         16374493,
         "2023-11-30T05:16:18.975Z",
         0
        ],
        [
         null,
         "{\"user_id\": \"d4535df9-a37d-4a3c-8309-c60389024de9\", \"platform\": \"other\", \"event_id\": \"be6e997f-7457-4890-8591-cd5efcb658ef\", \"event_date\": 1701321374, \"action\": \"view\", \"uri\": \"https://databricks.com/bloghomepage.php\"}",
         "dbdemos-sessions",
         3,
         16374494,
         "2023-11-30T05:16:18.979Z",
         0
        ],
        [
         null,
         "{\"user_id\": \"a1dad50e-0add-40df-8b71-31fcd8e60e24\", \"platform\": \"ios\", \"event_id\": \"62762a82-3ffd-4bb7-8238-10fb5ea89105\", \"event_date\": 1701321376, \"action\": \"view\", \"uri\": \"https://databricks.com/searchindex.html\"}",
         "dbdemos-sessions",
         3,
         16374495,
         "2023-11-30T05:16:18.981Z",
         0
        ],
        [
         null,
         "{\"user_id\": \"fe5cd354-51ff-49cb-98c2-ba91e24b9117\", \"platform\": \"ios\", \"event_id\": \"b6f299bc-db6d-499c-9482-397f7739a0ab\", \"event_date\": 1701321378, \"action\": \"click\", \"uri\": \"https://databricks.com/main/wp-content/searchfaq.jsp\"}",
         "dbdemos-sessions",
         3,
         16374496,
         "2023-11-30T05:16:19.983Z",
         0
        ],
        [
         null,
         "{\"user_id\": \"f51f94e1-27a4-48be-b539-b0aac42704e3\", \"platform\": \"other\", \"event_id\": \"5fabd2e1-e470-43ac-8594-e58e8e75e72a\", \"event_date\": 1701321381, \"action\": \"click\", \"uri\": \"https://databricks.com/blog/wp-content/categoryfaq.php\"}",
         "dbdemos-sessions",
         3,
         16374497,
         "2023-11-30T05:16:19.989Z",
         0
        ],
        [
         null,
         "{\"user_id\": \"fa31e0c0-f1fa-432f-b6ae-5bf2146cca06\", \"platform\": \"android\", \"event_id\": \"ab903315-6c76-4d4f-9b7a-31913f157254\", \"event_date\": 1701321383, \"action\": \"view\", \"uri\": \"https://databricks.com/main/wp-contentfaq.php\"}",
         "dbdemos-sessions",
         3,
         16374498,
         "2023-11-30T05:16:19.99Z",
         0
        ],
        [
         null,
         "{\"user_id\": \"65c8a970-e4e2-4fc7-9706-825f852acd65\", \"platform\": \"android\", \"event_id\": \"94f55d47-ef57-4c04-894f-f6b896244c08\", \"event_date\": 1701321380, \"action\": \"view\", \"uri\": \"https://databricks.com/categoryregister.jsp\"}",
         "dbdemos-sessions",
         3,
         16374499,
         "2023-11-30T05:16:19.991Z",
         0
        ],
        [
         null,
         "{\"user_id\": \"d70636d7-e2ab-4f4a-8c4e-fe400a25f757\", \"platform\": \"other\", \"event_id\": \"123a41f4-f09b-4be6-b901-d7e6bc1922a7\", \"event_date\": 1701321381, \"action\": \"view\", \"uri\": \"https://databricks.com/app/exploreterms.php\"}",
         "dbdemos-sessions",
         3,
         16374500,
         "2023-11-30T05:16:19.994Z",
         0
        ],
        [
         null,
         "{\"user_id\": \"98701b68-de8c-498e-b4c7-7ec39f76b83e\", \"platform\": \"ios\", \"event_id\": \"2b5cb7c6-3840-4d63-88e2-12253dab62c8\", \"event_date\": 1701321383, \"action\": \"view\", \"uri\": \"https://databricks.com/search/categories/listpost.htm\"}",
         "dbdemos-sessions",
         3,
         16374501,
         "2023-11-30T05:16:19.996Z",
         0
        ],
        [
         null,
         "{\"user_id\": \"6937cb27-2941-49c8-9431-ef4836329ae6\", \"platform\": \"ios\", \"event_id\": \"5e677321-a6f8-4872-b5d2-033981e84e1c\", \"event_date\": 1701321362, \"action\": \"view\", \"uri\": \"https://databricks.com/tag/posts/listfaq.htm\"}",
         "dbdemos-sessions",
         6,
         16368442,
         "2023-11-30T05:16:02.715Z",
         0
        ],
        [
         null,
         "{\"user_id\": \"8953da1a-a780-42b1-a6dc-ef3a8d881435\", \"platform\": \"ios\", \"event_id\": \"5c1e9b01-8a0b-44cb-bcb0-2744223b2f7d\", \"event_date\": 1701321360, \"action\": \"log\", \"uri\": \"https://databricks.com/wp-contentlogin.php\"}",
         "dbdemos-sessions",
         6,
         16368443,
         "2023-11-30T05:16:03.722Z",
         0
        ],
        [
         null,
         "{\"user_id\": \"604ae75c-5537-43da-bd92-5a235a891266\", \"platform\": \"ios\", \"event_id\": \"e3d3d888-df9a-4beb-a09a-a2584bdf3dfa\", \"event_date\": 1701321362, \"action\": \"view\", \"uri\": \"https://databricks.com/explore/postsauthor.php\"}",
         "dbdemos-sessions",
         6,
         16368444,
         "2023-11-30T05:16:03.726Z",
         0
        ],
        [
         null,
         "{\"user_id\": \"c5d9d13b-3de4-4750-a7ff-c642e55c606e\", \"platform\": \"android\", \"event_id\": \"ba4b3fac-841f-4f22-a3f3-b3a5b5cf60aa\", \"event_date\": 1701321360, \"action\": \"view\", \"uri\": \"https://databricks.com/app/list/tagabout.php\"}",
         "dbdemos-sessions",
         6,
         16368445,
         "2023-11-30T05:16:03.729Z",
         0
        ],
        [
         null,
         "{\"user_id\": \"ca395091-d1d8-4621-8a10-ee8ff2db1409\", \"platform\": \"ios\", \"event_id\": \"31d84be0-fe51-4f27-a381-069be9143708\", \"event_date\": 1701321360, \"action\": \"view\", \"uri\": \"https://databricks.com/tag/listhome.jsp\"}",
         "dbdemos-sessions",
         6,
         16368446,
         "2023-11-30T05:16:04.749Z",
         0
        ],
        [
         null,
         "{\"user_id\": \"96d32b6c-fb2a-48a1-aea2-2e1df5de0234\", \"platform\": \"other\", \"event_id\": \"192dc0b0-96a1-46fc-b5ed-3f2417d5f8c8\", \"event_date\": 1701321361, \"action\": \"click\", \"uri\": \"https://databricks.com/tag/tags/blogprivacy.htm\"}",
         "dbdemos-sessions",
         6,
         16368447,
         "2023-11-30T05:16:04.756Z",
         0
        ],
        [
         null,
         "{\"user_id\": \"5f65957e-6cad-4b66-9409-8b1d877f227f\", \"platform\": \"android\", \"event_id\": \"ab0c7827-23e4-4b39-9578-b883e2393c76\", \"event_date\": 1701321367, \"action\": \"click\", \"uri\": \"https://databricks.com/main/categories/apphomepage.php\"}",
         "dbdemos-sessions",
         6,
         16368448,
         "2023-11-30T05:16:04.76Z",
         0
        ],
        [
         null,
         "{\"user_id\": \"94ba5e9c-d1c8-4837-8c7f-e3e20d6a180e\", \"platform\": \"ios\", \"event_id\": \"36ed40ce-6dcf-4c98-93ba-283929037d57\", \"event_date\": 1701321367, \"action\": \"view\", \"uri\": \"https://databricks.com/main/mainmain.php\"}",
         "dbdemos-sessions",
         6,
         16368449,
         "2023-11-30T05:16:06.804Z",
         0
        ],
        [
         null,
         "{\"user_id\": \"d78e2c84-3acd-4c26-a603-415b76c598ea\", \"platform\": \"other\", \"event_id\": \"f6a96040-e469-42b5-9020-1036dbe9a517\", \"event_date\": 1701321364, \"action\": null, \"uri\": \"https://databricks.com/explore/explore/listpost.asp\"}",
         "dbdemos-sessions",
         6,
         16368450,
         "2023-11-30T05:16:06.804Z",
         0
        ],
        [
         null,
         "{\"user_id\": \"4f9a4975-58ad-4063-be2c-d7fafb9f9072\", \"platform\": \"ios\", \"event_id\": \"a068e1ee-cbd7-4acb-b18b-688b6338df32\", \"event_date\": 1701321365, \"action\": \"view\", \"uri\": \"https://databricks.com/explorelogin.html\"}",
         "dbdemos-sessions",
         6,
         16368451,
         "2023-11-30T05:16:06.805Z",
         0
        ],
        [
         null,
         "{\"user_id\": \"8953da1a-a780-42b1-a6dc-ef3a8d881435\", \"platform\": \"ios\", \"event_id\": \"27d1bde5-ccc5-4b41-b680-81f00731b2b7\", \"event_date\": 1701321369, \"action\": \"click\", \"uri\": \"https://databricks.com/categories/app/categoriesprivacy.php\"}",
         "dbdemos-sessions",
         6,
         16368452,
         "2023-11-30T05:16:07.828Z",
         0
        ],
        [
         null,
         "{\"user_id\": \"5b573c0b-32f7-4f2a-b49c-1e8989ddc2b1\", \"platform\": \"other\", \"event_id\": \"883e1e64-a414-449d-ae5b-cecc9a730ac0\", \"event_date\": 1701321370, \"action\": \"view\", \"uri\": \"https://databricks.com/app/category/categoriesregister.asp\"}",
         "dbdemos-sessions",
         6,
         16368453,
         "2023-11-30T05:16:07.835Z",
         0
        ],
        [
         null,
         "{\"user_id\": \"c50c86c0-459f-4db4-ae86-1e2e8a5a42ed\", \"platform\": \"ios\", \"event_id\": \"b12f62f0-9804-4b5b-ab93-ce5b13c02df3\", \"event_date\": 1701321370, \"action\": \"view\", \"uri\": \"https://databricks.com/listcategory.htm\"}",
         "dbdemos-sessions",
         6,
         16368454,
         "2023-11-30T05:16:07.835Z",
         0
        ],
        [
         null,
         "{\"user_id\": \"cdf5504b-598d-4c9e-aa2c-01d320d7a397\", \"platform\": \"ios\", \"event_id\": \"26c6bf60-b294-47ef-a5ba-b7c716618cb2\", \"event_date\": 1701321369, \"action\": \"view\", \"uri\": \"https://databricks.com/wp-content/listindex.php\"}",
         "dbdemos-sessions",
         6,
         16368455,
         "2023-11-30T05:16:08.841Z",
         0
        ],
        [
         null,
         "{\"user_id\": \"b994d64b-9f05-4a97-a53d-d95128f1c0c3\", \"platform\": \"ios\", \"event_id\": \"845117e2-f9bc-4c5d-a8eb-15f0ff1a77fa\", \"event_date\": 1701321368, \"action\": \"view\", \"uri\": \"https://databricks.com/tags/blogabout.php\"}",
         "dbdemos-sessions",
         6,
         16368456,
         "2023-11-30T05:16:08.843Z",
         0
        ],
        [
         null,
         "{\"user_id\": \"d4df099d-1d1a-4cf8-b0fb-d0249886106f\", \"platform\": \"android\", \"event_id\": \"5cc90d40-17fe-4cf4-b23e-4274bcadb920\", \"event_date\": 1701321364, \"action\": \"click\", \"uri\": \"https://databricks.com/blogpost.htm\"}",
         "dbdemos-sessions",
         6,
         16368457,
         "2023-11-30T05:16:08.844Z",
         0
        ],
        [
         null,
         "{\"user_id\": \"842f92f7-e2dd-47b4-8b39-f48d18a84070\", \"platform\": \"ios\", \"event_id\": \"0ac03c04-84a1-43a2-9c4f-b528ec221368\", \"event_date\": 1701321371, \"action\": \"view\", \"uri\": \"https://databricks.com/categories/categoriesterms.htm\"}",
         "dbdemos-sessions",
         6,
         16368458,
         "2023-11-30T05:16:08.847Z",
         0
        ],
        [
         null,
         "{\"user_id\": \"40e8d981-8436-4139-9da7-4e0a71be1874\", \"platform\": \"android\", \"event_id\": \"ef7ae4ca-3f92-4db9-aaaf-6a179c36edb9\", \"event_date\": 1701321366, \"action\": \"view\", \"uri\": \"https://databricks.com/postsabout.php\"}",
         "dbdemos-sessions",
         6,
         16368459,
         "2023-11-30T05:16:09.854Z",
         0
        ],
        [
         null,
         "{\"user_id\": \"70856272-64cd-4308-9e41-4631a7dd8024\", \"platform\": \"other\", \"event_id\": \"58f25592-d241-47cd-a3fb-95a6bfb63000\", \"event_date\": 1701321367, \"action\": \"view\", \"uri\": \"https://databricks.com/search/explore/exploreprivacy.php\"}",
         "dbdemos-sessions",
         6,
         16368460,
         "2023-11-30T05:16:09.858Z",
         0
        ],
        [
         null,
         "{\"user_id\": \"c74ac38e-0a9b-4785-9a27-09d1d694e40c\", \"platform\": \"ios\", \"event_id\": \"a185300b-a0e5-49ba-b541-611982668cdc\", \"event_date\": 1701321368, \"action\": \"click\", \"uri\": \"https://databricks.com/categorypost.htm\"}",
         "dbdemos-sessions",
         6,
         16368461,
         "2023-11-30T05:16:10.866Z",
         0
        ],
        [
         null,
         "{\"user_id\": \"4861923d-8618-4684-9212-0e380364e29e\", \"platform\": \"ios\", \"event_id\": \"d72b1915-3926-45c2-9593-d34f114e832d\", \"event_date\": 1701321366, \"action\": \"view\", \"uri\": \"https://databricks.com/listindex.html\"}",
         "dbdemos-sessions",
         6,
         16368462,
         "2023-11-30T05:16:10.87Z",
         0
        ],
        [
         null,
         "{\"user_id\": \"455ca8a1-18bd-409f-b257-5a298fb5a5a9\", \"platform\": \"ios\", \"event_id\": \"fa24146b-4c9e-4056-815c-6e13e878f1f2\", \"event_date\": 1701321374, \"action\": \"view\", \"uri\": \"https://databricks.com/searchhome.htm\"}",
         "dbdemos-sessions",
         6,
         16368463,
         "2023-11-30T05:16:10.874Z",
         0
        ],
        [
         null,
         "{\"user_id\": \"66fe7dd1-8f19-470c-b4b8-be75c4793e76\", \"platform\": \"ios\", \"event_id\": \"2295358e-5c07-4eda-aee9-313491aaa201\", \"event_date\": 1701321370, \"action\": \"click\", \"uri\": \"https://databricks.com/categorycategory.html\"}",
         "dbdemos-sessions",
         6,
         16368464,
         "2023-11-30T05:16:11.878Z",
         0
        ],
        [
         null,
         "{\"user_id\": \"65c8a970-e4e2-4fc7-9706-825f852acd65\", \"platform\": \"ios\", \"event_id\": \"6d766c75-156e-41cc-a4af-598822b66621\", \"event_date\": 1701321374, \"action\": \"click\", \"uri\": \"https://databricks.com/blog/listsearch.htm\"}",
         "dbdemos-sessions",
         6,
         16368465,
         "2023-11-30T05:16:12.894Z",
         0
        ],
        [
         null,
         "{\"user_id\": \"a2203049-6083-4c38-b3e8-0832f315801a\", \"platform\": \"ios\", \"event_id\": \"41fd9eea-48f4-4201-999d-f987beaf4ba1\", \"event_date\": 1701321369, \"action\": \"click\", \"uri\": \"https://databricks.com/wp-content/wp-contentcategory.html\"}",
         "dbdemos-sessions",
         6,
         16368466,
         "2023-11-30T05:16:12.895Z",
         0
        ],
        [
         null,
         "{\"user_id\": \"95d37dd5-cd3b-465c-8395-64f60fcf46b3\", \"platform\": \"ios\", \"event_id\": \"d908c7b5-e487-40a1-a816-c91b3d350fbd\", \"event_date\": 1701321368, \"action\": \"click\", \"uri\": \"https://databricks.com/list/tagcategory.html\"}",
         "dbdemos-sessions",
         6,
         16368467,
         "2023-11-30T05:16:12.895Z",
         0
        ],
        [
         null,
         "{\"user_id\": \"93ef5cae-b681-4e40-8e10-cae4283b2b04\", \"platform\": \"other\", \"event_id\": \"5df63c46-0ad9-4f95-9de4-f6872ccecbce\", \"event_date\": 1701321375, \"action\": \"click\", \"uri\": \"https://databricks.com/wp-contentindex.jsp\"}",
         "dbdemos-sessions",
         6,
         16368468,
         "2023-11-30T05:16:13.898Z",
         0
        ],
        [
         null,
         "{\"user_id\": \"8a937358-261b-4364-9009-a726351f44fe\", \"platform\": \"ios\", \"event_id\": \"cfae380c-11de-4fa1-b877-7ed0c87f1f85\", \"event_date\": 1701321368, \"action\": \"view\", \"uri\": \"https://databricks.com/categoryindex.htm\"}",
         "dbdemos-sessions",
         6,
         16368469,
         "2023-11-30T05:16:13.904Z",
         0
        ],
        [
         null,
         "{\"user_id\": \"a2203049-6083-4c38-b3e8-0832f315801a\", \"platform\": \"ios\", \"event_id\": \"f2f4becd-70c3-4419-9f43-3113d64ebdb7\", \"event_date\": 1701321369, \"action\": \"view\", \"uri\": \"https://databricks.com/posts/searchmain.php\"}",
         "dbdemos-sessions",
         6,
         16368470,
         "2023-11-30T05:16:13.907Z",
         0
        ],
        [
         null,
         "{\"user_id\": \"18713496-a98e-49a4-ab88-9f029f18b4c5\", \"platform\": \"other\", \"event_id\": \"61e986d3-098f-4edc-9f96-b1569ac222fa\", \"event_date\": 1701321373, \"action\": \"view\", \"uri\": \"https://databricks.com/listpost.jsp\"}",
         "dbdemos-sessions",
         6,
         16368471,
         "2023-11-30T05:16:14.915Z",
         0
        ],
        [
         null,
         "{\"user_id\": \"c5d9d13b-3de4-4750-a7ff-c642e55c606e\", \"platform\": \"other\", \"event_id\": \"1d3b625f-8f2f-4665-a8fc-2b58cd679624\", \"event_date\": 1701321375, \"action\": \"view\", \"uri\": \"https://databricks.com/listhomepage.html\"}",
         "dbdemos-sessions",
         6,
         16368472,
         "2023-11-30T05:16:14.919Z",
         0
        ],
        [
         null,
         "{\"user_id\": \"ea676090-0000-4946-a288-4e1ab4c91ea2\", \"platform\": \"other\", \"event_id\": \"5527530a-3020-4f0a-8717-94163ca18fde\", \"event_date\": 1701321370, \"action\": \"view\", \"uri\": \"https://databricks.com/posts/explore/tagspost.html\"}",
         "dbdemos-sessions",
         6,
         16368473,
         "2023-11-30T05:16:14.921Z",
         0
        ],
        [
         null,
         "{\"user_id\": \"f51f94e1-27a4-48be-b539-b0aac42704e3\", \"platform\": \"other\", \"event_id\": \"c875aa12-6c4a-4237-80e1-23f4fd4e7130\", \"event_date\": 1701321376, \"action\": \"view\", \"uri\": \"https://databricks.com/blog/explorecategory.jsp\"}",
         "dbdemos-sessions",
         6,
         16368474,
         "2023-11-30T05:16:15.932Z",
         0
        ],
        [
         null,
         "{\"user_id\": \"8a937358-261b-4364-9009-a726351f44fe\", \"platform\": \"android\", \"event_id\": \"44d9a5ed-cf71-444f-a430-6ad28f28eb78\", \"event_date\": 1701321377, \"action\": \"view\", \"uri\": \"https://databricks.com/tagauthor.html\"}",
         "dbdemos-sessions",
         6,
         16368475,
         "2023-11-30T05:16:15.933Z",
         0
        ],
        [
         null,
         "{\"user_id\": \"faa07d2d-e74f-4b49-9d0f-a2a3966c6c07\", \"platform\": \"android\", \"event_id\": \"91399e35-a1b2-457e-959f-a90e2ff0ecbe\", \"event_date\": 1701321378, \"action\": \"view\", \"uri\": \"https://databricks.com/tag/tagterms.htm\"}",
         "dbdemos-sessions",
         6,
         16368476,
         "2023-11-30T05:16:15.938Z",
         0
        ],
        [
         null,
         "{\"user_id\": \"6e102f64-abf8-441b-942d-19df3cde3714\", \"platform\": \"ios\", \"event_id\": \"13e31033-d0cd-40df-ac45-9a44949f6585\", \"event_date\": 1701321376, \"action\": \"view\", \"uri\": \"https://databricks.com/list/tagprivacy.jsp\"}",
         "dbdemos-sessions",
         6,
         16368477,
         "2023-11-30T05:16:16.942Z",
         0
        ],
        [
         null,
         "{\"user_id\": \"70856272-64cd-4308-9e41-4631a7dd8024\", \"platform\": \"ios\", \"event_id\": \"a514c807-d0b6-4690-b7a0-fb2b4664368d\", \"event_date\": 1701321376, \"action\": \"log\", \"uri\": \"https://databricks.com/listterms.htm\"}",
         "dbdemos-sessions",
         6,
         16368478,
         "2023-11-30T05:16:16.948Z",
         0
        ],
        [
         null,
         "{\"user_id\": \"d4d38a3c-3c64-4f97-a97d-31a8380293ae\", \"platform\": \"ios\", \"event_id\": \"679d4a0d-54e8-4c08-845e-580945fdd064\", \"event_date\": 1701321374, \"action\": \"click\", \"uri\": \"https://databricks.com/wp-content/list/wp-contenthomepage.htm\"}",
         "dbdemos-sessions",
         6,
         16368479,
         "2023-11-30T05:16:16.952Z",
         0
        ],
        [
         null,
         "{\"user_id\": \"426ccd91-2409-4b5d-83e9-d582f552985e\", \"platform\": \"ios\", \"event_id\": \"92efd0bf-43cd-4622-961f-7f20e38bfc84\", \"event_date\": 1701321372, \"action\": \"view\", \"uri\": \"https://databricks.com/app/blogprivacy.php\"}",
         "dbdemos-sessions",
         6,
         16368480,
         "2023-11-30T05:16:17.955Z",
         0
        ],
        [
         null,
         "{\"user_id\": \"a2203049-6083-4c38-b3e8-0832f315801a\", \"platform\": \"ios\", \"event_id\": \"0bf12b8c-11a3-4ae1-ac21-35bb84c014f5\", \"event_date\": 1701321372, \"action\": \"click\", \"uri\": \"https://databricks.com/main/blog/categoriesfaq.htm\"}",
         "dbdemos-sessions",
         6,
         16368481,
         "2023-11-30T05:16:17.962Z",
         0
        ],
        [
         null,
         "{\"user_id\": \"554db164-c09e-40fd-ab95-e90a9a739753\", \"platform\": \"other\", \"event_id\": \"e80188b8-3b94-4e02-bac0-f29f3ee4767f\", \"event_date\": 1701321381, \"action\": \"view\", \"uri\": \"https://databricks.com/tagsauthor.htm\"}",
         "dbdemos-sessions",
         6,
         16368482,
         "2023-11-30T05:16:18.977Z",
         0
        ],
        [
         null,
         "{\"user_id\": \"d278a0e6-7c83-43e8-a0b4-db949eca8412\", \"platform\": \"other\", \"event_id\": \"c0c9d554-a7b9-498e-9d3e-cf488cb3633d\", \"event_date\": 1701321376, \"action\": \"view\", \"uri\": \"https://databricks.com/posts/tag/postsauthor.jsp\"}",
         "dbdemos-sessions",
         6,
         16368483,
         "2023-11-30T05:16:19.989Z",
         0
        ],
        [
         null,
         "{\"user_id\": \"d4df099d-1d1a-4cf8-b0fb-d0249886106f\", \"platform\": \"ios\", \"event_id\": \"3d7373c1-3695-40ea-93b7-7ec64a8c5aca\", \"event_date\": 1701321375, \"action\": \"click\", \"uri\": \"https://databricks.com/category/categorypost.php\"}",
         "dbdemos-sessions",
         6,
         16368484,
         "2023-11-30T05:16:19.99Z",
         0
        ],
        [
         null,
         "{\"user_id\": \"455ca8a1-18bd-409f-b257-5a298fb5a5a9\", \"platform\": \"ios\", \"event_id\": \"5c4260c5-e147-4569-a4bb-288b12942160\", \"event_date\": 1701321374, \"action\": \"click\", \"uri\": \"https://databricks.com/app/categoriesindex.html\"}",
         "dbdemos-sessions",
         6,
         16368485,
         "2023-11-30T05:16:19.993Z",
         0
        ],
        [
         null,
         "{\"user_id\": \"7be27ac7-189a-4d0c-95ce-69cca27288dc\", \"platform\": \"other\", \"event_id\": \"5fe3292c-41d2-4ad3-8d93-634d5429354a\", \"event_date\": 1701321381, \"action\": \"view\", \"uri\": \"https://databricks.com/wp-content/tagslogin.asp\"}",
         "dbdemos-sessions",
         6,
         16368486,
         "2023-11-30T05:16:19.996Z",
         0
        ],
        [
         null,
         "{\"user_id\": \"bb041937-335f-4592-9b28-75cbd928cd41\", \"platform\": \"ios\", \"event_id\": \"028ce327-e8f9-4e20-96b4-622913b1d1f1\", \"event_date\": 1701321362, \"action\": \"log\", \"uri\": \"https://databricks.com/categorymain.php\"}",
         "dbdemos-sessions",
         1,
         16369440,
         "2023-11-30T05:16:02.71Z",
         0
        ],
        [
         null,
         "{\"user_id\": \"5f65957e-6cad-4b66-9409-8b1d877f227f\", \"platform\": \"ios\", \"event_id\": \"de80e673-3316-4ef7-921c-21792679d5e2\", \"event_date\": 1701321361, \"action\": \"view\", \"uri\": \"https://databricks.com/category/tags/listauthor.html\"}",
         "dbdemos-sessions",
         1,
         16369441,
         "2023-11-30T05:16:02.719Z",
         0
        ],
        [
         null,
         "{\"user_id\": \"9acce7bf-7baa-45f0-b598-93b24e8843fd\", \"platform\": \"other\", \"event_id\": \"df29c7b7-2a62-465e-99ff-937d84585f45\", \"event_date\": 1701321363, \"action\": \"view\", \"uri\": \"https://databricks.com/mainlogin.php\"}",
         "dbdemos-sessions",
         1,
         16369442,
         "2023-11-30T05:16:03.725Z",
         0
        ],
        [
         null,
         "{\"user_id\": \"5b573c0b-32f7-4f2a-b49c-1e8989ddc2b1\", \"platform\": \"ios\", \"event_id\": \"80c8bef2-e843-47e2-aa5d-989222909549\", \"event_date\": 1701321362, \"action\": \"click\", \"uri\": \"https://databricks.com/tags/explore/wp-contentabout.html\"}",
         "dbdemos-sessions",
         1,
         16369443,
         "2023-11-30T05:16:03.728Z",
         0
        ],
        [
         null,
         "{\"user_id\": \"1aa3a739-ede2-426f-873d-9f6a4ebcc7f5\", \"platform\": \"other\", \"event_id\": \"61086d91-2fcd-4f63-bf3c-b4d30fe8a1f2\", \"event_date\": 1701321367, \"action\": \"view\", \"uri\": \"https://databricks.com/explorepost.html\"}",
         "dbdemos-sessions",
         1,
         16369444,
         "2023-11-30T05:16:04.765Z",
         0
        ],
        [
         null,
         "{\"user_id\": \"66fe7dd1-8f19-470c-b4b8-be75c4793e76\", \"platform\": \"ios\", \"event_id\": \"b81819c7-fed2-41fb-82b0-ca1ff7972d43\", \"event_date\": 1701321364, \"action\": \"view\", \"uri\": \"https://databricks.com/categorylogin.html\"}",
         "dbdemos-sessions",
         1,
         16369445,
         "2023-11-30T05:16:06.81Z",
         0
        ],
        [
         null,
         "{\"user_id\": \"cdf5504b-598d-4c9e-aa2c-01d320d7a397\", \"platform\": \"other\", \"event_id\": \"9f6cb850-52c6-4d4c-88f3-5f05510f89ca\", \"event_date\": 1701321366, \"action\": \"view\", \"uri\": \"https://databricks.com/bloglogin.jsp\"}",
         "dbdemos-sessions",
         1,
         16369446,
         "2023-11-30T05:16:06.811Z",
         0
        ],
        [
         null,
         "{\"user_id\": \"287d6985-e3c1-44f7-a700-2df164a43235\", \"platform\": \"other\", \"event_id\": \"e583bb33-937b-4fdb-899e-769378f43213\", \"event_date\": 1701321370, \"action\": \"view\", \"uri\": \"https://databricks.com/explore/explorehome.php\"}",
         "dbdemos-sessions",
         1,
         16369447,
         "2023-11-30T05:16:07.827Z",
         0
        ],
        [
         null,
         "{\"user_id\": \"82096dbb-07cd-45da-b6cc-57bc4ea01540\", \"platform\": \"ios\", \"event_id\": \"13a3b8f0-46fb-42f9-abac-c3066aa2c9d0\", \"event_date\": 1701321363, \"action\": \"view\", \"uri\": \"https://databricks.com/searchcategory.asp\"}",
         "dbdemos-sessions",
         1,
         16369448,
         "2023-11-30T05:16:08.84Z",
         0
        ],
        [
         null,
         "{\"user_id\": \"50e32c77-ce88-45b4-9b25-7c747615596b\", \"platform\": \"other\", \"event_id\": \"e524f375-f092-4f46-a9ac-30fe8ef33a11\", \"event_date\": 1701321370, \"action\": \"click\", \"uri\": \"https://databricks.com/postsabout.php\"}",
         "dbdemos-sessions",
         1,
         16369449,
         "2023-11-30T05:16:08.842Z",
         0
        ],
        [
         null,
         "{\"user_id\": \"d278a0e6-7c83-43e8-a0b4-db949eca8412\", \"platform\": \"other\", \"event_id\": \"f0cd099e-9a79-4478-8bee-583aa23bbf72\", \"event_date\": 1701321366, \"action\": \"log\", \"uri\": \"https://databricks.com/categories/blogauthor.htm\"}",
         "dbdemos-sessions",
         1,
         16369450,
         "2023-11-30T05:16:09.857Z",
         0
        ],
        [
         null,
         "{\"user_id\": \"455ca8a1-18bd-409f-b257-5a298fb5a5a9\", \"platform\": \"ios\", \"event_id\": \"742f7dc7-7c8b-4abc-8ab0-410d055e7245\", \"event_date\": 1701321367, \"action\": \"log\", \"uri\": \"https://databricks.com/explore/app/postsauthor.html\"}",
         "dbdemos-sessions",
         1,
         16369451,
         "2023-11-30T05:16:09.861Z",
         0
        ],
        [
         null,
         "{\"user_id\": \"4fd4b3e9-61c6-4786-bc04-d90a9eb2458c\", \"platform\": \"other\", \"event_id\": \"89740956-6cef-4204-b587-6ee611ff53c9\", \"event_date\": 1701321373, \"action\": \"view\", \"uri\": \"https://databricks.com/categories/wp-content/categoryprivacy.php\"}",
         "dbdemos-sessions",
         1,
         16369452,
         "2023-11-30T05:16:09.862Z",
         0
        ],
        [
         null,
         "{\"user_id\": \"dbf55039-2fd8-42f8-bc6b-cda6329562d7\", \"platform\": \"other\", \"event_id\": \"22e16c30-2ef9-4f32-8084-a4b9e11709f9\", \"event_date\": 1701321371, \"action\": \"click\", \"uri\": \"https://databricks.com/search/explore/searchindex.php\"}",
         "dbdemos-sessions",
         1,
         16369453,
         "2023-11-30T05:16:10.872Z",
         0
        ],
        [
         null,
         "{\"user_id\": \"1aa3a739-ede2-426f-873d-9f6a4ebcc7f5\", \"platform\": \"ios\", \"event_id\": \"87c0c365-426e-4735-907b-d25e0b193010\", \"event_date\": 1701321371, \"action\": \"view\", \"uri\": \"https://databricks.com/listpost.jsp\"}",
         "dbdemos-sessions",
         1,
         16369454,
         "2023-11-30T05:16:10.873Z",
         0
        ],
        [
         null,
         "{\"user_id\": \"0258e062-93d5-47ae-bf8f-5e946b856f1a\", \"platform\": \"ios\", \"event_id\": \"1a5313c5-d283-46cc-93c6-0898b9520ffe\", \"event_date\": 1701321369, \"action\": \"view\", \"uri\": \"https://databricks.com/blogprivacy.jsp\"}",
         "dbdemos-sessions",
         1,
         16369455,
         "2023-11-30T05:16:11.88Z",
         0
        ],
        [
         null,
         "{\"user_id\": \"bb041937-335f-4592-9b28-75cbd928cd41\", \"platform\": \"other\", \"event_id\": \"b3b18f2d-e239-4a40-af06-db54916ada5c\", \"event_date\": 1701321372, \"action\": \"click\", \"uri\": \"https://databricks.com/postscategory.php\"}",
         "dbdemos-sessions",
         1,
         16369456,
         "2023-11-30T05:16:12.885Z",
         0
        ],
        [
         null,
         "{\"user_id\": \"c5d9d13b-3de4-4750-a7ff-c642e55c606e\", \"platform\": \"ios\", \"event_id\": \"8ac156d4-c250-472a-8d12-7732da18b016\", \"event_date\": 1701321375, \"action\": null, \"uri\": \"https://databricks.com/categories/listhomepage.htm\"}",
         "dbdemos-sessions",
         1,
         16369457,
         "2023-11-30T05:16:13.905Z",
         0
        ],
        [
         null,
         "{\"user_id\": \"45a7825b-826f-402b-a6c1-ffaf0c44da1d\", \"platform\": \"other\", \"event_id\": \"57e114cc-b044-488c-90e6-f15894858fcf\", \"event_date\": 1701321377, \"action\": \"click\", \"uri\": \"https://databricks.com/tag/categories/searchauthor.html\"}",
         "dbdemos-sessions",
         1,
         16369458,
         "2023-11-30T05:16:13.91Z",
         0
        ],
        [
         null,
         "{\"user_id\": \"82096dbb-07cd-45da-b6cc-57bc4ea01540\", \"platform\": \"other\", \"event_id\": \"e7cd21c8-b6d2-4f81-995a-9f0b9881761d\", \"event_date\": 1701321374, \"action\": \"log\", \"uri\": \"https://databricks.com/mainprivacy.htm\"}",
         "dbdemos-sessions",
         1,
         16369459,
         "2023-11-30T05:16:14.914Z",
         0
        ],
        [
         null,
         "{\"user_id\": \"8953da1a-a780-42b1-a6dc-ef3a8d881435\", \"platform\": \"other\", \"event_id\": \"391dab61-27ed-4aa9-802a-d4762e37f8ab\", \"event_date\": 1701321373, \"action\": \"view\", \"uri\": \"https://databricks.com/blog/categories/categorieslogin.html\"}",
         "dbdemos-sessions",
         1,
         16369460,
         "2023-11-30T05:16:14.914Z",
         0
        ],
        [
         null,
         "{\"user_id\": \"287d6985-e3c1-44f7-a700-2df164a43235\", \"platform\": \"other\", \"event_id\": \"6541bf96-5eac-41ce-9e32-5f2e89b9a70a\", \"event_date\": 1701321379, \"action\": \"click\", \"uri\": \"https://databricks.com/mainhome.php\"}",
         "dbdemos-sessions",
         1,
         16369461,
         "2023-11-30T05:16:15.925Z",
         0
        ],
        [
         null,
         "{\"user_id\": \"b994d64b-9f05-4a97-a53d-d95128f1c0c3\", \"platform\": \"ios\", \"event_id\": null, \"event_date\": 1701321375, \"action\": \"click\", \"uri\": \"https://databricks.com/main/tagshome.php\"}",
         "dbdemos-sessions",
         1,
         16369462,
         "2023-11-30T05:16:15.932Z",
         0
        ],
        [
         null,
         "{\"user_id\": \"4b652069-51b2-4caa-bcea-acb355f2b75d\", \"platform\": \"ios\", \"event_id\": \"5e7f63bd-90f7-4acc-bd42-fb0885477237\", \"event_date\": 1701321370, \"action\": \"log\", \"uri\": \"https://databricks.com/search/tag/categoriesregister.jsp\"}",
         "dbdemos-sessions",
         1,
         16369463,
         "2023-11-30T05:16:15.933Z",
         0
        ],
        [
         null,
         "{\"user_id\": \"91062304-0581-40d6-9272-4189d373651e\", \"platform\": \"ios\", \"event_id\": \"867e1bca-a007-4b42-af9b-e92a6ce9d7c7\", \"event_date\": 1701321377, \"action\": \"click\", \"uri\": \"https://databricks.com/appregister.htm\"}",
         "dbdemos-sessions",
         1,
         16369464,
         "2023-11-30T05:16:15.935Z",
         0
        ],
        [
         null,
         "{\"user_id\": \"dbf55039-2fd8-42f8-bc6b-cda6329562d7\", \"platform\": \"other\", \"event_id\": \"64802ca9-986c-4a4c-8c20-b6ba90e66a4f\", \"event_date\": 1701321373, \"action\": \"click\", \"uri\": \"https://databricks.com/blog/list/appterms.html\"}",
         "dbdemos-sessions",
         1,
         16369465,
         "2023-11-30T05:16:16.949Z",
         0
        ],
        [
         null,
         "{\"user_id\": \"d7f839c5-24fb-4c78-a643-9dfea1fcabad\", \"platform\": null, \"event_id\": \"e04ed729-5eec-4eff-9adc-0a568e28a844\", \"event_date\": 1701321372, \"action\": \"log\", \"uri\": \"https://databricks.com/search/applogin.asp\"}",
         "dbdemos-sessions",
         1,
         16369466,
         "2023-11-30T05:16:16.951Z",
         0
        ],
        [
         null,
         "{\"user_id\": \"f51f94e1-27a4-48be-b539-b0aac42704e3\", \"platform\": \"android\", \"event_id\": \"b404eb7c-434e-47a6-9fd8-024c04e70ba7\", \"event_date\": 1701321381, \"action\": \"click\", \"uri\": \"https://databricks.com/main/taglogin.html\"}",
         "dbdemos-sessions",
         1,
         16369467,
         "2023-11-30T05:16:17.959Z",
         0
        ],
        [
         null,
         "{\"user_id\": \"468292d1-34a8-4b3e-94e1-f9442dac5d5e\", \"platform\": \"android\", \"event_id\": \"e2897e0c-5ba8-4e85-a3a5-4b35642f18af\", \"event_date\": 1701321374, \"action\": \"view\", \"uri\": \"https://databricks.com/tagsauthor.asp\"}",
         "dbdemos-sessions",
         1,
         16369468,
         "2023-11-30T05:16:18.979Z",
         0
        ],
        [
         null,
         "{\"user_id\": \"d73a3593-150d-4d93-b32e-fa94fa4ed628\", \"platform\": \"ios\", \"event_id\": \"ed12a3c3-57c4-4144-a8d8-89ec9fb79d14\", \"event_date\": 1701321377, \"action\": \"view\", \"uri\": \"https://databricks.com/tag/appregister.html\"}",
         "dbdemos-sessions",
         1,
         16369469,
         "2023-11-30T05:16:19.992Z",
         0
        ],
        [
         null,
         "{\"user_id\": \"d7f839c5-24fb-4c78-a643-9dfea1fcabad\", \"platform\": \"ios\", \"event_id\": \"16f80deb-9340-4140-998c-ac3195b77a78\", \"event_date\": 1701321377, \"action\": \"view\", \"uri\": \"https://databricks.com/postscategory.html\"}",
         "dbdemos-sessions",
         1,
         16369470,
         "2023-11-30T05:16:19.994Z",
         0
        ],
        [
         null,
         "{\"user_id\": \"dbf55039-2fd8-42f8-bc6b-cda6329562d7\", \"platform\": \"ios\", \"event_id\": \"a6bfb41c-c5d6-4384-a0e1-803a0513f5e7\", \"event_date\": 1701321363, \"action\": \"view\", \"uri\": \"https://databricks.com/tags/posts/tagprivacy.html\"}",
         "dbdemos-sessions",
         0,
         162967826,
         "2023-11-30T05:16:02.718Z",
         0
        ],
        [
         null,
         "{\"user_id\": \"a2203049-6083-4c38-b3e8-0832f315801a\", \"platform\": \"ios\", \"event_id\": \"472d6649-6451-4e95-85a7-ee1b5289fd99\", \"event_date\": 1701321365, \"action\": \"click\", \"uri\": \"https://databricks.com/main/search/exploreabout.asp\"}",
         "dbdemos-sessions",
         0,
         162967827,
         "2023-11-30T05:16:02.72Z",
         0
        ],
        [
         null,
         "{\"user_id\": \"1983f70f-77a9-4412-a898-1c7e3312d2af\", \"platform\": \"ios\", \"event_id\": \"90159beb-5bce-4333-892a-3a9dc5aa8b9c\", \"event_date\": 1701321366, \"action\": \"click\", \"uri\": \"https://databricks.com/explore/wp-content/searchhomepage.php\"}",
         "dbdemos-sessions",
         0,
         162967828,
         "2023-11-30T05:16:04.739Z",
         0
        ],
        [
         null,
         "{\"user_id\": \"34265667-87e0-4a72-b118-befa1e41b2b7\", \"platform\": \"android\", \"event_id\": \"b2c114f5-efaf-4ddb-9622-ec775e11a0b7\", \"event_date\": 1701321362, \"action\": \"click\", \"uri\": \"https://databricks.com/category/posts/tagscategory.html\"}",
         "dbdemos-sessions",
         0,
         162967829,
         "2023-11-30T05:16:04.74Z",
         0
        ],
        [
         null,
         "{\"user_id\": \"6e102f64-abf8-441b-942d-19df3cde3714\", \"platform\": \"android\", \"event_id\": \"bb7bf7dc-8eef-4c0d-a196-48ec46f4134f\", \"event_date\": 1701321366, \"action\": \"log\", \"uri\": \"https://databricks.com/main/mainlogin.php\"}",
         "dbdemos-sessions",
         0,
         162967830,
         "2023-11-30T05:16:05.783Z",
         0
        ],
        [
         null,
         "{\"user_id\": \"66fe7dd1-8f19-470c-b4b8-be75c4793e76\", \"platform\": \"other\", \"event_id\": \"bc3b3bea-c0bd-433b-82b4-031144221920\", \"event_date\": 1701321360, \"action\": null, \"uri\": \"https://databricks.com/category/listauthor.html\"}",
         "dbdemos-sessions",
         0,
         162967831,
         "2023-11-30T05:16:05.785Z",
         0
        ],
        [
         null,
         "{\"user_id\": \"4861923d-8618-4684-9212-0e380364e29e\", \"platform\": \"ios\", \"event_id\": \"d4089c4c-5286-43fc-871c-895733abb582\", \"event_date\": 1701321366, \"action\": \"view\", \"uri\": \"https://databricks.com/wp-content/explore/wp-contentmain.jsp\"}",
         "dbdemos-sessions",
         0,
         162967832,
         "2023-11-30T05:16:05.787Z",
         0
        ],
        [
         null,
         "{\"user_id\": \"8e47e6d7-ef56-45ef-9779-3eb3fbb427f4\", \"platform\": \"other\", \"event_id\": \"160ed07f-06c3-4a70-a097-31f508b4173b\", \"event_date\": 1701321366, \"action\": \"log\", \"uri\": \"https://databricks.com/listmain.asp\"}",
         "dbdemos-sessions",
         0,
         162967833,
         "2023-11-30T05:16:06.806Z",
         0
        ],
        [
         null,
         "{\"user_id\": \"af86d48a-b571-4050-acbc-145b24579671\", \"platform\": \"other\", \"event_id\": \"b2927084-be83-41bc-818b-925175409aab\", \"event_date\": 1701321363, \"action\": \"log\", \"uri\": \"https://databricks.com/searchterms.php\"}",
         "dbdemos-sessions",
         0,
         162967834,
         "2023-11-30T05:16:07.83Z",
         0
        ],
        [
         null,
         "{\"user_id\": \"2a284ec7-9875-4c46-a431-bc41aef3bb00\", \"platform\": \"other\", \"event_id\": \"de952e6e-3363-4c50-8c37-c40b74d4a381\", \"event_date\": 1701321363, \"action\": \"view\", \"uri\": \"https://databricks.com/tags/explorehome.asp\"}",
         "dbdemos-sessions",
         0,
         162967835,
         "2023-11-30T05:16:08.842Z",
         0
        ],
        [
         null,
         "{\"user_id\": \"174669fd-183b-461e-9633-ceacc9d3e277\", \"platform\": \"ios\", \"event_id\": \"5f38fafb-fda5-4466-a424-de40859d52aa\", \"event_date\": 1701321365, \"action\": \"log\", \"uri\": \"https://databricks.com/tags/searchindex.html\"}",
         "dbdemos-sessions",
         0,
         162967836,
         "2023-11-30T05:16:08.843Z",
         0
        ],
        [
         null,
         "{\"user_id\": \"83f81766-8347-477d-ac90-f0cb72a8d242\", \"platform\": \"ios\", \"event_id\": \"cbdd6ee8-d34e-4f7d-91e5-30b4c1f9457b\", \"event_date\": 1701321367, \"action\": \"click\", \"uri\": \"https://databricks.com/categoryterms.html\"}",
         "dbdemos-sessions",
         0,
         162967837,
         "2023-11-30T05:16:08.844Z",
         0
        ],
        [
         null,
         "{\"user_id\": \"83f81766-8347-477d-ac90-f0cb72a8d242\", \"platform\": \"other\", \"event_id\": \"7cf65351-9d6d-4535-aae5-ddc8d7c8390b\", \"event_date\": 1701321364, \"action\": \"click\", \"uri\": \"https://databricks.com/tag/search/appfaq.html\"}",
         "dbdemos-sessions",
         0,
         162967838,
         "2023-11-30T05:16:09.859Z",
         0
        ],
        [
         null,
         "{\"user_id\": \"f51f94e1-27a4-48be-b539-b0aac42704e3\", \"platform\": \"ios\", \"event_id\": \"687da3c8-1691-4273-a831-18f897f8021c\", \"event_date\": 1701321366, \"action\": \"view\", \"uri\": \"https://databricks.com/explore/searchcategory.jsp\"}",
         "dbdemos-sessions",
         0,
         162967839,
         "2023-11-30T05:16:10.87Z",
         0
        ],
        [
         null,
         "{\"user_id\": \"c50c86c0-459f-4db4-ae86-1e2e8a5a42ed\", \"platform\": \"ios\", \"event_id\": \"6655f157-b149-4079-a938-efb8a9949a90\", \"event_date\": 1701321371, \"action\": \"view\", \"uri\": \"https://databricks.com/main/app/listfaq.html\"}",
         "dbdemos-sessions",
         0,
         162967840,
         "2023-11-30T05:16:10.87Z",
         0
        ],
        [
         null,
         "{\"user_id\": \"287d6985-e3c1-44f7-a700-2df164a43235\", \"platform\": \"android\", \"event_id\": \"83cdb881-b061-4bc9-ae65-2ef7a62937dd\", \"event_date\": 1701321375, \"action\": \"click\", \"uri\": \"https://databricks.com/list/searchindex.html\"}",
         "dbdemos-sessions",
         0,
         162967841,
         "2023-11-30T05:16:11.877Z",
         0
        ],
        [
         null,
         "{\"user_id\": \"d278a0e6-7c83-43e8-a0b4-db949eca8412\", \"platform\": \"ios\", \"event_id\": \"b73792d0-6f82-4886-9758-d85cf8a168b6\", \"event_date\": 1701321371, \"action\": \"log\", \"uri\": \"https://databricks.com/tagslogin.php\"}",
         "dbdemos-sessions",
         0,
         162967842,
         "2023-11-30T05:16:12.892Z",
         0
        ],
        [
         null,
         "{\"user_id\": \"18713496-a98e-49a4-ab88-9f029f18b4c5\", \"platform\": \"ios\", \"event_id\": \"8c016b92-3945-4098-8f8b-6042af5ea8aa\", \"event_date\": 1701321374, \"action\": \"view\", \"uri\": \"https://databricks.com/maincategory.asp\"}",
         "dbdemos-sessions",
         0,
         162967843,
         "2023-11-30T05:16:13.901Z",
         0
        ],
        [
         null,
         "{\"user_id\": \"468292d1-34a8-4b3e-94e1-f9442dac5d5e\", \"platform\": \"ios\", \"event_id\": \"33a51049-6ed4-4284-a61a-7bf897eadf48\", \"event_date\": 1701321374, \"action\": \"click\", \"uri\": \"https://databricks.com/tags/appfaq.php\"}",
         "dbdemos-sessions",
         0,
         162967844,
         "2023-11-30T05:16:14.922Z",
         0
        ],
        [
         null,
         "{\"user_id\": \"3605ab4e-d224-4328-8ab1-621800f13d58\", \"platform\": \"ios\", \"event_id\": \"50a52571-21e6-4a97-a67c-f5f9ead93a59\", \"event_date\": 1701321371, \"action\": \"view\", \"uri\": \"https://databricks.com/tag/categories/mainhome.php\"}",
         "dbdemos-sessions",
         0,
         162967845,
         "2023-11-30T05:16:14.922Z",
         0
        ],
        [
         null,
         "{\"user_id\": \"8a7551ea-f096-4c40-aad8-2a0778c32634\", \"platform\": \"ios\", \"event_id\": \"3f685c19-f06a-4189-8609-48d8e13c5867\", \"event_date\": 1701321369, \"action\": \"log\", \"uri\": \"https://databricks.com/mainpost.jsp\"}",
         "dbdemos-sessions",
         0,
         162967846,
         "2023-11-30T05:16:14.922Z",
         0
        ],
        [
         null,
         "{\"user_id\": \"94ba5e9c-d1c8-4837-8c7f-e3e20d6a180e\", \"platform\": \"ios\", \"event_id\": \"1ff5335f-d84e-4950-b77a-48628faab779\", \"event_date\": 1701321373, \"action\": \"click\", \"uri\": \"https://databricks.com/wp-content/categorysearch.jsp\"}",
         "dbdemos-sessions",
         0,
         162967847,
         "2023-11-30T05:16:16.941Z",
         0
        ],
        [
         null,
         "{\"user_id\": \"1aa3a739-ede2-426f-873d-9f6a4ebcc7f5\", \"platform\": \"ios\", \"event_id\": \"c4ff71b1-392a-4b8d-a9d1-54af26852c6f\", \"event_date\": 1701321374, \"action\": \"click\", \"uri\": \"https://databricks.com/category/search/categoryabout.html\"}",
         "dbdemos-sessions",
         0,
         162967848,
         "2023-11-30T05:16:17.961Z",
         0
        ],
        [
         null,
         "{\"user_id\": \"5c32df45-eda2-494d-abe8-f00782dd60c5\", \"platform\": \"android\", \"event_id\": \"d993f7ac-f3f5-4593-8eb5-2d1f3034f1fc\", \"event_date\": 1701321379, \"action\": \"click\", \"uri\": \"https://databricks.com/main/wp-contentcategory.html\"}",
         "dbdemos-sessions",
         0,
         162967849,
         "2023-11-30T05:16:18.978Z",
         0
        ],
        [
         null,
         "{\"user_id\": \"26e9a62b-affa-4c87-a5a9-df7bea55004e\", \"platform\": null, \"event_id\": \"5e5908cf-dc00-4f3f-948e-60aba039656e\", \"event_date\": 1701321378, \"action\": \"click\", \"uri\": \"https://databricks.com/explore/appsearch.html\"}",
         "dbdemos-sessions",
         0,
         162967850,
         "2023-11-30T05:16:18.98Z",
         0
        ],
        [
         null,
         "{\"user_id\": \"edd15681-e004-4f73-ba67-d7a024a46e06\", \"platform\": \"android\", \"event_id\": \"1b06595e-da3c-4e60-956f-212ff95e3771\", \"event_date\": 1701321378, \"action\": \"view\", \"uri\": \"https://databricks.com/tagsabout.php\"}",
         "dbdemos-sessions",
         0,
         162967851,
         "2023-11-30T05:16:18.98Z",
         0
        ],
        [
         null,
         "{\"user_id\": \"c029c534-fabe-4b8c-8447-675b706faaf0\", \"platform\": \"ios\", \"event_id\": \"5803e45b-81fe-4df8-b129-3e5307202ca6\", \"event_date\": 1701321382, \"action\": \"click\", \"uri\": \"https://databricks.com/category/categoriesfaq.html\"}",
         "dbdemos-sessions",
         0,
         162967852,
         "2023-11-30T05:16:18.981Z",
         0
        ],
        [
         null,
         "{\"user_id\": \"e4e079a9-103e-464b-8b2f-b7d906066bad\", \"platform\": \"other\", \"event_id\": \"e9f858be-3150-4899-a5b7-af85b5aa759c\", \"event_date\": 1701321379, \"action\": \"log\", \"uri\": \"https://databricks.com/main/main/explorelogin.jsp\"}",
         "dbdemos-sessions",
         0,
         162967853,
         "2023-11-30T05:16:19.985Z",
         0
        ],
        [
         null,
         "{\"user_id\": \"6a4e890d-982b-46e1-b446-3688a723cdff\", \"platform\": \"ios\", \"event_id\": \"82391fe1-230d-4447-8b1c-64934658a91c\", \"event_date\": 1701321361, \"action\": \"view\", \"uri\": \"https://databricks.com/app/tagsindex.html\"}",
         "dbdemos-sessions",
         7,
         16373425,
         "2023-11-30T05:16:02.711Z",
         0
        ],
        [
         null,
         "{\"user_id\": \"1983f70f-77a9-4412-a898-1c7e3312d2af\", \"platform\": \"other\", \"event_id\": \"c0ded847-f32e-4529-a377-d24d7151f91d\", \"event_date\": 1701321361, \"action\": \"view\", \"uri\": \"https://databricks.com/tagpost.html\"}",
         "dbdemos-sessions",
         7,
         16373426,
         "2023-11-30T05:16:02.712Z",
         0
        ],
        [
         null,
         "{\"user_id\": \"65c8a970-e4e2-4fc7-9706-825f852acd65\", \"platform\": \"other\", \"event_id\": \"44023fc3-08e2-473f-b31c-14a0927245fb\", \"event_date\": 1701321360, \"action\": \"view\", \"uri\": \"https://databricks.com/app/tag/exploreauthor.htm\"}",
         "dbdemos-sessions",
         7,
         16373427,
         "2023-11-30T05:16:03.73Z",
         0
        ],
        [
         null,
         "{\"user_id\": \"471b9cf5-93fd-4290-927c-5f78456145dc\", \"platform\": \"other\", \"event_id\": \"9af0c1db-c5ef-424f-8328-e790aaebcca8\", \"event_date\": 1701321361, \"action\": \"log\", \"uri\": \"https://databricks.com/tagsindex.php\"}",
         "dbdemos-sessions",
         7,
         16373428,
         "2023-11-30T05:16:04.757Z",
         0
        ],
        [
         null,
         "{\"user_id\": \"91062304-0581-40d6-9272-4189d373651e\", \"platform\": \"other\", \"event_id\": \"4b4a3899-413f-49a0-8fbc-9047904a7d0b\", \"event_date\": 1701321361, \"action\": \"log\", \"uri\": \"https://databricks.com/search/main/exploreregister.php\"}",
         "dbdemos-sessions",
         7,
         16373429,
         "2023-11-30T05:16:05.797Z",
         0
        ],
        [
         null,
         "{\"user_id\": \"4861923d-8618-4684-9212-0e380364e29e\", \"platform\": \"other\", \"event_id\": \"74015e8f-8546-4351-8741-c3b9296b7e4a\", \"event_date\": 1701321362, \"action\": \"log\", \"uri\": \"https://databricks.com/wp-content/explore/exploreindex.html\"}",
         "dbdemos-sessions",
         7,
         16373430,
         "2023-11-30T05:16:06.82Z",
         0
        ],
        [
         null,
         "{\"user_id\": \"b994d64b-9f05-4a97-a53d-d95128f1c0c3\", \"platform\": \"ios\", \"event_id\": \"3d2c822e-dbfa-4b63-9c81-227af64bd1a2\", \"event_date\": 1701321365, \"action\": \"click\", \"uri\": \"https://databricks.com/app/searchhome.htm\"}",
         "dbdemos-sessions",
         7,
         16373431,
         "2023-11-30T05:16:06.821Z",
         0
        ],
        [
         null,
         "{\"user_id\": \"8e47e6d7-ef56-45ef-9779-3eb3fbb427f4\", \"platform\": \"ios\", \"event_id\": \"0deeaf79-965d-47c5-a89c-b908ec3e2c64\", \"event_date\": 1701321364, \"action\": \"log\", \"uri\": \"https://databricks.com/wp-content/wp-content/listauthor.html\"}",
         "dbdemos-sessions",
         7,
         16373432,
         "2023-11-30T05:16:07.827Z",
         0
        ],
        [
         null,
         "{\"user_id\": \"0258e062-93d5-47ae-bf8f-5e946b856f1a\", \"platform\": \"ios\", \"event_id\": \"0cc1dc5f-ac40-406c-838b-3fb2504bc387\", \"event_date\": 1701321364, \"action\": \"view\", \"uri\": \"https://databricks.com/category/exploreregister.html\"}",
         "dbdemos-sessions",
         7,
         16373433,
         "2023-11-30T05:16:07.834Z",
         0
        ],
        [
         null,
         "{\"user_id\": \"6937cb27-2941-49c8-9431-ef4836329ae6\", \"platform\": \"ios\", \"event_id\": \"c554ec3f-f083-4389-a646-05bfd8e10ad8\", \"event_date\": 1701321365, \"action\": \"click\", \"uri\": \"https://databricks.com/list/tagspost.html\"}",
         "dbdemos-sessions",
         7,
         16373434,
         "2023-11-30T05:16:07.834Z",
         0
        ],
        [
         null,
         "{\"user_id\": \"83371c85-106e-4e79-9b16-f62a8904aee7\", \"platform\": \"other\", \"event_id\": \"ef99ef6b-fb3a-4c43-95da-c477eaaa94a9\", \"event_date\": 1701321369, \"action\": \"log\", \"uri\": \"https://databricks.com/wp-content/category/searchabout.jsp\"}",
         "dbdemos-sessions",
         7,
         16373435,
         "2023-11-30T05:16:08.845Z",
         0
        ],
        [
         null,
         "{\"user_id\": \"a9d649d1-694d-4652-b94a-5389edb038ec\", \"platform\": \"ios\", \"event_id\": \"05264536-ce96-4375-b3a2-4fe5db6617ce\", \"event_date\": 1701321364, \"action\": \"click\", \"uri\": \"https://databricks.com/appmain.html\"}",
         "dbdemos-sessions",
         7,
         16373436,
         "2023-11-30T05:16:08.845Z",
         0
        ],
        [
         null,
         "{\"user_id\": \"8f2385f0-f59d-4ebc-ac67-d3d5427e9a95\", \"platform\": \"other\", \"event_id\": \"40a7b6f1-0b6c-415c-bf57-180ba1e7066b\", \"event_date\": 1701321364, \"action\": \"view\", \"uri\": \"https://databricks.com/tag/tags/wp-contentauthor.html\"}",
         "dbdemos-sessions",
         7,
         16373437,
         "2023-11-30T05:16:09.85Z",
         0
        ],
        [
         null,
         "{\"user_id\": \"8c78e34e-0201-4757-a82a-fa0d9f70beda\", \"platform\": \"ios\", \"event_id\": \"8a548634-3ec6-4636-b53d-ba07cae176d3\", \"event_date\": 1701321373, \"action\": \"view\", \"uri\": \"https://databricks.com/listhome.html\"}",
         "dbdemos-sessions",
         7,
         16373438,
         "2023-11-30T05:16:10.867Z",
         0
        ],
        [
         null,
         "{\"user_id\": \"50e32c77-ce88-45b4-9b25-7c747615596b\", \"platform\": \"ios\", \"event_id\": \"eabbb230-070e-41ee-9329-1a3eda355a4b\", \"event_date\": 1701321366, \"action\": \"view\", \"uri\": \"https://databricks.com/main/tagregister.php\"}",
         "dbdemos-sessions",
         7,
         16373439,
         "2023-11-30T05:16:10.867Z",
         0
        ],
        [
         null,
         "{\"user_id\": \"fa31e0c0-f1fa-432f-b6ae-5bf2146cca06\", \"platform\": \"other\", \"event_id\": \"42fbb1cd-78de-4390-b568-5595cb5a8820\", \"event_date\": 1701321372, \"action\": \"click\", \"uri\": \"https://databricks.com/list/tagscategory.jsp\"}",
         "dbdemos-sessions",
         7,
         16373440,
         "2023-11-30T05:16:11.88Z",
         0
        ],
        [
         null,
         "{\"user_id\": \"d7f839c5-24fb-4c78-a643-9dfea1fcabad\", \"platform\": \"other\", \"event_id\": \"79c85884-55c3-444e-a61b-81a70a150446\", \"event_date\": 1701321371, \"action\": \"log\", \"uri\": \"https://databricks.com/tagsfaq.jsp\"}",
         "dbdemos-sessions",
         7,
         16373441,
         "2023-11-30T05:16:11.882Z",
         0
        ],
        [
         null,
         "{\"user_id\": \"49facf48-ff7c-4d4f-a4cc-42432b261b71\", \"platform\": \"ios\", \"event_id\": \"694cfe4d-3146-4529-ad1a-52b2a35d415b\", \"event_date\": 1701321368, \"action\": \"view\", \"uri\": \"https://databricks.com/tagindex.html\"}",
         "dbdemos-sessions",
         7,
         16373442,
         "2023-11-30T05:16:11.883Z",
         0
        ],
        [
         null,
         "{\"user_id\": \"fa31e0c0-f1fa-432f-b6ae-5bf2146cca06\", \"platform\": \"ios\", \"event_id\": \"0042972e-ec34-40f8-9dfe-abfd7855948f\", \"event_date\": 1701321369, \"action\": \"view\", \"uri\": \"https://databricks.com/search/appauthor.asp\"}",
         "dbdemos-sessions",
         7,
         16373443,
         "2023-11-30T05:16:12.892Z",
         0
        ],
        [
         null,
         "{\"user_id\": \"65c8a970-e4e2-4fc7-9706-825f852acd65\", \"platform\": \"ios\", \"event_id\": \"6d766c75-156e-41cc-a4af-598822b66621\", \"event_date\": 1701321374, \"action\": \"click\", \"uri\": \"https://databricks.com/blog/listsearch.htm\"}",
         "dbdemos-sessions",
         7,
         16373444,
         "2023-11-30T05:16:12.893Z",
         0
        ],
        [
         null,
         "{\"user_id\": \"5c32df45-eda2-494d-abe8-f00782dd60c5\", \"platform\": \"ios\", \"event_id\": \"5d8cef9f-ffa7-4705-85d1-64d1c0ed0be5\", \"event_date\": 1701321373, \"action\": \"click\", \"uri\": \"https://databricks.com/posts/app/wp-contenthomepage.asp\"}",
         "dbdemos-sessions",
         7,
         16373445,
         "2023-11-30T05:16:12.894Z",
         0
        ],
        [
         null,
         "{\"user_id\": \"c74ac38e-0a9b-4785-9a27-09d1d694e40c\", \"platform\": \"ios\", \"event_id\": \"3f14c2d2-b639-4e9e-bd49-3b5ec84f0c19\", \"event_date\": 1701321376, \"action\": \"log\", \"uri\": \"https://databricks.com/category/categories/categoriesabout.php\"}",
         "dbdemos-sessions",
         7,
         16373446,
         "2023-11-30T05:16:13.902Z",
         0
        ],
        [
         null,
         "{\"user_id\": \"604ae75c-5537-43da-bd92-5a235a891266\", \"platform\": \"ios\", \"event_id\": \"883d140c-908b-4990-be1b-687954e95037\", \"event_date\": 1701321374, \"action\": \"view\", \"uri\": \"https://databricks.com/main/tag/searchprivacy.asp\"}",
         "dbdemos-sessions",
         7,
         16373447,
         "2023-11-30T05:16:13.903Z",
         0
        ],
        [
         null,
         "{\"user_id\": \"c5d9d13b-3de4-4750-a7ff-c642e55c606e\", \"platform\": \"ios\", \"event_id\": \"8ac156d4-c250-472a-8d12-7732da18b016\", \"event_date\": 1701321375, \"action\": null, \"uri\": \"https://databricks.com/categories/listhomepage.htm\"}",
         "dbdemos-sessions",
         7,
         16373448,
         "2023-11-30T05:16:13.905Z",
         0
        ],
        [
         null,
         "{\"user_id\": \"a1410f93-0184-4aca-9c43-c686a605a5f6\", \"platform\": \"other\", \"event_id\": \"21f5a87d-cac3-4b11-b3f1-b7affc756950\", \"event_date\": 1701321371, \"action\": \"view\", \"uri\": \"https://databricks.com/tagmain.html\"}",
         "dbdemos-sessions",
         7,
         16373449,
         "2023-11-30T05:16:14.916Z",
         0
        ],
        [
         null,
         "{\"user_id\": \"a1410f93-0184-4aca-9c43-c686a605a5f6\", \"platform\": \"ios\", \"event_id\": \"94d3c94d-cc10-4d3e-94c5-a4f86fb219ce\", \"event_date\": 1701321379, \"action\": \"view\", \"uri\": \"https://databricks.com/tags/blog/listregister.asp\"}",
         "dbdemos-sessions",
         7,
         16373450,
         "2023-11-30T05:16:15.926Z",
         0
        ],
        [
         null,
         "{\"user_id\": \"66fe7dd1-8f19-470c-b4b8-be75c4793e76\", \"platform\": \"ios\", \"event_id\": \"bf9da94f-e568-42ab-9d98-8305de210266\", \"event_date\": 1701321375, \"action\": \"log\", \"uri\": \"https://databricks.com/exploreregister.asp\"}",
         "dbdemos-sessions",
         7,
         16373451,
         "2023-11-30T05:16:15.929Z",
         0
        ],
        [
         null,
         "{\"user_id\": \"d6b698c1-d982-4afd-913f-a4ba28177397\", \"platform\": \"ios\", \"event_id\": \"16707967-f3a6-4226-bd9e-05852b040527\", \"event_date\": 1701321376, \"action\": \"view\", \"uri\": \"https://databricks.com/mainabout.jsp\"}",
         "dbdemos-sessions",
         7,
         16373452,
         "2023-11-30T05:16:15.931Z",
         0
        ],
        [
         null,
         "{\"user_id\": \"a9d649d1-694d-4652-b94a-5389edb038ec\", \"platform\": \"other\", \"event_id\": \"22686408-dc57-436d-9334-8d28604d93f9\", \"event_date\": 1701321375, \"action\": \"click\", \"uri\": \"https://databricks.com/tagsabout.htm\"}",
         "dbdemos-sessions",
         7,
         16373453,
         "2023-11-30T05:16:15.936Z",
         0
        ],
        [
         null,
         "{\"user_id\": \"468292d1-34a8-4b3e-94e1-f9442dac5d5e\", \"platform\": \"other\", \"event_id\": \"b24ef974-b2e8-4816-b32c-d4ba3e20c794\", \"event_date\": 1701321371, \"action\": \"click\", \"uri\": \"https://databricks.com/appmain.jsp\"}",
         "dbdemos-sessions",
         7,
         16373454,
         "2023-11-30T05:16:15.937Z",
         0
        ],
        [
         null,
         "{\"user_id\": \"f5bb0598-15cc-4ded-8192-0bd8262a8941\", \"platform\": \"android\", \"event_id\": \"fcc9ce6e-41db-4fc1-9b9d-cecd48f463c1\", \"event_date\": 1701321376, \"action\": \"click\", \"uri\": \"https://databricks.com/tags/main/listterms.php\"}",
         "dbdemos-sessions",
         7,
         16373455,
         "2023-11-30T05:16:16.944Z",
         0
        ],
        [
         null,
         "{\"user_id\": \"d6b698c1-d982-4afd-913f-a4ba28177397\", \"platform\": \"other\", \"event_id\": \"59bbf25c-de70-44d8-8eac-625c687f4688\", \"event_date\": 1701321376, \"action\": \"view\", \"uri\": \"https://databricks.com/list/tag/categoryabout.asp\"}",
         "dbdemos-sessions",
         7,
         16373456,
         "2023-11-30T05:16:16.946Z",
         0
        ],
        [
         null,
         "{\"user_id\": \"b5f792ab-766c-4aa2-86d8-02a7e7abcfc0\", \"platform\": \"ios\", \"event_id\": \"9a59e3bd-c58f-4640-a5a2-39b9c5d1bbf3\", \"event_date\": 1701321379, \"action\": \"log\", \"uri\": \"https://databricks.com/searchregister.php\"}",
         "dbdemos-sessions",
         7,
         16373457,
         "2023-11-30T05:16:17.961Z",
         0
        ],
        [
         null,
         "{\"user_id\": \"45a7825b-826f-402b-a6c1-ffaf0c44da1d\", \"platform\": \"ios\", \"event_id\": \"e6ced870-468b-4c2f-a0d7-d61009cab06c\", \"event_date\": 1701321378, \"action\": \"view\", \"uri\": \"https://databricks.com/mainfaq.html\"}",
         "dbdemos-sessions",
         7,
         16373458,
         "2023-11-30T05:16:17.964Z",
         0
        ],
        [
         null,
         "{\"user_id\": \"842f92f7-e2dd-47b4-8b39-f48d18a84070\", \"platform\": \"ios\", \"event_id\": \"ad34110e-1eeb-420a-aba4-1091ebba6fa8\", \"event_date\": 1701321372, \"action\": \"view\", \"uri\": \"https://databricks.com/list/tags/wp-contentregister.html\"}",
         "dbdemos-sessions",
         7,
         16373459,
         "2023-11-30T05:16:17.965Z",
         0
        ],
        [
         null,
         "{\"user_id\": \"edd15681-e004-4f73-ba67-d7a024a46e06\", \"platform\": \"ios\", \"event_id\": \"622173f0-095e-42b2-a843-7601e506d78d\", \"event_date\": 1701321374, \"action\": \"view\", \"uri\": \"https://databricks.com/tagprivacy.jsp\"}",
         "dbdemos-sessions",
         7,
         16373460,
         "2023-11-30T05:16:17.966Z",
         0
        ],
        [
         null,
         "{\"user_id\": \"02467029-f802-4ee5-ab0f-6f80a46c4320\", \"platform\": \"ios\", \"event_id\": \"3f303d8a-af0a-4613-8121-65aa2ebdbeb4\", \"event_date\": 1701321381, \"action\": \"view\", \"uri\": \"https://databricks.com/list/blogsearch.htm\"}",
         "dbdemos-sessions",
         7,
         16373461,
         "2023-11-30T05:16:18.973Z",
         0
        ],
        [
         null,
         "{\"user_id\": \"f044d5b8-0357-44e1-b9cf-40ba0512eeb0\", \"platform\": \"android\", \"event_id\": \"2514d2ee-356c-4e2c-8dc4-aeed99d91b29\", \"event_date\": 1701321358, \"action\": \"view\", \"uri\": \"https://databricks.com/wp-content/taghome.htm\"}",
         "dbdemos-sessions",
         4,
         16376413,
         "2023-11-30T05:16:03.725Z",
         0
        ],
        [
         null,
         "{\"user_id\": \"02467029-f802-4ee5-ab0f-6f80a46c4320\", \"platform\": \"android\", \"event_id\": \"4aa25c39-64df-4d99-8ef8-2011839f347a\", \"event_date\": 1701321367, \"action\": \"view\", \"uri\": \"https://databricks.com/blog/tags/mainfaq.php\"}",
         "dbdemos-sessions",
         4,
         16376414,
         "2023-11-30T05:16:03.727Z",
         0
        ],
        [
         null,
         "{\"user_id\": \"174669fd-183b-461e-9633-ceacc9d3e277\", \"platform\": \"other\", \"event_id\": \"2f4998bd-8afd-4dde-a117-d48575f1b9a2\", \"event_date\": 1701321361, \"action\": \"view\", \"uri\": \"https://databricks.com/tag/tag/tagsfaq.html\"}",
         "dbdemos-sessions",
         4,
         16376415,
         "2023-11-30T05:16:03.729Z",
         0
        ],
        [
         null,
         "{\"user_id\": \"c6520f02-c12e-4be1-bb5d-e86400691485\", \"platform\": \"ios\", \"event_id\": \"697a684b-d0f5-4aaa-97c8-2c9e5816b40f\", \"event_date\": 1701321362, \"action\": \"view\", \"uri\": \"https://databricks.com/postsindex.html\"}",
         "dbdemos-sessions",
         4,
         16376416,
         "2023-11-30T05:16:04.738Z",
         0
        ],
        [
         null,
         "{\"user_id\": \"5d81aa0b-2986-4b18-abbd-b085380a1bb6\", \"platform\": \"other\", \"event_id\": \"6878804e-b80b-43de-bda9-5d4c22b720c3\", \"event_date\": 1701321365, \"action\": \"view\", \"uri\": \"https://databricks.com/app/wp-contentpost.jsp\"}",
         "dbdemos-sessions",
         4,
         16376417,
         "2023-11-30T05:16:04.74Z",
         0
        ],
        [
         null,
         "{\"user_id\": \"6937cb27-2941-49c8-9431-ef4836329ae6\", \"platform\": \"other\", \"event_id\": \"c8065ec5-ae9a-4efd-bc19-b8c0ddbfc215\", \"event_date\": 1701321365, \"action\": \"view\", \"uri\": \"https://databricks.com/wp-content/searchregister.asp\"}",
         "dbdemos-sessions",
         4,
         16376418,
         "2023-11-30T05:16:04.753Z",
         0
        ],
        [
         null,
         "{\"user_id\": \"7cd07a2d-d835-470d-a0c8-b3400c915ac7\", \"platform\": \"android\", \"event_id\": \"91bd7308-1b02-4754-90dc-52f2fdb826b9\", \"event_date\": 1701321369, \"action\": \"view\", \"uri\": \"https://databricks.com/wp-contentregister.html\"}",
         "dbdemos-sessions",
         4,
         16376419,
         "2023-11-30T05:16:05.782Z",
         0
        ],
        [
         null,
         "{\"user_id\": \"a1410f93-0184-4aca-9c43-c686a605a5f6\", \"platform\": \"other\", \"event_id\": \"a2f7c0a2-62d0-4a18-be4e-8a2e55f7b91a\", \"event_date\": 1701321365, \"action\": \"view\", \"uri\": \"https://databricks.com/main/listhomepage.php\"}",
         "dbdemos-sessions",
         4,
         16376420,
         "2023-11-30T05:16:05.785Z",
         0
        ],
        [
         null,
         "{\"user_id\": \"61a38add-9c06-48fa-ab29-c4b6fd9f5a53\", \"platform\": \"ios\", \"event_id\": \"96043baf-d81b-4bc2-945d-c1d7368b2609\", \"event_date\": 1701321367, \"action\": \"log\", \"uri\": \"https://databricks.com/categoryabout.php\"}",
         "dbdemos-sessions",
         4,
         16376421,
         "2023-11-30T05:16:05.787Z",
         0
        ],
        [
         null,
         "{\"user_id\": \"ff3f9bdd-d0a3-4d28-b151-454d5e88546b\", \"platform\": \"other\", \"event_id\": \"e919fdb5-2742-406b-8491-dd97190e1b84\", \"event_date\": 1701321367, \"action\": \"view\", \"uri\": \"https://databricks.com/tags/explorelogin.htm\"}",
         "dbdemos-sessions",
         4,
         16376422,
         "2023-11-30T05:16:06.809Z",
         0
        ],
        [
         null,
         "{\"user_id\": \"66fe7dd1-8f19-470c-b4b8-be75c4793e76\", \"platform\": \"other\", \"event_id\": \"2d713307-ce86-41b3-950a-bfa00e4f924d\", \"event_date\": 1701321368, \"action\": \"view\", \"uri\": \"https://databricks.com/tag/categoryhome.asp\"}",
         "dbdemos-sessions",
         4,
         16376423,
         "2023-11-30T05:16:07.829Z",
         0
        ],
        [
         null,
         "{\"user_id\": \"6e102f64-abf8-441b-942d-19df3cde3714\", \"platform\": null, \"event_id\": \"ea038f88-b73c-4273-ab5f-2ccaf1d74f0b\", \"event_date\": 1701321369, \"action\": \"view\", \"uri\": \"https://databricks.com/blog/posts/blogmain.html\"}",
         "dbdemos-sessions",
         4,
         16376424,
         "2023-11-30T05:16:08.839Z",
         0
        ],
        [
         null,
         "{\"user_id\": \"d5c1965f-4903-4b86-895d-f9cce7d9c963\", \"platform\": \"other\", \"event_id\": \"b0591d2f-f9a5-4908-a388-0f26d53c90ee\", \"event_date\": 1701321372, \"action\": \"view\", \"uri\": \"https://databricks.com/posts/categoriesregister.html\"}",
         "dbdemos-sessions",
         4,
         16376425,
         "2023-11-30T05:16:08.84Z",
         0
        ],
        [
         null,
         "{\"user_id\": \"95d37dd5-cd3b-465c-8395-64f60fcf46b3\", \"platform\": \"ios\", \"event_id\": \"ae188e1e-f052-4196-8f9a-a793b9c9759b\", \"event_date\": 1701321368, \"action\": \"view\", \"uri\": \"https://databricks.com/searchsearch.htm\"}",
         "dbdemos-sessions",
         4,
         16376426,
         "2023-11-30T05:16:08.846Z",
         0
        ],
        [
         null,
         "{\"user_id\": \"8e47e6d7-ef56-45ef-9779-3eb3fbb427f4\", \"platform\": \"other\", \"event_id\": \"c5727102-c955-46fb-bdff-3036eed66758\", \"event_date\": 1701321364, \"action\": \"view\", \"uri\": \"https://databricks.com/list/explore/categorylogin.htm\"}",
         "dbdemos-sessions",
         4,
         16376427,
         "2023-11-30T05:16:09.849Z",
         0
        ],
        [
         null,
         "{\"user_id\": \"604ae75c-5537-43da-bd92-5a235a891266\", \"platform\": \"ios\", \"event_id\": \"2a6f40c9-c009-4527-bc13-72ca8f2bb8ae\", \"event_date\": 1701321364, \"action\": \"log\", \"uri\": \"https://databricks.com/wp-contentterms.php\"}",
         "dbdemos-sessions",
         4,
         16376428,
         "2023-11-30T05:16:09.854Z",
         0
        ],
        [
         null,
         "{\"user_id\": \"8a937358-261b-4364-9009-a726351f44fe\", \"platform\": \"ios\", \"event_id\": \"cd68ca31-dbf8-4205-85aa-2e35536dc15a\", \"event_date\": 1701321373, \"action\": \"view\", \"uri\": \"https://databricks.com/postscategory.asp\"}",
         "dbdemos-sessions",
         4,
         16376429,
         "2023-11-30T05:16:09.858Z",
         0
        ],
        [
         null,
         "{\"user_id\": \"d73a3593-150d-4d93-b32e-fa94fa4ed628\", \"platform\": \"ios\", \"event_id\": \"d9b3d5f5-34c9-4386-b0f5-1a418ecb0cf9\", \"event_date\": 1701321371, \"action\": \"view\", \"uri\": \"https://databricks.com/explore/blog/mainmain.asp\"}",
         "dbdemos-sessions",
         4,
         16376430,
         "2023-11-30T05:16:09.86Z",
         0
        ],
        [
         null,
         "{\"user_id\": \"2a284ec7-9875-4c46-a431-bc41aef3bb00\", \"platform\": \"ios\", \"event_id\": \"183a7247-3d9b-4d4d-8352-24703624341c\", \"event_date\": 1701321365, \"action\": \"view\", \"uri\": \"https://databricks.com/list/listprivacy.htm\"}",
         "dbdemos-sessions",
         4,
         16376431,
         "2023-11-30T05:16:10.869Z",
         0
        ],
        [
         null,
         "{\"user_id\": \"82096dbb-07cd-45da-b6cc-57bc4ea01540\", \"platform\": \"ios\", \"event_id\": \"06c0e40c-93b6-414d-8b8c-52240d6c354d\", \"event_date\": 1701321374, \"action\": \"view\", \"uri\": \"https://databricks.com/listpost.asp\"}",
         "dbdemos-sessions",
         4,
         16376432,
         "2023-11-30T05:16:11.876Z",
         0
        ],
        [
         null,
         "{\"user_id\": \"4861923d-8618-4684-9212-0e380364e29e\", \"platform\": \"other\", \"event_id\": \"f8c42402-d686-401e-ad68-129364260695\", \"event_date\": 1701321369, \"action\": \"view\", \"uri\": \"https://databricks.com/posts/listterms.php\"}",
         "dbdemos-sessions",
         4,
         16376433,
         "2023-11-30T05:16:12.891Z",
         0
        ],
        [
         null,
         "{\"user_id\": \"d4d38a3c-3c64-4f97-a97d-31a8380293ae\", \"platform\": \"ios\", \"event_id\": \"c66c76e5-c895-4185-9f6c-240fa094d43f\", \"event_date\": 1701321376, \"action\": \"view\", \"uri\": \"https://databricks.com/blog/exploreprivacy.htm\"}",
         "dbdemos-sessions",
         4,
         16376434,
         "2023-11-30T05:16:12.896Z",
         0
        ],
        [
         null,
         "{\"user_id\": \"554db164-c09e-40fd-ab95-e90a9a739753\", \"platform\": \"ios\", \"event_id\": \"75e173c2-a5d0-42ea-8fee-1f0d264d6814\", \"event_date\": 1701321374, \"action\": \"view\", \"uri\": \"https://databricks.com/tag/blog/postsmain.htm\"}",
         "dbdemos-sessions",
         4,
         16376435,
         "2023-11-30T05:16:13.906Z",
         0
        ],
        [
         null,
         "{\"user_id\": \"5f65957e-6cad-4b66-9409-8b1d877f227f\", \"platform\": \"ios\", \"event_id\": \"73ee448f-8b27-4061-9c4b-52f51214d2a9\", \"event_date\": 1701321374, \"action\": \"view\", \"uri\": \"https://databricks.com/explore/category/wp-contentsearch.php\"}",
         "dbdemos-sessions",
         4,
         16376436,
         "2023-11-30T05:16:13.906Z",
         0
        ],
        [
         null,
         "{\"user_id\": \"4fd4b3e9-61c6-4786-bc04-d90a9eb2458c\", \"platform\": \"other\", \"event_id\": \"8d795ec2-49e4-4b35-b7b8-c675aebb900a\", \"event_date\": 1701321368, \"action\": \"view\", \"uri\": \"https://databricks.com/tags/category/blogauthor.html\"}",
         "dbdemos-sessions",
         4,
         16376437,
         "2023-11-30T05:16:13.91Z",
         0
        ],
        [
         null,
         "{\"user_id\": \"83371c85-106e-4e79-9b16-f62a8904aee7\", \"platform\": \"ios\", \"event_id\": \"d1b8cf60-f900-40bd-a8b3-85c00cb840ae\", \"event_date\": 1701321378, \"action\": \"click\", \"uri\": \"https://databricks.com/tags/categoryterms.html\"}",
         "dbdemos-sessions",
         4,
         16376438,
         "2023-11-30T05:16:14.92Z",
         0
        ],
        [
         null,
         "{\"user_id\": \"ff3f9bdd-d0a3-4d28-b151-454d5e88546b\", \"platform\": \"other\", \"event_id\": \"41f9b0c6-bb8f-402f-8149-1546d013f5df\", \"event_date\": 1701321370, \"action\": \"view\", \"uri\": \"https://databricks.com/appterms.htm\"}",
         "dbdemos-sessions",
         4,
         16376439,
         "2023-11-30T05:16:15.927Z",
         0
        ],
        [
         null,
         "{\"user_id\": \"c5d9d13b-3de4-4750-a7ff-c642e55c606e\", \"platform\": \"other\", \"event_id\": \"cd3832d0-6b0d-458e-a521-9094ff074988\", \"event_date\": 1701321376, \"action\": \"view\", \"uri\": \"https://databricks.com/categoriessearch.php\"}",
         "dbdemos-sessions",
         4,
         16376440,
         "2023-11-30T05:16:15.934Z",
         0
        ],
        [
         null,
         "{\"user_id\": \"b5f792ab-766c-4aa2-86d8-02a7e7abcfc0\", \"platform\": \"other\", \"event_id\": \"35cd9c1c-0f88-4f45-9e5d-91fe3e9dbd47\", \"event_date\": 1701321374, \"action\": \"view\", \"uri\": \"https://databricks.com/search/wp-contentmain.htm\"}",
         "dbdemos-sessions",
         4,
         16376441,
         "2023-11-30T05:16:15.934Z",
         0
        ],
        [
         null,
         "{\"user_id\": \"3605ab4e-d224-4328-8ab1-621800f13d58\", \"platform\": \"other\", \"event_id\": \"f576e2cc-ad17-436e-9312-aea023016b36\", \"event_date\": 1701321376, \"action\": \"click\", \"uri\": \"https://databricks.com/app/searchhome.php\"}",
         "dbdemos-sessions",
         4,
         16376442,
         "2023-11-30T05:16:15.937Z",
         0
        ],
        [
         null,
         "{\"user_id\": \"c74ac38e-0a9b-4785-9a27-09d1d694e40c\", \"platform\": \"ios\", \"event_id\": \"27f2e772-effd-4372-b3d1-4dfb8c852a72\", \"event_date\": 1701321372, \"action\": \"click\", \"uri\": \"https://databricks.com/wp-content/main/exploresearch.htm\"}",
         "dbdemos-sessions",
         4,
         16376443,
         "2023-11-30T05:16:16.944Z",
         0
        ],
        [
         null,
         "{\"user_id\": \"c1923944-ddfe-4ee3-a9da-be94482fa973\", \"platform\": \"ios\", \"event_id\": \"268cccba-398e-4392-8b7e-fafcd30ce051\", \"event_date\": 1701321373, \"action\": \"view\", \"uri\": \"https://databricks.com/tagprivacy.asp\"}",
         "dbdemos-sessions",
         4,
         16376444,
         "2023-11-30T05:16:16.945Z",
         0
        ],
        [
         null,
         "{\"user_id\": \"301ed5d3-8d3d-4e1e-96da-0043610a5c98\", \"platform\": \"ios\", \"event_id\": \"798eff9e-8721-48f1-ad51-a30f40aabd46\", \"event_date\": 1701321372, \"action\": \"view\", \"uri\": \"https://databricks.com/main/appauthor.php\"}",
         "dbdemos-sessions",
         4,
         16376445,
         "2023-11-30T05:16:16.945Z",
         0
        ],
        [
         null,
         "{\"user_id\": \"d1c224cb-6273-49ed-b7d4-557da425f733\", \"platform\": \"ios\", \"event_id\": \"a3baaa4c-e63c-4c4d-908a-df61306d1e90\", \"event_date\": 1701321372, \"action\": \"log\", \"uri\": \"https://databricks.com/mainsearch.htm\"}",
         "dbdemos-sessions",
         4,
         16376446,
         "2023-11-30T05:16:16.951Z",
         0
        ],
        [
         null,
         "{\"user_id\": \"6aec17d6-db8f-48ff-b00d-b1c5dcd16b71\", \"platform\": \"ios\", \"event_id\": \"6491f66f-fc5e-4794-aa81-d3730456c63c\", \"event_date\": 1701321376, \"action\": \"click\", \"uri\": \"https://databricks.com/searchterms.htm\"}",
         "dbdemos-sessions",
         4,
         16376447,
         "2023-11-30T05:16:16.952Z",
         0
        ],
        [
         null,
         "{\"user_id\": \"2a284ec7-9875-4c46-a431-bc41aef3bb00\", \"platform\": \"ios\", \"event_id\": \"bec6862c-6d24-4edd-ae42-f013f1f12d77\", \"event_date\": 1701321374, \"action\": \"view\", \"uri\": \"https://databricks.com/category/blog/categoryterms.html\"}",
         "dbdemos-sessions",
         4,
         16376448,
         "2023-11-30T05:16:17.958Z",
         0
        ],
        [
         null,
         "{\"user_id\": \"455ca8a1-18bd-409f-b257-5a298fb5a5a9\", \"platform\": \"ios\", \"event_id\": \"d83c6b47-bf25-4d62-9577-cba5da5dec8e\", \"event_date\": 1701321376, \"action\": \"click\", \"uri\": \"https://databricks.com/list/list/blogfaq.htm\"}",
         "dbdemos-sessions",
         4,
         16376449,
         "2023-11-30T05:16:17.964Z",
         0
        ],
        [
         null,
         "{\"user_id\": \"d7f839c5-24fb-4c78-a643-9dfea1fcabad\", \"platform\": \"ios\", \"event_id\": \"21c383cf-d4c4-4706-9f24-d79c07c09e14\", \"event_date\": 1701321380, \"action\": \"click\", \"uri\": \"https://databricks.com/category/posts/wp-contenthomepage.asp\"}",
         "dbdemos-sessions",
         4,
         16376450,
         "2023-11-30T05:16:17.964Z",
         0
        ],
        [
         null,
         "{\"user_id\": \"e28b5e01-ff82-4179-ac64-5507cfedf9b6\", \"platform\": \"ios\", \"event_id\": \"3b411bc7-dd3b-4cc7-989d-1263b27c5a91\", \"event_date\": 1701321375, \"action\": \"click\", \"uri\": \"https://databricks.com/categoriesprivacy.html\"}",
         "dbdemos-sessions",
         4,
         16376451,
         "2023-11-30T05:16:17.965Z",
         0
        ],
        [
         null,
         "{\"user_id\": \"f5bb0598-15cc-4ded-8192-0bd8262a8941\", \"platform\": \"android\", \"event_id\": \"cb0c51e8-ff09-4ee3-9b67-b6fc8d555414\", \"event_date\": 1701321380, \"action\": \"click\", \"uri\": \"https://databricks.com/posts/postsauthor.php\"}",
         "dbdemos-sessions",
         4,
         16376452,
         "2023-11-30T05:16:19.987Z",
         0
        ],
        [
         null,
         "{\"user_id\": \"5f65957e-6cad-4b66-9409-8b1d877f227f\", \"platform\": \"android\", \"event_id\": \"a82e0be2-4fff-4f2b-99f1-91aee41cab07\", \"event_date\": 1701321382, \"action\": \"view\", \"uri\": \"https://databricks.com/category/search/postsprivacy.htm\"}",
         "dbdemos-sessions",
         4,
         16376453,
         "2023-11-30T05:16:19.991Z",
         0
        ],
        [
         null,
         "{\"user_id\": \"1aa3a739-ede2-426f-873d-9f6a4ebcc7f5\", \"platform\": \"ios\", \"event_id\": \"72392fe8-59da-4e35-a6c8-a2a617583d96\", \"event_date\": 1701321382, \"action\": \"click\", \"uri\": \"https://databricks.com/tagsprivacy.php\"}",
         "dbdemos-sessions",
         4,
         16376454,
         "2023-11-30T05:16:19.992Z",
         0
        ],
        [
         null,
         "{\"user_id\": \"1983f70f-77a9-4412-a898-1c7e3312d2af\", \"platform\": \"ios\", \"event_id\": \"d01f1d9d-6e8b-49a0-a042-cd4031b187be\", \"event_date\": 1701321343, \"action\": \"click\", \"uri\": \"https://databricks.com/poststerms.php\"}",
         "dbdemos-sessions",
         4,
         16376387,
         "2023-11-30T05:15:40.403Z",
         0
        ],
        [
         null,
         "{\"user_id\": \"6bf1f604-3544-45c9-93a5-180b78652be1\", \"platform\": \"other\", \"event_id\": \"d3e0199f-52ab-4cee-8aee-bfdeef96970c\", \"event_date\": 1701321342, \"action\": \"click\", \"uri\": \"https://databricks.com/tag/category/postspost.htm\"}",
         "dbdemos-sessions",
         4,
         16376388,
         "2023-11-30T05:15:42.416Z",
         0
        ],
        [
         null,
         "{\"user_id\": \"c74ac38e-0a9b-4785-9a27-09d1d694e40c\", \"platform\": \"ios\", \"event_id\": \"d8b244bc-debe-401f-8de3-f7ec5b8830dc\", \"event_date\": 1701321338, \"action\": \"view\", \"uri\": \"https://databricks.com/main/blogcategory.html\"}",
         "dbdemos-sessions",
         4,
         16376389,
         "2023-11-30T05:15:42.419Z",
         0
        ],
        [
         null,
         "{\"user_id\": \"d6b698c1-d982-4afd-913f-a4ba28177397\", \"platform\": \"ios\", \"event_id\": \"d40a7861-5e52-40e1-81ff-3ac9233ebdcf\", \"event_date\": 1701321343, \"action\": \"view\", \"uri\": \"https://databricks.com/search/wp-contenthomepage.htm\"}",
         "dbdemos-sessions",
         4,
         16376390,
         "2023-11-30T05:15:43.432Z",
         0
        ],
        [
         null,
         "{\"user_id\": \"18713496-a98e-49a4-ab88-9f029f18b4c5\", \"platform\": \"ios\", \"event_id\": \"30688731-fc2f-4d8e-a36a-dad68ccc3785\", \"event_date\": 1701321342, \"action\": \"click\", \"uri\": \"https://databricks.com/tags/main/tagsauthor.asp\"}",
         "dbdemos-sessions",
         4,
         16376391,
         "2023-11-30T05:15:44.441Z",
         0
        ],
        [
         null,
         "{\"user_id\": \"d67456b2-03ee-4375-8fea-94aa6a87c4d8\", \"platform\": \"ios\", \"event_id\": \"fb4db472-6587-4846-9b28-268cea50375a\", \"event_date\": 1701321344, \"action\": \"click\", \"uri\": \"https://databricks.com/posts/appmain.html\"}",
         "dbdemos-sessions",
         4,
         16376392,
         "2023-11-30T05:15:46.466Z",
         0
        ],
        [
         null,
         "{\"user_id\": \"3156d251-7429-4b23-9101-59f0209cddf8\", \"platform\": \"ios\", \"event_id\": \"42de116a-4707-4557-86ed-44634e34d5cd\", \"event_date\": 1701321346, \"action\": \"log\", \"uri\": \"https://databricks.com/maincategory.php\"}",
         "dbdemos-sessions",
         4,
         16376393,
         "2023-11-30T05:15:46.466Z",
         0
        ],
        [
         null,
         "{\"user_id\": \"c6520f02-c12e-4be1-bb5d-e86400691485\", \"platform\": \"android\", \"event_id\": \"6a4ed07c-8b43-4686-8836-7cb914e0a41b\", \"event_date\": 1701321343, \"action\": \"click\", \"uri\": \"https://databricks.com/tag/categoriescategory.asp\"}",
         "dbdemos-sessions",
         4,
         16376394,
         "2023-11-30T05:15:47.471Z",
         0
        ],
        [
         null,
         "{\"user_id\": \"f5bb0598-15cc-4ded-8192-0bd8262a8941\", \"platform\": \"ios\", \"event_id\": \"5332a16a-a437-4d78-8f58-b5db771d7be9\", \"event_date\": 1701321347, \"action\": \"view\", \"uri\": \"https://databricks.com/list/categoryhome.htm\"}",
         "dbdemos-sessions",
         4,
         16376395,
         "2023-11-30T05:15:47.484Z",
         0
        ],
        [
         null,
         "{\"user_id\": \"c6520f02-c12e-4be1-bb5d-e86400691485\", \"platform\": \"ios\", \"event_id\": \"eed0d679-32cd-492a-a3f6-4777a8cc628e\", \"event_date\": 1701321350, \"action\": \"view\", \"uri\": \"https://databricks.com/blog/tags/blogsearch.asp\"}",
         "dbdemos-sessions",
         4,
         16376396,
         "2023-11-30T05:15:48.489Z",
         0
        ],
        [
         null,
         "{\"user_id\": \"c0cc8056-d05b-4d33-9c43-a575021a62a8\", \"platform\": \"android\", \"event_id\": \"61dee821-7569-4b55-98a0-57c91f0e4c30\", \"event_date\": 1701321348, \"action\": \"view\", \"uri\": \"https://databricks.com/exploreindex.jsp\"}",
         "dbdemos-sessions",
         4,
         16376397,
         "2023-11-30T05:15:48.489Z",
         0
        ],
        [
         null,
         "{\"user_id\": \"426ccd91-2409-4b5d-83e9-d582f552985e\", \"platform\": \"ios\", \"event_id\": \"8155e9e9-caa6-4b07-b710-b4edf4f367ce\", \"event_date\": 1701321344, \"action\": \"view\", \"uri\": \"https://databricks.com/searchmain.htm\"}",
         "dbdemos-sessions",
         4,
         16376398,
         "2023-11-30T05:15:48.495Z",
         0
        ],
        [
         null,
         "{\"user_id\": \"d278a0e6-7c83-43e8-a0b4-db949eca8412\", \"platform\": \"ios\", \"event_id\": \"66ee05f5-a103-4d77-aaeb-a7e4852e320f\", \"event_date\": 1701321349, \"action\": \"log\", \"uri\": \"https://databricks.com/appcategory.php\"}",
         "dbdemos-sessions",
         4,
         16376399,
         "2023-11-30T05:15:48.497Z",
         0
        ],
        [
         null,
         "{\"user_id\": \"a1410f93-0184-4aca-9c43-c686a605a5f6\", \"platform\": \"android\", \"event_id\": \"5ab3a511-8511-4428-a6e4-8780823b38b0\", \"event_date\": 1701321351, \"action\": \"view\", \"uri\": \"https://databricks.com/blog/wp-contentauthor.htm\"}",
         "dbdemos-sessions",
         4,
         16376400,
         "2023-11-30T05:15:49.502Z",
         0
        ],
        [
         null,
         "{\"user_id\": \"af86d48a-b571-4050-acbc-145b24579671\", \"platform\": \"ios\", \"event_id\": \"3705938e-06f2-4ce4-ab19-2c860e7643d8\", \"event_date\": 1701321352, \"action\": \"click\", \"uri\": \"https://databricks.com/category/tagssearch.asp\"}",
         "dbdemos-sessions",
         4,
         16376401,
         "2023-11-30T05:15:49.503Z",
         0
        ],
        [
         null,
         "{\"user_id\": \"94ba5e9c-d1c8-4837-8c7f-e3e20d6a180e\", \"platform\": \"other\", \"event_id\": \"51c16bce-2a68-4306-8ab0-f695925b0a25\", \"event_date\": 1701321347, \"action\": \"log\", \"uri\": \"https://databricks.com/category/category/categoryhome.php\"}",
         "dbdemos-sessions",
         4,
         16376402,
         "2023-11-30T05:15:51.523Z",
         0
        ],
        [
         null,
         "{\"user_id\": \"82096dbb-07cd-45da-b6cc-57bc4ea01540\", \"platform\": \"other\", \"event_id\": \"27ab9dc5-cf75-4623-9b28-35df056e5314\", \"event_date\": 1701321355, \"action\": \"view\", \"uri\": \"https://databricks.com/main/appauthor.php\"}",
         "dbdemos-sessions",
         4,
         16376403,
         "2023-11-30T05:15:54.558Z",
         0
        ],
        [
         null,
         "{\"user_id\": \"e4e079a9-103e-464b-8b2f-b7d906066bad\", \"platform\": \"other\", \"event_id\": \"6c7e62c5-9bf5-43f1-8924-bc6d1c59c8f9\", \"event_date\": 1701321356, \"action\": \"view\", \"uri\": \"https://databricks.com/wp-content/categoryauthor.jsp\"}",
         "dbdemos-sessions",
         4,
         16376404,
         "2023-11-30T05:15:54.559Z",
         0
        ],
        [
         null,
         "{\"user_id\": \"1e7b7295-6965-4c14-ab59-388167c9baeb\", \"platform\": \"other\", \"event_id\": \"684a1a3c-3832-469a-a092-484b4ad6935a\", \"event_date\": 1701321357, \"action\": \"view\", \"uri\": \"https://databricks.com/blogindex.asp\"}",
         "dbdemos-sessions",
         4,
         16376405,
         "2023-11-30T05:15:54.561Z",
         0
        ],
        [
         null,
         "{\"user_id\": \"5b573c0b-32f7-4f2a-b49c-1e8989ddc2b1\", \"platform\": \"ios\", \"event_id\": \"94471c1a-ebbb-4dba-a6c6-3226d2257b94\", \"event_date\": 1701321351, \"action\": \"click\", \"uri\": \"https://databricks.com/search/app/mainindex.htm\"}",
         "dbdemos-sessions",
         4,
         16376406,
         "2023-11-30T05:15:54.567Z",
         0
        ],
        [
         null,
         "{\"user_id\": \"c6520f02-c12e-4be1-bb5d-e86400691485\", \"platform\": \"android\", \"event_id\": \"f4b127e8-2fed-42bb-af3d-45888fcb937c\", \"event_date\": 1701321359, \"action\": \"click\", \"uri\": \"https://databricks.com/app/wp-contenthome.php\"}",
         "dbdemos-sessions",
         4,
         16376407,
         "2023-11-30T05:15:56.587Z",
         0
        ],
        [
         null,
         "{\"user_id\": \"7354e19a-6b74-4581-9278-7d2a1fa506d2\", \"platform\": \"android\", \"event_id\": \"4ff1ffe9-ca36-4b31-a7ca-5995255c9c39\", \"event_date\": 1701321359, \"action\": \"view\", \"uri\": \"https://databricks.com/categories/list/tagshome.asp\"}",
         "dbdemos-sessions",
         4,
         16376408,
         "2023-11-30T05:15:56.592Z",
         0
        ],
        [
         null,
         "{\"user_id\": \"2a284ec7-9875-4c46-a431-bc41aef3bb00\", \"platform\": \"other\", \"event_id\": \"ffb994ef-fc14-460c-be04-3fb8d6500048\", \"event_date\": 1701321353, \"action\": \"log\", \"uri\": \"https://databricks.com/list/wp-content/wp-contentindex.html\"}",
         "dbdemos-sessions",
         4,
         16376409,
         "2023-11-30T05:15:56.595Z",
         0
        ],
        [
         null,
         "{\"user_id\": \"8f2385f0-f59d-4ebc-ac67-d3d5427e9a95\", \"platform\": \"ios\", \"event_id\": \"9e3803b3-0aec-41b2-b7d6-623be09de2c3\", \"event_date\": 1701321356, \"action\": \"view\", \"uri\": \"https://databricks.com/posts/appmain.htm\"}",
         "dbdemos-sessions",
         4,
         16376410,
         "2023-11-30T05:15:59.644Z",
         0
        ],
        [
         null,
         "{\"user_id\": \"4f31815d-ad8f-4b3e-9ef3-d7b80e4bf770\", \"platform\": \"other\", \"event_id\": \"b59a58ef-049a-4d2e-9235-2f54d237b625\", \"event_date\": 1701321363, \"action\": \"log\", \"uri\": \"https://databricks.com/blog/listlogin.jsp\"}",
         "dbdemos-sessions",
         4,
         16376411,
         "2023-11-30T05:15:59.652Z",
         0
        ],
        [
         null,
         "{\"user_id\": \"8f2385f0-f59d-4ebc-ac67-d3d5427e9a95\", \"platform\": \"ios\", \"event_id\": \"38d6ba74-ee41-4a26-8b04-4894b4baf9c6\", \"event_date\": 1701321358, \"action\": \"click\", \"uri\": \"https://databricks.com/app/wp-contentlogin.html\"}",
         "dbdemos-sessions",
         4,
         16376412,
         "2023-11-30T05:16:00.662Z",
         0
        ],
        [
         null,
         "{\"user_id\": \"c6520f02-c12e-4be1-bb5d-e86400691485\", \"platform\": \"ios\", \"event_id\": \"37c5df92-92bc-46fb-b62d-b3a12aef0742\", \"event_date\": 1701321342, \"action\": \"click\", \"uri\": \"https://databricks.com/explore/postsindex.htm\"}",
         "dbdemos-sessions",
         1,
         16369408,
         "2023-11-30T05:15:41.407Z",
         0
        ],
        [
         null,
         "{\"user_id\": \"66fe7dd1-8f19-470c-b4b8-be75c4793e76\", \"platform\": \"other\", \"event_id\": \"6bb89129-8079-4ea2-a5d5-6c180ef71b31\", \"event_date\": 1701321343, \"action\": \"click\", \"uri\": \"https://databricks.com/explore/searchregister.htm\"}",
         "dbdemos-sessions",
         1,
         16369409,
         "2023-11-30T05:15:41.41Z",
         0
        ],
        [
         null,
         "{\"user_id\": \"8c78e34e-0201-4757-a82a-fa0d9f70beda\", \"platform\": \"ios\", \"event_id\": \"18ccbf85-8ee6-4b00-8c5c-4b6f9c0ea4f9\", \"event_date\": 1701321338, \"action\": \"log\", \"uri\": \"https://databricks.com/searchmain.jsp\"}",
         "dbdemos-sessions",
         1,
         16369410,
         "2023-11-30T05:15:41.411Z",
         0
        ],
        [
         null,
         "{\"user_id\": \"1983f70f-77a9-4412-a898-1c7e3312d2af\", \"platform\": \"ios\", \"event_id\": \"4a930475-13b9-4896-a32f-bdf6c4358366\", \"event_date\": 1701321343, \"action\": \"view\", \"uri\": \"https://databricks.com/explore/exploreterms.htm\"}",
         "dbdemos-sessions",
         1,
         16369411,
         "2023-11-30T05:15:43.421Z",
         0
        ],
        [
         null,
         "{\"user_id\": \"1e7b7295-6965-4c14-ab59-388167c9baeb\", \"platform\": \"other\", \"event_id\": \"51542c94-b5c3-4eae-890c-8c2da9b6100e\", \"event_date\": 1701321347, \"action\": \"view\", \"uri\": \"https://databricks.com/blog/tags/searchsearch.htm\"}",
         "dbdemos-sessions",
         1,
         16369412,
         "2023-11-30T05:15:43.423Z",
         0
        ],
        [
         null,
         "{\"user_id\": \"89266034-ab6f-4298-a4f2-26ee888d009a\", \"platform\": \"other\", \"event_id\": \"b98bbb91-dc65-48a5-8d98-8f13450b9c20\", \"event_date\": 1701321339, \"action\": \"log\", \"uri\": \"https://databricks.com/category/main/categorymain.htm\"}",
         "dbdemos-sessions",
         1,
         16369413,
         "2023-11-30T05:15:43.426Z",
         0
        ],
        [
         null,
         "{\"user_id\": \"d78e2c84-3acd-4c26-a603-415b76c598ea\", \"platform\": \"ios\", \"event_id\": \"e94c84e6-3b8f-409e-a202-19149c29f347\", \"event_date\": 1701321341, \"action\": \"view\", \"uri\": \"https://databricks.com/posts/posts/searchcategory.html\"}",
         "dbdemos-sessions",
         1,
         16369414,
         "2023-11-30T05:15:44.438Z",
         0
        ],
        [
         null,
         "{\"user_id\": \"18713496-a98e-49a4-ab88-9f029f18b4c5\", \"platform\": \"ios\", \"event_id\": \"a6fc08ea-90ae-4fb1-a72a-96393e72c784\", \"event_date\": 1701321341, \"action\": \"click\", \"uri\": \"https://databricks.com/app/wp-content/categoryhomepage.html\"}",
         "dbdemos-sessions",
         1,
         16369415,
         "2023-11-30T05:15:46.466Z",
         0
        ],
        [
         null,
         "{\"user_id\": \"0258e062-93d5-47ae-bf8f-5e946b856f1a\", \"platform\": \"ios\", \"event_id\": \"8aca22ac-f7ba-4058-8564-c54831d3c914\", \"event_date\": 1701321344, \"action\": \"view\", \"uri\": \"https://databricks.com/categoriesfaq.htm\"}",
         "dbdemos-sessions",
         1,
         16369416,
         "2023-11-30T05:15:46.468Z",
         0
        ],
        [
         null,
         "{\"user_id\": \"4f9a4975-58ad-4063-be2c-d7fafb9f9072\", \"platform\": \"ios\", \"event_id\": \"29b360d5-ae85-430f-965b-b95fea0b4d32\", \"event_date\": 1701321347, \"action\": \"view\", \"uri\": \"https://databricks.com/blog/explore/searchsearch.php\"}",
         "dbdemos-sessions",
         1,
         16369417,
         "2023-11-30T05:15:49.501Z",
         0
        ],
        [
         null,
         "{\"user_id\": \"c1923944-ddfe-4ee3-a9da-be94482fa973\", \"platform\": \"other\", \"event_id\": \"6999bf8e-4497-405a-99fd-d92b4390b983\", \"event_date\": 1701321351, \"action\": \"view\", \"uri\": \"https://databricks.com/mainhomepage.htm\"}",
         "dbdemos-sessions",
         1,
         16369418,
         "2023-11-30T05:15:49.504Z",
         0
        ],
        [
         null,
         "{\"user_id\": \"cdf5504b-598d-4c9e-aa2c-01d320d7a397\", \"platform\": \"other\", \"event_id\": \"d2547da3-4d34-4012-bef0-474fedb52f61\", \"event_date\": 1701321351, \"action\": null, \"uri\": \"https://databricks.com/categories/category/appregister.php\"}",
         "dbdemos-sessions",
         1,
         16369419,
         "2023-11-30T05:15:51.528Z",
         0
        ],
        [
         null,
         "{\"user_id\": \"954c2940-2415-4618-89e3-8f4147680ac1\", \"platform\": \"ios\", \"event_id\": \"2c1b68bc-6477-4071-a9ec-951fe43010eb\", \"event_date\": 1701321349, \"action\": \"click\", \"uri\": \"https://databricks.com/category/postsmain.htm\"}",
         "dbdemos-sessions",
         1,
         16369420,
         "2023-11-30T05:15:51.53Z",
         0
        ],
        [
         null,
         "{\"user_id\": \"3156d251-7429-4b23-9101-59f0209cddf8\", \"platform\": \"ios\", \"event_id\": \"63e7652a-ce21-404c-af4f-521e1f70ac0e\", \"event_date\": 1701321348, \"action\": \"view\", \"uri\": \"https://databricks.com/blog/tagsterms.jsp\"}",
         "dbdemos-sessions",
         1,
         16369421,
         "2023-11-30T05:15:52.535Z",
         0
        ],
        [
         null,
         "{\"user_id\": \"88019c0c-6cb1-4e46-a3ea-97661d159ba5\", \"platform\": \"ios\", \"event_id\": \"d04c637d-4942-429f-9bed-585e0aec485e\", \"event_date\": 1701321349, \"action\": \"view\", \"uri\": \"https://databricks.com/posts/wp-content/categoriesterms.php\"}",
         "dbdemos-sessions",
         1,
         16369422,
         "2023-11-30T05:15:52.538Z",
         0
        ],
        [
         null,
         "{\"user_id\": \"fa31e0c0-f1fa-432f-b6ae-5bf2146cca06\", \"platform\": \"other\", \"event_id\": \"4a0605d9-1a1f-4303-b63c-cb724b54467f\", \"event_date\": 1701321354, \"action\": \"log\", \"uri\": \"https://databricks.com/list/tags/searchcategory.html\"}",
         "dbdemos-sessions",
         1,
         16369423,
         "2023-11-30T05:15:53.551Z",
         0
        ],
        [
         null,
         "{\"user_id\": \"96d32b6c-fb2a-48a1-aea2-2e1df5de0234\", \"platform\": \"other\", \"event_id\": \"6dfa2701-bb38-42aa-b9b4-40f25fb5c6d3\", \"event_date\": 1701321351, \"action\": \"click\", \"uri\": \"https://databricks.com/explore/tagspost.html\"}",
         "dbdemos-sessions",
         1,
         16369424,
         "2023-11-30T05:15:53.553Z",
         0
        ],
        [
         null,
         "{\"user_id\": \"3156d251-7429-4b23-9101-59f0209cddf8\", \"platform\": \"ios\", \"event_id\": \"b5768f6f-0f5a-4439-b71a-86dc4ab28a7c\", \"event_date\": 1701321358, \"action\": \"view\", \"uri\": \"https://databricks.com/list/blog/postsindex.php\"}",
         "dbdemos-sessions",
         1,
         16369425,
         "2023-11-30T05:15:54.559Z",
         0
        ],
        [
         null,
         "{\"user_id\": \"c1923944-ddfe-4ee3-a9da-be94482fa973\", \"platform\": \"other\", \"event_id\": \"e7fa47f3-40c0-425c-82cd-4594dc41cff8\", \"event_date\": 1701321357, \"action\": \"view\", \"uri\": \"https://databricks.com/postslogin.jsp\"}",
         "dbdemos-sessions",
         1,
         16369426,
         "2023-11-30T05:15:54.564Z",
         0
        ],
        [
         null,
         "{\"user_id\": \"604ae75c-5537-43da-bd92-5a235a891266\", \"platform\": \"ios\", \"event_id\": \"80744de5-916c-4adb-9a09-80caf43a482a\", \"event_date\": 1701321357, \"action\": \"view\", \"uri\": \"https://databricks.com/wp-contentregister.php\"}",
         "dbdemos-sessions",
         1,
         16369427,
         "2023-11-30T05:15:55.58Z",
         0
        ],
        [
         null,
         "{\"user_id\": \"1983f70f-77a9-4412-a898-1c7e3312d2af\", \"platform\": \"other\", \"event_id\": \"792e0b63-b63b-4125-961f-3de83c43f4c0\", \"event_date\": 1701321360, \"action\": \"view\", \"uri\": \"https://databricks.com/taghome.asp\"}",
         "dbdemos-sessions",
         1,
         16369428,
         "2023-11-30T05:15:56.589Z",
         0
        ],
        [
         null,
         "{\"user_id\": \"88019c0c-6cb1-4e46-a3ea-97661d159ba5\", \"platform\": \"ios\", \"event_id\": \"83483f63-559d-498b-a473-44e23493d8b7\", \"event_date\": 1701321356, \"action\": \"view\", \"uri\": \"https://databricks.com/explore/category/explorepost.htm\"}",
         "dbdemos-sessions",
         1,
         16369429,
         "2023-11-30T05:15:56.593Z",
         0
        ],
        [
         null,
         "{\"user_id\": \"69eb7a1d-ef3a-4d1e-868d-a4a145cb3de5\", \"platform\": \"ios\", \"event_id\": null, \"event_date\": 1701321359, \"action\": \"view\", \"uri\": \"https://databricks.com/tag/wp-content/explorelogin.html\"}",
         "dbdemos-sessions",
         1,
         16369430,
         "2023-11-30T05:15:57.602Z",
         0
        ],
        [
         null,
         "{\"user_id\": \"5e349b64-9ae8-4bf6-919b-33890e3444fb\", \"platform\": \"other\", \"event_id\": \"27be698a-ce51-413e-a3e7-a5eae654e848\", \"event_date\": 1701321352, \"action\": \"click\", \"uri\": \"https://databricks.com/explore/main/mainfaq.asp\"}",
         "dbdemos-sessions",
         1,
         16369431,
         "2023-11-30T05:15:57.603Z",
         0
        ],
        [
         null,
         "{\"user_id\": \"8e47e6d7-ef56-45ef-9779-3eb3fbb427f4\", \"platform\": \"ios\", \"event_id\": \"758d9e15-8d48-453b-88a1-7e093ae638f9\", \"event_date\": 1701321357, \"action\": \"view\", \"uri\": \"https://databricks.com/categories/postshome.php\"}",
         "dbdemos-sessions",
         1,
         16369432,
         "2023-11-30T05:15:58.615Z",
         0
        ],
        [
         null,
         "{\"user_id\": \"54371530-b4ba-4a28-9f12-2bc87205aded\", \"platform\": \"ios\", \"event_id\": \"27b76269-27b1-4bd3-9b68-8c64fde9804e\", \"event_date\": 1701321354, \"action\": \"click\", \"uri\": \"https://databricks.com/categories/appauthor.php\"}",
         "dbdemos-sessions",
         1,
         16369433,
         "2023-11-30T05:15:58.616Z",
         0
        ],
        [
         null,
         "{\"user_id\": \"de0d7892-d459-42e9-9476-87884e4b2734\", \"platform\": \"ios\", \"event_id\": \"d0f5cf93-04d6-4d89-9305-283812852245\", \"event_date\": 1701321356, \"action\": \"log\", \"uri\": \"https://databricks.com/posts/categoriescategory.asp\"}",
         "dbdemos-sessions",
         1,
         16369434,
         "2023-11-30T05:16:01.67Z",
         0
        ],
        [
         null,
         "{\"user_id\": \"af86d48a-b571-4050-acbc-145b24579671\", \"platform\": \"ios\", \"event_id\": \"9791fa99-8c48-4808-beea-eec31007df08\", \"event_date\": 1701321359, \"action\": \"view\", \"uri\": \"https://databricks.com/tagshome.php\"}",
         "dbdemos-sessions",
         1,
         16369435,
         "2023-11-30T05:16:01.686Z",
         0
        ],
        [
         null,
         "{\"user_id\": \"40e8d981-8436-4139-9da7-4e0a71be1874\", \"platform\": \"ios\", \"event_id\": \"a4341162-01b4-4524-8384-e23dfe6a326f\", \"event_date\": 1701321358, \"action\": \"view\", \"uri\": \"https://databricks.com/searchprivacy.php\"}",
         "dbdemos-sessions",
         1,
         16369436,
         "2023-11-30T05:16:01.69Z",
         0
        ],
        [
         null,
         "{\"user_id\": \"d6b698c1-d982-4afd-913f-a4ba28177397\", \"platform\": \"android\", \"event_id\": \"e175974a-3b20-49be-a922-166e7296c943\", \"event_date\": 1701321356, \"action\": \"view\", \"uri\": \"https://databricks.com/tagsregister.html\"}",
         "dbdemos-sessions",
         1,
         16369437,
         "2023-11-30T05:16:01.697Z",
         0
        ],
        [
         null,
         "{\"user_id\": \"4861923d-8618-4684-9212-0e380364e29e\", \"platform\": \"ios\", \"event_id\": \"664e2129-7911-49eb-8956-969fe0119e7d\", \"event_date\": 1701321358, \"action\": \"click\", \"uri\": \"https://databricks.com/exploresearch.jsp\"}",
         "dbdemos-sessions",
         1,
         16369438,
         "2023-11-30T05:16:01.698Z",
         0
        ],
        [
         null,
         "{\"user_id\": \"5c32df45-eda2-494d-abe8-f00782dd60c5\", \"platform\": \"ios\", \"event_id\": \"526dfb4e-8a22-4b05-98cf-4cd6f4d94b77\", \"event_date\": 1701321360, \"action\": \"log\", \"uri\": \"https://databricks.com/tags/appterms.html\"}",
         "dbdemos-sessions",
         1,
         16369439,
         "2023-11-30T05:16:01.707Z",
         0
        ],
        [
         null,
         "{\"user_id\": \"de0d7892-d459-42e9-9476-87884e4b2734\", \"platform\": \"ios\", \"event_id\": \"f2ebb359-bbfd-45ee-8237-4151797551dd\", \"event_date\": 1701321335, \"action\": \"view\", \"uri\": \"https://databricks.com/explore/list/postsregister.htm\"}",
         "dbdemos-sessions",
         3,
         16374425,
         "2023-11-30T05:15:40.401Z",
         0
        ],
        [
         null,
         "{\"user_id\": \"69eb7a1d-ef3a-4d1e-868d-a4a145cb3de5\", \"platform\": \"other\", \"event_id\": \"2bc01208-9904-48f9-b4b9-77f7f103fdaa\", \"event_date\": 1701321344, \"action\": \"view\", \"uri\": \"https://databricks.com/postsregister.asp\"}",
         "dbdemos-sessions",
         3,
         16374426,
         "2023-11-30T05:15:40.404Z",
         0
        ],
        [
         null,
         "{\"user_id\": \"7cd07a2d-d835-470d-a0c8-b3400c915ac7\", \"platform\": \"other\", \"event_id\": \"d6d8c1cb-a16a-4964-bed5-8f95f68e9fec\", \"event_date\": 1701321340, \"action\": \"view\", \"uri\": \"https://databricks.com/apphomepage.htm\"}",
         "dbdemos-sessions",
         3,
         16374427,
         "2023-11-30T05:15:41.408Z",
         0
        ],
        [
         null,
         "{\"user_id\": \"5374937a-2fa0-47af-a197-a01ef24a80ad\", \"platform\": \"ios\", \"event_id\": \"869ae34f-0b8c-4738-9ec2-18b043d409c5\", \"event_date\": 1701321339, \"action\": \"view\", \"uri\": \"https://databricks.com/category/main/categoryhomepage.asp\"}",
         "dbdemos-sessions",
         3,
         16374428,
         "2023-11-30T05:15:41.409Z",
         0
        ],
        [
         null,
         "{\"user_id\": \"d78e2c84-3acd-4c26-a603-415b76c598ea\", \"platform\": \"ios\", \"event_id\": \"e94c84e6-3b8f-409e-a202-19149c29f347\", \"event_date\": 1701321341, \"action\": \"view\", \"uri\": \"https://databricks.com/posts/posts/searchcategory.html\"}",
         "dbdemos-sessions",
         3,
         16374429,
         "2023-11-30T05:15:44.438Z",
         0
        ],
        [
         null,
         "{\"user_id\": \"6a4e890d-982b-46e1-b446-3688a723cdff\", \"platform\": \"other\", \"event_id\": \"033155d0-ec86-4fd1-8902-2d96167798c6\", \"event_date\": 1701321346, \"action\": \"view\", \"uri\": \"https://databricks.com/main/categorycategory.asp\"}",
         "dbdemos-sessions",
         3,
         16374430,
         "2023-11-30T05:15:44.439Z",
         0
        ],
        [
         null,
         "{\"user_id\": \"82096dbb-07cd-45da-b6cc-57bc4ea01540\", \"platform\": \"ios\", \"event_id\": \"b9709bc4-2402-4df2-a68d-4aaf8ba2933a\", \"event_date\": 1701321347, \"action\": \"click\", \"uri\": \"https://databricks.com/posts/tagsauthor.htm\"}",
         "dbdemos-sessions",
         3,
         16374431,
         "2023-11-30T05:15:44.439Z",
         0
        ],
        [
         null,
         "{\"user_id\": \"69eb7a1d-ef3a-4d1e-868d-a4a145cb3de5\", \"platform\": \"ios\", \"event_id\": \"a4f1e382-478e-4f33-9d7f-bc8ff8ff7a7c\", \"event_date\": 1701321347, \"action\": \"view\", \"uri\": \"https://databricks.com/category/wp-contentlogin.html\"}",
         "dbdemos-sessions",
         3,
         16374432,
         "2023-11-30T05:15:44.444Z",
         0
        ],
        [
         null,
         "{\"user_id\": \"50e32c77-ce88-45b4-9b25-7c747615596b\", \"platform\": \"ios\", \"event_id\": \"0b2ccb3f-d421-46f4-952a-42022761fb08\", \"event_date\": 1701321349, \"action\": \"view\", \"uri\": \"https://databricks.com/blog/posts/tagslogin.htm\"}",
         "dbdemos-sessions",
         3,
         16374433,
         "2023-11-30T05:15:45.458Z",
         0
        ],
        [
         null,
         "{\"user_id\": \"02252ba9-e8f2-43b7-903a-5ada8fa4177d\", \"platform\": \"ios\", \"event_id\": \"e1da97b3-5774-4ee6-a95b-93a0c133e32b\", \"event_date\": 1701321349, \"action\": \"view\", \"uri\": \"https://databricks.com/categorymain.htm\"}",
         "dbdemos-sessions",
         3,
         16374434,
         "2023-11-30T05:15:47.477Z",
         0
        ],
        [
         null,
         "{\"user_id\": \"f044d5b8-0357-44e1-b9cf-40ba0512eeb0\", \"platform\": \"ios\", \"event_id\": \"6bf66584-abfa-4b1c-a82f-340565cc3a12\", \"event_date\": 1701321352, \"action\": \"view\", \"uri\": \"https://databricks.com/app/category/wp-contentregister.php\"}",
         "dbdemos-sessions",
         3,
         16374435,
         "2023-11-30T05:15:48.493Z",
         0
        ],
        [
         null,
         "{\"user_id\": \"d469e072-41ae-4497-b541-de287868682f\", \"platform\": \"android\", \"event_id\": \"04d70a4f-2d5a-4066-be0d-31ae289ef036\", \"event_date\": 1701321348, \"action\": \"view\", \"uri\": \"https://databricks.com/categories/categories/wp-contentsearch.html\"}",
         "dbdemos-sessions",
         3,
         16374436,
         "2023-11-30T05:15:49.499Z",
         0
        ],
        [
         null,
         "{\"user_id\": \"e15dc6e5-71f6-4656-a091-a0f96dd2dd35\", \"platform\": \"ios\", \"event_id\": \"0ea27f89-3e36-42d2-a922-01a4570aeded\", \"event_date\": 1701321345, \"action\": \"view\", \"uri\": \"https://databricks.com/blog/blog/categorysearch.html\"}",
         "dbdemos-sessions",
         3,
         16374437,
         "2023-11-30T05:15:50.519Z",
         0
        ],
        [
         null,
         "{\"user_id\": \"18713496-a98e-49a4-ab88-9f029f18b4c5\", \"platform\": \"other\", \"event_id\": \"396f6fe1-812e-4d17-a35c-c78a910bd6f8\", \"event_date\": 1701321354, \"action\": \"click\", \"uri\": \"https://databricks.com/tags/blog/postshomepage.htm\"}",
         "dbdemos-sessions",
         3,
         16374438,
         "2023-11-30T05:15:51.526Z",
         0
        ],
        [
         null,
         "{\"user_id\": \"f044d5b8-0357-44e1-b9cf-40ba0512eeb0\", \"platform\": \"ios\", \"event_id\": \"baae8ccc-f716-49cc-a49a-32d9c18b4dfa\", \"event_date\": 1701321348, \"action\": \"click\", \"uri\": \"https://databricks.com/posts/listterms.php\"}",
         "dbdemos-sessions",
         3,
         16374439,
         "2023-11-30T05:15:51.529Z",
         0
        ],
        [
         null,
         "{\"user_id\": \"604ae75c-5537-43da-bd92-5a235a891266\", \"platform\": \"ios\", \"event_id\": null, \"event_date\": 1701321354, \"action\": \"click\", \"uri\": \"https://databricks.com/categories/posts/categorycategory.html\"}",
         "dbdemos-sessions",
         3,
         16374440,
         "2023-11-30T05:15:51.531Z",
         0
        ],
        [
         null,
         "{\"user_id\": \"e27de5d1-1203-41d9-aaed-8521b4a5a4f3\", \"platform\": \"ios\", \"event_id\": \"09d20d86-a83f-4602-b0dd-a043d3b6350f\", \"event_date\": 1701321348, \"action\": \"log\", \"uri\": \"https://databricks.com/category/mainpost.php\"}",
         "dbdemos-sessions",
         3,
         16374441,
         "2023-11-30T05:15:53.546Z",
         0
        ],
        [
         null,
         "{\"user_id\": \"954c2940-2415-4618-89e3-8f4147680ac1\", \"platform\": \"ios\", \"event_id\": \"bdfd9dbe-adef-4dde-a951-1886c17005a3\", \"event_date\": 1701321352, \"action\": \"view\", \"uri\": \"https://databricks.com/tagabout.htm\"}",
         "dbdemos-sessions",
         3,
         16374442,
         "2023-11-30T05:15:54.563Z",
         0
        ],
        [
         null,
         "{\"user_id\": \"174669fd-183b-461e-9633-ceacc9d3e277\", \"platform\": \"other\", \"event_id\": \"4225b606-fe84-414f-a6f3-d373afbb7b9a\", \"event_date\": 1701321357, \"action\": \"view\", \"uri\": \"https://databricks.com/categoriescategory.htm\"}",
         "dbdemos-sessions",
         3,
         16374443,
         "2023-11-30T05:15:54.567Z",
         0
        ],
        [
         null,
         "{\"user_id\": \"bb041937-335f-4592-9b28-75cbd928cd41\", \"platform\": \"android\", \"event_id\": \"2e7e5497-c384-4a8b-8199-622619af813b\", \"event_date\": 1701321355, \"action\": \"click\", \"uri\": \"https://databricks.com/tags/blog/postsfaq.jsp\"}",
         "dbdemos-sessions",
         3,
         16374444,
         "2023-11-30T05:15:55.571Z",
         0
        ],
        [
         null,
         "{\"user_id\": \"4861923d-8618-4684-9212-0e380364e29e\", \"platform\": \"android\", \"event_id\": \"bb757a39-7596-4e5f-b51e-be85bf923c6f\", \"event_date\": 1701321353, \"action\": \"click\", \"uri\": \"https://databricks.com/category/appindex.html\"}",
         "dbdemos-sessions",
         3,
         16374445,
         "2023-11-30T05:15:55.583Z",
         0
        ],
        [
         null,
         "{\"user_id\": \"19907dcb-5680-4656-897c-8da9e753a547\", \"platform\": \"ios\", \"event_id\": \"3dc7565d-4c34-4883-8de2-20f894d46865\", \"event_date\": 1701321352, \"action\": \"click\", \"uri\": \"https://databricks.com/app/categories/tagscategory.html\"}",
         "dbdemos-sessions",
         3,
         16374446,
         "2023-11-30T05:15:55.585Z",
         0
        ],
        [
         null,
         "{\"user_id\": \"ed3224d7-fb6d-42ec-89c2-dc64f4f3be97\", \"platform\": \"android\", \"event_id\": \"ee71fbac-9146-45cc-aff9-188dda894267\", \"event_date\": 1701321351, \"action\": \"view\", \"uri\": \"https://databricks.com/tags/list/bloghomepage.htm\"}",
         "dbdemos-sessions",
         3,
         16374447,
         "2023-11-30T05:15:56.587Z",
         0
        ],
        [
         null,
         "{\"user_id\": \"02467029-f802-4ee5-ab0f-6f80a46c4320\", \"platform\": \"other\", \"event_id\": \"9d649cbb-5b36-49ab-a591-40460415ecb1\", \"event_date\": 1701321355, \"action\": \"view\", \"uri\": \"https://databricks.com/mainprivacy.html\"}",
         "dbdemos-sessions",
         3,
         16374448,
         "2023-11-30T05:15:56.595Z",
         0
        ],
        [
         null,
         "{\"user_id\": \"a1801d71-661b-4b13-99c5-46b48e26295d\", \"platform\": \"ios\", \"event_id\": \"46dfc392-62e5-4272-8948-585b039a0574\", \"event_date\": 1701321356, \"action\": \"view\", \"uri\": \"https://databricks.com/category/searchcategory.php\"}",
         "dbdemos-sessions",
         3,
         16374449,
         "2023-11-30T05:15:56.596Z",
         0
        ],
        [
         null,
         "{\"user_id\": \"e1c4426c-9e77-49a1-87e9-f82b7d298740\", \"platform\": \"ios\", \"event_id\": \"4552e303-483b-4669-89ab-04c9f880e9ea\", \"event_date\": 1701321358, \"action\": \"view\", \"uri\": \"https://databricks.com/category/tag/postslogin.asp\"}",
         "dbdemos-sessions",
         3,
         16374450,
         "2023-11-30T05:15:57.605Z",
         0
        ],
        [
         null,
         "{\"user_id\": \"f044d5b8-0357-44e1-b9cf-40ba0512eeb0\", \"platform\": \"android\", \"event_id\": \"abaf6237-60cd-40dd-b6f2-088cc69af781\", \"event_date\": 1701321354, \"action\": \"log\", \"uri\": \"https://databricks.com/posts/tagsabout.html\"}",
         "dbdemos-sessions",
         3,
         16374451,
         "2023-11-30T05:15:58.62Z",
         0
        ],
        [
         null,
         "{\"user_id\": \"d4df099d-1d1a-4cf8-b0fb-d0249886106f\", \"platform\": \"ios\", \"event_id\": \"8d1fafd5-60a6-4792-be23-b4dfc903cf39\", \"event_date\": 1701321354, \"action\": \"log\", \"uri\": \"https://databricks.com/listindex.php\"}",
         "dbdemos-sessions",
         3,
         16374452,
         "2023-11-30T05:15:58.63Z",
         0
        ],
        [
         null,
         "{\"user_id\": \"e27de5d1-1203-41d9-aaed-8521b4a5a4f3\", \"platform\": \"ios\", \"event_id\": \"6018162e-719e-45a5-b19e-ba1a59cb5162\", \"event_date\": 1701321354, \"action\": \"view\", \"uri\": \"https://databricks.com/wp-content/tagauthor.htm\"}",
         "dbdemos-sessions",
         3,
         16374453,
         "2023-11-30T05:15:59.636Z",
         0
        ],
        [
         null,
         "{\"user_id\": \"e4e079a9-103e-464b-8b2f-b7d906066bad\", \"platform\": \"ios\", \"event_id\": \"95e9a00b-216c-432a-82dd-00de10991df3\", \"event_date\": 1701321356, \"action\": null, \"uri\": \"https://databricks.com/main/applogin.html\"}",
         "dbdemos-sessions",
         3,
         16374454,
         "2023-11-30T05:16:00.662Z",
         0
        ],
        [
         null,
         "{\"user_id\": \"24e73178-c559-4484-8349-7ea3c1f77105\", \"platform\": \"other\", \"event_id\": \"9d3f5f3b-ba7c-46f4-bb51-d965e56caa1d\", \"event_date\": 1701321360, \"action\": \"click\", \"uri\": \"https://databricks.com/blog/listcategory.htm\"}",
         "dbdemos-sessions",
         3,
         16374455,
         "2023-11-30T05:16:00.664Z",
         0
        ],
        [
         null,
         "{\"user_id\": \"e4e079a9-103e-464b-8b2f-b7d906066bad\", \"platform\": \"ios\", \"event_id\": \"af8736ec-aa38-4423-9baa-2ec2b91fbbb3\", \"event_date\": 1701321363, \"action\": \"view\", \"uri\": \"https://databricks.com/search/postsabout.php\"}",
         "dbdemos-sessions",
         3,
         16374456,
         "2023-11-30T05:16:01.677Z",
         0
        ],
        [
         null,
         "{\"user_id\": \"f5bb0598-15cc-4ded-8192-0bd8262a8941\", \"platform\": \"other\", \"event_id\": \"8c2ae187-d349-439f-8dd7-83b05a35e774\", \"event_date\": 1701321340, \"action\": \"view\", \"uri\": \"https://databricks.com/tags/posts/categorieslogin.jsp\"}",
         "dbdemos-sessions",
         0,
         162967789,
         "2023-11-30T05:15:40.404Z",
         0
        ],
        [
         null,
         "{\"user_id\": \"8ebe91ce-5ce9-4215-b90d-afa7ffc2031b\", \"platform\": \"android\", \"event_id\": \"74734f10-c543-473d-947a-eb4bab0401e5\", \"event_date\": 1701321339, \"action\": \"view\", \"uri\": \"https://databricks.com/category/taghome.php\"}",
         "dbdemos-sessions",
         0,
         162967790,
         "2023-11-30T05:15:43.433Z",
         0
        ],
        [
         null,
         "{\"user_id\": \"ff3f9bdd-d0a3-4d28-b151-454d5e88546b\", \"platform\": \"ios\", \"event_id\": \"c763311a-f6db-4875-89a5-f8ca7642ff61\", \"event_date\": 1701321345, \"action\": \"view\", \"uri\": \"https://databricks.com/search/categorycategory.php\"}",
         "dbdemos-sessions",
         0,
         162967791,
         "2023-11-30T05:15:44.442Z",
         0
        ],
        [
         null,
         "{\"user_id\": \"88019c0c-6cb1-4e46-a3ea-97661d159ba5\", \"platform\": \"android\", \"event_id\": \"0c53089d-c9e7-43fb-a76e-a98e4b2f6d71\", \"event_date\": 1701321345, \"action\": \"click\", \"uri\": \"https://databricks.com/search/wp-content/searchhomepage.asp\"}",
         "dbdemos-sessions",
         0,
         162967792,
         "2023-11-30T05:15:44.443Z",
         0
        ],
        [
         null,
         "{\"user_id\": \"8c37dfb5-4ce9-40ee-aabd-6d2e41387b89\", \"platform\": \"ios\", \"event_id\": \"d35290a1-3dbe-4edb-b7e9-71faafcf439e\", \"event_date\": 1701321349, \"action\": \"view\", \"uri\": \"https://databricks.com/wp-content/appcategory.php\"}",
         "dbdemos-sessions",
         0,
         162967793,
         "2023-11-30T05:15:45.449Z",
         0
        ],
        [
         null,
         "{\"user_id\": \"e4e079a9-103e-464b-8b2f-b7d906066bad\", \"platform\": \"ios\", \"event_id\": \"1bf21b36-576a-4982-8bbc-0cf7673d5fed\", \"event_date\": 1701321341, \"action\": \"click\", \"uri\": \"https://databricks.com/searchcategory.htm\"}",
         "dbdemos-sessions",
         0,
         162967794,
         "2023-11-30T05:15:45.453Z",
         0
        ],
        [
         null,
         "{\"user_id\": \"954c2940-2415-4618-89e3-8f4147680ac1\", \"platform\": \"other\", \"event_id\": \"2dea5a42-db8d-46a7-b20b-c2457a1a72d1\", \"event_date\": 1701321343, \"action\": \"view\", \"uri\": \"https://databricks.com/main/explore/searchterms.html\"}",
         "dbdemos-sessions",
         0,
         162967795,
         "2023-11-30T05:15:45.457Z",
         0
        ],
        [
         null,
         "{\"user_id\": \"6937cb27-2941-49c8-9431-ef4836329ae6\", \"platform\": \"other\", \"event_id\": \"1d57090e-04a0-46de-a96b-fa27388347ef\", \"event_date\": 1701321341, \"action\": \"click\", \"uri\": \"https://databricks.com/wp-content/categorycategory.php\"}",
         "dbdemos-sessions",
         0,
         162967796,
         "2023-11-30T05:15:46.468Z",
         0
        ],
        [
         null,
         "{\"user_id\": \"1e7b7295-6965-4c14-ab59-388167c9baeb\", \"platform\": \"other\", \"event_id\": \"7d4f6b36-d52d-4f48-9388-e3ccaae4d5a1\", \"event_date\": 1701321347, \"action\": \"click\", \"uri\": \"https://databricks.com/apppost.jsp\"}",
         "dbdemos-sessions",
         0,
         162967797,
         "2023-11-30T05:15:47.479Z",
         0
        ],
        [
         null,
         "{\"user_id\": \"96d32b6c-fb2a-48a1-aea2-2e1df5de0234\", \"platform\": \"other\", \"event_id\": \"36d89a0e-435f-46c8-b606-da9bf5bb8274\", \"event_date\": 1701321351, \"action\": \"click\", \"uri\": \"https://databricks.com/category/appcategory.htm\"}",
         "dbdemos-sessions",
         0,
         162967798,
         "2023-11-30T05:15:49.51Z",
         0
        ],
        [
         null,
         "{\"user_id\": \"d6b698c1-d982-4afd-913f-a4ba28177397\", \"platform\": \"ios\", \"event_id\": \"fa870e61-ddb2-46d2-97ef-b4ecc74d36eb\", \"event_date\": 1701321347, \"action\": \"view\", \"uri\": \"https://databricks.com/main/main/mainterms.jsp\"}",
         "dbdemos-sessions",
         0,
         162967799,
         "2023-11-30T05:15:50.518Z",
         0
        ],
        [
         null,
         "{\"user_id\": \"18713496-a98e-49a4-ab88-9f029f18b4c5\", \"platform\": \"android\", \"event_id\": \"ef8fd0de-bf8f-457c-a4a8-d263f68de948\", \"event_date\": 1701321356, \"action\": \"view\", \"uri\": \"https://databricks.com/wp-content/categoriesprivacy.html\"}",
         "dbdemos-sessions",
         0,
         162967800,
         "2023-11-30T05:15:52.535Z",
         0
        ],
        [
         null,
         "{\"user_id\": \"6bf1f604-3544-45c9-93a5-180b78652be1\", \"platform\": \"other\", \"event_id\": \"07874816-e860-419f-b8d3-aba846aa9ad7\", \"event_date\": 1701321348, \"action\": \"view\", \"uri\": \"https://databricks.com/blog/postsregister.php\"}",
         "dbdemos-sessions",
         0,
         162967801,
         "2023-11-30T05:15:52.537Z",
         0
        ],
        [
         null,
         "{\"user_id\": \"8ebe91ce-5ce9-4215-b90d-afa7ffc2031b\", \"platform\": \"other\", \"event_id\": \"fec52c19-4ac0-46f1-b7c2-3b3c0209ce06\", \"event_date\": 1701321356, \"action\": \"click\", \"uri\": \"https://databricks.com/app/categoriescategory.htm\"}",
         "dbdemos-sessions",
         0,
         162967802,
         "2023-11-30T05:15:52.542Z",
         0
        ],
        [
         null,
         "{\"user_id\": \"de0d7892-d459-42e9-9476-87884e4b2734\", \"platform\": null, \"event_id\": \"2bd148e6-aa43-448e-b22a-c602a28821e3\", \"event_date\": 1701321354, \"action\": \"click\", \"uri\": \"https://databricks.com/explore/tags/bloghomepage.htm\"}",
         "dbdemos-sessions",
         0,
         162967803,
         "2023-11-30T05:15:54.556Z",
         0
        ],
        [
         null,
         "{\"user_id\": \"f044d5b8-0357-44e1-b9cf-40ba0512eeb0\", \"platform\": \"other\", \"event_id\": \"9ab1bbd7-b1da-40ec-9087-6b06f2e22df3\", \"event_date\": 1701321350, \"action\": \"log\", \"uri\": \"https://databricks.com/postsfaq.php\"}",
         "dbdemos-sessions",
         0,
         162967804,
         "2023-11-30T05:15:54.561Z",
         0
        ],
        [
         null,
         "{\"user_id\": \"02467029-f802-4ee5-ab0f-6f80a46c4320\", \"platform\": \"other\", \"event_id\": \"57068562-fe54-4bf8-ad25-72eb7d66b994\", \"event_date\": 1701321354, \"action\": \"view\", \"uri\": \"https://databricks.com/categorylogin.html\"}",
         "dbdemos-sessions",
         0,
         162967805,
         "2023-11-30T05:15:54.564Z",
         0
        ],
        [
         null,
         "{\"user_id\": \"f51f94e1-27a4-48be-b539-b0aac42704e3\", \"platform\": \"ios\", \"event_id\": \"cc2c6545-1ef5-49ae-97d5-0e4047e07f06\", \"event_date\": 1701321355, \"action\": \"view\", \"uri\": \"https://databricks.com/wp-content/wp-content/tagsprivacy.php\"}",
         "dbdemos-sessions",
         0,
         162967806,
         "2023-11-30T05:15:54.566Z",
         0
        ],
        [
         null,
         "{\"user_id\": \"96d32b6c-fb2a-48a1-aea2-2e1df5de0234\", \"platform\": \"ios\", \"event_id\": \"c47163cd-0f49-4373-a46c-7fd8b5ca5695\", \"event_date\": 1701321358, \"action\": \"click\", \"uri\": \"https://databricks.com/blog/tagpost.jsp\"}",
         "dbdemos-sessions",
         0,
         162967807,
         "2023-11-30T05:15:54.567Z",
         0
        ],
        [
         null,
         "{\"user_id\": \"d469e072-41ae-4497-b541-de287868682f\", \"platform\": \"other\", \"event_id\": \"1dacd71c-d9ab-4313-93cf-7bde9e9f3427\", \"event_date\": 1701321351, \"action\": \"click\", \"uri\": \"https://databricks.com/searchprivacy.php\"}",
         "dbdemos-sessions",
         0,
         162967808,
         "2023-11-30T05:15:55.57Z",
         0
        ],
        [
         null,
         "{\"user_id\": \"e27de5d1-1203-41d9-aaed-8521b4a5a4f3\", \"platform\": \"android\", \"event_id\": \"06d87c40-cba8-4775-acac-31b8bbf7f436\", \"event_date\": 1701321356, \"action\": \"view\", \"uri\": \"https://databricks.com/list/searchterms.html\"}",
         "dbdemos-sessions",
         0,
         162967809,
         "2023-11-30T05:15:55.576Z",
         0
        ],
        [
         null,
         "{\"user_id\": \"c50c86c0-459f-4db4-ae86-1e2e8a5a42ed\", \"platform\": \"ios\", \"event_id\": \"07b23c77-a519-4924-8218-70dd6c63cc5c\", \"event_date\": 1701321354, \"action\": \"click\", \"uri\": \"https://databricks.com/explore/list/postsabout.jsp\"}",
         "dbdemos-sessions",
         0,
         162967810,
         "2023-11-30T05:15:55.584Z",
         0
        ],
        [
         null,
         "{\"user_id\": \"a1410f93-0184-4aca-9c43-c686a605a5f6\", \"platform\": \"ios\", \"event_id\": \"00685b43-fa49-43ed-bd3a-1e4ff6f1a59f\", \"event_date\": 1701321352, \"action\": \"click\", \"uri\": \"https://databricks.com/wp-content/exploreauthor.html\"}",
         "dbdemos-sessions",
         0,
         162967811,
         "2023-11-30T05:15:57.601Z",
         0
        ],
        [
         null,
         "{\"user_id\": \"40e8d981-8436-4139-9da7-4e0a71be1874\", \"platform\": \"other\", \"event_id\": \"b421730a-bcc4-477d-a7e4-0a4fd9401937\", \"event_date\": 1701321355, \"action\": \"click\", \"uri\": \"https://databricks.com/app/postsmain.asp\"}",
         "dbdemos-sessions",
         0,
         162967812,
         "2023-11-30T05:15:57.603Z",
         0
        ],
        [
         null,
         "{\"user_id\": \"d278a0e6-7c83-43e8-a0b4-db949eca8412\", \"platform\": \"ios\", \"event_id\": \"fb75822e-cfe3-4282-9132-24962cac0678\", \"event_date\": 1701321360, \"action\": \"click\", \"uri\": \"https://databricks.com/tag/explore/categoriesmain.html\"}",
         "dbdemos-sessions",
         0,
         162967813,
         "2023-11-30T05:15:57.604Z",
         0
        ],
        [
         null,
         "{\"user_id\": \"471b9cf5-93fd-4290-927c-5f78456145dc\", \"platform\": \"other\", \"event_id\": \"f7a192d0-3233-4d0b-8688-417f84f2efff\", \"event_date\": 1701321357, \"action\": \"view\", \"uri\": \"https://databricks.com/appregister.htm\"}",
         "dbdemos-sessions",
         0,
         162967814,
         "2023-11-30T05:15:57.606Z",
         0
        ],
        [
         null,
         "{\"user_id\": \"93ef5cae-b681-4e40-8e10-cae4283b2b04\", \"platform\": \"ios\", \"event_id\": \"0ff2ef80-d701-4243-a91d-92f935dd7b32\", \"event_date\": 1701321353, \"action\": \"log\", \"uri\": \"https://databricks.com/wp-contentlogin.html\"}",
         "dbdemos-sessions",
         0,
         162967815,
         "2023-11-30T05:15:58.61Z",
         0
        ],
        [
         null,
         "{\"user_id\": \"4f31815d-ad8f-4b3e-9ef3-d7b80e4bf770\", \"platform\": \"ios\", \"event_id\": \"638863e5-3ccd-472d-b42e-4bb8d54cee91\", \"event_date\": 1701321356, \"action\": \"view\", \"uri\": \"https://databricks.com/categoriesregister.htm\"}",
         "dbdemos-sessions",
         0,
         162967816,
         "2023-11-30T05:15:58.628Z",
         0
        ],
        [
         null,
         "{\"user_id\": \"7354e19a-6b74-4581-9278-7d2a1fa506d2\", \"platform\": \"ios\", \"event_id\": \"6da96000-b95c-4efe-8194-66c0083c3e5c\", \"event_date\": 1701321362, \"action\": \"click\", \"uri\": \"https://databricks.com/blogregister.asp\"}",
         "dbdemos-sessions",
         0,
         162967817,
         "2023-11-30T05:15:59.64Z",
         0
        ],
        [
         null,
         "{\"user_id\": \"1e7b7295-6965-4c14-ab59-388167c9baeb\", \"platform\": \"ios\", \"event_id\": \"5789056f-537d-407b-9bef-72ddc6f813c4\", \"event_date\": 1701321358, \"action\": \"log\", \"uri\": \"https://databricks.com/blogsearch.jsp\"}",
         "dbdemos-sessions",
         0,
         162967818,
         "2023-11-30T05:15:59.643Z",
         0
        ],
        [
         null,
         "{\"user_id\": \"24e73178-c559-4484-8349-7ea3c1f77105\", \"platform\": \"other\", \"event_id\": \"9606f446-01f6-49ed-ac3f-8353c10fbe47\", \"event_date\": 1701321356, \"action\": \"view\", \"uri\": \"https://databricks.com/app/tagsfaq.html\"}",
         "dbdemos-sessions",
         0,
         162967819,
         "2023-11-30T05:15:59.648Z",
         0
        ],
        [
         null,
         "{\"user_id\": \"4f9a4975-58ad-4063-be2c-d7fafb9f9072\", \"platform\": \"other\", \"event_id\": \"e06d5687-39b8-48e4-85f8-ce98a5697356\", \"event_date\": 1701321358, \"action\": \"log\", \"uri\": \"https://databricks.com/explore/blogabout.asp\"}",
         "dbdemos-sessions",
         0,
         162967820,
         "2023-11-30T05:16:00.661Z",
         0
        ],
        [
         null,
         "{\"user_id\": \"471b9cf5-93fd-4290-927c-5f78456145dc\", \"platform\": \"android\", \"event_id\": \"34b6fef4-1b57-4762-b069-8b1bb512c322\", \"event_date\": 1701321364, \"action\": \"view\", \"uri\": \"https://databricks.com/categoriesterms.jsp\"}",
         "dbdemos-sessions",
         0,
         162967821,
         "2023-11-30T05:16:00.666Z",
         0
        ],
        [
         null,
         "{\"user_id\": \"18713496-a98e-49a4-ab88-9f029f18b4c5\", \"platform\": \"ios\", \"event_id\": \"92e717de-fd32-4ded-95d9-0f68ec3a3141\", \"event_date\": 1701321359, \"action\": \"click\", \"uri\": \"https://databricks.com/list/search/tagshome.jsp\"}",
         "dbdemos-sessions",
         0,
         162967822,
         "2023-11-30T05:16:01.676Z",
         0
        ],
        [
         null,
         "{\"user_id\": \"f044d5b8-0357-44e1-b9cf-40ba0512eeb0\", \"platform\": \"ios\", \"event_id\": \"76a46b3d-a4de-4ea4-b9e1-d8e41e13eb20\", \"event_date\": 1701321364, \"action\": \"click\", \"uri\": \"https://databricks.com/main/exploreregister.php\"}",
         "dbdemos-sessions",
         0,
         162967823,
         "2023-11-30T05:16:01.685Z",
         0
        ],
        [
         null,
         "{\"user_id\": \"50e32c77-ce88-45b4-9b25-7c747615596b\", \"platform\": \"other\", \"event_id\": \"ae158a71-e283-4476-b003-5ca0f6eba7f3\", \"event_date\": 1701321364, \"action\": \"view\", \"uri\": \"https://databricks.com/wp-contentcategory.jsp\"}",
         "dbdemos-sessions",
         0,
         162967824,
         "2023-11-30T05:16:01.688Z",
         0
        ],
        [
         null,
         "{\"user_id\": \"5c32df45-eda2-494d-abe8-f00782dd60c5\", \"platform\": \"ios\", \"event_id\": \"526dfb4e-8a22-4b05-98cf-4cd6f4d94b77\", \"event_date\": 1701321360, \"action\": \"log\", \"uri\": \"https://databricks.com/tags/appterms.html\"}",
         "dbdemos-sessions",
         0,
         162967825,
         "2023-11-30T05:16:01.707Z",
         0
        ],
        [
         null,
         "{\"user_id\": \"7354e19a-6b74-4581-9278-7d2a1fa506d2\", \"platform\": \"other\", \"event_id\": \"4539afe2-7e6b-4c8e-aa2f-404a2e24fd19\", \"event_date\": 1701321340, \"action\": \"click\", \"uri\": \"https://databricks.com/tags/list/listfaq.html\"}",
         "dbdemos-sessions",
         5,
         16377815,
         "2023-11-30T05:15:41.411Z",
         0
        ],
        [
         null,
         "{\"user_id\": \"93ef5cae-b681-4e40-8e10-cae4283b2b04\", \"platform\": \"other\", \"event_id\": \"205090dd-2d92-4052-b8dd-8be689bea6a1\", \"event_date\": 1701321343, \"action\": \"click\", \"uri\": \"https://databricks.com/list/categoryfaq.html\"}",
         "dbdemos-sessions",
         5,
         16377816,
         "2023-11-30T05:15:42.414Z",
         0
        ],
        [
         null,
         "{\"user_id\": \"cdf5504b-598d-4c9e-aa2c-01d320d7a397\", \"platform\": \"ios\", \"event_id\": \"4be4aa71-8865-4777-9785-9f6a40b3f571\", \"event_date\": 1701321340, \"action\": \"click\", \"uri\": \"https://databricks.com/explore/listhomepage.jsp\"}",
         "dbdemos-sessions",
         5,
         16377817,
         "2023-11-30T05:15:43.423Z",
         0
        ],
        [
         null,
         "{\"user_id\": \"8c78e34e-0201-4757-a82a-fa0d9f70beda\", \"platform\": \"ios\", \"event_id\": \"7de9f5eb-5f23-4388-a1c0-a44a5e111b02\", \"event_date\": 1701321344, \"action\": \"click\", \"uri\": \"https://databricks.com/blog/wp-content/listpost.html\"}",
         "dbdemos-sessions",
         5,
         16377818,
         "2023-11-30T05:15:43.429Z",
         0
        ],
        [
         null,
         "{\"user_id\": \"24e73178-c559-4484-8349-7ea3c1f77105\", \"platform\": \"ios\", \"event_id\": \"5ee014cb-d153-4fc8-8fee-343f86d1ae29\", \"event_date\": 1701321345, \"action\": \"view\", \"uri\": \"https://databricks.com/category/bloghomepage.html\"}",
         "dbdemos-sessions",
         5,
         16377819,
         "2023-11-30T05:15:44.447Z",
         0
        ],
        [
         null,
         "{\"user_id\": \"24e73178-c559-4484-8349-7ea3c1f77105\", \"platform\": \"ios\", \"event_id\": \"5ee014cb-d153-4fc8-8fee-343f86d1ae29\", \"event_date\": 1701321345, \"action\": \"view\", \"uri\": \"https://databricks.com/category/bloghomepage.html\"}",
         "dbdemos-sessions",
         5,
         16377820,
         "2023-11-30T05:15:44.447Z",
         0
        ],
        [
         null,
         "{\"user_id\": \"de0d7892-d459-42e9-9476-87884e4b2734\", \"platform\": \"ios\", \"event_id\": \"220991b7-4953-4507-8eba-bb31601ca8de\", \"event_date\": 1701321345, \"action\": \"click\", \"uri\": \"https://databricks.com/tags/main/mainpost.html\"}",
         "dbdemos-sessions",
         5,
         16377821,
         "2023-11-30T05:15:45.45Z",
         0
        ],
        [
         null,
         "{\"user_id\": \"b994d64b-9f05-4a97-a53d-d95128f1c0c3\", \"platform\": \"ios\", \"event_id\": \"cfae41a9-cff0-4ec5-a1d5-6c87c21367e0\", \"event_date\": 1701321343, \"action\": \"click\", \"uri\": \"https://databricks.com/search/postspost.jsp\"}",
         "dbdemos-sessions",
         5,
         16377822,
         "2023-11-30T05:15:46.469Z",
         0
        ],
        [
         null,
         "{\"user_id\": \"1983f70f-77a9-4412-a898-1c7e3312d2af\", \"platform\": \"ios\", \"event_id\": \"ed123697-9ca7-4ac3-8639-7ff50ac983d6\", \"event_date\": 1701321351, \"action\": \"view\", \"uri\": \"https://databricks.com/list/explore/mainhomepage.html\"}",
         "dbdemos-sessions",
         5,
         16377823,
         "2023-11-30T05:15:47.474Z",
         0
        ],
        [
         null,
         "{\"user_id\": \"fa31e0c0-f1fa-432f-b6ae-5bf2146cca06\", \"platform\": \"ios\", \"event_id\": \"040efde2-2d46-4379-ac03-dd93c76dcccf\", \"event_date\": 1701321346, \"action\": \"view\", \"uri\": \"https://databricks.com/main/poststerms.php\"}",
         "dbdemos-sessions",
         5,
         16377824,
         "2023-11-30T05:15:47.488Z",
         0
        ],
        [
         null,
         "{\"user_id\": \"4861923d-8618-4684-9212-0e380364e29e\", \"platform\": \"ios\", \"event_id\": \"d495c7c3-9a82-4ce0-bd65-74f70ef179f2\", \"event_date\": 1701321344, \"action\": \"click\", \"uri\": \"https://databricks.com/blogregister.php\"}",
         "dbdemos-sessions",
         5,
         16377825,
         "2023-11-30T05:15:48.496Z",
         0
        ],
        [
         null,
         "{\"user_id\": \"de0d7892-d459-42e9-9476-87884e4b2734\", \"platform\": \"ios\", \"event_id\": \"961b9e44-c147-4b2d-8149-bd233046a563\", \"event_date\": 1701321346, \"action\": \"click\", \"uri\": \"https://databricks.com/tag/searchindex.php\"}",
         "dbdemos-sessions",
         5,
         16377826,
         "2023-11-30T05:15:49.499Z",
         0
        ],
        [
         null,
         "{\"user_id\": \"3156d251-7429-4b23-9101-59f0209cddf8\", \"platform\": \"ios\", \"event_id\": \"2275349d-faec-47de-9b62-53d4cc9e4fed\", \"event_date\": 1701321348, \"action\": \"click\", \"uri\": \"https://databricks.com/blogpost.jsp\"}",
         "dbdemos-sessions",
         5,
         16377827,
         "2023-11-30T05:15:50.516Z",
         0
        ],
        [
         null,
         "{\"user_id\": \"9acce7bf-7baa-45f0-b598-93b24e8843fd\", \"platform\": \"other\", \"event_id\": \"5dd6ad81-c6b4-496b-88ce-49408b4016fc\", \"event_date\": 1701321351, \"action\": \"click\", \"uri\": \"https://databricks.com/search/wp-contentfaq.php\"}",
         "dbdemos-sessions",
         5,
         16377828,
         "2023-11-30T05:15:50.517Z",
         0
        ],
        [
         null,
         "{\"user_id\": \"8c37dfb5-4ce9-40ee-aabd-6d2e41387b89\", \"platform\": \"other\", \"event_id\": \"420db673-d2fe-4758-8788-f039bc6c08bf\", \"event_date\": 1701321354, \"action\": \"view\", \"uri\": \"https://databricks.com/tags/tagindex.html\"}",
         "dbdemos-sessions",
         5,
         16377829,
         "2023-11-30T05:15:51.522Z",
         0
        ],
        [
         null,
         "{\"user_id\": \"287d6985-e3c1-44f7-a700-2df164a43235\", \"platform\": \"ios\", \"event_id\": \"3c5dc87b-1dd6-4582-bf4b-aa94246ecd2a\", \"event_date\": 1701321353, \"action\": \"view\", \"uri\": \"https://databricks.com/search/explore/wp-contentmain.php\"}",
         "dbdemos-sessions",
         5,
         16377830,
         "2023-11-30T05:15:51.525Z",
         0
        ],
        [
         null,
         "{\"user_id\": \"6937cb27-2941-49c8-9431-ef4836329ae6\", \"platform\": \"other\", \"event_id\": \"ff044cf0-2eb9-4889-9e3a-038acc850d97\", \"event_date\": 1701321354, \"action\": \"click\", \"uri\": \"https://databricks.com/list/search/categoryhome.php\"}",
         "dbdemos-sessions",
         5,
         16377831,
         "2023-11-30T05:15:51.532Z",
         0
        ],
        [
         null,
         "{\"user_id\": \"89266034-ab6f-4298-a4f2-26ee888d009a\", \"platform\": \"other\", \"event_id\": \"74b750ad-ea7e-420a-9648-352ba6e5b54a\", \"event_date\": 1701321353, \"action\": \"click\", \"uri\": \"https://databricks.com/postshome.php\"}",
         "dbdemos-sessions",
         5,
         16377832,
         "2023-11-30T05:15:52.538Z",
         0
        ],
        [
         null,
         "{\"user_id\": \"8c78e34e-0201-4757-a82a-fa0d9f70beda\", \"platform\": \"android\", \"event_id\": \"3afc41c1-584f-4600-b56b-cac5ad1aba4b\", \"event_date\": 1701321351, \"action\": \"view\", \"uri\": \"https://databricks.com/categoriesindex.htm\"}",
         "dbdemos-sessions",
         5,
         16377833,
         "2023-11-30T05:15:52.541Z",
         0
        ],
        [
         null,
         "{\"user_id\": \"d278a0e6-7c83-43e8-a0b4-db949eca8412\", \"platform\": \"other\", \"event_id\": \"3c5543ae-caf2-4445-8646-67e806a8b161\", \"event_date\": 1701321357, \"action\": \"view\", \"uri\": \"https://databricks.com/list/explore/categoryauthor.php\"}",
         "dbdemos-sessions",
         5,
         16377834,
         "2023-11-30T05:15:53.551Z",
         0
        ],
        [
         null,
         "{\"user_id\": \"94ba5e9c-d1c8-4837-8c7f-e3e20d6a180e\", \"platform\": \"other\", \"event_id\": \"533979b8-78c2-4121-bfc7-253906a2a988\", \"event_date\": 1701321355, \"action\": \"log\", \"uri\": \"https://databricks.com/list/postssearch.html\"}",
         "dbdemos-sessions",
         5,
         16377835,
         "2023-11-30T05:15:54.557Z",
         0
        ],
        [
         null,
         "{\"user_id\": \"7354e19a-6b74-4581-9278-7d2a1fa506d2\", \"platform\": \"ios\", \"event_id\": \"754aaa05-7db0-4302-9768-ce9a09419476\", \"event_date\": 1701321358, \"action\": \"click\", \"uri\": \"https://databricks.com/wp-content/main/listcategory.html\"}",
         "dbdemos-sessions",
         5,
         16377836,
         "2023-11-30T05:15:54.56Z",
         0
        ],
        [
         null,
         "{\"user_id\": \"9acce7bf-7baa-45f0-b598-93b24e8843fd\", \"platform\": \"other\", \"event_id\": \"168ef070-6d57-4a33-a3ba-94ff0b30be7d\", \"event_date\": 1701321351, \"action\": \"click\", \"uri\": \"https://databricks.com/appregister.html\"}",
         "dbdemos-sessions",
         5,
         16377837,
         "2023-11-30T05:15:54.562Z",
         0
        ],
        [
         null,
         "{\"user_id\": \"301ed5d3-8d3d-4e1e-96da-0043610a5c98\", \"platform\": \"ios\", \"event_id\": \"2066a09b-d5d5-4fd1-9231-d7027282a2d8\", \"event_date\": 1701321356, \"action\": \"view\", \"uri\": \"https://databricks.com/list/search/tagshome.php\"}",
         "dbdemos-sessions",
         5,
         16377838,
         "2023-11-30T05:15:54.565Z",
         0
        ],
        [
         null,
         "{\"user_id\": \"8ebe91ce-5ce9-4215-b90d-afa7ffc2031b\", \"platform\": \"ios\", \"event_id\": \"87c48cb4-836a-4164-8eaa-9b86de504318\", \"event_date\": 1701321353, \"action\": \"view\", \"uri\": \"https://databricks.com/search/list/blogterms.html\"}",
         "dbdemos-sessions",
         5,
         16377839,
         "2023-11-30T05:15:54.566Z",
         0
        ],
        [
         null,
         "{\"user_id\": \"4f9a4975-58ad-4063-be2c-d7fafb9f9072\", \"platform\": \"ios\", \"event_id\": \"83a83a1a-c52f-405a-a01d-9b9f5c36c9d0\", \"event_date\": 1701321355, \"action\": \"click\", \"uri\": \"https://databricks.com/list/main/explorehome.html\"}",
         "dbdemos-sessions",
         5,
         16377840,
         "2023-11-30T05:15:55.571Z",
         0
        ],
        [
         null,
         "{\"user_id\": \"89266034-ab6f-4298-a4f2-26ee888d009a\", \"platform\": \"ios\", \"event_id\": \"99a3b1b9-6c01-44be-a9a0-e18c59297a7a\", \"event_date\": 1701321351, \"action\": \"click\", \"uri\": \"https://databricks.com/tags/search/listsearch.php\"}",
         "dbdemos-sessions",
         5,
         16377841,
         "2023-11-30T05:15:55.577Z",
         0
        ],
        [
         null,
         "{\"user_id\": \"c74ac38e-0a9b-4785-9a27-09d1d694e40c\", \"platform\": \"other\", \"event_id\": \"7d57b9eb-b5e9-43f8-a256-5701ae38c5ac\", \"event_date\": 1701321356, \"action\": \"view\", \"uri\": \"https://databricks.com/tags/blog/postsfaq.htm\"}",
         "dbdemos-sessions",
         5,
         16377842,
         "2023-11-30T05:15:56.594Z",
         0
        ],
        [
         null,
         "{\"user_id\": \"4b652069-51b2-4caa-bcea-acb355f2b75d\", \"platform\": \"ios\", \"event_id\": \"2eb243a2-9de7-4a5a-ab97-c0b8b67c434c\", \"event_date\": 1701321351, \"action\": \"click\", \"uri\": \"https://databricks.com/category/appprivacy.php\"}",
         "dbdemos-sessions",
         5,
         16377843,
         "2023-11-30T05:15:56.596Z",
         0
        ],
        [
         null,
         "{\"user_id\": \"8c78e34e-0201-4757-a82a-fa0d9f70beda\", \"platform\": \"ios\", \"event_id\": \"0b25ffc8-6ccd-41f5-8fba-4c2edd21c879\", \"event_date\": 1701321358, \"action\": \"click\", \"uri\": \"https://databricks.com/tags/posts/wp-contenthome.html\"}",
         "dbdemos-sessions",
         5,
         16377844,
         "2023-11-30T05:15:58.624Z",
         0
        ],
        [
         null,
         "{\"user_id\": \"6a4e890d-982b-46e1-b446-3688a723cdff\", \"platform\": \"other\", \"event_id\": \"182ba35d-8b7c-4574-a0b9-7982c6859151\", \"event_date\": 1701321354, \"action\": \"view\", \"uri\": \"https://databricks.com/mainhomepage.php\"}",
         "dbdemos-sessions",
         5,
         16377845,
         "2023-11-30T05:15:59.634Z",
         0
        ],
        [
         null,
         "{\"user_id\": \"69eb7a1d-ef3a-4d1e-868d-a4a145cb3de5\", \"platform\": \"ios\", \"event_id\": \"19030c8b-5b38-46ab-b6ca-333c241bc91e\", \"event_date\": 1701321358, \"action\": \"view\", \"uri\": \"https://databricks.com/blog/tagindex.htm\"}",
         "dbdemos-sessions",
         5,
         16377846,
         "2023-11-30T05:15:59.645Z",
         0
        ],
        [
         null,
         "{\"user_id\": \"02467029-f802-4ee5-ab0f-6f80a46c4320\", \"platform\": \"ios\", \"event_id\": \"dca2ee3f-4639-402d-a328-b5d6a91ef138\", \"event_date\": 1701321356, \"action\": \"view\", \"uri\": \"https://databricks.com/main/list/postsmain.htm\"}",
         "dbdemos-sessions",
         5,
         16377847,
         "2023-11-30T05:15:59.646Z",
         0
        ],
        [
         null,
         "{\"user_id\": \"d6b698c1-d982-4afd-913f-a4ba28177397\", \"platform\": \"other\", \"event_id\": \"95dd462c-f794-4d6d-a4ca-4bb6f0eb693e\", \"event_date\": 1701321359, \"action\": \"click\", \"uri\": \"https://databricks.com/blog/tagfaq.htm\"}",
         "dbdemos-sessions",
         5,
         16377848,
         "2023-11-30T05:15:59.646Z",
         0
        ],
        [
         null,
         "{\"user_id\": \"02467029-f802-4ee5-ab0f-6f80a46c4320\", \"platform\": \"other\", \"event_id\": \"cf3f32c6-892f-449c-9e38-f6d1cacb610b\", \"event_date\": 1701321356, \"action\": \"view\", \"uri\": \"https://databricks.com/tag/tagabout.html\"}",
         "dbdemos-sessions",
         5,
         16377849,
         "2023-11-30T05:16:00.664Z",
         0
        ],
        [
         null,
         "{\"user_id\": \"96d32b6c-fb2a-48a1-aea2-2e1df5de0234\", \"platform\": \"ios\", \"event_id\": \"4e148e37-c4f5-4a71-a5c5-121fa691c5b0\", \"event_date\": 1701321363, \"action\": \"view\", \"uri\": \"https://databricks.com/categories/search/categorysearch.php\"}",
         "dbdemos-sessions",
         5,
         16377850,
         "2023-11-30T05:16:00.665Z",
         0
        ],
        [
         null,
         "{\"user_id\": \"6a4e890d-982b-46e1-b446-3688a723cdff\", \"platform\": \"ios\", \"event_id\": \"997ce01e-29c1-48e8-a06b-78e01c70afd5\", \"event_date\": 1701321338, \"action\": \"view\", \"uri\": \"https://databricks.com/categories/wp-content/tagauthor.htm\"}",
         "dbdemos-sessions",
         8,
         16368566,
         "2023-11-30T05:15:41.409Z",
         0
        ],
        [
         null,
         "{\"user_id\": \"66bc4964-162b-41e1-972c-5ea1c76b408e\", \"platform\": \"other\", \"event_id\": \"3569771b-a769-486a-8ecc-0f56198d927c\", \"event_date\": 1701321340, \"action\": \"view\", \"uri\": \"https://databricks.com/list/app/appcategory.jsp\"}",
         "dbdemos-sessions",
         8,
         16368567,
         "2023-11-30T05:15:41.41Z",
         0
        ],
        [
         null,
         "{\"user_id\": \"c1923944-ddfe-4ee3-a9da-be94482fa973\", \"platform\": \"ios\", \"event_id\": \"77e21fac-57af-45cb-a287-97c889a91143\", \"event_date\": 1701321343, \"action\": \"view\", \"uri\": \"https://databricks.com/wp-content/category/listfaq.php\"}",
         "dbdemos-sessions",
         8,
         16368568,
         "2023-11-30T05:15:41.412Z",
         0
        ],
        [
         null,
         "{\"user_id\": \"8953da1a-a780-42b1-a6dc-ef3a8d881435\", \"platform\": \"ios\", \"event_id\": \"84a8351d-3319-4486-957d-38dfae26d54a\", \"event_date\": 1701321338, \"action\": \"view\", \"uri\": \"https://databricks.com/posts/categorieshomepage.php\"}",
         "dbdemos-sessions",
         8,
         16368569,
         "2023-11-30T05:15:42.415Z",
         0
        ],
        [
         null,
         "{\"user_id\": \"c74ac38e-0a9b-4785-9a27-09d1d694e40c\", \"platform\": \"ios\", \"event_id\": \"d8b244bc-debe-401f-8de3-f7ec5b8830dc\", \"event_date\": 1701321338, \"action\": \"view\", \"uri\": \"https://databricks.com/main/blogcategory.html\"}",
         "dbdemos-sessions",
         8,
         16368570,
         "2023-11-30T05:15:42.419Z",
         0
        ],
        [
         null,
         "{\"user_id\": \"f044d5b8-0357-44e1-b9cf-40ba0512eeb0\", \"platform\": \"android\", \"event_id\": \"8b7a4508-557f-4027-b1cf-adfef1415d58\", \"event_date\": 1701321339, \"action\": \"view\", \"uri\": \"https://databricks.com/posts/exploremain.html\"}",
         "dbdemos-sessions",
         8,
         16368571,
         "2023-11-30T05:15:43.423Z",
         0
        ],
        [
         null,
         "{\"user_id\": \"af86d48a-b571-4050-acbc-145b24579671\", \"platform\": \"ios\", \"event_id\": \"53a4257d-6b25-4717-ad9b-717e474e95d9\", \"event_date\": 1701321347, \"action\": \"log\", \"uri\": \"https://databricks.com/tags/list/bloghome.php\"}",
         "dbdemos-sessions",
         8,
         16368572,
         "2023-11-30T05:15:43.426Z",
         0
        ],
        [
         null,
         "{\"user_id\": \"9acce7bf-7baa-45f0-b598-93b24e8843fd\", \"platform\": \"ios\", \"event_id\": \"c0efc7a8-f3f7-4a95-a9c3-f88e11742f5d\", \"event_date\": 1701321339, \"action\": \"click\", \"uri\": \"https://databricks.com/tags/mainfaq.htm\"}",
         "dbdemos-sessions",
         8,
         16368573,
         "2023-11-30T05:15:43.427Z",
         0
        ],
        [
         null,
         "{\"user_id\": \"8c78e34e-0201-4757-a82a-fa0d9f70beda\", \"platform\": \"other\", \"event_id\": \"96ec1bd5-eeaf-4df2-b1bc-1c08571ad356\", \"event_date\": 1701321346, \"action\": \"click\", \"uri\": \"https://databricks.com/categories/wp-content/appmain.html\"}",
         "dbdemos-sessions",
         8,
         16368574,
         "2023-11-30T05:15:44.446Z",
         0
        ],
        [
         null,
         "{\"user_id\": \"81ce2faa-fb20-44a8-9c19-f4ac9020b1b2\", \"platform\": \"ios\", \"event_id\": \"3c08d33d-b441-4c82-8886-1fcb8857c83e\", \"event_date\": 1701321350, \"action\": \"click\", \"uri\": \"https://databricks.com/postsregister.html\"}",
         "dbdemos-sessions",
         8,
         16368575,
         "2023-11-30T05:15:46.463Z",
         0
        ],
        [
         null,
         "{\"user_id\": \"1ee2129c-c85d-4ce8-af1f-765728e690fe\", \"platform\": \"ios\", \"event_id\": \"6ca055a2-eb2f-43ab-b5ac-c5b3d14b40e3\", \"event_date\": 1701321351, \"action\": \"view\", \"uri\": \"https://databricks.com/categories/wp-contentmain.htm\"}",
         "dbdemos-sessions",
         8,
         16368576,
         "2023-11-30T05:15:48.491Z",
         0
        ],
        [
         null,
         "{\"user_id\": \"2a284ec7-9875-4c46-a431-bc41aef3bb00\", \"platform\": \"ios\", \"event_id\": \"dde2a798-7c95-483f-a346-f7b78408a598\", \"event_date\": 1701321344, \"action\": \"click\", \"uri\": \"https://databricks.com/posts/postspost.jsp\"}",
         "dbdemos-sessions",
         8,
         16368577,
         "2023-11-30T05:15:49.508Z",
         0
        ],
        [
         null,
         "{\"user_id\": \"ed3224d7-fb6d-42ec-89c2-dc64f4f3be97\", \"platform\": \"other\", \"event_id\": \"46ec654f-ee96-46be-80a0-06e65a596e2f\", \"event_date\": 1701321349, \"action\": \"click\", \"uri\": \"https://databricks.com/appmain.jsp\"}",
         "dbdemos-sessions",
         8,
         16368578,
         "2023-11-30T05:15:50.512Z",
         0
        ],
        [
         null,
         "{\"user_id\": \"6e102f64-abf8-441b-942d-19df3cde3714\", \"platform\": \"other\", \"event_id\": \"a45cf3ea-d3c6-4146-9a76-fcea449ef099\", \"event_date\": 1701321346, \"action\": \"click\", \"uri\": \"https://databricks.com/app/postsfaq.asp\"}",
         "dbdemos-sessions",
         8,
         16368579,
         "2023-11-30T05:15:50.514Z",
         0
        ],
        [
         null,
         "{\"user_id\": \"89266034-ab6f-4298-a4f2-26ee888d009a\", \"platform\": \"other\", \"event_id\": \"95f76542-1061-4835-a8fa-0e812d84924e\", \"event_date\": 1701321351, \"action\": \"view\", \"uri\": \"https://databricks.com/category/tags/tagmain.htm\"}",
         "dbdemos-sessions",
         8,
         16368580,
         "2023-11-30T05:15:50.517Z",
         0
        ],
        [
         null,
         "{\"user_id\": \"1983f70f-77a9-4412-a898-1c7e3312d2af\", \"platform\": \"other\", \"event_id\": \"f3ce0bfe-5b07-477a-ab40-0d9b456ad789\", \"event_date\": 1701321351, \"action\": \"click\", \"uri\": \"https://databricks.com/searchindex.php\"}",
         "dbdemos-sessions",
         8,
         16368581,
         "2023-11-30T05:15:52.534Z",
         0
        ],
        [
         null,
         "{\"user_id\": \"5b573c0b-32f7-4f2a-b49c-1e8989ddc2b1\", \"platform\": \"ios\", \"event_id\": \"3c1f6924-0548-4baa-92f8-ed50e0b8f9da\", \"event_date\": 1701321355, \"action\": \"view\", \"uri\": \"https://databricks.com/search/searchhomepage.php\"}",
         "dbdemos-sessions",
         8,
         16368582,
         "2023-11-30T05:15:52.543Z",
         0
        ],
        [
         null,
         "{\"user_id\": \"287d6985-e3c1-44f7-a700-2df164a43235\", \"platform\": \"other\", \"event_id\": \"8a8fadd7-c621-4090-a021-c76a01b7c624\", \"event_date\": 1701321353, \"action\": \"click\", \"uri\": \"https://databricks.com/blog/posts/bloglogin.htm\"}",
         "dbdemos-sessions",
         8,
         16368583,
         "2023-11-30T05:15:53.545Z",
         0
        ],
        [
         null,
         "{\"user_id\": \"66fe7dd1-8f19-470c-b4b8-be75c4793e76\", \"platform\": \"other\", \"event_id\": \"c3c4421e-47db-4ee1-bcf4-c13f210fe7b4\", \"event_date\": 1701321351, \"action\": \"log\", \"uri\": \"https://databricks.com/wp-content/wp-content/mainprivacy.asp\"}",
         "dbdemos-sessions",
         8,
         16368584,
         "2023-11-30T05:15:54.56Z",
         0
        ],
        [
         null,
         "{\"user_id\": \"604ae75c-5537-43da-bd92-5a235a891266\", \"platform\": \"other\", \"event_id\": \"3b80ab19-4307-4f4c-b9dc-845e480afe15\", \"event_date\": 1701321350, \"action\": \"view\", \"uri\": \"https://databricks.com/searchhomepage.htm\"}",
         "dbdemos-sessions",
         8,
         16368585,
         "2023-11-30T05:15:54.564Z",
         0
        ],
        [
         null,
         "{\"user_id\": \"54371530-b4ba-4a28-9f12-2bc87205aded\", \"platform\": \"ios\", \"event_id\": \"4b38360f-bfbb-45a3-817a-59e71e6d4d3e\", \"event_date\": 1701321354, \"action\": \"view\", \"uri\": \"https://databricks.com/tag/blogregister.jsp\"}",
         "dbdemos-sessions",
         8,
         16368586,
         "2023-11-30T05:15:55.576Z",
         0
        ],
        [
         null,
         "{\"user_id\": \"8ebe91ce-5ce9-4215-b90d-afa7ffc2031b\", \"platform\": \"ios\", \"event_id\": \"2f19be9a-5b6c-440d-bd34-4d2fdef1aa35\", \"event_date\": 1701321355, \"action\": \"view\", \"uri\": \"https://databricks.com/explore/tags/categorycategory.php\"}",
         "dbdemos-sessions",
         8,
         16368587,
         "2023-11-30T05:15:55.582Z",
         0
        ],
        [
         null,
         "{\"user_id\": \"d78e2c84-3acd-4c26-a603-415b76c598ea\", \"platform\": \"other\", \"event_id\": \"1ba9c4ee-b7f2-4187-a30d-0c8aefd54495\", \"event_date\": 1701321360, \"action\": \"view\", \"uri\": \"https://databricks.com/app/blogsearch.jsp\"}",
         "dbdemos-sessions",
         8,
         16368588,
         "2023-11-30T05:15:56.588Z",
         0
        ],
        [
         null,
         "{\"user_id\": \"18713496-a98e-49a4-ab88-9f029f18b4c5\", \"platform\": \"other\", \"event_id\": \"5787c540-3e91-4d20-b604-eefedcc8c99c\", \"event_date\": 1701321351, \"action\": \"view\", \"uri\": \"https://databricks.com/categorycategory.html\"}",
         "dbdemos-sessions",
         8,
         16368589,
         "2023-11-30T05:15:56.59Z",
         0
        ],
        [
         null,
         "{\"user_id\": \"34265667-87e0-4a72-b118-befa1e41b2b7\", \"platform\": \"other\", \"event_id\": \"2b157601-38cb-483f-a09f-fc509074ce79\", \"event_date\": 1701321360, \"action\": \"view\", \"uri\": \"https://databricks.com/main/tagshomepage.php\"}",
         "dbdemos-sessions",
         8,
         16368590,
         "2023-11-30T05:15:56.593Z",
         0
        ],
        [
         null,
         "{\"user_id\": \"0258e062-93d5-47ae-bf8f-5e946b856f1a\", \"platform\": \"other\", \"event_id\": \"5fd91013-e483-440a-8983-d156912a5897\", \"event_date\": 1701321358, \"action\": \"click\", \"uri\": \"https://databricks.com/postshome.php\"}",
         "dbdemos-sessions",
         8,
         16368591,
         "2023-11-30T05:15:56.595Z",
         0
        ],
        [
         null,
         "{\"user_id\": \"471b9cf5-93fd-4290-927c-5f78456145dc\", \"platform\": \"ios\", \"event_id\": \"c4fe635c-28a6-4e03-b8ac-760e4016141f\", \"event_date\": 1701321358, \"action\": \"log\", \"uri\": \"https://databricks.com/blog/blogsearch.php\"}",
         "dbdemos-sessions",
         8,
         16368592,
         "2023-11-30T05:15:56.597Z",
         0
        ],
        [
         null,
         "{\"user_id\": \"fe5cd354-51ff-49cb-98c2-ba91e24b9117\", \"platform\": \"android\", \"event_id\": \"69178998-e861-4bbf-a1c9-2b6242c972f3\", \"event_date\": 1701321359, \"action\": \"click\", \"uri\": \"https://databricks.com/categories/category/categoriesindex.php\"}",
         "dbdemos-sessions",
         8,
         16368593,
         "2023-11-30T05:15:57.6Z",
         0
        ],
        [
         null,
         "{\"user_id\": \"b994d64b-9f05-4a97-a53d-d95128f1c0c3\", \"platform\": \"android\", \"event_id\": \"f8face26-c289-43b4-ad79-db0cb4fd23f6\", \"event_date\": 1701321358, \"action\": \"view\", \"uri\": \"https://databricks.com/categories/tagshomepage.html\"}",
         "dbdemos-sessions",
         8,
         16368594,
         "2023-11-30T05:15:58.625Z",
         0
        ],
        [
         null,
         "{\"user_id\": \"65c8a970-e4e2-4fc7-9706-825f852acd65\", \"platform\": \"ios\", \"event_id\": \"5d704de8-44af-4fa7-909a-67bcfb705a1a\", \"event_date\": 1701321362, \"action\": \"log\", \"uri\": \"https://databricks.com/tags/wp-content/exploreregister.htm\"}",
         "dbdemos-sessions",
         8,
         16368595,
         "2023-11-30T05:16:00.666Z",
         0
        ],
        [
         null,
         "{\"user_id\": \"c5d9d13b-3de4-4750-a7ff-c642e55c606e\", \"platform\": null, \"event_id\": \"981db5cc-42c2-4769-a587-d76735fc5b46\", \"event_date\": 1701321362, \"action\": \"click\", \"uri\": \"https://databricks.com/wp-contentmain.html\"}",
         "dbdemos-sessions",
         8,
         16368596,
         "2023-11-30T05:16:01.701Z",
         0
        ],
        [
         null,
         "{\"user_id\": \"50e32c77-ce88-45b4-9b25-7c747615596b\", \"platform\": \"other\", \"event_id\": \"e8da17ff-48e2-4bdf-b3f4-2d5a8213e7dc\", \"event_date\": 1701321341, \"action\": \"view\", \"uri\": \"https://databricks.com/categories/listauthor.php\"}",
         "dbdemos-sessions",
         6,
         16368407,
         "2023-11-30T05:15:41.412Z",
         0
        ],
        [
         null,
         "{\"user_id\": \"e4e079a9-103e-464b-8b2f-b7d906066bad\", \"platform\": \"android\", \"event_id\": \"9c12b7fe-6805-444f-b70d-816cb6dee3fa\", \"event_date\": 1701321341, \"action\": \"view\", \"uri\": \"https://databricks.com/wp-content/app/tagsmain.htm\"}",
         "dbdemos-sessions",
         6,
         16368408,
         "2023-11-30T05:15:42.415Z",
         0
        ],
        [
         null,
         "{\"user_id\": \"8c78e34e-0201-4757-a82a-fa0d9f70beda\", \"platform\": \"ios\", \"event_id\": \"7de9f5eb-5f23-4388-a1c0-a44a5e111b02\", \"event_date\": 1701321344, \"action\": \"click\", \"uri\": \"https://databricks.com/blog/wp-content/listpost.html\"}",
         "dbdemos-sessions",
         6,
         16368409,
         "2023-11-30T05:15:43.429Z",
         0
        ],
        [
         null,
         "{\"user_id\": \"f044d5b8-0357-44e1-b9cf-40ba0512eeb0\", \"platform\": \"other\", \"event_id\": \"35050fe1-2fa1-4457-af9b-7757bf0ea043\", \"event_date\": 1701321341, \"action\": \"view\", \"uri\": \"https://databricks.com/tagsabout.html\"}",
         "dbdemos-sessions",
         6,
         16368410,
         "2023-11-30T05:15:45.455Z",
         0
        ],
        [
         null,
         "{\"user_id\": \"34265667-87e0-4a72-b118-befa1e41b2b7\", \"platform\": \"other\", \"event_id\": \"38ea669f-f6c7-45aa-a49a-de59f3ba1ac3\", \"event_date\": 1701321341, \"action\": \"view\", \"uri\": \"https://databricks.com/tagslogin.html\"}",
         "dbdemos-sessions",
         6,
         16368411,
         "2023-11-30T05:15:45.456Z",
         0
        ],
        [
         null,
         "{\"user_id\": \"426ccd91-2409-4b5d-83e9-d582f552985e\", \"platform\": \"ios\", \"event_id\": \"d41e0005-418f-49f9-bcf3-540b8e46c058\", \"event_date\": 1701321344, \"action\": \"click\", \"uri\": \"https://databricks.com/tag/postsregister.asp\"}",
         "dbdemos-sessions",
         6,
         16368412,
         "2023-11-30T05:15:45.458Z",
         0
        ],
        [
         null,
         "{\"user_id\": \"2a284ec7-9875-4c46-a431-bc41aef3bb00\", \"platform\": \"ios\", \"event_id\": null, \"event_date\": 1701321343, \"action\": \"view\", \"uri\": \"https://databricks.com/search/wp-contentpost.php\"}",
         "dbdemos-sessions",
         6,
         16368413,
         "2023-11-30T05:15:45.46Z",
         0
        ],
        [
         null,
         "{\"user_id\": \"d205fb2a-dea2-45a1-85f1-caba13d64e95\", \"platform\": \"ios\", \"event_id\": \"ebd6114a-f716-4bf0-ae2b-2f2eebc0dae0\", \"event_date\": 1701321345, \"action\": \"view\", \"uri\": \"https://databricks.com/listfaq.html\"}",
         "dbdemos-sessions",
         6,
         16368414,
         "2023-11-30T05:15:46.462Z",
         0
        ],
        [
         null,
         "{\"user_id\": \"6e102f64-abf8-441b-942d-19df3cde3714\", \"platform\": \"ios\", \"event_id\": \"208ddd03-735d-4181-828f-95dfe084c0ec\", \"event_date\": 1701321344, \"action\": \"view\", \"uri\": \"https://databricks.com/blogsearch.htm\"}",
         "dbdemos-sessions",
         6,
         16368415,
         "2023-11-30T05:15:46.464Z",
         0
        ],
        [
         null,
         "{\"user_id\": \"24e73178-c559-4484-8349-7ea3c1f77105\", \"platform\": \"ios\", \"event_id\": \"691330ea-9e45-4e1b-918c-7e74b3edb131\", \"event_date\": 1701321346, \"action\": \"view\", \"uri\": \"https://databricks.com/category/explore/taghomepage.html\"}",
         "dbdemos-sessions",
         6,
         16368416,
         "2023-11-30T05:15:46.468Z",
         0
        ],
        [
         null,
         "{\"user_id\": \"88019c0c-6cb1-4e46-a3ea-97661d159ba5\", \"platform\": \"ios\", \"event_id\": \"452dce78-2bd9-4259-8c5a-4320c052ec68\", \"event_date\": 1701321345, \"action\": \"click\", \"uri\": \"https://databricks.com/posts/tags/appindex.jsp\"}",
         "dbdemos-sessions",
         6,
         16368417,
         "2023-11-30T05:15:47.479Z",
         0
        ],
        [
         null,
         "{\"user_id\": \"c55b143c-8132-4867-9320-72df1b6c0af4\", \"platform\": \"ios\", \"event_id\": \"d22035a3-a6ab-4ff4-9b55-60792347cee6\", \"event_date\": 1701321342, \"action\": \"view\", \"uri\": \"https://databricks.com/blog/wp-content/mainsearch.html\"}",
         "dbdemos-sessions",
         6,
         16368418,
         "2023-11-30T05:15:47.485Z",
         0
        ],
        [
         null,
         "{\"user_id\": \"4f9a4975-58ad-4063-be2c-d7fafb9f9072\", \"platform\": \"ios\", \"event_id\": \"871fa8e4-7f46-44db-9785-aaa5b3d6095b\", \"event_date\": 1701321351, \"action\": \"view\", \"uri\": \"https://databricks.com/tag/tags/searchmain.html\"}",
         "dbdemos-sessions",
         6,
         16368419,
         "2023-11-30T05:15:48.491Z",
         0
        ],
        [
         null,
         "{\"user_id\": \"954c2940-2415-4618-89e3-8f4147680ac1\", \"platform\": \"ios\", \"event_id\": \"0e6e1c8d-0205-4236-ba20-998308bac9cb\", \"event_date\": 1701321349, \"action\": \"view\", \"uri\": \"https://databricks.com/explore/main/appterms.html\"}",
         "dbdemos-sessions",
         6,
         16368420,
         "2023-11-30T05:15:48.494Z",
         0
        ],
        [
         null,
         "{\"user_id\": \"6937cb27-2941-49c8-9431-ef4836329ae6\", \"platform\": \"ios\", \"event_id\": \"31bebade-296b-44ef-b5e2-b5db4fe1a715\", \"event_date\": 1701321349, \"action\": \"view\", \"uri\": \"https://databricks.com/explore/wp-contentsearch.html\"}",
         "dbdemos-sessions",
         6,
         16368421,
         "2023-11-30T05:15:48.496Z",
         0
        ],
        [
         null,
         "{\"user_id\": \"a1801d71-661b-4b13-99c5-46b48e26295d\", \"platform\": \"ios\", \"event_id\": \"0a416aba-c489-4aa5-bf67-583b242e0745\", \"event_date\": 1701321345, \"action\": \"click\", \"uri\": \"https://databricks.com/categoriessearch.html\"}",
         "dbdemos-sessions",
         6,
         16368422,
         "2023-11-30T05:15:48.496Z",
         0
        ],
        [
         null,
         "{\"user_id\": \"f044d5b8-0357-44e1-b9cf-40ba0512eeb0\", \"platform\": \"other\", \"event_id\": \"0553264c-5844-4c8f-9fc3-7cebc9ed7102\", \"event_date\": 1701321345, \"action\": \"click\", \"uri\": \"https://databricks.com/categoryhomepage.asp\"}",
         "dbdemos-sessions",
         6,
         16368423,
         "2023-11-30T05:15:49.502Z",
         0
        ],
        [
         null,
         "{\"user_id\": \"301ed5d3-8d3d-4e1e-96da-0043610a5c98\", \"platform\": \"other\", \"event_id\": \"5c104dd5-ce49-45fa-9404-994149af8c5b\", \"event_date\": 1701321349, \"action\": \"click\", \"uri\": \"https://databricks.com/explore/mainauthor.html\"}",
         "dbdemos-sessions",
         6,
         16368424,
         "2023-11-30T05:15:49.505Z",
         0
        ],
        [
         null,
         "{\"user_id\": \"d6b698c1-d982-4afd-913f-a4ba28177397\", \"platform\": \"ios\", \"event_id\": \"574ed7cb-adff-420f-b95c-64256ed6d02b\", \"event_date\": 1701321351, \"action\": \"click\", \"uri\": \"https://databricks.com/list/search/tagssearch.html\"}",
         "dbdemos-sessions",
         6,
         16368425,
         "2023-11-30T05:15:49.508Z",
         0
        ],
        [
         null,
         "{\"user_id\": \"d5c1965f-4903-4b86-895d-f9cce7d9c963\", \"platform\": \"ios\", \"event_id\": \"36949ef5-1c63-417c-be6d-b74e7bf76ea3\", \"event_date\": 1701321352, \"action\": null, \"uri\": \"https://databricks.com/blog/categoriesregister.html\"}",
         "dbdemos-sessions",
         6,
         16368426,
         "2023-11-30T05:15:51.524Z",
         0
        ],
        [
         null,
         "{\"user_id\": \"1e7b7295-6965-4c14-ab59-388167c9baeb\", \"platform\": \"other\", \"event_id\": \"e9affb2b-7d4f-4fb0-8e62-196321641325\", \"event_date\": 1701321346, \"action\": \"view\", \"uri\": \"https://databricks.com/searchhome.html\"}",
         "dbdemos-sessions",
         6,
         16368427,
         "2023-11-30T05:15:51.529Z",
         0
        ],
        [
         null,
         "{\"user_id\": \"d6b698c1-d982-4afd-913f-a4ba28177397\", \"platform\": \"other\", \"event_id\": \"e680a7ba-2651-41a9-af8b-086047e5bc32\", \"event_date\": 1701321349, \"action\": \"click\", \"uri\": \"https://databricks.com/listprivacy.html\"}",
         "dbdemos-sessions",
         6,
         16368428,
         "2023-11-30T05:15:51.532Z",
         0
        ],
        [
         null,
         "{\"user_id\": \"02467029-f802-4ee5-ab0f-6f80a46c4320\", \"platform\": \"ios\", \"event_id\": \"be77dc6b-3e26-4af5-8897-7bc3235611c3\", \"event_date\": 1701321354, \"action\": \"click\", \"uri\": \"https://databricks.com/blog/blog/listhomepage.php\"}",
         "dbdemos-sessions",
         6,
         16368429,
         "2023-11-30T05:15:52.541Z",
         0
        ],
        [
         null,
         "{\"user_id\": \"a1801d71-661b-4b13-99c5-46b48e26295d\", \"platform\": \"other\", \"event_id\": \"f3396bd7-77ea-4340-8b67-0b24169d5688\", \"event_date\": 1701321353, \"action\": \"log\", \"uri\": \"https://databricks.com/searchindex.php\"}",
         "dbdemos-sessions",
         6,
         16368430,
         "2023-11-30T05:15:52.543Z",
         0
        ],
        [
         null,
         "{\"user_id\": \"f044d5b8-0357-44e1-b9cf-40ba0512eeb0\", \"platform\": \"android\", \"event_id\": \"9baa7056-ae7d-4f07-a7df-ecb77c0a57fd\", \"event_date\": 1701321353, \"action\": \"view\", \"uri\": \"https://databricks.com/tags/postsauthor.html\"}",
         "dbdemos-sessions",
         6,
         16368431,
         "2023-11-30T05:15:53.549Z",
         0
        ],
        [
         null,
         "{\"user_id\": \"af86d48a-b571-4050-acbc-145b24579671\", \"platform\": \"ios\", \"event_id\": \"1801630c-43fc-4c2f-9023-1cf4f34c7399\", \"event_date\": 1701321350, \"action\": \"view\", \"uri\": \"https://databricks.com/appabout.html\"}",
         "dbdemos-sessions",
         6,
         16368432,
         "2023-11-30T05:15:54.562Z",
         0
        ],
        [
         null,
         "{\"user_id\": \"66fe7dd1-8f19-470c-b4b8-be75c4793e76\", \"platform\": \"other\", \"event_id\": \"b9e08127-aec0-4dec-a183-b0d7b092cadc\", \"event_date\": 1701321353, \"action\": \"view\", \"uri\": \"https://databricks.com/wp-contentmain.jsp\"}",
         "dbdemos-sessions",
         6,
         16368433,
         "2023-11-30T05:15:56.591Z",
         0
        ],
        [
         null,
         "{\"user_id\": \"5d81aa0b-2986-4b18-abbd-b085380a1bb6\", \"platform\": \"other\", \"event_id\": \"4b984e02-a4ce-4da5-b5a9-9f986ae93e23\", \"event_date\": 1701321358, \"action\": \"view\", \"uri\": \"https://databricks.com/searchprivacy.jsp\"}",
         "dbdemos-sessions",
         6,
         16368434,
         "2023-11-30T05:15:56.592Z",
         0
        ],
        [
         null,
         "{\"user_id\": \"7cd07a2d-d835-470d-a0c8-b3400c915ac7\", \"platform\": \"other\", \"event_id\": \"62e1c905-6f1b-4e57-9515-5c1775040e95\", \"event_date\": 1701321360, \"action\": \"view\", \"uri\": \"https://databricks.com/blog/searchcategory.asp\"}",
         "dbdemos-sessions",
         6,
         16368435,
         "2023-11-30T05:15:57.599Z",
         0
        ],
        [
         null,
         "{\"user_id\": \"2a284ec7-9875-4c46-a431-bc41aef3bb00\", \"platform\": \"android\", \"event_id\": \"321a0b40-464a-4e73-93a5-cdc10e7eadbf\", \"event_date\": 1701321353, \"action\": \"view\", \"uri\": \"https://databricks.com/wp-content/tagmain.asp\"}",
         "dbdemos-sessions",
         6,
         16368436,
         "2023-11-30T05:15:57.604Z",
         0
        ],
        [
         null,
         "{\"user_id\": \"96d32b6c-fb2a-48a1-aea2-2e1df5de0234\", \"platform\": \"other\", \"event_id\": \"fefe8581-abc7-4a8d-af3c-fb3fdcc304e8\", \"event_date\": 1701321360, \"action\": \"view\", \"uri\": \"https://databricks.com/posts/apphome.html\"}",
         "dbdemos-sessions",
         6,
         16368437,
         "2023-11-30T05:15:57.605Z",
         0
        ],
        [
         null,
         "{\"user_id\": \"ff3f9bdd-d0a3-4d28-b151-454d5e88546b\", \"platform\": \"other\", \"event_id\": \"ea853260-1bbf-4606-901e-c684373b315a\", \"event_date\": 1701321356, \"action\": \"log\", \"uri\": \"https://databricks.com/postsauthor.php\"}",
         "dbdemos-sessions",
         6,
         16368438,
         "2023-11-30T05:15:59.635Z",
         0
        ],
        [
         null,
         "{\"user_id\": \"5374937a-2fa0-47af-a197-a01ef24a80ad\", \"platform\": \"ios\", \"event_id\": \"7e57f872-34b9-46c4-8a6e-ebcb584defe2\", \"event_date\": 1701321364, \"action\": \"view\", \"uri\": \"https://databricks.com/apphome.php\"}",
         "dbdemos-sessions",
         6,
         16368439,
         "2023-11-30T05:16:00.66Z",
         0
        ],
        [
         null,
         "{\"user_id\": \"bb041937-335f-4592-9b28-75cbd928cd41\", \"platform\": \"ios\", \"event_id\": \"023576fe-e9a5-45bc-9f6b-b4565883136c\", \"event_date\": 1701321363, \"action\": \"view\", \"uri\": \"https://databricks.com/categoriescategory.jsp\"}",
         "dbdemos-sessions",
         6,
         16368440,
         "2023-11-30T05:16:01.669Z",
         0
        ],
        [
         null,
         "{\"user_id\": \"5374937a-2fa0-47af-a197-a01ef24a80ad\", \"platform\": \"ios\", \"event_id\": \"61cbde35-1dfc-4f41-8f95-97aaf88a27ac\", \"event_date\": 1701321361, \"action\": \"view\", \"uri\": \"https://databricks.com/categories/search/wp-contentcategory.php\"}",
         "dbdemos-sessions",
         6,
         16368441,
         "2023-11-30T05:16:01.672Z",
         0
        ],
        [
         null,
         "{\"user_id\": \"d78e2c84-3acd-4c26-a603-415b76c598ea\", \"platform\": \"ios\", \"event_id\": \"bfaec573-03a7-4275-9db0-d3a7b0020620\", \"event_date\": 1701321338, \"action\": \"view\", \"uri\": \"https://databricks.com/tagregister.jsp\"}",
         "dbdemos-sessions",
         2,
         16371826,
         "2023-11-30T05:15:40.402Z",
         0
        ],
        [
         null,
         "{\"user_id\": \"fe5cd354-51ff-49cb-98c2-ba91e24b9117\", \"platform\": \"android\", \"event_id\": \"40c16df4-f52b-464c-862c-23d3077d753f\", \"event_date\": 1701321336, \"action\": \"click\", \"uri\": \"https://databricks.com/blogindex.jsp\"}",
         "dbdemos-sessions",
         2,
         16371827,
         "2023-11-30T05:15:40.403Z",
         0
        ],
        [
         null,
         "{\"user_id\": \"5e349b64-9ae8-4bf6-919b-33890e3444fb\", \"platform\": \"ios\", \"event_id\": \"d78d1fc9-a112-44e6-bf94-483ef8e03657\", \"event_date\": 1701321343, \"action\": \"click\", \"uri\": \"https://databricks.com/posts/categories/searchabout.htm\"}",
         "dbdemos-sessions",
         2,
         16371828,
         "2023-11-30T05:15:40.405Z",
         0
        ],
        [
         null,
         "{\"user_id\": \"d469e072-41ae-4497-b541-de287868682f\", \"platform\": \"ios\", \"event_id\": \"ecd38b1b-5431-41e9-af35-3995308de194\", \"event_date\": 1701321347, \"action\": \"view\", \"uri\": \"https://databricks.com/mainabout.html\"}",
         "dbdemos-sessions",
         2,
         16371829,
         "2023-11-30T05:15:43.421Z",
         0
        ],
        [
         null,
         "{\"user_id\": \"d6b698c1-d982-4afd-913f-a4ba28177397\", \"platform\": \"ios\", \"event_id\": \"d40a7861-5e52-40e1-81ff-3ac9233ebdcf\", \"event_date\": 1701321343, \"action\": \"view\", \"uri\": \"https://databricks.com/search/wp-contenthomepage.htm\"}",
         "dbdemos-sessions",
         2,
         16371830,
         "2023-11-30T05:15:43.432Z",
         0
        ],
        [
         null,
         "{\"user_id\": \"287d6985-e3c1-44f7-a700-2df164a43235\", \"platform\": \"ios\", \"event_id\": \"dfd60bb6-9c10-44f7-909c-046e53c5da18\", \"event_date\": 1701321342, \"action\": \"log\", \"uri\": \"https://databricks.com/tagspost.php\"}",
         "dbdemos-sessions",
         2,
         16371831,
         "2023-11-30T05:15:44.44Z",
         0
        ],
        [
         null,
         "{\"user_id\": \"c74ac38e-0a9b-4785-9a27-09d1d694e40c\", \"platform\": \"ios\", \"event_id\": \"1e9469be-bd24-4150-80f3-8d0ef1e4ce6d\", \"event_date\": 1701321348, \"action\": \"click\", \"uri\": \"https://databricks.com/explore/app/categoriesabout.html\"}",
         "dbdemos-sessions",
         2,
         16371832,
         "2023-11-30T05:15:44.445Z",
         0
        ],
        [
         null,
         "{\"user_id\": \"54371530-b4ba-4a28-9f12-2bc87205aded\", \"platform\": \"ios\", \"event_id\": \"080e2da8-630e-47e1-85d1-c9516589edbc\", \"event_date\": 1701321342, \"action\": \"view\", \"uri\": \"https://databricks.com/posts/main/appmain.jsp\"}",
         "dbdemos-sessions",
         2,
         16371833,
         "2023-11-30T05:15:45.453Z",
         0
        ],
        [
         null,
         "{\"user_id\": \"7354e19a-6b74-4581-9278-7d2a1fa506d2\", \"platform\": \"ios\", \"event_id\": \"fc4ae30a-e464-4018-baaf-1674e50d8e55\", \"event_date\": 1701321343, \"action\": \"view\", \"uri\": \"https://databricks.com/categoryindex.php\"}",
         "dbdemos-sessions",
         2,
         16371834,
         "2023-11-30T05:15:45.454Z",
         0
        ],
        [
         null,
         "{\"user_id\": \"301ed5d3-8d3d-4e1e-96da-0043610a5c98\", \"platform\": \"other\", \"event_id\": \"bb1aca4d-539e-462b-b4fd-7b3eccb1854c\", \"event_date\": 1701321344, \"action\": \"view\", \"uri\": \"https://databricks.com/app/tagsindex.html\"}",
         "dbdemos-sessions",
         2,
         16371835,
         "2023-11-30T05:15:45.459Z",
         0
        ],
        [
         null,
         "{\"user_id\": \"c6520f02-c12e-4be1-bb5d-e86400691485\", \"platform\": \"other\", \"event_id\": \"863bc281-efd1-4b27-a95e-65b98a72a5c4\", \"event_date\": 1701321346, \"action\": \"click\", \"uri\": \"https://databricks.com/mainsearch.htm\"}",
         "dbdemos-sessions",
         2,
         16371836,
         "2023-11-30T05:15:46.462Z",
         0
        ],
        [
         null,
         "{\"user_id\": \"d5c1965f-4903-4b86-895d-f9cce7d9c963\", \"platform\": \"other\", \"event_id\": \"d40fe94b-624d-4c0c-b322-26c360de3c9a\", \"event_date\": 1701321341, \"action\": \"view\", \"uri\": \"https://databricks.com/category/posts/categoriesmain.jsp\"}",
         "dbdemos-sessions",
         2,
         16371837,
         "2023-11-30T05:15:46.464Z",
         0
        ],
        [
         null,
         "{\"user_id\": \"8e47e6d7-ef56-45ef-9779-3eb3fbb427f4\", \"platform\": \"android\", \"event_id\": \"51cd27a5-c037-478f-9ab9-62e72f31d570\", \"event_date\": 1701321342, \"action\": \"view\", \"uri\": \"https://databricks.com/categoriespost.html\"}",
         "dbdemos-sessions",
         2,
         16371838,
         "2023-11-30T05:15:46.465Z",
         0
        ],
        [
         null,
         "{\"user_id\": \"93ef5cae-b681-4e40-8e10-cae4283b2b04\", \"platform\": \"ios\", \"event_id\": \"809f7e61-c25a-4ff1-80fe-0cfdc2be28d1\", \"event_date\": 1701321342, \"action\": \"view\", \"uri\": \"https://databricks.com/category/tag/blogabout.jsp\"}",
         "dbdemos-sessions",
         2,
         16371839,
         "2023-11-30T05:15:47.471Z",
         0
        ],
        [
         null,
         "{\"user_id\": \"54371530-b4ba-4a28-9f12-2bc87205aded\", \"platform\": \"ios\", \"event_id\": \"e8da2f18-c27b-440c-9568-c6e48ddb897a\", \"event_date\": 1701321345, \"action\": \"click\", \"uri\": \"https://databricks.com/app/tagshome.htm\"}",
         "dbdemos-sessions",
         2,
         16371840,
         "2023-11-30T05:15:47.478Z",
         0
        ],
        [
         null,
         "{\"user_id\": \"8ebe91ce-5ce9-4215-b90d-afa7ffc2031b\", \"platform\": \"ios\", \"event_id\": \"fe8166bf-da69-43bc-9fc5-bcc885ff6c33\", \"event_date\": 1701321348, \"action\": \"view\", \"uri\": \"https://databricks.com/search/searchabout.php\"}",
         "dbdemos-sessions",
         2,
         16371841,
         "2023-11-30T05:15:47.487Z",
         0
        ],
        [
         null,
         "{\"user_id\": \"8953da1a-a780-42b1-a6dc-ef3a8d881435\", \"platform\": \"android\", \"event_id\": \"8e8a7b3c-19fa-4564-9eec-43d45eb41bb7\", \"event_date\": 1701321345, \"action\": \"view\", \"uri\": \"https://databricks.com/search/listcategory.html\"}",
         "dbdemos-sessions",
         2,
         16371842,
         "2023-11-30T05:15:48.492Z",
         0
        ],
        [
         null,
         "{\"user_id\": \"fa31e0c0-f1fa-432f-b6ae-5bf2146cca06\", \"platform\": \"android\", \"event_id\": \"5879924a-4984-4c70-987a-b056047501ce\", \"event_date\": 1701321351, \"action\": \"view\", \"uri\": \"https://databricks.com/blog/categoryterms.php\"}",
         "dbdemos-sessions",
         2,
         16371843,
         "2023-11-30T05:15:48.497Z",
         0
        ],
        [
         null,
         "{\"user_id\": \"f5bb0598-15cc-4ded-8192-0bd8262a8941\", \"platform\": \"other\", \"event_id\": \"2be7b86b-817c-4093-a262-e59088815ca0\", \"event_date\": 1701321350, \"action\": \"log\", \"uri\": \"https://databricks.com/searchhome.html\"}",
         "dbdemos-sessions",
         2,
         16371844,
         "2023-11-30T05:15:49.504Z",
         0
        ],
        [
         null,
         "{\"user_id\": \"d6b698c1-d982-4afd-913f-a4ba28177397\", \"platform\": \"ios\", \"event_id\": \"fa870e61-ddb2-46d2-97ef-b4ecc74d36eb\", \"event_date\": 1701321347, \"action\": \"view\", \"uri\": \"https://databricks.com/main/main/mainterms.jsp\"}",
         "dbdemos-sessions",
         2,
         16371845,
         "2023-11-30T05:15:50.518Z",
         0
        ],
        [
         null,
         "{\"user_id\": \"7354e19a-6b74-4581-9278-7d2a1fa506d2\", \"platform\": \"ios\", \"event_id\": \"d678a686-a2b9-42d3-bc44-44e4d5ff6314\", \"event_date\": 1701321350, \"action\": \"click\", \"uri\": \"https://databricks.com/appregister.htm\"}",
         "dbdemos-sessions",
         2,
         16371846,
         "2023-11-30T05:15:51.527Z",
         0
        ],
        [
         null,
         "{\"user_id\": \"954c2940-2415-4618-89e3-8f4147680ac1\", \"platform\": \"ios\", \"event_id\": \"c961d014-3ad6-4d5b-8149-8008b58ea8f0\", \"event_date\": 1701321356, \"action\": \"click\", \"uri\": \"https://databricks.com/main/categories/postshome.html\"}",
         "dbdemos-sessions",
         2,
         16371847,
         "2023-11-30T05:15:53.549Z",
         0
        ],
        [
         null,
         "{\"user_id\": \"4f9a4975-58ad-4063-be2c-d7fafb9f9072\", \"platform\": \"android\", \"event_id\": \"21d6629b-61c8-4d60-b339-f3f198d51fa9\", \"event_date\": 1701321350, \"action\": \"view\", \"uri\": \"https://databricks.com/appfaq.html\"}",
         "dbdemos-sessions",
         2,
         16371848,
         "2023-11-30T05:15:54.558Z",
         0
        ],
        [
         null,
         "{\"user_id\": \"c74ac38e-0a9b-4785-9a27-09d1d694e40c\", \"platform\": \"other\", \"event_id\": \"028de2e7-dc52-4b52-94bf-ee70605e9cd8\", \"event_date\": 1701321355, \"action\": \"log\", \"uri\": \"https://databricks.com/wp-content/tag/exploreindex.html\"}",
         "dbdemos-sessions",
         2,
         16371849,
         "2023-11-30T05:15:54.563Z",
         0
        ],
        [
         null,
         "{\"user_id\": \"40e8d981-8436-4139-9da7-4e0a71be1874\", \"platform\": \"ios\", \"event_id\": \"e5506c2a-e380-49f3-b3ee-a6a00193dfa2\", \"event_date\": 1701321350, \"action\": \"view\", \"uri\": \"https://databricks.com/posts/exploreindex.html\"}",
         "dbdemos-sessions",
         2,
         16371850,
         "2023-11-30T05:15:54.565Z",
         0
        ],
        [
         null,
         "{\"user_id\": \"d205fb2a-dea2-45a1-85f1-caba13d64e95\", \"platform\": \"ios\", \"event_id\": \"b8866674-7dbb-4103-a6a8-5db57378eb15\", \"event_date\": 1701321354, \"action\": \"click\", \"uri\": \"https://databricks.com/app/wp-content/blogabout.html\"}",
         "dbdemos-sessions",
         2,
         16371851,
         "2023-11-30T05:15:55.57Z",
         0
        ],
        [
         null,
         "{\"user_id\": \"e4e079a9-103e-464b-8b2f-b7d906066bad\", \"platform\": \"android\", \"event_id\": \"135ab167-38bd-410d-a647-dd5a4f20fbaa\", \"event_date\": 1701321356, \"action\": null, \"uri\": \"https://databricks.com/main/taglogin.html\"}",
         "dbdemos-sessions",
         2,
         16371852,
         "2023-11-30T05:15:55.572Z",
         0
        ],
        [
         null,
         "{\"user_id\": \"a1801d71-661b-4b13-99c5-46b48e26295d\", \"platform\": \"ios\", \"event_id\": \"46dfc392-62e5-4272-8948-585b039a0574\", \"event_date\": 1701321356, \"action\": \"view\", \"uri\": \"https://databricks.com/category/searchcategory.php\"}",
         "dbdemos-sessions",
         2,
         16371853,
         "2023-11-30T05:15:56.596Z",
         0
        ],
        [
         null,
         "{\"user_id\": \"4f31815d-ad8f-4b3e-9ef3-d7b80e4bf770\", \"platform\": \"ios\", \"event_id\": \"3a13d93d-8a18-4fcd-ae68-0c68ff4d7258\", \"event_date\": 1701321356, \"action\": \"log\", \"uri\": \"https://databricks.com/search/wp-contentauthor.html\"}",
         "dbdemos-sessions",
         2,
         16371854,
         "2023-11-30T05:15:56.597Z",
         0
        ],
        [
         null,
         "{\"user_id\": \"301ed5d3-8d3d-4e1e-96da-0043610a5c98\", \"platform\": \"other\", \"event_id\": \"0b01a489-9289-4cef-bd08-6a6b73d69610\", \"event_date\": 1701321356, \"action\": \"click\", \"uri\": \"https://databricks.com/blogauthor.php\"}",
         "dbdemos-sessions",
         2,
         16371855,
         "2023-11-30T05:15:57.602Z",
         0
        ],
        [
         null,
         "{\"user_id\": \"6e102f64-abf8-441b-942d-19df3cde3714\", \"platform\": \"other\", \"event_id\": \"44de90ff-58ad-4af1-8946-f6831ce68488\", \"event_date\": 1701321355, \"action\": \"view\", \"uri\": \"https://databricks.com/tag/searchabout.htm\"}",
         "dbdemos-sessions",
         2,
         16371856,
         "2023-11-30T05:15:58.614Z",
         0
        ],
        [
         null,
         "{\"user_id\": \"426ccd91-2409-4b5d-83e9-d582f552985e\", \"platform\": \"ios\", \"event_id\": \"3b275a7f-8214-4c0c-80af-0656674fd12e\", \"event_date\": 1701321356, \"action\": \"log\", \"uri\": \"https://databricks.com/tag/mainauthor.php\"}",
         "dbdemos-sessions",
         2,
         16371857,
         "2023-11-30T05:15:58.621Z",
         0
        ],
        [
         null,
         "{\"user_id\": \"b5f792ab-766c-4aa2-86d8-02a7e7abcfc0\", \"platform\": \"ios\", \"event_id\": \"75b223b3-3d47-411b-a776-fff244dbd429\", \"event_date\": 1701321359, \"action\": \"click\", \"uri\": \"https://databricks.com/categorymain.htm\"}",
         "dbdemos-sessions",
         2,
         16371858,
         "2023-11-30T05:15:59.657Z",
         0
        ],
        [
         null,
         "{\"user_id\": \"f044d5b8-0357-44e1-b9cf-40ba0512eeb0\", \"platform\": \"android\", \"event_id\": \"c7135ca0-d816-4db0-88ee-199930a1e724\", \"event_date\": 1701321356, \"action\": \"click\", \"uri\": \"https://databricks.com/search/searchabout.html\"}",
         "dbdemos-sessions",
         2,
         16371859,
         "2023-11-30T05:16:00.663Z",
         0
        ],
        [
         null,
         "{\"user_id\": \"af86d48a-b571-4050-acbc-145b24579671\", \"platform\": \"other\", \"event_id\": \"2b241629-a619-4230-a1ac-a52e1b8f8f41\", \"event_date\": 1701321362, \"action\": \"view\", \"uri\": \"https://databricks.com/explore/searchlogin.htm\"}",
         "dbdemos-sessions",
         2,
         16371860,
         "2023-11-30T05:16:00.663Z",
         0
        ],
        [
         null,
         "{\"user_id\": \"287d6985-e3c1-44f7-a700-2df164a43235\", \"platform\": \"ios\", \"event_id\": \"e4f647b6-3ea4-4624-8c54-dce0a4fec4c0\", \"event_date\": 1701321365, \"action\": \"log\", \"uri\": \"https://databricks.com/wp-content/postssearch.html\"}",
         "dbdemos-sessions",
         2,
         16371861,
         "2023-11-30T05:16:01.672Z",
         0
        ],
        [
         null,
         "{\"user_id\": \"cdf5504b-598d-4c9e-aa2c-01d320d7a397\", \"platform\": \"other\", \"event_id\": \"e7729bb9-6af5-48a2-8fff-2b692be02ab7\", \"event_date\": 1701321362, \"action\": \"view\", \"uri\": \"https://databricks.com/category/mainlogin.html\"}",
         "dbdemos-sessions",
         2,
         16371862,
         "2023-11-30T05:16:01.679Z",
         0
        ],
        [
         null,
         "{\"user_id\": \"604ae75c-5537-43da-bd92-5a235a891266\", \"platform\": \"ios\", \"event_id\": \"e4eee14e-c0fa-4524-9910-6cc7be104b87\", \"event_date\": 1701321338, \"action\": null, \"uri\": \"https://databricks.com/categoriessearch.htm\"}",
         "dbdemos-sessions",
         7,
         16373385,
         "2023-11-30T05:15:40.405Z",
         0
        ],
        [
         null,
         "{\"user_id\": \"d205fb2a-dea2-45a1-85f1-caba13d64e95\", \"platform\": \"ios\", \"event_id\": \"785c3bc6-2463-46ca-9fc0-e5ab104a2790\", \"event_date\": 1701321345, \"action\": \"view\", \"uri\": \"https://databricks.com/search/explorepost.htm\"}",
         "dbdemos-sessions",
         7,
         16373386,
         "2023-11-30T05:15:42.414Z",
         0
        ],
        [
         null,
         "{\"user_id\": \"c55b143c-8132-4867-9320-72df1b6c0af4\", \"platform\": \"ios\", \"event_id\": \"28473a9e-6b6f-4269-b517-c9ee1eea77c7\", \"event_date\": 1701321341, \"action\": \"view\", \"uri\": \"https://databricks.com/blog/posts/mainindex.htm\"}",
         "dbdemos-sessions",
         7,
         16373387,
         "2023-11-30T05:15:42.419Z",
         0
        ],
        [
         null,
         "{\"user_id\": \"604ae75c-5537-43da-bd92-5a235a891266\", \"platform\": \"ios\", \"event_id\": \"4056fb52-dc2a-4305-9a83-226708fd69aa\", \"event_date\": 1701321342, \"action\": null, \"uri\": \"https://databricks.com/app/list/explorefaq.php\"}",
         "dbdemos-sessions",
         7,
         16373388,
         "2023-11-30T05:15:43.429Z",
         0
        ],
        [
         null,
         "{\"user_id\": \"c6520f02-c12e-4be1-bb5d-e86400691485\", \"platform\": \"other\", \"event_id\": \"908ffcb1-f099-46b2-88c4-10c2ccc046ed\", \"event_date\": 1701321346, \"action\": \"view\", \"uri\": \"https://databricks.com/categoriesprivacy.html\"}",
         "dbdemos-sessions",
         7,
         16373389,
         "2023-11-30T05:15:44.435Z",
         0
        ],
        [
         null,
         "{\"user_id\": \"d205fb2a-dea2-45a1-85f1-caba13d64e95\", \"platform\": \"other\", \"event_id\": \"173efeef-b718-4d36-93a6-148daede3d43\", \"event_date\": 1701321339, \"action\": \"view\", \"uri\": \"https://databricks.com/wp-contentauthor.htm\"}",
         "dbdemos-sessions",
         7,
         16373390,
         "2023-11-30T05:15:44.436Z",
         0
        ],
        [
         null,
         "{\"user_id\": \"93ef5cae-b681-4e40-8e10-cae4283b2b04\", \"platform\": \"other\", \"event_id\": \"33f09176-93e9-4356-8719-ab23c7f537ce\", \"event_date\": 1701321347, \"action\": \"click\", \"uri\": \"https://databricks.com/mainhomepage.html\"}",
         "dbdemos-sessions",
         7,
         16373391,
         "2023-11-30T05:15:44.437Z",
         0
        ],
        [
         null,
         "{\"user_id\": \"50e32c77-ce88-45b4-9b25-7c747615596b\", \"platform\": \"ios\", \"event_id\": \"e944c7dd-417d-4435-8362-61cdfda77df3\", \"event_date\": 1701321343, \"action\": \"view\", \"uri\": \"https://databricks.com/mainhomepage.jsp\"}",
         "dbdemos-sessions",
         7,
         16373392,
         "2023-11-30T05:15:44.446Z",
         0
        ],
        [
         null,
         "{\"user_id\": \"1ee2129c-c85d-4ce8-af1f-765728e690fe\", \"platform\": \"ios\", \"event_id\": \"b8a3b6ac-ba5e-4056-9441-f20d226da3d8\", \"event_date\": 1701321347, \"action\": \"click\", \"uri\": \"https://databricks.com/postsmain.htm\"}",
         "dbdemos-sessions",
         7,
         16373393,
         "2023-11-30T05:15:45.452Z",
         0
        ],
        [
         null,
         "{\"user_id\": \"54371530-b4ba-4a28-9f12-2bc87205aded\", \"platform\": \"ios\", \"event_id\": \"080e2da8-630e-47e1-85d1-c9516589edbc\", \"event_date\": 1701321342, \"action\": \"view\", \"uri\": \"https://databricks.com/posts/main/appmain.jsp\"}",
         "dbdemos-sessions",
         7,
         16373394,
         "2023-11-30T05:15:45.454Z",
         0
        ],
        [
         null,
         "{\"user_id\": \"3156d251-7429-4b23-9101-59f0209cddf8\", \"platform\": \"other\", \"event_id\": \"a1343739-2df0-4fbf-be17-db07d22f1c4e\", \"event_date\": 1701321349, \"action\": \"click\", \"uri\": \"https://databricks.com/tag/explorefaq.php\"}",
         "dbdemos-sessions",
         7,
         16373395,
         "2023-11-30T05:15:45.454Z",
         0
        ],
        [
         null,
         "{\"user_id\": \"c0cc8056-d05b-4d33-9c43-a575021a62a8\", \"platform\": \"other\", \"event_id\": \"54a5b2cf-1681-48c1-bc40-665ee51db0d5\", \"event_date\": 1701321345, \"action\": \"view\", \"uri\": \"https://databricks.com/categories/categories/postshome.php\"}",
         "dbdemos-sessions",
         7,
         16373396,
         "2023-11-30T05:15:46.463Z",
         0
        ],
        [
         null,
         "{\"user_id\": \"1983f70f-77a9-4412-a898-1c7e3312d2af\", \"platform\": \"ios\", \"event_id\": \"958c024e-2122-498f-95ed-658ba5a984ce\", \"event_date\": 1701321343, \"action\": \"view\", \"uri\": \"https://databricks.com/blogfaq.htm\"}",
         "dbdemos-sessions",
         7,
         16373397,
         "2023-11-30T05:15:46.465Z",
         0
        ],
        [
         null,
         "{\"user_id\": \"8f2385f0-f59d-4ebc-ac67-d3d5427e9a95\", \"platform\": \"ios\", \"event_id\": \"1ede8873-e55e-4024-89f7-282f20250d08\", \"event_date\": 1701321342, \"action\": \"view\", \"uri\": \"https://databricks.com/list/appfaq.htm\"}",
         "dbdemos-sessions",
         7,
         16373398,
         "2023-11-30T05:15:47.483Z",
         0
        ],
        [
         null,
         "{\"user_id\": \"24e73178-c559-4484-8349-7ea3c1f77105\", \"platform\": \"ios\", \"event_id\": \"1c87fba9-c224-4228-802e-2cb03803a11f\", \"event_date\": 1701321345, \"action\": \"click\", \"uri\": \"https://databricks.com/posts/list/tagpost.html\"}",
         "dbdemos-sessions",
         7,
         16373399,
         "2023-11-30T05:15:47.486Z",
         0
        ],
        [
         null,
         "{\"user_id\": \"8ebe91ce-5ce9-4215-b90d-afa7ffc2031b\", \"platform\": \"ios\", \"event_id\": \"fe8166bf-da69-43bc-9fc5-bcc885ff6c33\", \"event_date\": 1701321348, \"action\": \"view\", \"uri\": \"https://databricks.com/search/searchabout.php\"}",
         "dbdemos-sessions",
         7,
         16373400,
         "2023-11-30T05:15:47.487Z",
         0
        ],
        [
         null,
         "{\"user_id\": \"4861923d-8618-4684-9212-0e380364e29e\", \"platform\": \"other\", \"event_id\": \"1a2cd6c1-2974-4fc3-a4f2-e3e3a80957c4\", \"event_date\": 1701321346, \"action\": \"view\", \"uri\": \"https://databricks.com/wp-content/categories/wp-contentcategory.php\"}",
         "dbdemos-sessions",
         7,
         16373401,
         "2023-11-30T05:15:47.487Z",
         0
        ],
        [
         null,
         "{\"user_id\": \"af86d48a-b571-4050-acbc-145b24579671\", \"platform\": \"other\", \"event_id\": \"c911db44-4618-4018-89a3-85623122bde7\", \"event_date\": 1701321344, \"action\": \"view\", \"uri\": \"https://databricks.com/wp-content/searchhomepage.html\"}",
         "dbdemos-sessions",
         7,
         16373402,
         "2023-11-30T05:15:48.493Z",
         0
        ],
        [
         null,
         "{\"user_id\": \"c55b143c-8132-4867-9320-72df1b6c0af4\", \"platform\": \"other\", \"event_id\": \"d87557f2-19be-4b8d-b0b2-607f3e8ab85f\", \"event_date\": 1701321349, \"action\": \"view\", \"uri\": \"https://databricks.com/wp-content/blog/tagterms.html\"}",
         "dbdemos-sessions",
         7,
         16373403,
         "2023-11-30T05:15:48.495Z",
         0
        ],
        [
         null,
         "{\"user_id\": \"5e349b64-9ae8-4bf6-919b-33890e3444fb\", \"platform\": \"other\", \"event_id\": \"5a0082ee-31b8-4694-97e6-4ed3897f28cd\", \"event_date\": 1701321349, \"action\": \"view\", \"uri\": \"https://databricks.com/app/mainsearch.asp\"}",
         "dbdemos-sessions",
         7,
         16373404,
         "2023-11-30T05:15:49.505Z",
         0
        ],
        [
         null,
         "{\"user_id\": \"fa31e0c0-f1fa-432f-b6ae-5bf2146cca06\", \"platform\": \"ios\", \"event_id\": \"dcba41cb-4630-4e52-a3eb-7813ca76c06f\", \"event_date\": 1701321349, \"action\": \"click\", \"uri\": \"https://databricks.com/explore/maincategory.asp\"}",
         "dbdemos-sessions",
         7,
         16373405,
         "2023-11-30T05:15:49.509Z",
         0
        ],
        [
         null,
         "{\"user_id\": \"4b652069-51b2-4caa-bcea-acb355f2b75d\", \"platform\": \"ios\", \"event_id\": \"cb6546a0-5bd1-4bd4-bc69-0740691425fc\", \"event_date\": 1701321346, \"action\": \"view\", \"uri\": \"https://databricks.com/mainhomepage.php\"}",
         "dbdemos-sessions",
         7,
         16373406,
         "2023-11-30T05:15:49.51Z",
         0
        ],
        [
         null,
         "{\"user_id\": \"ca395091-d1d8-4621-8a10-ee8ff2db1409\", \"platform\": \"ios\", \"event_id\": \"0b6b9f39-1c81-4a86-b56f-fce8a708bbb4\", \"event_date\": 1701321348, \"action\": \"click\", \"uri\": \"https://databricks.com/wp-content/mainlogin.asp\"}",
         "dbdemos-sessions",
         7,
         16373407,
         "2023-11-30T05:15:50.518Z",
         0
        ],
        [
         null,
         "{\"user_id\": \"c6520f02-c12e-4be1-bb5d-e86400691485\", \"platform\": \"ios\", \"event_id\": \"a7238518-24e0-4d72-928c-579fdd3d97ef\", \"event_date\": 1701321355, \"action\": \"log\", \"uri\": \"https://databricks.com/wp-content/searchterms.htm\"}",
         "dbdemos-sessions",
         7,
         16373408,
         "2023-11-30T05:15:51.521Z",
         0
        ],
        [
         null,
         "{\"user_id\": \"18713496-a98e-49a4-ab88-9f029f18b4c5\", \"platform\": \"other\", \"event_id\": \"396f6fe1-812e-4d17-a35c-c78a910bd6f8\", \"event_date\": 1701321354, \"action\": \"click\", \"uri\": \"https://databricks.com/tags/blog/postshomepage.htm\"}",
         "dbdemos-sessions",
         7,
         16373409,
         "2023-11-30T05:15:51.526Z",
         0
        ],
        [
         null,
         "{\"user_id\": \"3156d251-7429-4b23-9101-59f0209cddf8\", \"platform\": \"ios\", \"event_id\": \"ed7095b8-daa3-46cf-8be6-dcbdcecc3761\", \"event_date\": 1701321356, \"action\": \"view\", \"uri\": \"https://databricks.com/wp-content/search/categorylogin.jsp\"}",
         "dbdemos-sessions",
         7,
         16373410,
         "2023-11-30T05:15:53.546Z",
         0
        ],
        [
         null,
         "{\"user_id\": \"66fe7dd1-8f19-470c-b4b8-be75c4793e76\", \"platform\": \"other\", \"event_id\": \"c0675949-1cdd-41af-8ded-845a054ffbe1\", \"event_date\": 1701321356, \"action\": \"view\", \"uri\": \"https://databricks.com/tags/app/categoryregister.asp\"}",
         "dbdemos-sessions",
         7,
         16373411,
         "2023-11-30T05:15:53.548Z",
         0
        ],
        [
         null,
         "{\"user_id\": \"d205fb2a-dea2-45a1-85f1-caba13d64e95\", \"platform\": \"other\", \"event_id\": \"f8b0e574-58c3-4d0a-a87e-193afecfde40\", \"event_date\": 1701321350, \"action\": \"view\", \"uri\": \"https://databricks.com/list/listabout.asp\"}",
         "dbdemos-sessions",
         7,
         16373412,
         "2023-11-30T05:15:54.555Z",
         0
        ],
        [
         null,
         "{\"user_id\": \"4f9a4975-58ad-4063-be2c-d7fafb9f9072\", \"platform\": \"ios\", \"event_id\": \"20487b41-6606-4bc1-b92f-53b20291a3cf\", \"event_date\": 1701321356, \"action\": \"click\", \"uri\": \"https://databricks.com/blog/categoryfaq.php\"}",
         "dbdemos-sessions",
         7,
         16373413,
         "2023-11-30T05:15:56.588Z",
         0
        ],
        [
         null,
         "{\"user_id\": \"5374937a-2fa0-47af-a197-a01ef24a80ad\", \"platform\": \"other\", \"event_id\": \"94701eb2-99d4-4549-8cbe-b08fdee2c5c5\", \"event_date\": 1701321357, \"action\": \"view\", \"uri\": \"https://databricks.com/categories/wp-content/blogsearch.php\"}",
         "dbdemos-sessions",
         7,
         16373414,
         "2023-11-30T05:15:57.6Z",
         0
        ],
        [
         null,
         "{\"user_id\": \"287d6985-e3c1-44f7-a700-2df164a43235\", \"platform\": \"ios\", \"event_id\": \"f6939a56-16c5-44ef-bcdc-bcf3d01d0754\", \"event_date\": 1701321355, \"action\": \"view\", \"uri\": \"https://databricks.com/main/tag/exploreregister.html\"}",
         "dbdemos-sessions",
         7,
         16373415,
         "2023-11-30T05:15:57.601Z",
         0
        ],
        [
         null,
         "{\"user_id\": \"4f9a4975-58ad-4063-be2c-d7fafb9f9072\", \"platform\": \"other\", \"event_id\": \"65515065-d280-401c-a551-c3280c1d716f\", \"event_date\": 1701321362, \"action\": \"view\", \"uri\": \"https://databricks.com/categoriesfaq.php\"}",
         "dbdemos-sessions",
         7,
         16373416,
         "2023-11-30T05:15:58.613Z",
         0
        ],
        [
         null,
         "{\"user_id\": \"d278a0e6-7c83-43e8-a0b4-db949eca8412\", \"platform\": \"ios\", \"event_id\": \"0af356dc-3f8b-49bd-b7b6-00b77106611e\", \"event_date\": 1701321360, \"action\": \"log\", \"uri\": \"https://databricks.com/list/app/listterms.html\"}",
         "dbdemos-sessions",
         7,
         16373417,
         "2023-11-30T05:15:58.626Z",
         0
        ],
        [
         null,
         "{\"user_id\": \"174669fd-183b-461e-9633-ceacc9d3e277\", \"platform\": \"ios\", \"event_id\": \"6dfce626-d715-4259-8da5-57bd6c531fe1\", \"event_date\": 1701321353, \"action\": \"view\", \"uri\": \"https://databricks.com/listhome.php\"}",
         "dbdemos-sessions",
         7,
         16373418,
         "2023-11-30T05:15:58.63Z",
         0
        ],
        [
         null,
         "{\"user_id\": \"8c37dfb5-4ce9-40ee-aabd-6d2e41387b89\", \"platform\": \"other\", \"event_id\": \"84807182-2a7b-41ee-98b2-b78bea392807\", \"event_date\": 1701321357, \"action\": \"click\", \"uri\": \"https://databricks.com/blog/appmain.html\"}",
         "dbdemos-sessions",
         7,
         16373419,
         "2023-11-30T05:15:59.633Z",
         0
        ],
        [
         null,
         "{\"user_id\": \"54371530-b4ba-4a28-9f12-2bc87205aded\", \"platform\": \"other\", \"event_id\": \"a175286c-5cae-4567-a124-15eef5914a63\", \"event_date\": 1701321355, \"action\": null, \"uri\": \"https://databricks.com/tag/explore/appsearch.html\"}",
         "dbdemos-sessions",
         7,
         16373420,
         "2023-11-30T05:15:59.635Z",
         0
        ],
        [
         null,
         "{\"user_id\": \"d4df099d-1d1a-4cf8-b0fb-d0249886106f\", \"platform\": \"other\", \"event_id\": \"d360e839-412f-4c99-bbb4-0e8d465f97ad\", \"event_date\": 1701321356, \"action\": \"view\", \"uri\": \"https://databricks.com/mainfaq.html\"}",
         "dbdemos-sessions",
         7,
         16373421,
         "2023-11-30T05:15:59.655Z",
         0
        ],
        [
         null,
         "{\"user_id\": \"554db164-c09e-40fd-ab95-e90a9a739753\", \"platform\": \"ios\", \"event_id\": \"e314e560-ec3d-42a4-85b7-98e3a7acbd3f\", \"event_date\": 1701321363, \"action\": \"click\", \"uri\": \"https://databricks.com/tagcategory.htm\"}",
         "dbdemos-sessions",
         7,
         16373422,
         "2023-11-30T05:16:00.667Z",
         0
        ],
        [
         null,
         "{\"user_id\": \"301ed5d3-8d3d-4e1e-96da-0043610a5c98\", \"platform\": \"other\", \"event_id\": \"a0539bd0-1d4d-4d25-ac9c-0d26c6d38f73\", \"event_date\": 1701321357, \"action\": \"view\", \"uri\": \"https://databricks.com/categories/categoriesregister.asp\"}",
         "dbdemos-sessions",
         7,
         16373423,
         "2023-11-30T05:16:01.69Z",
         0
        ],
        [
         null,
         "{\"user_id\": \"174669fd-183b-461e-9633-ceacc9d3e277\", \"platform\": \"ios\", \"event_id\": \"f87f8dab-d39c-43f3-b796-df27cfb0421a\", \"event_date\": 1701321361, \"action\": \"view\", \"uri\": \"https://databricks.com/category/posts/categorypost.htm\"}",
         "dbdemos-sessions",
         7,
         16373424,
         "2023-11-30T05:16:01.699Z",
         0
        ],
        [
         null,
         "{\"user_id\": \"94ba5e9c-d1c8-4837-8c7f-e3e20d6a180e\", \"platform\": \"ios\", \"event_id\": \"689881c3-2a76-40e1-8a9f-615d8abea73d\", \"event_date\": 1701321340, \"action\": \"view\", \"uri\": \"https://databricks.com/wp-contentterms.html\"}",
         "dbdemos-sessions",
         9,
         16376596,
         "2023-11-30T05:15:40.402Z",
         0
        ],
        [
         null,
         "{\"user_id\": \"ed3224d7-fb6d-42ec-89c2-dc64f4f3be97\", \"platform\": \"ios\", \"event_id\": \"1a3a5d77-da7d-4126-97ba-6aa59645f291\", \"event_date\": 1701321340, \"action\": \"view\", \"uri\": \"https://databricks.com/list/appcategory.jsp\"}",
         "dbdemos-sessions",
         9,
         16376597,
         "2023-11-30T05:15:41.408Z",
         0
        ],
        [
         null,
         "{\"user_id\": \"18713496-a98e-49a4-ab88-9f029f18b4c5\", \"platform\": \"other\", \"event_id\": \"803bde51-6fda-40c7-a93c-dd91fe1dacb0\", \"event_date\": 1701321338, \"action\": \"view\", \"uri\": \"https://databricks.com/app/main/listcategory.html\"}",
         "dbdemos-sessions",
         9,
         16376598,
         "2023-11-30T05:15:43.422Z",
         0
        ],
        [
         null,
         "{\"user_id\": \"f5bb0598-15cc-4ded-8192-0bd8262a8941\", \"platform\": \"ios\", \"event_id\": \"ac8eb2e0-f0d2-46bc-a746-166347fe88a9\", \"event_date\": 1701321344, \"action\": \"view\", \"uri\": \"https://databricks.com/explorehomepage.html\"}",
         "dbdemos-sessions",
         9,
         16376599,
         "2023-11-30T05:15:43.427Z",
         0
        ],
        [
         null,
         "{\"user_id\": \"cdf5504b-598d-4c9e-aa2c-01d320d7a397\", \"platform\": \"other\", \"event_id\": \"778cce6d-c7b8-4421-9c4b-0b76258c14bc\", \"event_date\": 1701321344, \"action\": \"log\", \"uri\": \"https://databricks.com/posts/tags/categorypost.php\"}",
         "dbdemos-sessions",
         9,
         16376600,
         "2023-11-30T05:15:44.443Z",
         0
        ],
        [
         null,
         "{\"user_id\": \"c0cc8056-d05b-4d33-9c43-a575021a62a8\", \"platform\": \"android\", \"event_id\": \"5d127bfc-25e5-4eef-9c96-de2e3f3b60b9\", \"event_date\": 1701321348, \"action\": \"view\", \"uri\": \"https://databricks.com/app/explorehome.jsp\"}",
         "dbdemos-sessions",
         9,
         16376601,
         "2023-11-30T05:15:45.449Z",
         0
        ],
        [
         null,
         "{\"user_id\": \"6a4e890d-982b-46e1-b446-3688a723cdff\", \"platform\": \"ios\", \"event_id\": \"2f05f442-9b6b-4a67-9ed4-102ac57d8636\", \"event_date\": 1701321343, \"action\": \"view\", \"uri\": \"https://databricks.com/wp-content/blog/tagscategory.html\"}",
         "dbdemos-sessions",
         9,
         16376602,
         "2023-11-30T05:15:45.452Z",
         0
        ],
        [
         null,
         "{\"user_id\": \"1ee2129c-c85d-4ce8-af1f-765728e690fe\", \"platform\": \"ios\", \"event_id\": \"b8a3b6ac-ba5e-4056-9441-f20d226da3d8\", \"event_date\": 1701321347, \"action\": \"click\", \"uri\": \"https://databricks.com/postsmain.htm\"}",
         "dbdemos-sessions",
         9,
         16376603,
         "2023-11-30T05:15:45.453Z",
         0
        ],
        [
         null,
         "{\"user_id\": \"f5bb0598-15cc-4ded-8192-0bd8262a8941\", \"platform\": \"ios\", \"event_id\": \"5e4ae938-7d5e-468d-a85b-82024dd76624\", \"event_date\": 1701321341, \"action\": \"view\", \"uri\": \"https://databricks.com/appmain.jsp\"}",
         "dbdemos-sessions",
         9,
         16376604,
         "2023-11-30T05:15:45.457Z",
         0
        ],
        [
         null,
         "{\"user_id\": \"0258e062-93d5-47ae-bf8f-5e946b856f1a\", \"platform\": \"ios\", \"event_id\": \"26f5dc3b-302a-42f1-8538-f8a256d7bcc5\", \"event_date\": 1701321340, \"action\": \"click\", \"uri\": \"https://databricks.com/blogfaq.htm\"}",
         "dbdemos-sessions",
         9,
         16376605,
         "2023-11-30T05:15:45.459Z",
         0
        ],
        [
         null,
         "{\"user_id\": \"301ed5d3-8d3d-4e1e-96da-0043610a5c98\", \"platform\": \"android\", \"event_id\": \"fb5e8323-10be-4775-bca0-b09915c97b38\", \"event_date\": 1701321349, \"action\": \"click\", \"uri\": \"https://databricks.com/categories/search/postshome.php\"}",
         "dbdemos-sessions",
         9,
         16376606,
         "2023-11-30T05:15:46.467Z",
         0
        ],
        [
         null,
         "{\"user_id\": \"6a4e890d-982b-46e1-b446-3688a723cdff\", \"platform\": \"ios\", \"event_id\": \"f74ed30e-4049-456c-bbb5-90eab9b79908\", \"event_date\": 1701321351, \"action\": \"view\", \"uri\": \"https://databricks.com/category/postslogin.php\"}",
         "dbdemos-sessions",
         9,
         16376607,
         "2023-11-30T05:15:47.472Z",
         0
        ],
        [
         null,
         "{\"user_id\": \"0127e44a-dc59-4075-9036-a53bda11b20a\", \"platform\": \"other\", \"event_id\": \"7a9b51d5-5d4c-4a1e-a8e1-be716aad8dc6\", \"event_date\": 1701321345, \"action\": \"view\", \"uri\": \"https://databricks.com/app/listlogin.htm\"}",
         "dbdemos-sessions",
         9,
         16376608,
         "2023-11-30T05:15:47.473Z",
         0
        ],
        [
         null,
         "{\"user_id\": \"de0d7892-d459-42e9-9476-87884e4b2734\", \"platform\": \"ios\", \"event_id\": \"d64fb6e3-c272-4d2f-8864-7f7ca8f60e14\", \"event_date\": 1701321348, \"action\": \"view\", \"uri\": \"https://databricks.com/listregister.php\"}",
         "dbdemos-sessions",
         9,
         16376609,
         "2023-11-30T05:15:48.49Z",
         0
        ],
        [
         null,
         "{\"user_id\": \"d67456b2-03ee-4375-8fea-94aa6a87c4d8\", \"platform\": \"ios\", \"event_id\": \"0d4d3a72-00a4-490b-bd55-98100bbdf120\", \"event_date\": 1701321345, \"action\": \"view\", \"uri\": \"https://databricks.com/searchlogin.htm\"}",
         "dbdemos-sessions",
         9,
         16376610,
         "2023-11-30T05:15:48.492Z",
         0
        ],
        [
         null,
         "{\"user_id\": \"18713496-a98e-49a4-ab88-9f029f18b4c5\", \"platform\": \"ios\", \"event_id\": \"4760cd23-5e27-4ec9-8978-f33918470e33\", \"event_date\": 1701321348, \"action\": \"view\", \"uri\": \"https://databricks.com/app/searchhomepage.html\"}",
         "dbdemos-sessions",
         9,
         16376611,
         "2023-11-30T05:15:49.502Z",
         0
        ],
        [
         null,
         "{\"user_id\": \"81ce2faa-fb20-44a8-9c19-f4ac9020b1b2\", \"platform\": \"ios\", \"event_id\": \"125d3a76-7ad4-47b7-b407-30614467bf14\", \"event_date\": 1701321353, \"action\": \"log\", \"uri\": \"https://databricks.com/explore/category/searchindex.jsp\"}",
         "dbdemos-sessions",
         9,
         16376612,
         "2023-11-30T05:15:50.513Z",
         0
        ],
        [
         null,
         "{\"user_id\": \"18713496-a98e-49a4-ab88-9f029f18b4c5\", \"platform\": \"other\", \"event_id\": \"a71d43fe-4cbc-43a5-81c0-35f64b0eb768\", \"event_date\": 1701321345, \"action\": \"click\", \"uri\": \"https://databricks.com/app/category/categoriessearch.html\"}",
         "dbdemos-sessions",
         9,
         16376613,
         "2023-11-30T05:15:50.515Z",
         0
        ],
        [
         null,
         "{\"user_id\": \"ff3f9bdd-d0a3-4d28-b151-454d5e88546b\", \"platform\": \"other\", \"event_id\": \"fd630003-5fec-4769-b09f-c9fcc7ba7fb3\", \"event_date\": 1701321351, \"action\": \"view\", \"uri\": \"https://databricks.com/explore/explore/tagsauthor.html\"}",
         "dbdemos-sessions",
         9,
         16376614,
         "2023-11-30T05:15:50.515Z",
         0
        ],
        [
         null,
         "{\"user_id\": \"5b573c0b-32f7-4f2a-b49c-1e8989ddc2b1\", \"platform\": \"ios\", \"event_id\": \"63915bd0-2fbf-49c6-9cb5-4c2422d1a101\", \"event_date\": 1701321354, \"action\": \"click\", \"uri\": \"https://databricks.com/app/blogprivacy.htm\"}",
         "dbdemos-sessions",
         9,
         16376615,
         "2023-11-30T05:15:50.519Z",
         0
        ],
        [
         null,
         "{\"user_id\": \"66fe7dd1-8f19-470c-b4b8-be75c4793e76\", \"platform\": \"ios\", \"event_id\": \"1a516aa7-5264-44d1-8c73-234463ab9fe7\", \"event_date\": 1701321346, \"action\": \"click\", \"uri\": \"https://databricks.com/categoryhomepage.jsp\"}",
         "dbdemos-sessions",
         9,
         16376616,
         "2023-11-30T05:15:51.527Z",
         0
        ],
        [
         null,
         "{\"user_id\": \"8c78e34e-0201-4757-a82a-fa0d9f70beda\", \"platform\": \"other\", \"event_id\": \"38473a84-fa6b-40d4-91c0-1d20c7c01d2e\", \"event_date\": 1701321353, \"action\": \"click\", \"uri\": \"https://databricks.com/wp-content/tags/exploreabout.html\"}",
         "dbdemos-sessions",
         9,
         16376617,
         "2023-11-30T05:15:51.53Z",
         0
        ],
        [
         null,
         "{\"user_id\": \"9acce7bf-7baa-45f0-b598-93b24e8843fd\", \"platform\": \"ios\", \"event_id\": \"ea49e777-34fc-4c7e-a9fc-b153b7cde737\", \"event_date\": 1701321349, \"action\": \"view\", \"uri\": \"https://databricks.com/app/posts/listhomepage.php\"}",
         "dbdemos-sessions",
         9,
         16376618,
         "2023-11-30T05:15:52.539Z",
         0
        ],
        [
         null,
         "{\"user_id\": \"2a284ec7-9875-4c46-a431-bc41aef3bb00\", \"platform\": \"android\", \"event_id\": \"ce2c85aa-9ebc-46bc-91f7-5ea2958f19b9\", \"event_date\": 1701321351, \"action\": \"click\", \"uri\": \"https://databricks.com/list/postslogin.html\"}",
         "dbdemos-sessions",
         9,
         16376619,
         "2023-11-30T05:15:53.55Z",
         0
        ],
        [
         null,
         "{\"user_id\": \"5374937a-2fa0-47af-a197-a01ef24a80ad\", \"platform\": \"android\", \"event_id\": \"e1c8352a-a9d0-45f1-88a4-19568b8c7094\", \"event_date\": 1701321352, \"action\": \"view\", \"uri\": \"https://databricks.com/categoriesfaq.htm\"}",
         "dbdemos-sessions",
         9,
         16376620,
         "2023-11-30T05:15:54.557Z",
         0
        ],
        [
         null,
         "{\"user_id\": \"c6520f02-c12e-4be1-bb5d-e86400691485\", \"platform\": \"ios\", \"event_id\": \"455d354f-0edf-4c2a-9b0b-0c892fc40e65\", \"event_date\": 1701321352, \"action\": \"view\", \"uri\": \"https://databricks.com/wp-contentfaq.php\"}",
         "dbdemos-sessions",
         9,
         16376621,
         "2023-11-30T05:15:55.569Z",
         0
        ],
        [
         null,
         "{\"user_id\": \"0258e062-93d5-47ae-bf8f-5e946b856f1a\", \"platform\": \"android\", \"event_id\": \"0800ce99-761a-4717-9b31-b1ddaca67d83\", \"event_date\": 1701321356, \"action\": \"log\", \"uri\": \"https://databricks.com/main/main/exploreauthor.jsp\"}",
         "dbdemos-sessions",
         9,
         16376622,
         "2023-11-30T05:15:55.581Z",
         0
        ],
        [
         null,
         "{\"user_id\": \"fe5cd354-51ff-49cb-98c2-ba91e24b9117\", \"platform\": \"ios\", \"event_id\": \"c59e20e1-468c-4e50-98fc-508264318512\", \"event_date\": 1701321353, \"action\": \"click\", \"uri\": \"https://databricks.com/main/tagsauthor.php\"}",
         "dbdemos-sessions",
         9,
         16376623,
         "2023-11-30T05:15:56.589Z",
         0
        ],
        [
         null,
         "{\"user_id\": \"50e32c77-ce88-45b4-9b25-7c747615596b\", \"platform\": \"ios\", \"event_id\": \"5631b028-2a28-45c1-bb91-3f415839ca7f\", \"event_date\": 1701321354, \"action\": \"view\", \"uri\": \"https://databricks.com/category/posts/postsfaq.htm\"}",
         "dbdemos-sessions",
         9,
         16376624,
         "2023-11-30T05:15:56.594Z",
         0
        ],
        [
         null,
         "{\"user_id\": \"287d6985-e3c1-44f7-a700-2df164a43235\", \"platform\": \"ios\", \"event_id\": \"f6939a56-16c5-44ef-bcdc-bcf3d01d0754\", \"event_date\": 1701321355, \"action\": \"view\", \"uri\": \"https://databricks.com/main/tag/exploreregister.html\"}",
         "dbdemos-sessions",
         9,
         16376625,
         "2023-11-30T05:15:57.6Z",
         0
        ],
        [
         null,
         "{\"user_id\": \"69eb7a1d-ef3a-4d1e-868d-a4a145cb3de5\", \"platform\": \"ios\", \"event_id\": null, \"event_date\": 1701321359, \"action\": \"view\", \"uri\": \"https://databricks.com/tag/wp-content/explorelogin.html\"}",
         "dbdemos-sessions",
         9,
         16376626,
         "2023-11-30T05:15:57.602Z",
         0
        ],
        [
         null,
         "{\"user_id\": \"b5f792ab-766c-4aa2-86d8-02a7e7abcfc0\", \"platform\": \"other\", \"event_id\": \"b0a4ce7a-46a0-4144-ba48-f37b8794eac9\", \"event_date\": 1701321360, \"action\": \"view\", \"uri\": \"https://databricks.com/tagsfaq.jsp\"}",
         "dbdemos-sessions",
         9,
         16376627,
         "2023-11-30T05:15:57.606Z",
         0
        ],
        [
         null,
         "{\"user_id\": \"d205fb2a-dea2-45a1-85f1-caba13d64e95\", \"platform\": \"other\", \"event_id\": \"baf8d7a4-ad02-48f4-8d27-ada29e4abc97\", \"event_date\": 1701321357, \"action\": \"log\", \"uri\": \"https://databricks.com/blog/main/tagsabout.php\"}",
         "dbdemos-sessions",
         9,
         16376628,
         "2023-11-30T05:15:58.609Z",
         0
        ],
        [
         null,
         "{\"user_id\": \"d78e2c84-3acd-4c26-a603-415b76c598ea\", \"platform\": \"ios\", \"event_id\": \"0eb23799-af5e-468f-82df-d2c675bf6a53\", \"event_date\": 1701321357, \"action\": \"view\", \"uri\": \"https://databricks.com/postsmain.php\"}",
         "dbdemos-sessions",
         9,
         16376629,
         "2023-11-30T05:15:58.61Z",
         0
        ],
        [
         null,
         "{\"user_id\": \"5d81aa0b-2986-4b18-abbd-b085380a1bb6\", \"platform\": \"other\", \"event_id\": \"46247a1b-1a64-4fcc-a93f-9c498c1e2288\", \"event_date\": 1701321358, \"action\": \"view\", \"uri\": \"https://databricks.com/posts/list/mainabout.htm\"}",
         "dbdemos-sessions",
         9,
         16376630,
         "2023-11-30T05:15:58.619Z",
         0
        ],
        [
         null,
         "{\"user_id\": \"4861923d-8618-4684-9212-0e380364e29e\", \"platform\": \"other\", \"event_id\": \"b27dc66e-05a5-4ea1-b980-992ff14134db\", \"event_date\": 1701321358, \"action\": \"click\", \"uri\": \"https://databricks.com/listfaq.htm\"}",
         "dbdemos-sessions",
         9,
         16376631,
         "2023-11-30T05:15:58.625Z",
         0
        ],
        [
         null,
         "{\"user_id\": \"61a38add-9c06-48fa-ab29-c4b6fd9f5a53\", \"platform\": \"ios\", \"event_id\": \"c5662986-cb1b-423e-81c1-840e15c52338\", \"event_date\": 1701321362, \"action\": \"view\", \"uri\": \"https://databricks.com/category/app/tagregister.html\"}",
         "dbdemos-sessions",
         9,
         16376632,
         "2023-11-30T05:15:58.629Z",
         0
        ],
        [
         null,
         "{\"user_id\": \"8c37dfb5-4ce9-40ee-aabd-6d2e41387b89\", \"platform\": \"ios\", \"event_id\": \"6cbd640b-3a7b-4b43-b0e7-ca24622293a9\", \"event_date\": 1701321361, \"action\": \"click\", \"uri\": \"https://databricks.com/app/wp-content/appabout.html\"}",
         "dbdemos-sessions",
         9,
         16376633,
         "2023-11-30T05:16:00.659Z",
         0
        ],
        [
         null,
         "{\"user_id\": \"d205fb2a-dea2-45a1-85f1-caba13d64e95\", \"platform\": \"ios\", \"event_id\": \"cccd5495-5ca6-4bdc-ba76-71d53a9d06f2\", \"event_date\": 1701321355, \"action\": \"click\", \"uri\": \"https://databricks.com/category/blog/searchprivacy.htm\"}",
         "dbdemos-sessions",
         9,
         16376634,
         "2023-11-30T05:16:00.66Z",
         0
        ],
        [
         null,
         "{\"user_id\": \"8a937358-261b-4364-9009-a726351f44fe\", \"platform\": \"android\", \"event_id\": \"f9ccf3d7-8bf8-44b9-afb3-acab21166226\", \"event_date\": 1701321358, \"action\": \"view\", \"uri\": \"https://databricks.com/list/tagregister.html\"}",
         "dbdemos-sessions",
         9,
         16376635,
         "2023-11-30T05:16:00.665Z",
         0
        ],
        [
         null,
         "{\"user_id\": \"7354e19a-6b74-4581-9278-7d2a1fa506d2\", \"platform\": \"other\", \"event_id\": \"65344acb-c154-4f66-bc56-3aa3e0e480e3\", \"event_date\": 1701321358, \"action\": \"click\", \"uri\": \"https://databricks.com/search/categories/mainindex.html\"}",
         "dbdemos-sessions",
         9,
         16376636,
         "2023-11-30T05:16:01.678Z",
         0
        ],
        [
         null,
         "{\"user_id\": \"c74ac38e-0a9b-4785-9a27-09d1d694e40c\", \"platform\": \"ios\", \"event_id\": \"7411ddf4-7b54-49fb-ac62-4b52b5cc248b\", \"event_date\": 1701321360, \"action\": \"view\", \"uri\": \"https://databricks.com/app/wp-contentprivacy.jsp\"}",
         "dbdemos-sessions",
         9,
         16376637,
         "2023-11-30T05:16:01.687Z",
         0
        ],
        [
         null,
         "{\"user_id\": \"66bc4964-162b-41e1-972c-5ea1c76b408e\", \"platform\": \"ios\", \"event_id\": \"4bc5d48d-3241-4e27-abbd-8a536109a99b\", \"event_date\": 1701321333, \"action\": \"view\", \"uri\": \"https://databricks.com/wp-contentterms.htm\"}",
         "dbdemos-sessions",
         2,
         16371822,
         "2023-11-30T05:15:36.315Z",
         0
        ],
        [
         null,
         "{\"user_id\": \"93ef5cae-b681-4e40-8e10-cae4283b2b04\", \"platform\": \"ios\", \"event_id\": \"efa6d94e-dd60-4467-8119-16a1c0338e4e\", \"event_date\": 1701321336, \"action\": \"log\", \"uri\": \"https://databricks.com/search/search/postsindex.jsp\"}",
         "dbdemos-sessions",
         2,
         16371823,
         "2023-11-30T05:15:37.324Z",
         0
        ],
        [
         null,
         "{\"user_id\": \"c55b143c-8132-4867-9320-72df1b6c0af4\", \"platform\": \"other\", \"event_id\": \"82241cd6-fd3b-44ab-8bbe-d448da4237e7\", \"event_date\": 1701321337, \"action\": \"click\", \"uri\": \"https://databricks.com/explore/tag/searchhomepage.html\"}",
         "dbdemos-sessions",
         2,
         16371824,
         "2023-11-30T05:15:38.376Z",
         0
        ],
        [
         null,
         "{\"user_id\": \"50e32c77-ce88-45b4-9b25-7c747615596b\", \"platform\": \"ios\", \"event_id\": \"30b7f958-0060-4a7d-83a4-d5c7121d58d4\", \"event_date\": 1701321341, \"action\": \"view\", \"uri\": \"https://databricks.com/blogpost.htm\"}",
         "dbdemos-sessions",
         2,
         16371825,
         "2023-11-30T05:15:39.394Z",
         0
        ],
        [
         null,
         "{\"user_id\": \"bb041937-335f-4592-9b28-75cbd928cd41\", \"platform\": \"ios\", \"event_id\": \"47a9e342-02f8-4c76-8fcc-02dfe1c45ec2\", \"event_date\": 1701321329, \"action\": \"view\", \"uri\": \"https://databricks.com/wp-contenthome.php\"}",
         "dbdemos-sessions",
         8,
         16368557,
         "2023-11-30T05:15:33.272Z",
         0
        ],
        [
         null,
         "{\"user_id\": \"cdf5504b-598d-4c9e-aa2c-01d320d7a397\", \"platform\": \"ios\", \"event_id\": \"22cf58e0-bb46-4799-aa2f-c43e7b7d7371\", \"event_date\": 1701321336, \"action\": \"log\", \"uri\": \"https://databricks.com/search/listcategory.asp\"}",
         "dbdemos-sessions",
         8,
         16368558,
         "2023-11-30T05:15:33.28Z",
         0
        ],
        [
         null,
         "{\"user_id\": \"88019c0c-6cb1-4e46-a3ea-97661d159ba5\", \"platform\": \"other\", \"event_id\": \"03815732-1e8a-4267-9f66-415cc3f55b86\", \"event_date\": 1701321332, \"action\": \"view\", \"uri\": \"https://databricks.com/app/category/bloghome.html\"}",
         "dbdemos-sessions",
         8,
         16368559,
         "2023-11-30T05:15:33.281Z",
         0
        ],
        [
         null,
         "{\"user_id\": \"1e7b7295-6965-4c14-ab59-388167c9baeb\", \"platform\": \"android\", \"event_id\": \"9ae1f331-60ee-4cc4-936f-1d30a99e72cf\", \"event_date\": 1701321335, \"action\": \"view\", \"uri\": \"https://databricks.com/appterms.htm\"}",
         "dbdemos-sessions",
         8,
         16368560,
         "2023-11-30T05:15:34.294Z",
         0
        ],
        [
         null,
         "{\"user_id\": \"d469e072-41ae-4497-b541-de287868682f\", \"platform\": \"ios\", \"event_id\": \"a8eec5ca-4d01-4b2c-8c89-23a949725af9\", \"event_date\": 1701321330, \"action\": \"view\", \"uri\": \"https://databricks.com/list/category/listsearch.jsp\"}",
         "dbdemos-sessions",
         8,
         16368561,
         "2023-11-30T05:15:35.297Z",
         0
        ],
        [
         null,
         "{\"user_id\": \"69eb7a1d-ef3a-4d1e-868d-a4a145cb3de5\", \"platform\": \"ios\", \"event_id\": \"3030f75b-8ffd-4b2c-8b35-37a034f0a22d\", \"event_date\": 1701321336, \"action\": \"click\", \"uri\": \"https://databricks.com/main/list/wp-contentcategory.asp\"}",
         "dbdemos-sessions",
         8,
         16368562,
         "2023-11-30T05:15:36.32Z",
         0
        ],
        [
         null,
         "{\"user_id\": \"1983f70f-77a9-4412-a898-1c7e3312d2af\", \"platform\": \"ios\", \"event_id\": null, \"event_date\": 1701321338, \"action\": \"view\", \"uri\": \"https://databricks.com/category/searchfaq.php\"}",
         "dbdemos-sessions",
         8,
         16368563,
         "2023-11-30T05:15:37.329Z",
         0
        ],
        [
         null,
         "{\"user_id\": \"8c78e34e-0201-4757-a82a-fa0d9f70beda\", \"platform\": \"ios\", \"event_id\": \"4559a900-c42f-4680-b4ec-606be4f63b3f\", \"event_date\": 1701321334, \"action\": \"click\", \"uri\": \"https://databricks.com/tags/categoriescategory.php\"}",
         "dbdemos-sessions",
         8,
         16368564,
         "2023-11-30T05:15:38.379Z",
         0
        ],
        [
         null,
         "{\"user_id\": \"1983f70f-77a9-4412-a898-1c7e3312d2af\", \"platform\": \"other\", \"event_id\": \"018e0ab6-c716-48db-af7c-5f8134beafd7\", \"event_date\": 1701321341, \"action\": \"click\", \"uri\": \"https://databricks.com/taghome.php\"}",
         "dbdemos-sessions",
         8,
         16368565,
         "2023-11-30T05:15:39.386Z",
         0
        ],
        [
         null,
         "{\"user_id\": \"a0da7b6b-33f2-48b5-83d7-299711c857fe\", \"platform\": \"ios\", \"event_id\": \"ad7648b1-9c19-4248-a0b3-cee52ad4148e\", \"event_date\": 1701321333, \"action\": \"click\", \"uri\": \"https://databricks.com/posts/categoryterms.html\"}",
         "dbdemos-sessions",
         5,
         16377806,
         "2023-11-30T05:15:33.281Z",
         0
        ],
        [
         null,
         "{\"user_id\": \"7cd07a2d-d835-470d-a0c8-b3400c915ac7\", \"platform\": \"ios\", \"event_id\": \"e66327c5-3711-42a0-8c69-e5f17a33036c\", \"event_date\": 1701321334, \"action\": \"click\", \"uri\": \"https://databricks.com/postsfaq.php\"}",
         "dbdemos-sessions",
         5,
         16377807,
         "2023-11-30T05:15:34.285Z",
         0
        ],
        [
         null,
         "{\"user_id\": \"5d81aa0b-2986-4b18-abbd-b085380a1bb6\", \"platform\": \"ios\", \"event_id\": \"fdeb5086-6e6c-4ca0-85da-acd06abec6b7\", \"event_date\": 1701321333, \"action\": \"view\", \"uri\": \"https://databricks.com/main/categories/postsauthor.htm\"}",
         "dbdemos-sessions",
         5,
         16377808,
         "2023-11-30T05:15:35.306Z",
         0
        ],
        [
         null,
         "{\"user_id\": \"0127e44a-dc59-4075-9036-a53bda11b20a\", \"platform\": \"other\", \"event_id\": \"1425d9b0-651f-4980-8b6b-9492ac6d370d\", \"event_date\": 1701321339, \"action\": \"log\", \"uri\": \"https://databricks.com/main/tag/categoriesprivacy.php\"}",
         "dbdemos-sessions",
         5,
         16377809,
         "2023-11-30T05:15:36.314Z",
         0
        ],
        [
         null,
         "{\"user_id\": \"e4e079a9-103e-464b-8b2f-b7d906066bad\", \"platform\": \"android\", \"event_id\": \"ea438efa-beb2-46ab-9abb-c2ab833ed29a\", \"event_date\": 1701321334, \"action\": \"view\", \"uri\": \"https://databricks.com/posts/mainterms.html\"}",
         "dbdemos-sessions",
         5,
         16377810,
         "2023-11-30T05:15:37.33Z",
         0
        ],
        [
         null,
         "{\"user_id\": \"c74ac38e-0a9b-4785-9a27-09d1d694e40c\", \"platform\": null, \"event_id\": \"9106f795-fa41-4791-86ce-7583376df29d\", \"event_date\": 1701321336, \"action\": \"view\", \"uri\": \"https://databricks.com/listterms.htm\"}",
         "dbdemos-sessions",
         5,
         16377811,
         "2023-11-30T05:15:37.341Z",
         0
        ],
        [
         null,
         "{\"user_id\": \"d469e072-41ae-4497-b541-de287868682f\", \"platform\": \"ios\", \"event_id\": \"fdcf2c7d-3416-4c10-aa9f-cddb81d0f135\", \"event_date\": 1701321340, \"action\": \"click\", \"uri\": \"https://databricks.com/main/wp-content/tagabout.htm\"}",
         "dbdemos-sessions",
         5,
         16377812,
         "2023-11-30T05:15:38.344Z",
         0
        ],
        [
         null,
         "{\"user_id\": \"dc4c68db-f999-47bd-8569-97fb8c457a1d\", \"platform\": \"other\", \"event_id\": \"86e7af18-1f4b-46de-8ffd-3e0e906dd348\", \"event_date\": 1701321333, \"action\": \"view\", \"uri\": \"https://databricks.com/tag/searchprivacy.html\"}",
         "dbdemos-sessions",
         5,
         16377813,
         "2023-11-30T05:15:38.35Z",
         0
        ],
        [
         null,
         "{\"user_id\": \"429cd2ea-bb89-43bf-a2b7-190cd57c513d\", \"platform\": \"ios\", \"event_id\": \"c81f6d7f-4bde-4fb4-bfac-e71449282ac1\", \"event_date\": 1701321338, \"action\": \"log\", \"uri\": \"https://databricks.com/search/appsearch.html\"}",
         "dbdemos-sessions",
         5,
         16377814,
         "2023-11-30T05:15:39.381Z",
         0
        ],
        [
         null,
         "{\"user_id\": \"64ebf32b-4a70-4906-a9d6-faa6dc1c8697\", \"platform\": \"android\", \"event_id\": \"2a507893-b28b-4b6a-87f3-ff77fc81856f\", \"event_date\": 1701321331, \"action\": \"log\", \"uri\": \"https://databricks.com/wp-content/blog/listabout.html\"}",
         "dbdemos-sessions",
         7,
         16373376,
         "2023-11-30T05:15:33.27Z",
         0
        ],
        [
         null,
         "{\"user_id\": \"de0d7892-d459-42e9-9476-87884e4b2734\", \"platform\": \"other\", \"event_id\": \"22fa58f1-ec25-4a99-86de-d248c0a47428\", \"event_date\": 1701321334, \"action\": \"view\", \"uri\": \"https://databricks.com/tag/posts/blogsearch.php\"}",
         "dbdemos-sessions",
         7,
         16373377,
         "2023-11-30T05:15:33.273Z",
         0
        ],
        [
         null,
         "{\"user_id\": \"5374937a-2fa0-47af-a197-a01ef24a80ad\", \"platform\": \"other\", \"event_id\": \"26de90dd-753b-4f6b-9ca3-b05e2ce6a916\", \"event_date\": 1701321337, \"action\": \"log\", \"uri\": \"https://databricks.com/list/tags/categoryauthor.html\"}",
         "dbdemos-sessions",
         7,
         16373378,
         "2023-11-30T05:15:34.286Z",
         0
        ],
        [
         null,
         "{\"user_id\": \"d5c1965f-4903-4b86-895d-f9cce7d9c963\", \"platform\": \"ios\", \"event_id\": \"f922e71f-3f26-419d-a746-75bfb0d81e96\", \"event_date\": 1701321335, \"action\": \"click\", \"uri\": \"https://databricks.com/mainabout.htm\"}",
         "dbdemos-sessions",
         7,
         16373379,
         "2023-11-30T05:15:34.291Z",
         0
        ],
        [
         null,
         "{\"user_id\": \"d205fb2a-dea2-45a1-85f1-caba13d64e95\", \"platform\": \"other\", \"event_id\": \"84b55edc-7bfc-4a82-ad2c-ba25bda89a04\", \"event_date\": 1701321331, \"action\": \"view\", \"uri\": \"https://databricks.com/list/categories/explorefaq.php\"}",
         "dbdemos-sessions",
         7,
         16373380,
         "2023-11-30T05:15:35.299Z",
         0
        ],
        [
         null,
         "{\"user_id\": \"7354e19a-6b74-4581-9278-7d2a1fa506d2\", \"platform\": \"ios\", \"event_id\": \"2ce6e76b-f7c4-4e40-8203-46b98665faf2\", \"event_date\": 1701321338, \"action\": \"view\", \"uri\": \"https://databricks.com/categoriesauthor.php\"}",
         "dbdemos-sessions",
         7,
         16373381,
         "2023-11-30T05:15:36.316Z",
         0
        ],
        [
         null,
         "{\"user_id\": \"64ebf32b-4a70-4906-a9d6-faa6dc1c8697\", \"platform\": \"android\", \"event_id\": \"5ed68446-22cc-4881-a57c-d4ada1dc4971\", \"event_date\": 1701321341, \"action\": \"click\", \"uri\": \"https://databricks.com/posts/wp-contenthome.htm\"}",
         "dbdemos-sessions",
         7,
         16373382,
         "2023-11-30T05:15:37.325Z",
         0
        ],
        [
         null,
         "{\"user_id\": \"66bc4964-162b-41e1-972c-5ea1c76b408e\", \"platform\": \"ios\", \"event_id\": null, \"event_date\": 1701321338, \"action\": \"view\", \"uri\": \"https://databricks.com/tag/tags/mainterms.html\"}",
         "dbdemos-sessions",
         7,
         16373383,
         "2023-11-30T05:15:37.331Z",
         0
        ],
        [
         null,
         "{\"user_id\": \"fe5cd354-51ff-49cb-98c2-ba91e24b9117\", \"platform\": \"other\", \"event_id\": \"0ccd56b5-df55-470b-85b3-827253dde13a\", \"event_date\": 1701321336, \"action\": \"view\", \"uri\": \"https://databricks.com/main/categoriesprivacy.php\"}",
         "dbdemos-sessions",
         7,
         16373384,
         "2023-11-30T05:15:39.384Z",
         0
        ],
        [
         null,
         "{\"user_id\": \"5374937a-2fa0-47af-a197-a01ef24a80ad\", \"platform\": \"ios\", \"event_id\": \"1ffdedfa-743d-4a67-983e-ff8cb430e4ba\", \"event_date\": 1701321331, \"action\": \"view\", \"uri\": \"https://databricks.com/wp-content/applogin.htm\"}",
         "dbdemos-sessions",
         6,
         16368398,
         "2023-11-30T05:15:33.273Z",
         0
        ],
        [
         null,
         "{\"user_id\": \"6bf1f604-3544-45c9-93a5-180b78652be1\", \"platform\": \"other\", \"event_id\": \"3bedf939-2c84-487c-bc41-e34d455afad3\", \"event_date\": 1701321337, \"action\": \"view\", \"uri\": \"https://databricks.com/wp-content/category/blogindex.html\"}",
         "dbdemos-sessions",
         6,
         16368399,
         "2023-11-30T05:15:34.293Z",
         0
        ],
        [
         null,
         "{\"user_id\": \"cdf5504b-598d-4c9e-aa2c-01d320d7a397\", \"platform\": \"other\", \"event_id\": \"0452f3e6-d8e8-43b3-b1b0-8f486c36b0f8\", \"event_date\": 1701321330, \"action\": \"click\", \"uri\": \"https://databricks.com/appregister.jsp\"}",
         "dbdemos-sessions",
         6,
         16368400,
         "2023-11-30T05:15:35.306Z",
         0
        ],
        [
         null,
         "{\"user_id\": \"f044d5b8-0357-44e1-b9cf-40ba0512eeb0\", \"platform\": \"other\", \"event_id\": \"b7e07139-ed60-4d58-80dc-ac519f0cb20f\", \"event_date\": 1701321331, \"action\": \"click\", \"uri\": \"https://databricks.com/list/appauthor.html\"}",
         "dbdemos-sessions",
         6,
         16368401,
         "2023-11-30T05:15:35.307Z",
         0
        ],
        [
         null,
         "{\"user_id\": \"de0d7892-d459-42e9-9476-87884e4b2734\", \"platform\": \"ios\", \"event_id\": \"41ef76b0-9955-4b83-b2bd-78a641cd16c7\", \"event_date\": 1701321340, \"action\": \"view\", \"uri\": \"https://databricks.com/blog/categoryfaq.jsp\"}",
         "dbdemos-sessions",
         6,
         16368402,
         "2023-11-30T05:15:36.313Z",
         0
        ],
        [
         null,
         "{\"user_id\": \"54371530-b4ba-4a28-9f12-2bc87205aded\", \"platform\": \"other\", \"event_id\": \"12169fe1-fad0-4a1d-a3c3-b86c8d47fd76\", \"event_date\": 1701321340, \"action\": \"view\", \"uri\": \"https://databricks.com/category/app/appterms.php\"}",
         "dbdemos-sessions",
         6,
         16368403,
         "2023-11-30T05:15:37.331Z",
         0
        ],
        [
         null,
         "{\"user_id\": \"8c37dfb5-4ce9-40ee-aabd-6d2e41387b89\", \"platform\": \"ios\", \"event_id\": \"822eafa8-5655-493c-8334-97ff62f0b236\", \"event_date\": 1701321338, \"action\": \"view\", \"uri\": \"https://databricks.com/searchsearch.htm\"}",
         "dbdemos-sessions",
         6,
         16368404,
         "2023-11-30T05:15:38.345Z",
         0
        ],
        [
         null,
         "{\"user_id\": \"2cba3859-c218-4a01-b84c-af6c9b68fd45\", \"platform\": \"other\", \"event_id\": \"078af5b8-782b-4ae9-8d44-5a92bad1f86d\", \"event_date\": 1701321339, \"action\": \"click\", \"uri\": \"https://databricks.com/posts/wp-contentpost.html\"}",
         "dbdemos-sessions",
         6,
         16368405,
         "2023-11-30T05:15:38.364Z",
         0
        ],
        [
         null,
         "{\"user_id\": \"7354e19a-6b74-4581-9278-7d2a1fa506d2\", \"platform\": \"ios\", \"event_id\": \"82a5b121-6162-453f-9b76-71b521ab6f10\", \"event_date\": 1701321334, \"action\": \"view\", \"uri\": \"https://databricks.com/category/category/appindex.html\"}",
         "dbdemos-sessions",
         6,
         16368406,
         "2023-11-30T05:15:39.39Z",
         0
        ],
        [
         null,
         "{\"user_id\": \"bb041937-335f-4592-9b28-75cbd928cd41\", \"platform\": \"ios\", \"event_id\": \"47a9e342-02f8-4c76-8fcc-02dfe1c45ec2\", \"event_date\": 1701321329, \"action\": \"view\", \"uri\": \"https://databricks.com/wp-contenthome.php\"}",
         "dbdemos-sessions",
         9,
         16376585,
         "2023-11-30T05:15:33.272Z",
         0
        ],
        [
         null,
         "{\"user_id\": \"89266034-ab6f-4298-a4f2-26ee888d009a\", \"platform\": \"other\", \"event_id\": \"50d64a0f-755a-461a-b3d9-b2d234b86b7d\", \"event_date\": 1701321332, \"action\": \"view\", \"uri\": \"https://databricks.com/list/app/blogterms.htm\"}",
         "dbdemos-sessions",
         9,
         16376586,
         "2023-11-30T05:15:34.294Z",
         0
        ],
        [
         null,
         "{\"user_id\": \"954c2940-2415-4618-89e3-8f4147680ac1\", \"platform\": \"ios\", \"event_id\": \"d66e0b7b-1d7c-4f03-91a8-70546037bb60\", \"event_date\": 1701321334, \"action\": \"log\", \"uri\": \"https://databricks.com/tagmain.asp\"}",
         "dbdemos-sessions",
         9,
         16376587,
         "2023-11-30T05:15:34.295Z",
         0
        ],
        [
         null,
         "{\"user_id\": \"6a4e890d-982b-46e1-b446-3688a723cdff\", \"platform\": \"android\", \"event_id\": \"11046641-e4a6-4fe9-a1a8-949305605518\", \"event_date\": 1701321331, \"action\": \"view\", \"uri\": \"https://databricks.com/search/app/categoriesregister.html\"}",
         "dbdemos-sessions",
         9,
         16376588,
         "2023-11-30T05:15:35.303Z",
         0
        ],
        [
         null,
         "{\"user_id\": \"429cd2ea-bb89-43bf-a2b7-190cd57c513d\", \"platform\": \"ios\", \"event_id\": \"8616278f-e3b3-403f-9d62-146fc193d3ba\", \"event_date\": 1701321331, \"action\": \"click\", \"uri\": \"https://databricks.com/wp-content/blogabout.php\"}",
         "dbdemos-sessions",
         9,
         16376589,
         "2023-11-30T05:15:36.312Z",
         0
        ],
        [
         null,
         "{\"user_id\": \"69eb7a1d-ef3a-4d1e-868d-a4a145cb3de5\", \"platform\": \"ios\", \"event_id\": \"3030f75b-8ffd-4b2c-8b35-37a034f0a22d\", \"event_date\": 1701321336, \"action\": \"click\", \"uri\": \"https://databricks.com/main/list/wp-contentcategory.asp\"}",
         "dbdemos-sessions",
         9,
         16376590,
         "2023-11-30T05:15:36.319Z",
         0
        ],
        [
         null,
         "{\"user_id\": \"4f9a4975-58ad-4063-be2c-d7fafb9f9072\", \"platform\": \"other\", \"event_id\": \"a916c5ec-8681-4e0e-8d78-d857b2a97d68\", \"event_date\": 1701321340, \"action\": \"view\", \"uri\": \"https://databricks.com/listhome.php\"}",
         "dbdemos-sessions",
         9,
         16376591,
         "2023-11-30T05:15:38.349Z",
         0
        ],
        [
         null,
         "{\"user_id\": \"1ee2129c-c85d-4ce8-af1f-765728e690fe\", \"platform\": \"other\", \"event_id\": \"72a50816-184a-4ace-a03b-c92043bca089\", \"event_date\": 1701321341, \"action\": \"view\", \"uri\": \"https://databricks.com/category/categoriescategory.html\"}",
         "dbdemos-sessions",
         9,
         16376592,
         "2023-11-30T05:15:39.385Z",
         0
        ],
        [
         null,
         "{\"user_id\": \"0127e44a-dc59-4075-9036-a53bda11b20a\", \"platform\": \"other\", \"event_id\": \"dde843cf-c68a-4568-b604-9c92ad6a08d5\", \"event_date\": 1701321342, \"action\": \"view\", \"uri\": \"https://databricks.com/tags/wp-contentabout.htm\"}",
         "dbdemos-sessions",
         9,
         16376593,
         "2023-11-30T05:15:39.385Z",
         0
        ],
        [
         null,
         "{\"user_id\": \"3156d251-7429-4b23-9101-59f0209cddf8\", \"platform\": \"other\", \"event_id\": \"2ad0ace8-2981-4ee8-b080-9225a3fa413c\", \"event_date\": 1701321343, \"action\": \"view\", \"uri\": \"https://databricks.com/blogcategory.html\"}",
         "dbdemos-sessions",
         9,
         16376594,
         "2023-11-30T05:15:39.387Z",
         0
        ],
        [
         null,
         "{\"user_id\": \"f044d5b8-0357-44e1-b9cf-40ba0512eeb0\", \"platform\": \"ios\", \"event_id\": \"7efd6397-e32b-4c66-99db-8971bdfdcec2\", \"event_date\": 1701321336, \"action\": \"view\", \"uri\": \"https://databricks.com/app/explorelogin.asp\"}",
         "dbdemos-sessions",
         9,
         16376595,
         "2023-11-30T05:15:39.391Z",
         0
        ],
        [
         null,
         "{\"user_id\": \"d5c1965f-4903-4b86-895d-f9cce7d9c963\", \"platform\": \"other\", \"event_id\": \"752e916b-f5fe-4b62-bda7-5ac92a440bbb\", \"event_date\": 1701321332, \"action\": \"view\", \"uri\": \"https://databricks.com/category/appfaq.htm\"}",
         "dbdemos-sessions",
         0,
         162967781,
         "2023-11-30T05:15:33.275Z",
         0
        ],
        [
         null,
         "{\"user_id\": \"88019c0c-6cb1-4e46-a3ea-97661d159ba5\", \"platform\": \"other\", \"event_id\": \"03815732-1e8a-4267-9f66-415cc3f55b86\", \"event_date\": 1701321332, \"action\": \"view\", \"uri\": \"https://databricks.com/app/category/bloghome.html\"}",
         "dbdemos-sessions",
         0,
         162967782,
         "2023-11-30T05:15:33.281Z",
         0
        ],
        [
         null,
         "{\"user_id\": \"0127e44a-dc59-4075-9036-a53bda11b20a\", \"platform\": \"android\", \"event_id\": \"e0a79ae5-592a-491a-a728-d6fd7bd63626\", \"event_date\": 1701321329, \"action\": \"view\", \"uri\": \"https://databricks.com/posts/exploresearch.htm\"}",
         "dbdemos-sessions",
         0,
         162967783,
         "2023-11-30T05:15:34.287Z",
         0
        ],
        [
         null,
         "{\"user_id\": \"d5c1965f-4903-4b86-895d-f9cce7d9c963\", \"platform\": \"ios\", \"event_id\": \"f922e71f-3f26-419d-a746-75bfb0d81e96\", \"event_date\": 1701321335, \"action\": \"click\", \"uri\": \"https://databricks.com/mainabout.htm\"}",
         "dbdemos-sessions",
         0,
         162967784,
         "2023-11-30T05:15:34.291Z",
         0
        ],
        [
         null,
         "{\"user_id\": \"4f9a4975-58ad-4063-be2c-d7fafb9f9072\", \"platform\": \"ios\", \"event_id\": \"23bfa32c-6568-42b4-8275-b6259f3f2f5f\", \"event_date\": 1701321338, \"action\": \"view\", \"uri\": \"https://databricks.com/tags/search/mainmain.htm\"}",
         "dbdemos-sessions",
         0,
         162967785,
         "2023-11-30T05:15:35.302Z",
         0
        ],
        [
         null,
         "{\"user_id\": \"66fe7dd1-8f19-470c-b4b8-be75c4793e76\", \"platform\": \"ios\", \"event_id\": \"e9189fed-51b1-4a0c-9a5d-f861ecaf0f27\", \"event_date\": 1701321339, \"action\": \"view\", \"uri\": \"https://databricks.com/categoriesterms.php\"}",
         "dbdemos-sessions",
         0,
         162967786,
         "2023-11-30T05:15:35.305Z",
         0
        ],
        [
         null,
         "{\"user_id\": \"9acce7bf-7baa-45f0-b598-93b24e8843fd\", \"platform\": \"ios\", \"event_id\": \"e7cf64f5-ac14-405f-88cc-94a8430952af\", \"event_date\": 1701321336, \"action\": \"click\", \"uri\": \"https://databricks.com/mainregister.html\"}",
         "dbdemos-sessions",
         0,
         162967787,
         "2023-11-30T05:15:36.321Z",
         0
        ],
        [
         null,
         "{\"user_id\": \"d205fb2a-dea2-45a1-85f1-caba13d64e95\", \"platform\": \"ios\", \"event_id\": \"debc67c1-3de3-4f47-a0c7-9dec65a3be30\", \"event_date\": 1701321342, \"action\": \"log\", \"uri\": \"https://databricks.com/wp-content/listindex.html\"}",
         "dbdemos-sessions",
         0,
         162967788,
         "2023-11-30T05:15:38.346Z",
         0
        ],
        [
         null,
         "{\"user_id\": \"1ee2129c-c85d-4ce8-af1f-765728e690fe\", \"platform\": \"android\", \"event_id\": \"5afb473e-9099-4bec-b83c-bef6d37277f8\", \"event_date\": 1701321329, \"action\": \"log\", \"uri\": \"https://databricks.com/posts/tag/listauthor.html\"}",
         "dbdemos-sessions",
         1,
         16369399,
         "2023-11-30T05:15:33.274Z",
         0
        ],
        [
         null,
         "{\"user_id\": \"1ee2129c-c85d-4ce8-af1f-765728e690fe\", \"platform\": \"ios\", \"event_id\": \"c3f186bf-8abd-4f5a-8156-54546dc08eb5\", \"event_date\": 1701321330, \"action\": \"view\", \"uri\": \"https://databricks.com/posts/tagpost.php\"}",
         "dbdemos-sessions",
         1,
         16369400,
         "2023-11-30T05:15:35.303Z",
         0
        ],
        [
         null,
         "{\"user_id\": \"04ebf641-947d-4207-aef6-4c4d1fc4aa36\", \"platform\": \"ios\", \"event_id\": \"0050b17e-ea8c-4a0b-abe6-c8b518c2d28c\", \"event_date\": 1701321333, \"action\": \"click\", \"uri\": \"https://databricks.com/app/wp-contenthome.html\"}",
         "dbdemos-sessions",
         1,
         16369401,
         "2023-11-30T05:15:35.304Z",
         0
        ],
        [
         null,
         "{\"user_id\": \"5d81aa0b-2986-4b18-abbd-b085380a1bb6\", \"platform\": \"ios\", \"event_id\": \"fdeb5086-6e6c-4ca0-85da-acd06abec6b7\", \"event_date\": 1701321333, \"action\": \"view\", \"uri\": \"https://databricks.com/main/categories/postsauthor.htm\"}",
         "dbdemos-sessions",
         1,
         16369402,
         "2023-11-30T05:15:35.306Z",
         0
        ],
        [
         null,
         "{\"user_id\": \"954c2940-2415-4618-89e3-8f4147680ac1\", \"platform\": \"ios\", \"event_id\": \"ef6cbe7a-4152-4ade-b85a-b94b9497ca9e\", \"event_date\": 1701321332, \"action\": \"view\", \"uri\": \"https://databricks.com/app/wp-content/wp-contentindex.htm\"}",
         "dbdemos-sessions",
         1,
         16369403,
         "2023-11-30T05:15:35.308Z",
         0
        ],
        [
         null,
         "{\"user_id\": \"34265667-87e0-4a72-b118-befa1e41b2b7\", \"platform\": \"android\", \"event_id\": \"63164aa7-32ce-4164-a402-48f7a1f2cf67\", \"event_date\": 1701321333, \"action\": \"view\", \"uri\": \"https://databricks.com/main/tags/appabout.htm\"}",
         "dbdemos-sessions",
         1,
         16369404,
         "2023-11-30T05:15:37.34Z",
         0
        ],
        [
         null,
         "{\"user_id\": \"81ce2faa-fb20-44a8-9c19-f4ac9020b1b2\", \"platform\": \"ios\", \"event_id\": \"68f9c180-5544-46b8-a450-dcc2354b4647\", \"event_date\": 1701321339, \"action\": \"view\", \"uri\": \"https://databricks.com/blogcategory.jsp\"}",
         "dbdemos-sessions",
         1,
         16369405,
         "2023-11-30T05:15:38.349Z",
         0
        ],
        [
         null,
         "{\"user_id\": \"6e102f64-abf8-441b-942d-19df3cde3714\", \"platform\": \"other\", \"event_id\": \"a11f4922-967c-4313-9d8f-3ebc2a177c07\", \"event_date\": 1701321334, \"action\": \"click\", \"uri\": \"https://databricks.com/exploreterms.asp\"}",
         "dbdemos-sessions",
         1,
         16369406,
         "2023-11-30T05:15:38.354Z",
         0
        ],
        [
         null,
         "{\"user_id\": \"89266034-ab6f-4298-a4f2-26ee888d009a\", \"platform\": \"ios\", \"event_id\": \"0d9f0cf4-1537-4e09-bfdc-4031a92e47ec\", \"event_date\": 1701321340, \"action\": \"click\", \"uri\": \"https://databricks.com/blog/category/explorehome.htm\"}",
         "dbdemos-sessions",
         1,
         16369407,
         "2023-11-30T05:15:39.393Z",
         0
        ],
        [
         null,
         "{\"user_id\": \"5d81aa0b-2986-4b18-abbd-b085380a1bb6\", \"platform\": \"other\", \"event_id\": \"c979ed0a-ae93-410e-b7d2-24717c1006fd\", \"event_date\": 1701321336, \"action\": \"view\", \"uri\": \"https://databricks.com/exploreabout.asp\"}",
         "dbdemos-sessions",
         4,
         16376373,
         "2023-11-30T05:15:33.275Z",
         0
        ],
        [
         null,
         "{\"user_id\": \"2cba3859-c218-4a01-b84c-af6c9b68fd45\", \"platform\": \"ios\", \"event_id\": \"6833da78-103b-484a-8bcb-8b647e7943cb\", \"event_date\": 1701321333, \"action\": \"click\", \"uri\": \"https://databricks.com/blog/tagspost.htm\"}",
         "dbdemos-sessions",
         4,
         16376374,
         "2023-11-30T05:15:33.28Z",
         0
        ],
        [
         null,
         "{\"user_id\": \"1e7b7295-6965-4c14-ab59-388167c9baeb\", \"platform\": \"android\", \"event_id\": \"9ae1f331-60ee-4cc4-936f-1d30a99e72cf\", \"event_date\": 1701321335, \"action\": \"view\", \"uri\": \"https://databricks.com/appterms.htm\"}",
         "dbdemos-sessions",
         4,
         16376375,
         "2023-11-30T05:15:34.293Z",
         0
        ],
        [
         null,
         "{\"user_id\": \"34265667-87e0-4a72-b118-befa1e41b2b7\", \"platform\": \"other\", \"event_id\": \"38d3e00f-20c4-4b57-a603-495ca6dda0c4\", \"event_date\": 1701321336, \"action\": \"view\", \"uri\": \"https://databricks.com/listterms.html\"}",
         "dbdemos-sessions",
         4,
         16376376,
         "2023-11-30T05:15:34.294Z",
         0
        ],
        [
         null,
         "{\"user_id\": \"64ebf32b-4a70-4906-a9d6-faa6dc1c8697\", \"platform\": \"ios\", \"event_id\": \"ffd702ae-9eb3-4378-b59d-f4447ddf6c8d\", \"event_date\": 1701321338, \"action\": \"view\", \"uri\": \"https://databricks.com/searchterms.htm\"}",
         "dbdemos-sessions",
         4,
         16376377,
         "2023-11-30T05:15:35.299Z",
         0
        ],
        [
         null,
         "{\"user_id\": \"18713496-a98e-49a4-ab88-9f029f18b4c5\", \"platform\": \"ios\", \"event_id\": \"5e859771-0b25-47dc-b810-a25fd70ce5fb\", \"event_date\": 1701321330, \"action\": \"click\", \"uri\": \"https://databricks.com/category/categoryauthor.htm\"}",
         "dbdemos-sessions",
         4,
         16376378,
         "2023-11-30T05:15:35.304Z",
         0
        ],
        [
         null,
         "{\"user_id\": \"8f2385f0-f59d-4ebc-ac67-d3d5427e9a95\", \"platform\": \"ios\", \"event_id\": \"46d1ea2b-5420-4204-be91-08e79982243f\", \"event_date\": 1701321332, \"action\": \"view\", \"uri\": \"https://databricks.com/search/categories/tagsterms.htm\"}",
         "dbdemos-sessions",
         4,
         16376379,
         "2023-11-30T05:15:35.307Z",
         0
        ],
        [
         null,
         "{\"user_id\": \"c6520f02-c12e-4be1-bb5d-e86400691485\", \"platform\": \"other\", \"event_id\": \"6d9e0862-aa47-477a-ab94-2a35ef8fd219\", \"event_date\": 1701321340, \"action\": \"click\", \"uri\": \"https://databricks.com/list/wp-content/applogin.htm\"}",
         "dbdemos-sessions",
         4,
         16376380,
         "2023-11-30T05:15:36.31Z",
         0
        ],
        [
         null,
         "{\"user_id\": \"429cd2ea-bb89-43bf-a2b7-190cd57c513d\", \"platform\": \"ios\", \"event_id\": \"8616278f-e3b3-403f-9d62-146fc193d3ba\", \"event_date\": 1701321331, \"action\": \"click\", \"uri\": \"https://databricks.com/wp-content/blogabout.php\"}",
         "dbdemos-sessions",
         4,
         16376381,
         "2023-11-30T05:15:36.312Z",
         0
        ],
        [
         null,
         "{\"user_id\": \"e4e079a9-103e-464b-8b2f-b7d906066bad\", \"platform\": \"other\", \"event_id\": \"d98ee77d-ddb7-4b30-bd19-7127cbc3c5b3\", \"event_date\": 1701321332, \"action\": \"click\", \"uri\": \"https://databricks.com/app/tag/tagpost.php\"}",
         "dbdemos-sessions",
         4,
         16376382,
         "2023-11-30T05:15:36.315Z",
         0
        ],
        [
         null,
         "{\"user_id\": \"8e47e6d7-ef56-45ef-9779-3eb3fbb427f4\", \"platform\": \"ios\", \"event_id\": \"1fd133e6-be3a-421f-8350-7801099bd900\", \"event_date\": 1701321339, \"action\": \"view\", \"uri\": \"https://databricks.com/explorelogin.html\"}",
         "dbdemos-sessions",
         4,
         16376383,
         "2023-11-30T05:15:37.328Z",
         0
        ],
        [
         null,
         "{\"user_id\": \"1983f70f-77a9-4412-a898-1c7e3312d2af\", \"platform\": \"android\", \"event_id\": \"0c8972cf-d6e0-459a-882d-9207fb8b4498\", \"event_date\": 1701321340, \"action\": \"log\", \"uri\": \"https://databricks.com/wp-content/main/postsindex.html\"}",
         "dbdemos-sessions",
         4,
         16376384,
         "2023-11-30T05:15:38.357Z",
         0
        ],
        [
         null,
         "{\"user_id\": \"54371530-b4ba-4a28-9f12-2bc87205aded\", \"platform\": \"other\", \"event_id\": \"f4bea981-b26a-4702-adf2-f90a875f7428\", \"event_date\": 1701321335, \"action\": \"view\", \"uri\": \"https://databricks.com/tags/listhome.htm\"}",
         "dbdemos-sessions",
         4,
         16376385,
         "2023-11-30T05:15:38.362Z",
         0
        ],
        [
         null,
         "{\"user_id\": \"e27de5d1-1203-41d9-aaed-8521b4a5a4f3\", \"platform\": \"android\", \"event_id\": \"16242938-17a7-4300-aaef-0a9f9a157c03\", \"event_date\": 1701321334, \"action\": \"log\", \"uri\": \"https://databricks.com/postscategory.html\"}",
         "dbdemos-sessions",
         4,
         16376386,
         "2023-11-30T05:15:39.387Z",
         0
        ],
        [
         null,
         "{\"user_id\": \"6a4e890d-982b-46e1-b446-3688a723cdff\", \"platform\": \"ios\", \"event_id\": \"72ac388c-1054-4429-b8cd-d74d20ebfa6e\", \"event_date\": 1701321328, \"action\": \"view\", \"uri\": \"https://databricks.com/mainindex.jsp\"}",
         "dbdemos-sessions",
         3,
         16374408,
         "2023-11-30T05:15:33.274Z",
         0
        ],
        [
         null,
         "{\"user_id\": \"c6520f02-c12e-4be1-bb5d-e86400691485\", \"platform\": \"other\", \"event_id\": \"2440ef44-498e-4557-a929-98c7797287a3\", \"event_date\": 1701321331, \"action\": \"click\", \"uri\": \"https://databricks.com/searchindex.htm\"}",
         "dbdemos-sessions",
         3,
         16374409,
         "2023-11-30T05:15:34.284Z",
         0
        ],
        [
         null,
         "{\"user_id\": \"ed3224d7-fb6d-42ec-89c2-dc64f4f3be97\", \"platform\": \"ios\", \"event_id\": \"52a6fbe7-dc49-4f8a-9ecf-61ce2c5f82a8\", \"event_date\": 1701321329, \"action\": \"view\", \"uri\": \"https://databricks.com/tagfaq.php\"}",
         "dbdemos-sessions",
         3,
         16374410,
         "2023-11-30T05:15:34.286Z",
         0
        ],
        [
         null,
         "{\"user_id\": \"d205fb2a-dea2-45a1-85f1-caba13d64e95\", \"platform\": \"other\", \"event_id\": \"84b55edc-7bfc-4a82-ad2c-ba25bda89a04\", \"event_date\": 1701321331, \"action\": \"view\", \"uri\": \"https://databricks.com/list/categories/explorefaq.php\"}",
         "dbdemos-sessions",
         3,
         16374411,
         "2023-11-30T05:15:35.297Z",
         0
        ],
        [
         null,
         "{\"user_id\": \"d78e2c84-3acd-4c26-a603-415b76c598ea\", \"platform\": \"ios\", \"event_id\": \"9293cee7-b753-4258-a1fe-84abd02454d6\", \"event_date\": 1701321338, \"action\": \"view\", \"uri\": \"https://databricks.com/explore/categoryhome.html\"}",
         "dbdemos-sessions",
         3,
         16374412,
         "2023-11-30T05:15:35.3Z",
         0
        ],
        [
         null,
         "{\"user_id\": \"5374937a-2fa0-47af-a197-a01ef24a80ad\", \"platform\": \"other\", \"event_id\": \"b113bc6d-1035-4368-b9e1-a269bdb83be5\", \"event_date\": 1701321340, \"action\": \"view\", \"uri\": \"https://databricks.com/categoriesmain.asp\"}",
         "dbdemos-sessions",
         3,
         16374413,
         "2023-11-30T05:15:36.313Z",
         0
        ],
        [
         null,
         "{\"user_id\": \"dc4c68db-f999-47bd-8569-97fb8c457a1d\", \"platform\": \"other\", \"event_id\": \"f0fb2521-70a3-4ca9-a125-a51eadbd6677\", \"event_date\": 1701321339, \"action\": \"log\", \"uri\": \"https://databricks.com/main/listlogin.html\"}",
         "dbdemos-sessions",
         3,
         16374414,
         "2023-11-30T05:15:36.313Z",
         0
        ],
        [
         null,
         "{\"user_id\": \"7cd07a2d-d835-470d-a0c8-b3400c915ac7\", \"platform\": \"android\", \"event_id\": \"427ef674-5443-4a71-8cfa-34ebf8e69947\", \"event_date\": 1701321339, \"action\": \"view\", \"uri\": \"https://databricks.com/wp-contentlogin.html\"}",
         "dbdemos-sessions",
         3,
         16374415,
         "2023-11-30T05:15:37.323Z",
         0
        ],
        [
         null,
         "{\"user_id\": \"c1923944-ddfe-4ee3-a9da-be94482fa973\", \"platform\": \"ios\", \"event_id\": \"381282aa-f859-4597-b8c3-215ecb1a6bdd\", \"event_date\": 1701321335, \"action\": \"click\", \"uri\": \"https://databricks.com/search/mainhomepage.php\"}",
         "dbdemos-sessions",
         3,
         16374416,
         "2023-11-30T05:15:37.342Z",
         0
        ],
        [
         null,
         "{\"user_id\": \"d5c1965f-4903-4b86-895d-f9cce7d9c963\", \"platform\": \"ios\", \"event_id\": \"9173fa10-be16-4d88-a7ce-8ee245a461c8\", \"event_date\": 1701321334, \"action\": \"view\", \"uri\": \"https://databricks.com/wp-content/taghome.jsp\"}",
         "dbdemos-sessions",
         3,
         16374417,
         "2023-11-30T05:15:38.355Z",
         0
        ],
        [
         null,
         "{\"user_id\": \"e4e079a9-103e-464b-8b2f-b7d906066bad\", \"platform\": \"ios\", \"event_id\": \"79156d64-265f-4c4c-9ae4-636ed5aa0f68\", \"event_date\": 1701321342, \"action\": \"view\", \"uri\": \"https://databricks.com/wp-content/mainregister.html\"}",
         "dbdemos-sessions",
         3,
         16374418,
         "2023-11-30T05:15:38.361Z",
         0
        ],
        [
         null,
         "{\"user_id\": \"54371530-b4ba-4a28-9f12-2bc87205aded\", \"platform\": \"other\", \"event_id\": \"f4bea981-b26a-4702-adf2-f90a875f7428\", \"event_date\": 1701321335, \"action\": \"view\", \"uri\": \"https://databricks.com/tags/listhome.htm\"}",
         "dbdemos-sessions",
         3,
         16374419,
         "2023-11-30T05:15:38.363Z",
         0
        ],
        [
         null,
         "{\"user_id\": \"6bf1f604-3544-45c9-93a5-180b78652be1\", \"platform\": \"other\", \"event_id\": \"93b8c7c9-76d0-4ed9-9f42-fbf944ed27fc\", \"event_date\": 1701321336, \"action\": \"log\", \"uri\": \"https://databricks.com/blog/explore/explorepost.htm\"}",
         "dbdemos-sessions",
         3,
         16374420,
         "2023-11-30T05:15:38.364Z",
         0
        ],
        [
         null,
         "{\"user_id\": \"93ef5cae-b681-4e40-8e10-cae4283b2b04\", \"platform\": \"other\", \"event_id\": \"98c5fc4b-aa22-48bb-9f62-ad66a1cade7b\", \"event_date\": 1701321337, \"action\": \"log\", \"uri\": \"https://databricks.com/appfaq.asp\"}",
         "dbdemos-sessions",
         3,
         16374421,
         "2023-11-30T05:15:39.383Z",
         0
        ],
        [
         null,
         "{\"user_id\": \"287d6985-e3c1-44f7-a700-2df164a43235\", \"platform\": \"other\", \"event_id\": \"ebe00228-b15e-4b0f-b859-a0a62db089aa\", \"event_date\": 1701321338, \"action\": \"click\", \"uri\": \"https://databricks.com/category/search/postsauthor.html\"}",
         "dbdemos-sessions",
         3,
         16374422,
         "2023-11-30T05:15:39.386Z",
         0
        ],
        [
         null,
         "{\"user_id\": \"34265667-87e0-4a72-b118-befa1e41b2b7\", \"platform\": \"other\", \"event_id\": \"3eb94d69-3c76-4b9c-86c3-e0d9cfa06935\", \"event_date\": 1701321336, \"action\": \"view\", \"uri\": \"https://databricks.com/category/categories/bloghome.php\"}",
         "dbdemos-sessions",
         3,
         16374423,
         "2023-11-30T05:15:39.392Z",
         0
        ],
        [
         null,
         "{\"user_id\": \"c74ac38e-0a9b-4785-9a27-09d1d694e40c\", \"platform\": \"ios\", \"event_id\": \"a28eba9d-7857-469f-8c52-1121747faada\", \"event_date\": 1701321342, \"action\": \"view\", \"uri\": \"https://databricks.com/explore/categoriesindex.asp\"}",
         "dbdemos-sessions",
         3,
         16374424,
         "2023-11-30T05:15:39.393Z",
         0
        ]
       ],
       "datasetInfos": [],
       "dbfsResultPath": null,
       "isJsonSchema": true,
       "metadata": {
        "dataframeName": "_sqldf",
        "executionCount": 2
       },
       "overflow": false,
       "plotOptions": {
        "customPlotOptions": {},
        "displayType": "table",
        "pivotAggregation": null,
        "pivotColumns": null,
        "xColumns": null,
        "yColumns": null
       },
       "removedWidgets": [],
       "schema": [
        {
         "metadata": "{}",
         "name": "key",
         "type": "\"string\""
        },
        {
         "metadata": "{}",
         "name": "value",
         "type": "\"string\""
        },
        {
         "metadata": "{}",
         "name": "topic",
         "type": "\"string\""
        },
        {
         "metadata": "{}",
         "name": "partition",
         "type": "\"integer\""
        },
        {
         "metadata": "{}",
         "name": "offset",
         "type": "\"long\""
        },
        {
         "metadata": "{}",
         "name": "timestamp",
         "type": "\"timestamp\""
        },
        {
         "metadata": "{}",
         "name": "timestampType",
         "type": "\"integer\""
        }
       ],
       "type": "table"
      }
     },
     "output_type": "display_data"
    },
    {
     "output_type": "display_data",
     "data": {
      "text/plain": [
       "Databricks visualization. Run in Databricks to view."
      ]
     },
     "metadata": {
      "application/vnd.databricks.v1.subcommand+json": {
       "baseErrorDetails": null,
       "bindings": {},
       "collapsed": false,
       "command": "%sql WITH q AS (select * from retail_vishesh_arya.events_raw) SELECT `timestamp`,COUNT(`topic`) `column_d74271c67` FROM q GROUP BY `timestamp`",
       "commandTitle": "Visualization 1",
       "commandType": "auto",
       "commandVersion": 0,
       "commentThread": [],
       "commentsVisible": false,
       "contentSha256Hex": null,
       "customPlotOptions": {
        "redashChart": [
         {
          "key": "type",
          "value": "CHART"
         },
         {
          "key": "options",
          "value": {
           "alignYAxesAtZero": true,
           "coefficient": 1,
           "columnConfigurationMap": {
            "x": {
             "column": "timestamp",
             "id": "column_d74271c611"
            },
            "y": [
             {
              "column": "topic",
              "id": "column_d74271c67",
              "transform": "COUNT"
             }
            ]
           },
           "dateTimeFormat": "DD/MM/YYYY HH:mm",
           "direction": {
            "type": "counterclockwise"
           },
           "error_y": {
            "type": "data",
            "visible": true
           },
           "globalSeriesType": "column",
           "isAggregationOn": true,
           "legend": {
            "traceorder": "normal"
           },
           "missingValuesAsZero": true,
           "numberFormat": "0,0.[00000]",
           "percentFormat": "0[.]00%",
           "series": {
            "error_y": {
             "type": "data",
             "visible": true
            },
            "stacking": null
           },
           "seriesOptions": {
            "column_d74271c67": {
             "type": "column",
             "yAxis": 0
            }
           },
           "showDataLabels": false,
           "sizemode": "diameter",
           "sortX": true,
           "sortY": true,
           "swappedAxes": false,
           "textFormat": "",
           "useAggregationsUi": true,
           "valuesOptions": {},
           "version": 2,
           "xAxis": {
            "labels": {
             "enabled": true
            },
            "type": "-"
           },
           "yAxis": [
            {
             "type": "-"
            },
            {
             "opposite": true,
             "type": "-"
            }
           ]
          }
         }
        ]
       },
       "datasetPreviewNameToCmdIdMap": {},
       "diffDeletes": [],
       "diffInserts": [],
       "displayType": "redashChart",
       "error": null,
       "errorDetails": null,
       "errorSummary": null,
       "errorTraceType": null,
       "finishTime": 0,
       "globalVars": {},
       "guid": "",
       "height": "auto",
       "hideCommandCode": false,
       "hideCommandResult": false,
       "iPythonMetadata": null,
       "inputWidgets": {},
       "isLockedInExamMode": false,
       "latestUser": "a user",
       "latestUserId": null,
       "listResultMetadata": null,
       "metadata": {},
       "nuid": "c6d10cfe-4905-4681-ad34-5371dd8b2282",
       "origId": 0,
       "parentHierarchy": [],
       "pivotAggregation": null,
       "pivotColumns": null,
       "position": 3.0,
       "resultDbfsErrorMessage": null,
       "resultDbfsStatus": "INLINED_IN_TREE",
       "results": null,
       "showCommandTitle": false,
       "startTime": 0,
       "state": "input",
       "streamStates": {},
       "subcommandOptions": {
        "queryPlan": {
         "groups": [
          {
           "column": "timestamp",
           "type": "column"
          }
         ],
         "selects": [
          {
           "column": "timestamp",
           "type": "column"
          },
          {
           "alias": "column_d74271c67",
           "args": [
            {
             "column": "topic",
             "type": "column"
            }
           ],
           "function": "COUNT",
           "type": "function"
          }
         ]
        }
       },
       "submitTime": 0,
       "subtype": "tableResultSubCmd.visualization",
       "tableResultIndex": 0,
       "useConsistentColors": false,
       "version": "CommandV1",
       "width": "auto",
       "workflows": [],
       "xColumns": null,
       "yColumns": null
      }
     },
     "output_type": "display_data"
    }
   ],
   "source": [
    "%sql\n",
    "\n",
    "select * from retail_vishesh_arya.events_raw"
   ]
  },
  {
   "cell_type": "code",
   "execution_count": 0,
   "metadata": {
    "application/vnd.databricks.v1+cell": {
     "cellMetadata": {},
     "inputWidgets": {},
     "nuid": "f657ab95-b1de-42b3-a151-4add466ff0ca",
     "showTitle": false,
     "title": ""
    }
   },
   "outputs": [],
   "source": []
  }
 ],
 "metadata": {
  "application/vnd.databricks.v1+notebook": {
   "dashboards": [],
   "language": "python",
   "notebookMetadata": {
    "mostRecentlyExecutedCommandWithImplicitDF": {
     "commandId": 1312111372108711,
     "dataframes": [
      "_sqldf"
     ]
    },
    "pythonIndentUnit": 2
   },
   "notebookName": "commit-ipynb",
   "widgets": {}
  }
 },
 "nbformat": 4,
 "nbformat_minor": 0
}
